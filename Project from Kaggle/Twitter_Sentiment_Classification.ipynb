{
 "cells": [
  {
   "cell_type": "markdown",
   "metadata": {
    "colab_type": "text",
    "id": "cThDUtgXWTDt"
   },
   "source": [
    "# **CS985 and CS987 Assignment 2 : Twitter Sentiment Classification Problem**"
   ]
  },
  {
   "cell_type": "markdown",
   "metadata": {
    "colab_type": "text",
    "id": "UpI5tfryXbMA"
   },
   "source": [
    "#### **Team's name: Group O**\n",
    "\n",
    "-   Chavinpat Naimee (201976778)\n",
    "-   Chinnakrit Nitipornsri (201964692)\n",
    "-   Kittanon Na Nakhon (201964002)\n",
    "-   Nuallahong Silaung (201986533)"
   ]
  },
  {
   "cell_type": "markdown",
   "metadata": {
    "colab_type": "text",
    "id": "ffi-TrbrhzV-"
   },
   "source": [
    "Open in Google Colab [Click here](https://drive.google.com/file/d/1WWWRbTJHXW2lIsC5gD6UcxLTdJbPXI58/view?usp=sharing) or https://drive.google.com/file/d/1WWWRbTJHXW2lIsC5gD6UcxLTdJbPXI58/view?usp=sharing"
   ]
  },
  {
   "cell_type": "markdown",
   "metadata": {
    "colab_type": "text",
    "id": "B0PT1ge9X4Mg"
   },
   "source": [
    "## **1. The Objective :**\n",
    "The main analysis of this project is to classify tweets according to their sentiment (strongly negative (0), negative (1), neutral (2), positive (3), highly positive (4)) and For need to predict the each tweet sentiment. (The data comes from Classification problem: https://www.kaggle.com/t/f823a4018ad244e789ccc99710d8a3f2) \n",
    "\n",
    "## **2. Meaning of Dataset :**\n",
    "This dataset consists of two datasets of the train and test dataset, which indicates the data of 1,000,000 rows 5 columns and 399,890 rows 4 columns respectively. However, the missing column of the test dataset is \"target\" column, which is the key finding of this project.\n",
    "- target: the polarity of the tweet (0 = negative, 2 = neutral, 4 = positive)\n",
    "- ids: The id of the tweet \n",
    "- date: the date of the tweet \n",
    "- user: the user that tweeted \n",
    "- tweet: the text of the tweet \n",
    "\n",
    "\n",
    "## **3. Overall analysis :**\n",
    "> ### **3.1 Data Exploding**\n",
    "- Import libraries and datasets\n",
    "- Overview the information of both datasets\n",
    "- Reflection on Data Exploding\n",
    "\n",
    "> ### **3.2 Prepare the Data for Deep Learning Algorithms**\n",
    "> ###### 3.2.1 Preparing data\n",
    "- Created function to clean data which are text sentences.\n",
    "- Applied clean_sentenses() function with both train dataset and test dataset.\n",
    "\n",
    "> ###### 3.2.2 Spliting the train data and segment test data\n",
    "- Splitting the train data and segment test data\n",
    "- Initializing tokenizer of keras and subsequent padding\n",
    "- Use Early Stopping to Halt the Training of Neural Networks At the Right Time\n",
    "\n",
    "> ### **3.3 Deep Learning Analysis Models**\n",
    "> ###### 3.3.1 Long Short Term Memory networks (LSTM network)\n",
    "> ###### 3.3.2 Training the model\n",
    "> ###### 3.3.3 Evaluation the model\n",
    "> ###### 3.3.4 Making prediction\n",
    "\n",
    "## **4. Conclusion**\n",
    "\n",
    "> #### **Required packages**\n",
    "- from google.colab import files\n",
    "- import numpy as np\n",
    "- import pandas as pd\n",
    "- import os\n",
    "- import warnings\n",
    "- import tensorflow as tf\n",
    "- from tensorflow import keras\n",
    "- import nltk\n",
    "- from nltk.tokenize import word_tokenize\n",
    "- from nltk.stem import WordNetLemmatizer\n",
    "- from bs4 import BeautifulSoup\n",
    "- import re \n",
    "- from tqdm import tqdm\n",
    "- from keras.utils import to_categorical\n",
    "- import random\n",
    "- from tensorflow import set_random_seed\n",
    "- from sklearn.model_selection import train_test_split\n",
    "- from keras.preprocessing import sequence\n",
    "- from keras.preprocessing.text import Tokenizer\n",
    "- from keras.layers import Dense,Dropout,Embedding,LSTM\n",
    "- from keras.callbacks import EarlyStopping\n",
    "- from keras.losses import categorical_crossentropy\n",
    "- from keras.optimizers import Adam\n",
    "- from keras.models import Sequential\n",
    "- from collections import Counter\n",
    "- import matplotlib.pyplot as plt"
   ]
  },
  {
   "cell_type": "markdown",
   "metadata": {
    "colab_type": "text",
    "id": "r062cv31WFCu"
   },
   "source": [
    "# **3. Overall analysis**"
   ]
  },
  {
   "cell_type": "markdown",
   "metadata": {
    "colab_type": "text",
    "id": "0Tp5ZKghCSmk"
   },
   "source": [
    "## **3.1 Data Exploding**"
   ]
  },
  {
   "cell_type": "markdown",
   "metadata": {
    "colab_type": "text",
    "id": "04pTwLGmCbGx"
   },
   "source": [
    "#### **3.1.1 Starting with import libraries and datasets**"
   ]
  },
  {
   "cell_type": "markdown",
   "metadata": {
    "colab_type": "text",
    "id": "-vJzDuaFFaoA"
   },
   "source": [
    "##### ***In term of running on Google colab***\n",
    "This stage is connected and loaded data through Kaggle."
   ]
  },
  {
   "cell_type": "code",
   "execution_count": 0,
   "metadata": {
    "colab": {
     "base_uri": "https://localhost:8080/",
     "height": 92,
     "resources": {
      "http://localhost:8080/nbextensions/google.colab/files.js": {
       "data": "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",
       "headers": [
        [
         "content-type",
         "application/javascript"
        ]
       ],
       "ok": true,
       "status": 200,
       "status_text": ""
      }
     }
    },
    "colab_type": "code",
    "collapsed": false,
    "id": "qcS1D46qIwEe",
    "outputId": "0dc6449e-c9dd-499b-a634-e23a58fcd546"
   },
   "outputs": [
    {
     "data": {
      "text/html": [
       "\n",
       "     <input type=\"file\" id=\"files-2475968e-ff68-446f-b482-d07d4477e102\" name=\"files[]\" multiple disabled />\n",
       "     <output id=\"result-2475968e-ff68-446f-b482-d07d4477e102\">\n",
       "      Upload widget is only available when the cell has been executed in the\n",
       "      current browser session. Please rerun this cell to enable.\n",
       "      </output>\n",
       "      <script src=\"/nbextensions/google.colab/files.js\"></script> "
      ],
      "text/plain": [
       "<IPython.core.display.HTML object>"
      ]
     },
     "metadata": {
      "tags": []
     },
     "output_type": "display_data"
    },
    {
     "name": "stdout",
     "output_type": "stream",
     "text": [
      "Saving kaggle.json to kaggle.json\n"
     ]
    },
    {
     "data": {
      "text/plain": [
       "{'kaggle.json': b'{\"username\":\"aimmyy\",\"key\":\"02d33fa5c51961209742b72f3326881d\"}'}"
      ]
     },
     "execution_count": 1,
     "metadata": {
      "tags": []
     },
     "output_type": "execute_result"
    }
   ],
   "source": [
    "from google.colab import files\n",
    "files.upload()"
   ]
  },
  {
   "cell_type": "code",
   "execution_count": 0,
   "metadata": {
    "colab": {},
    "colab_type": "code",
    "collapsed": true,
    "id": "5sEQigZWJbpl"
   },
   "outputs": [],
   "source": [
    "!mkdir -p ~/.kaggle\n",
    "!cp kaggle.json ~/.kaggle/kaggle.json\n",
    "!chmod 600 /root/.kaggle/kaggle.json"
   ]
  },
  {
   "cell_type": "code",
   "execution_count": 0,
   "metadata": {
    "colab": {
     "base_uri": "https://localhost:8080/",
     "height": 212
    },
    "colab_type": "code",
    "collapsed": false,
    "id": "dURWOWdJJ_xE",
    "outputId": "074031bd-93ac-4900-f985-d4e66e99a217"
   },
   "outputs": [
    {
     "name": "stdout",
     "output_type": "stream",
     "text": [
      "Requirement already satisfied: kaggle in /usr/local/lib/python3.6/dist-packages (1.5.6)\n",
      "Requirement already satisfied: python-dateutil in /usr/local/lib/python3.6/dist-packages (from kaggle) (2.8.1)\n",
      "Requirement already satisfied: python-slugify in /usr/local/lib/python3.6/dist-packages (from kaggle) (4.0.0)\n",
      "Requirement already satisfied: tqdm in /usr/local/lib/python3.6/dist-packages (from kaggle) (4.38.0)\n",
      "Requirement already satisfied: requests in /usr/local/lib/python3.6/dist-packages (from kaggle) (2.21.0)\n",
      "Requirement already satisfied: certifi in /usr/local/lib/python3.6/dist-packages (from kaggle) (2019.11.28)\n",
      "Requirement already satisfied: six>=1.10 in /usr/local/lib/python3.6/dist-packages (from kaggle) (1.12.0)\n",
      "Requirement already satisfied: urllib3<1.25,>=1.21.1 in /usr/local/lib/python3.6/dist-packages (from kaggle) (1.24.3)\n",
      "Requirement already satisfied: text-unidecode>=1.3 in /usr/local/lib/python3.6/dist-packages (from python-slugify->kaggle) (1.3)\n",
      "Requirement already satisfied: chardet<3.1.0,>=3.0.2 in /usr/local/lib/python3.6/dist-packages (from requests->kaggle) (3.0.4)\n",
      "Requirement already satisfied: idna<2.9,>=2.5 in /usr/local/lib/python3.6/dist-packages (from requests->kaggle) (2.8)\n"
     ]
    }
   ],
   "source": [
    "!pip install kaggle"
   ]
  },
  {
   "cell_type": "code",
   "execution_count": 0,
   "metadata": {
    "colab": {
     "base_uri": "https://localhost:8080/",
     "height": 141
    },
    "colab_type": "code",
    "collapsed": false,
    "id": "pbyBFI84KB0L",
    "outputId": "76728606-77e1-434f-f0dc-b114bb4ea4b2"
   },
   "outputs": [
    {
     "name": "stdout",
     "output_type": "stream",
     "text": [
      "Warning: Looks like you're using an outdated API Version, please consider updating (server 1.5.6 / client 1.5.4)\n",
      "Downloading training.csv.zip to /content\n",
      " 77% 44.0M/57.3M [00:00<00:00, 74.8MB/s]\n",
      "100% 57.3M/57.3M [00:00<00:00, 83.9MB/s]\n",
      "Downloading test.csv.zip to /content\n",
      " 92% 21.0M/22.8M [00:00<00:00, 85.8MB/s]\n",
      "100% 22.8M/22.8M [00:00<00:00, 90.3MB/s]\n"
     ]
    }
   ],
   "source": [
    "!kaggle competitions download -c cs98x-twitter-sentiment --force"
   ]
  },
  {
   "cell_type": "code",
   "execution_count": 0,
   "metadata": {
    "colab": {},
    "colab_type": "code",
    "collapsed": true,
    "id": "CZPJnb30KERC"
   },
   "outputs": [],
   "source": [
    "#!python3 -m pip install --upgrade tensorflow"
   ]
  },
  {
   "cell_type": "markdown",
   "metadata": {
    "colab_type": "text",
    "id": "l9cruWClGipq"
   },
   "source": [
    "##### ***Starting with import libralies and datasets***"
   ]
  },
  {
   "cell_type": "code",
   "execution_count": 0,
   "metadata": {
    "colab": {},
    "colab_type": "code",
    "collapsed": true,
    "id": "UUaFdXnB6NKj"
   },
   "outputs": [],
   "source": [
    "import numpy as np \n",
    "import pandas as pd \n",
    "\n",
    "import warnings\n",
    "warnings.filterwarnings(\"ignore\", category=UserWarning, module='bs4')\n"
   ]
  },
  {
   "cell_type": "code",
   "execution_count": 0,
   "metadata": {
    "colab": {
     "base_uri": "https://localhost:8080/",
     "height": 35
    },
    "colab_type": "code",
    "collapsed": false,
    "id": "i9KE1tUmKlRo",
    "outputId": "bd9e62fe-ee1a-4085-8364-632f3422fb12"
   },
   "outputs": [
    {
     "name": "stdout",
     "output_type": "stream",
     "text": [
      "Found GPU at: /device:GPU:0\n"
     ]
    }
   ],
   "source": [
    "%tensorflow_version 2.x\n",
    "import tensorflow as tf\n",
    "device_name = tf.test.gpu_device_name()\n",
    "if device_name != '/device:GPU:0':\n",
    "  raise SystemError('GPU device not found')\n",
    "print('Found GPU at: {}'.format(device_name))"
   ]
  },
  {
   "cell_type": "code",
   "execution_count": 0,
   "metadata": {
    "colab": {
     "base_uri": "https://localhost:8080/",
     "height": 52
    },
    "colab_type": "code",
    "collapsed": false,
    "id": "jsF1yvEgH78r",
    "outputId": "bba92def-9db3-4fd1-a5a5-54844bd44645"
   },
   "outputs": [
    {
     "name": "stdout",
     "output_type": "stream",
     "text": [
      "Tensorflow version 2.2.0-rc2\n",
      "Keras version 2.3.0-tf\n"
     ]
    }
   ],
   "source": [
    "# To check version of tensorflow and keras\n",
    "from tensorflow import keras \n",
    "print('Tensorflow version',tf.__version__)\n",
    "print('Keras version',keras.__version__)"
   ]
  },
  {
   "cell_type": "code",
   "execution_count": 0,
   "metadata": {
    "colab": {},
    "colab_type": "code",
    "collapsed": true,
    "id": "ERlv-N7z_V0h"
   },
   "outputs": [],
   "source": [
    "#The Natural Language Toolkit, or more generally NLTK, for English written in the Python programming language, \n",
    "#is a suite of libraries and programs for symbolic and statistical natural language processing.\n",
    "import nltk\n",
    "from nltk.tokenize import word_tokenize\n",
    "from nltk.stem import WordNetLemmatizer\n",
    "lemmatizer = WordNetLemmatizer()\n",
    "from bs4 import BeautifulSoup\n",
    "import re # import Regular Expression (re) package for string management\n",
    "\n",
    "#TQDM is a progress bar library with good support for nested loops and Jupyter/IPython notebooks.\n",
    "from tqdm import tqdm"
   ]
  },
  {
   "cell_type": "code",
   "execution_count": 0,
   "metadata": {
    "colab": {
     "base_uri": "https://localhost:8080/",
     "height": 35
    },
    "colab_type": "code",
    "collapsed": false,
    "id": "WTtakHkU_sWs",
    "outputId": "50eb2139-d017-4f39-fe91-c73627bce310"
   },
   "outputs": [
    {
     "name": "stderr",
     "output_type": "stream",
     "text": [
      "Using TensorFlow backend.\n"
     ]
    }
   ],
   "source": [
    "from keras.utils import to_categorical\n",
    "import random\n",
    "from sklearn.model_selection import train_test_split\n",
    "from keras.preprocessing import sequence\n",
    "from keras.preprocessing.text import Tokenizer\n",
    "from keras.layers import Dense,Dropout,Embedding,LSTM\n",
    "from keras.callbacks import EarlyStopping\n",
    "from keras.losses import categorical_crossentropy\n",
    "from keras.optimizers import Adam\n",
    "from keras.models import Sequential\n",
    "\n",
    "#set random seed for the session and also for tensorflow that runs in background for keras\n",
    "tf.random.set_seed(123)\n",
    "random.seed(123)"
   ]
  },
  {
   "cell_type": "code",
   "execution_count": 0,
   "metadata": {
    "colab": {},
    "colab_type": "code",
    "collapsed": true,
    "id": "tLgE6OKq_zIX"
   },
   "outputs": [],
   "source": [
    "# Read training & test datasets by pandas package\n",
    "import pandas as pd\n",
    "train = pd.read_csv(\"/content/training.csv.zip\")\n",
    "test = pd.read_csv(\"/content/test.csv.zip\")"
   ]
  },
  {
   "cell_type": "markdown",
   "metadata": {
    "colab_type": "text",
    "id": "WwkHezEWI6AB"
   },
   "source": [
    "#### **3.1.2 Providing an overview of information of both datasets**"
   ]
  },
  {
   "cell_type": "code",
   "execution_count": 0,
   "metadata": {
    "colab": {
     "base_uri": "https://localhost:8080/",
     "height": 194
    },
    "colab_type": "code",
    "collapsed": false,
    "id": "gayyP0YYAC0z",
    "outputId": "c7ffd291-a887-4f82-a53c-8dcf40cc2be2"
   },
   "outputs": [
    {
     "data": {
      "text/html": [
       "<div>\n",
       "<style scoped>\n",
       "    .dataframe tbody tr th:only-of-type {\n",
       "        vertical-align: middle;\n",
       "    }\n",
       "\n",
       "    .dataframe tbody tr th {\n",
       "        vertical-align: top;\n",
       "    }\n",
       "\n",
       "    .dataframe thead th {\n",
       "        text-align: right;\n",
       "    }\n",
       "</style>\n",
       "<table border=\"1\" class=\"dataframe\">\n",
       "  <thead>\n",
       "    <tr style=\"text-align: right;\">\n",
       "      <th></th>\n",
       "      <th>target</th>\n",
       "      <th>id</th>\n",
       "      <th>date</th>\n",
       "      <th>user</th>\n",
       "      <th>text</th>\n",
       "    </tr>\n",
       "  </thead>\n",
       "  <tbody>\n",
       "    <tr>\n",
       "      <th>0</th>\n",
       "      <td>0</td>\n",
       "      <td>2224496154</td>\n",
       "      <td>Thu Jun 18 09:34:25 PDT 2009</td>\n",
       "      <td>Deborah_Fay</td>\n",
       "      <td>Okay  for some reason I still can't get the ba...</td>\n",
       "    </tr>\n",
       "    <tr>\n",
       "      <th>1</th>\n",
       "      <td>4</td>\n",
       "      <td>1687934301</td>\n",
       "      <td>Sun May 03 09:56:56 PDT 2009</td>\n",
       "      <td>haills</td>\n",
       "      <td>http://twitpic.com/4hjnj - Don't worry be happ...</td>\n",
       "    </tr>\n",
       "    <tr>\n",
       "      <th>2</th>\n",
       "      <td>0</td>\n",
       "      <td>1972073814</td>\n",
       "      <td>Sat May 30 08:30:21 PDT 2009</td>\n",
       "      <td>lechellealice</td>\n",
       "      <td>this movie is so sad</td>\n",
       "    </tr>\n",
       "    <tr>\n",
       "      <th>3</th>\n",
       "      <td>4</td>\n",
       "      <td>1557632618</td>\n",
       "      <td>Sun Apr 19 05:13:47 PDT 2009</td>\n",
       "      <td>janeslee</td>\n",
       "      <td>Good afternoon world. Been too busy to tweet. ...</td>\n",
       "    </tr>\n",
       "    <tr>\n",
       "      <th>4</th>\n",
       "      <td>4</td>\n",
       "      <td>1969750122</td>\n",
       "      <td>Sat May 30 01:05:20 PDT 2009</td>\n",
       "      <td>bvdaily</td>\n",
       "      <td>@QueensleyFelix LOL!We are just too classy  I ...</td>\n",
       "    </tr>\n",
       "  </tbody>\n",
       "</table>\n",
       "</div>"
      ],
      "text/plain": [
       "   target  ...                                               text\n",
       "0       0  ...  Okay  for some reason I still can't get the ba...\n",
       "1       4  ...  http://twitpic.com/4hjnj - Don't worry be happ...\n",
       "2       0  ...                              this movie is so sad \n",
       "3       4  ...  Good afternoon world. Been too busy to tweet. ...\n",
       "4       4  ...  @QueensleyFelix LOL!We are just too classy  I ...\n",
       "\n",
       "[5 rows x 5 columns]"
      ]
     },
     "execution_count": 11,
     "metadata": {
      "tags": []
     },
     "output_type": "execute_result"
    }
   ],
   "source": [
    "# To show sample of train dataset\n",
    "train.head()"
   ]
  },
  {
   "cell_type": "code",
   "execution_count": 0,
   "metadata": {
    "colab": {
     "base_uri": "https://localhost:8080/",
     "height": 35
    },
    "colab_type": "code",
    "collapsed": false,
    "id": "Jr47oFEcAHC-",
    "outputId": "dcc01599-de0b-419f-a625-43c46772ddab"
   },
   "outputs": [
    {
     "data": {
      "text/plain": [
       "(1000000, 5)"
      ]
     },
     "execution_count": 12,
     "metadata": {
      "tags": []
     },
     "output_type": "execute_result"
    }
   ],
   "source": [
    "# Print shape of train set\n",
    "train.shape"
   ]
  },
  {
   "cell_type": "code",
   "execution_count": 0,
   "metadata": {
    "colab": {
     "base_uri": "https://localhost:8080/",
     "height": 230
    },
    "colab_type": "code",
    "collapsed": false,
    "id": "7KiZ3t5xJcE-",
    "outputId": "f5a18b02-0478-4c12-8f3a-d6013572ffef"
   },
   "outputs": [
    {
     "name": "stdout",
     "output_type": "stream",
     "text": [
      "<class 'pandas.core.frame.DataFrame'>\n",
      "RangeIndex: 1000000 entries, 0 to 999999\n",
      "Data columns (total 5 columns):\n",
      " #   Column  Non-Null Count    Dtype \n",
      "---  ------  --------------    ----- \n",
      " 0   target  1000000 non-null  int64 \n",
      " 1   id      1000000 non-null  int64 \n",
      " 2   date    1000000 non-null  object\n",
      " 3   user    1000000 non-null  object\n",
      " 4   text    1000000 non-null  object\n",
      "dtypes: int64(2), object(3)\n",
      "memory usage: 38.1+ MB\n"
     ]
    }
   ],
   "source": [
    "# To get Number of columns, Index, Datatype and Memory information\n",
    "train.info()"
   ]
  },
  {
   "cell_type": "code",
   "execution_count": 0,
   "metadata": {
    "colab": {
     "base_uri": "https://localhost:8080/",
     "height": 124
    },
    "colab_type": "code",
    "collapsed": false,
    "id": "wUM4LfP9Jpkw",
    "outputId": "f8ad2163-0031-468d-bf52-4b4f1d5817a0"
   },
   "outputs": [
    {
     "data": {
      "text/plain": [
       "target    0\n",
       "id        0\n",
       "date      0\n",
       "user      0\n",
       "text      0\n",
       "dtype: int64"
      ]
     },
     "execution_count": 14,
     "metadata": {
      "tags": []
     },
     "output_type": "execute_result"
    }
   ],
   "source": [
    "# To find and count 'NaN' in datasat\n",
    "train.isnull().sum()"
   ]
  },
  {
   "cell_type": "code",
   "execution_count": 0,
   "metadata": {
    "colab": {
     "base_uri": "https://localhost:8080/",
     "height": 516
    },
    "colab_type": "code",
    "collapsed": false,
    "id": "aP8_nKGeUYYD",
    "outputId": "47036b9f-c8b8-484f-dfc9-7544b45b1be4"
   },
   "outputs": [
    {
     "data": {
      "text/plain": [
       "Text(0.5, 1.0, 'Dataset labels distribuition')"
      ]
     },
     "execution_count": 15,
     "metadata": {
      "tags": []
     },
     "output_type": "execute_result"
    },
    {
     "data": {
      "image/png": "[encoded data removed]",
      "text/plain": [
       "<Figure size 1152x576 with 1 Axes>"
      ]
     },
     "metadata": {
      "tags": []
     },
     "output_type": "display_data"
    }
   ],
   "source": [
    "from collections import Counter\n",
    "# Matplot\n",
    "import matplotlib.pyplot as plt\n",
    "%matplotlib inline\n",
    "\n",
    "target_cnt = Counter(train.target)\n",
    "\n",
    "plt.figure(figsize=(16,8))\n",
    "plt.bar(target_cnt.keys(), target_cnt.values())\n",
    "plt.title(\"Dataset labels distribuition\")"
   ]
  },
  {
   "cell_type": "code",
   "execution_count": 0,
   "metadata": {
    "colab": {
     "base_uri": "https://localhost:8080/",
     "height": 194
    },
    "colab_type": "code",
    "collapsed": false,
    "id": "__Q4De6tAMdV",
    "outputId": "47d28a09-854a-470d-8810-090a4868e794"
   },
   "outputs": [
    {
     "data": {
      "text/html": [
       "<div>\n",
       "<style scoped>\n",
       "    .dataframe tbody tr th:only-of-type {\n",
       "        vertical-align: middle;\n",
       "    }\n",
       "\n",
       "    .dataframe tbody tr th {\n",
       "        vertical-align: top;\n",
       "    }\n",
       "\n",
       "    .dataframe thead th {\n",
       "        text-align: right;\n",
       "    }\n",
       "</style>\n",
       "<table border=\"1\" class=\"dataframe\">\n",
       "  <thead>\n",
       "    <tr style=\"text-align: right;\">\n",
       "      <th></th>\n",
       "      <th>id</th>\n",
       "      <th>date</th>\n",
       "      <th>user</th>\n",
       "      <th>text</th>\n",
       "    </tr>\n",
       "  </thead>\n",
       "  <tbody>\n",
       "    <tr>\n",
       "      <th>0</th>\n",
       "      <td>1974447176</td>\n",
       "      <td>Sat May 30 13:09:18 PDT 2009</td>\n",
       "      <td>ugro</td>\n",
       "      <td>That's pretty much how I think it works with i...</td>\n",
       "    </tr>\n",
       "    <tr>\n",
       "      <th>1</th>\n",
       "      <td>1752584531</td>\n",
       "      <td>Sat May 09 22:20:24 PDT 2009</td>\n",
       "      <td>infinities</td>\n",
       "      <td>Holy awesome Leonard Nimoy!  Also thought I sp...</td>\n",
       "    </tr>\n",
       "    <tr>\n",
       "      <th>2</th>\n",
       "      <td>2265878673</td>\n",
       "      <td>Sun Jun 21 07:29:15 PDT 2009</td>\n",
       "      <td>revybbcholic</td>\n",
       "      <td>@theodorainish yes they are  I've tried to not...</td>\n",
       "    </tr>\n",
       "    <tr>\n",
       "      <th>3</th>\n",
       "      <td>1995188099</td>\n",
       "      <td>Mon Jun 01 13:05:22 PDT 2009</td>\n",
       "      <td>teddyrised</td>\n",
       "      <td>Millvina Dean  the last known survivor of the ...</td>\n",
       "    </tr>\n",
       "    <tr>\n",
       "      <th>4</th>\n",
       "      <td>2071942859</td>\n",
       "      <td>Sun Jun 07 20:08:43 PDT 2009</td>\n",
       "      <td>kaylabeth_</td>\n",
       "      <td>I REALLY DO NOT LIKE THIS ROGER. Adam Pascal p...</td>\n",
       "    </tr>\n",
       "  </tbody>\n",
       "</table>\n",
       "</div>"
      ],
      "text/plain": [
       "           id  ...                                               text\n",
       "0  1974447176  ...  That's pretty much how I think it works with i...\n",
       "1  1752584531  ...  Holy awesome Leonard Nimoy!  Also thought I sp...\n",
       "2  2265878673  ...  @theodorainish yes they are  I've tried to not...\n",
       "3  1995188099  ...  Millvina Dean  the last known survivor of the ...\n",
       "4  2071942859  ...  I REALLY DO NOT LIKE THIS ROGER. Adam Pascal p...\n",
       "\n",
       "[5 rows x 4 columns]"
      ]
     },
     "execution_count": 16,
     "metadata": {
      "tags": []
     },
     "output_type": "execute_result"
    }
   ],
   "source": [
    "# To show sample of test dataset\n",
    "test.head()"
   ]
  },
  {
   "cell_type": "code",
   "execution_count": 0,
   "metadata": {
    "colab": {
     "base_uri": "https://localhost:8080/",
     "height": 35
    },
    "colab_type": "code",
    "collapsed": false,
    "id": "f4jFbKr4AOOg",
    "outputId": "15d81347-e8a2-4f94-e4da-57fe7eb28c8f"
   },
   "outputs": [
    {
     "data": {
      "text/plain": [
       "(399890, 4)"
      ]
     },
     "execution_count": 17,
     "metadata": {
      "tags": []
     },
     "output_type": "execute_result"
    }
   ],
   "source": [
    "# Print shape of test set\n",
    "test.shape"
   ]
  },
  {
   "cell_type": "code",
   "execution_count": 0,
   "metadata": {
    "colab": {
     "base_uri": "https://localhost:8080/",
     "height": 212
    },
    "colab_type": "code",
    "collapsed": false,
    "id": "Xo65GTKrKDZk",
    "outputId": "9ee29018-b448-4808-cc92-e45530fe0903"
   },
   "outputs": [
    {
     "name": "stdout",
     "output_type": "stream",
     "text": [
      "<class 'pandas.core.frame.DataFrame'>\n",
      "RangeIndex: 399890 entries, 0 to 399889\n",
      "Data columns (total 4 columns):\n",
      " #   Column  Non-Null Count   Dtype \n",
      "---  ------  --------------   ----- \n",
      " 0   id      399890 non-null  int64 \n",
      " 1   date    399890 non-null  object\n",
      " 2   user    399890 non-null  object\n",
      " 3   text    399890 non-null  object\n",
      "dtypes: int64(1), object(3)\n",
      "memory usage: 12.2+ MB\n"
     ]
    }
   ],
   "source": [
    "# To get Number of columns, Index, Datatype and Memory information\n",
    "test.info()"
   ]
  },
  {
   "cell_type": "code",
   "execution_count": 0,
   "metadata": {
    "colab": {
     "base_uri": "https://localhost:8080/",
     "height": 106
    },
    "colab_type": "code",
    "collapsed": false,
    "id": "Zn28GqAvKPtT",
    "outputId": "a0ae6b81-1bfe-461a-82e4-e4a54ec783ff"
   },
   "outputs": [
    {
     "data": {
      "text/plain": [
       "id      0\n",
       "date    0\n",
       "user    0\n",
       "text    0\n",
       "dtype: int64"
      ]
     },
     "execution_count": 19,
     "metadata": {
      "tags": []
     },
     "output_type": "execute_result"
    }
   ],
   "source": [
    "# To find and count 'NaN' in datasat\n",
    "test.isnull().sum()"
   ]
  },
  {
   "cell_type": "markdown",
   "metadata": {
    "colab_type": "text",
    "id": "FCvigHFxKY8a"
   },
   "source": [
    "#### **3.1.3 Reflection on Data Exploding**\n",
    "\n"
   ]
  },
  {
   "cell_type": "markdown",
   "metadata": {
    "colab_type": "text",
    "id": "A2190NLvkHZT"
   },
   "source": [
    "The dataset structure provides rows and columns in the dataset, which represents one district provided five attributes including target, id, date, user and text. Moreover, there are 1,000,000 instances in the training set and 399,890 instances in a testing set, which seems to be a large amount of data. Furthermore, using train.info() and test.info() to illustrate data structure. Additionally, it can be seen that the data is entirely perfect, which is not have any missing values by using train.isnull().sum() and test.isnull().sum() to check the train and test dataset.\n",
    "However, it seems that there are going to expect 3 class labels: negative, neutral or positive, but the training data has only two classes. The class names are disproportionate as can be seen in the chart. That is something that should bear in mind during the training process of the model."
   ]
  },
  {
   "cell_type": "markdown",
   "metadata": {
    "colab_type": "text",
    "id": "f3w0pbB7Ig5x"
   },
   "source": [
    "## **3.2 Prepare the Data for Deep Learning Algorithms**"
   ]
  },
  {
   "cell_type": "markdown",
   "metadata": {
    "colab_type": "text",
    "id": "Da58DWVrIlgm"
   },
   "source": [
    "#### **3.2.1 Preparing Data**\n",
    "\n"
   ]
  },
  {
   "cell_type": "markdown",
   "metadata": {
    "colab_type": "text",
    "id": "DMrCXdP4j_VZ"
   },
   "source": [
    "The data surrounding social media is unstructured. That means it is raw, noisy and needs to be cleaned before beginning to work on the model of sentiment analysis. It is a crucial phase because the data quality would result in more accurate performance.\n",
    "\n",
    "This preparing data, clean_sentences() function is created to cleaning data. It included the steps are removing HTML content, removing non-alphabetic characters, tokenization the sentences and lemmatization each word to its lemma by used BeautifulSoup() library, Regular Expression (re) package, word_tokenize() library and lemmatizer() library, respectively. \n",
    "- It looks as though HTML encoding was not translated to text, and ended up as '& amp,'&quot', etc. In text area. Decoding HTML into general text will be the first step in preparing the data. For that, it will be used BeautifulSoup.\n",
    "- Regular Expression (re) package, which parses and efficiently modifies strings without having to iterate directly through the characters comprising the string in concern.\n",
    "- Lemmatization is the process of normalizing a word, instead of merely finding its centre. A suffix can not only be omitted in the process but may also be replaced with another. It can also include deciding the part-of-speech for a word first and then applying the rules for normalization. It can also require look-up of dictionaries.\n",
    "\n",
    "We also imported milk, which is the Natural Processing Toolkit, one of the most widely used libraries of Python out there. It is responsible for any processing we need to do on text to alter its shape or remove other components from it. Additionally, these are applied both train dataset and test dataset. "
   ]
  },
  {
   "cell_type": "markdown",
   "metadata": {
    "colab_type": "text",
    "id": "HkVXKJXheLl6"
   },
   "source": [
    "##### ***3.2.1.1 Created function to clean data which are text sentences.***"
   ]
  },
  {
   "cell_type": "code",
   "execution_count": 0,
   "metadata": {
    "colab": {},
    "colab_type": "code",
    "collapsed": true,
    "id": "A4romWMsASFF"
   },
   "outputs": [],
   "source": [
    "def clean_sentences(df):\n",
    "    reviews = []\n",
    "\n",
    "    for sent in tqdm(df['text']):\n",
    "        \n",
    "        #remove html content\n",
    "        review_text = BeautifulSoup(sent).get_text()\n",
    "        \n",
    "        #remove non-alphabetic characters\n",
    "        review_text = re.sub(\"[^a-zA-Z]\",\" \", review_text)\n",
    "    \n",
    "        #tokenize the sentences\n",
    "        words = word_tokenize(review_text.lower())\n",
    "    \n",
    "        #lemmatize each word to its lemma\n",
    "        lemma_words = [lemmatizer.lemmatize(i) for i in words]\n",
    "    \n",
    "        reviews.append(lemma_words)\n",
    "\n",
    "    return(reviews)"
   ]
  },
  {
   "cell_type": "code",
   "execution_count": 0,
   "metadata": {
    "colab": {
     "base_uri": "https://localhost:8080/",
     "height": 106
    },
    "colab_type": "code",
    "collapsed": false,
    "id": "hHvzJIneaPtr",
    "outputId": "7f2828de-2d80-4f30-999e-027a60540d49"
   },
   "outputs": [
    {
     "name": "stdout",
     "output_type": "stream",
     "text": [
      "[nltk_data] Downloading package punkt to /root/nltk_data...\n",
      "[nltk_data]   Unzipping tokenizers/punkt.zip.\n",
      "[nltk_data] Downloading package wordnet to /root/nltk_data...\n",
      "[nltk_data]   Unzipping corpora/wordnet.zip.\n"
     ]
    },
    {
     "data": {
      "text/plain": [
       "True"
      ]
     },
     "execution_count": 21,
     "metadata": {
      "tags": []
     },
     "output_type": "execute_result"
    }
   ],
   "source": [
    "import nltk\n",
    "nltk.download('punkt')\n",
    "import nltk\n",
    "nltk.download('wordnet')\n",
    "  "
   ]
  },
  {
   "cell_type": "markdown",
   "metadata": {
    "colab_type": "text",
    "id": "r9po6T_lenp3"
   },
   "source": [
    "##### ***3.2.1.2 Applied clean_sentenses() function with both train dataset and test dataset.***"
   ]
  },
  {
   "cell_type": "code",
   "execution_count": 0,
   "metadata": {
    "colab": {
     "base_uri": "https://localhost:8080/",
     "height": 88
    },
    "colab_type": "code",
    "collapsed": false,
    "id": "FePEx7cWAiD3",
    "outputId": "b579bed7-6d3f-4153-caed-2f4831129a4c"
   },
   "outputs": [
    {
     "name": "stderr",
     "output_type": "stream",
     "text": [
      "100%|██████████| 1000000/1000000 [06:37<00:00, 2515.26it/s]\n",
      "100%|██████████| 399890/399890 [02:40<00:00, 2496.19it/s]"
     ]
    },
    {
     "name": "stdout",
     "output_type": "stream",
     "text": [
      "1000000\n",
      "399890\n"
     ]
    },
    {
     "name": "stderr",
     "output_type": "stream",
     "text": [
      "\n"
     ]
    }
   ],
   "source": [
    "#cleaned reviews for both train and test set retrieved\n",
    "train_sentences = clean_sentences(train)\n",
    "test_sentences = clean_sentences(test)\n",
    "print(len(train_sentences))\n",
    "print(len(test_sentences))"
   ]
  },
  {
   "cell_type": "markdown",
   "metadata": {
    "colab_type": "text",
    "id": "sOdjD3h8e9CL"
   },
   "source": [
    "#### **3.2.2 Spliting the train data and segment test data**\n"
   ]
  },
  {
   "cell_type": "markdown",
   "metadata": {
    "colab_type": "text",
    "id": "GKYj5hbikQRy"
   },
   "source": [
    "According to the obstruction of the testing dataset that has no target column of the target, then the training dataset has to be used as both training and testing. However, the evaluation of a model skill only the training dataset would result in a biased score. To avoid prediction bias of the dataset, it has to split into three datasets that are training, validation and testing set—starting from separate both datasets into training data and validation data as 80% and 20%, respectively.\n",
    "\n",
    "- The training set is used for learning, that is to fit the parameters of the Classification.\n",
    "- The validation set is used to tune the parameters of the Classification.\n",
    "- The test set is used only to assess the performance of a fully-specified Classification."
   ]
  },
  {
   "cell_type": "code",
   "execution_count": 0,
   "metadata": {
    "colab": {},
    "colab_type": "code",
    "collapsed": true,
    "id": "Kl__TU45AtCs"
   },
   "outputs": [],
   "source": [
    "target=train.target.values\n",
    "y_target=to_categorical(target)\n",
    "num_classes=y_target.shape[1]"
   ]
  },
  {
   "cell_type": "markdown",
   "metadata": {
    "colab_type": "text",
    "id": "gkZVSE-nbkc9"
   },
   "source": [
    "##### ***3.2.2.1 Splitting the train data and segment test data***"
   ]
  },
  {
   "cell_type": "code",
   "execution_count": 0,
   "metadata": {
    "colab": {},
    "colab_type": "code",
    "collapsed": true,
    "id": "Uatm-JrKDCAT"
   },
   "outputs": [],
   "source": [
    "X_train,X_val,y_train,y_val=train_test_split(train_sentences,y_target,test_size=0.2,stratify=y_target)"
   ]
  },
  {
   "cell_type": "markdown",
   "metadata": {
    "colab_type": "text",
    "id": "z-syTsZqffRL"
   },
   "source": [
    "##### ***3.2.2.2 Initializing tokenizer of keras and subsequent padding***\n"
   ]
  },
  {
   "cell_type": "markdown",
   "metadata": {
    "colab_type": "text",
    "id": "W8_TnwOpj5hj"
   },
   "source": [
    "This process found the maximum length of the list of unique words which is 52. Moreover, the TensorFlow (Keras) Tokenizer class is used to simplify the training data tokenization. The first step is to build the Tokenizer object, including the maximum number of words to be retained in vocabulary after tokenization, as well as a vocabulary token to be used to encrypt test data words that it did not find in training, in which such previously unknown words would be dropped out of vocabulary and suddenly uncounted. Upon development of the Tokenizer, fit it on the training data. Now there are tokenized data and also have a vocabulary to map words to numeric representation. The second step is to encode sequences using this. The last step, the encoded sequences are required to be of the same length. We have just discovered the length of the most extended sequence and will use it to pad all other sequences at the end with extra '0's and also truncate any sequences longer than the maximum length from the end."
   ]
  },
  {
   "cell_type": "code",
   "execution_count": 0,
   "metadata": {
    "colab": {
     "base_uri": "https://localhost:8080/",
     "height": 70
    },
    "colab_type": "code",
    "collapsed": false,
    "id": "NwZ9Dy4QDF1x",
    "outputId": "ef6b2821-665a-4845-b250-d811a389ae89"
   },
   "outputs": [
    {
     "name": "stderr",
     "output_type": "stream",
     "text": [
      "100%|██████████| 800000/800000 [00:01<00:00, 499556.15it/s]\n"
     ]
    },
    {
     "name": "stdout",
     "output_type": "stream",
     "text": [
      "358840\n",
      "52\n"
     ]
    }
   ],
   "source": [
    "unique_words = set()\n",
    "len_max = 0\n",
    "\n",
    "for sent in tqdm(X_train):\n",
    "    \n",
    "    unique_words.update(sent)\n",
    "    \n",
    "    if(len_max<len(sent)):\n",
    "        len_max = len(sent)\n",
    "        \n",
    "#length of the list of unique_words gives the no of unique words\n",
    "print(len(list(unique_words)))\n",
    "print(len_max)"
   ]
  },
  {
   "cell_type": "code",
   "execution_count": 0,
   "metadata": {
    "colab": {
     "base_uri": "https://localhost:8080/",
     "height": 35
    },
    "colab_type": "code",
    "collapsed": false,
    "id": "frOVcB3sDPJV",
    "outputId": "06e4bf63-4740-43cb-f231-1b095cfefc33"
   },
   "outputs": [
    {
     "name": "stdout",
     "output_type": "stream",
     "text": [
      "(800000, 52) (200000, 52) (399890, 52)\n"
     ]
    }
   ],
   "source": [
    "tokenizer = Tokenizer(num_words=len(list(unique_words)))\n",
    "tokenizer.fit_on_texts(list(X_train))\n",
    "\n",
    "#texts_to_sequences(texts)\n",
    "\n",
    "    # Arguments- texts: list of texts to turn to sequences.\n",
    "    #Return: list of sequences (one per text input).\n",
    "X_train = tokenizer.texts_to_sequences(X_train)\n",
    "X_val = tokenizer.texts_to_sequences(X_val)\n",
    "X_test = tokenizer.texts_to_sequences(test_sentences)\n",
    "\n",
    "#LSTM networks needs all inputs to be same length.\n",
    "\n",
    "X_train = sequence.pad_sequences(X_train, maxlen=len_max)\n",
    "X_val = sequence.pad_sequences(X_val, maxlen=len_max)\n",
    "X_test = sequence.pad_sequences(X_test, maxlen=len_max)\n",
    "\n",
    "print(X_train.shape,X_val.shape,X_test.shape)"
   ]
  },
  {
   "cell_type": "markdown",
   "metadata": {
    "colab_type": "text",
    "id": "eTkbwnxCf5RT"
   },
   "source": [
    "##### ***3.2.2.3 Use Early Stopping to Halt the Training of Neural Networks At the Right Time***"
   ]
  },
  {
   "cell_type": "markdown",
   "metadata": {
    "colab_type": "text",
    "id": "bMoXwX4pg5vI"
   },
   "source": [
    "An problem with training neural networks is choosing how many training epochs to use. Too many epochs can result in the training dataset being overfitted, while too few can result in the model being underfit. Early stopping is a method that allows you to assign a large arbitrary number of training epochs and stop training until the output of the model stops improving on a validation dataset.The callback allows the performance indicator to be defined to evaluate the trigger and once activated, the training cycle will be stopped."
   ]
  },
  {
   "cell_type": "code",
   "execution_count": 0,
   "metadata": {
    "colab": {},
    "colab_type": "code",
    "collapsed": true,
    "id": "c67zeePrDV3t"
   },
   "outputs": [],
   "source": [
    "from tensorflow.keras.callbacks import EarlyStopping\n",
    "\n",
    "early_stopping = EarlyStopping(min_delta = 0.001, mode = 'max', monitor='val_acc', patience = 2)\n",
    "callback = [early_stopping]"
   ]
  },
  {
   "cell_type": "markdown",
   "metadata": {
    "colab_type": "text",
    "id": "4bbUmfHzb-eD"
   },
   "source": [
    "## **3.3 Deep Learning Analysis Models**"
   ]
  },
  {
   "cell_type": "markdown",
   "metadata": {
    "colab_type": "text",
    "id": "21wnntOZhd6d"
   },
   "source": [
    "#### **3.3.1 Long Short Term Memory networks (LSTM network)**\n"
   ]
  },
  {
   "cell_type": "markdown",
   "metadata": {
    "colab_type": "text",
    "id": "vF-FdYyHo7Dt"
   },
   "source": [
    "This Twitter Sentiment Classification used LSTM network to analysis. This model is a specialized form of recurrent neural network (RNN) — a neural network architecture used for sequential data modelling and also applied to tasks related to natural language processing. The benefit of LSTMs over conventional RNNs is that they maintain information for long periods, allowing valuable knowledge learned early in the sequence to have a more significant effect on the end-of-sequence model decisions. In order to get the best result, this model was trained with Adam optimizer, and it has the best performance when the learning rate is 0.005 because Adam is faster than the others and it does not suffer any significant decreases inaccuracy. Furthermore, softmax is the most appropriate for the final layer to normalize the training data, and this will give an output into a probability for calculating negative log-likelihood into cross-entropy loss."
   ]
  },
  {
   "cell_type": "code",
   "execution_count": 0,
   "metadata": {
    "colab": {
     "base_uri": "https://localhost:8080/",
     "height": 461
    },
    "colab_type": "code",
    "collapsed": false,
    "id": "8k6mywclDd96",
    "outputId": "eaa2e9bd-b10c-40a5-bec7-05b26ab3cea4"
   },
   "outputs": [
    {
     "name": "stdout",
     "output_type": "stream",
     "text": [
      "WARNING:tensorflow:Layer lstm will not use cuDNN kernel since it doesn't meet the cuDNN kernel criteria. It will use generic GPU kernel as fallback when running on GPU\n",
      "WARNING:tensorflow:Layer lstm_1 will not use cuDNN kernel since it doesn't meet the cuDNN kernel criteria. It will use generic GPU kernel as fallback when running on GPU\n",
      "WARNING:tensorflow:Layer lstm_2 will not use cuDNN kernel since it doesn't meet the cuDNN kernel criteria. It will use generic GPU kernel as fallback when running on GPU\n",
      "Model: \"sequential\"\n",
      "_________________________________________________________________\n",
      "Layer (type)                 Output Shape              Param #   \n",
      "=================================================================\n",
      "embedding (Embedding)        (None, 52, 300)           107652000 \n",
      "_________________________________________________________________\n",
      "lstm (LSTM)                  (None, 52, 256)           570368    \n",
      "_________________________________________________________________\n",
      "lstm_1 (LSTM)                (None, 52, 128)           197120    \n",
      "_________________________________________________________________\n",
      "lstm_2 (LSTM)                (None, 64)                49408     \n",
      "_________________________________________________________________\n",
      "dense (Dense)                (None, 100)               6500      \n",
      "_________________________________________________________________\n",
      "dropout (Dropout)            (None, 100)               0         \n",
      "_________________________________________________________________\n",
      "dense_1 (Dense)              (None, 5)                 505       \n",
      "=================================================================\n",
      "Total params: 108,475,901\n",
      "Trainable params: 108,475,901\n",
      "Non-trainable params: 0\n",
      "_________________________________________________________________\n"
     ]
    }
   ],
   "source": [
    "#Model using Keras LSTM\n",
    "\n",
    "model = tf.keras.models.Sequential([\n",
    "                                    \n",
    "    tf.keras.layers.Embedding(len(list(unique_words)),300,input_length=len_max),\n",
    "    tf.keras.layers.LSTM(256,dropout=0.25, recurrent_dropout=0.25,return_sequences=True), # returns a sequence of vectors of dimension 256\n",
    "    tf.keras.layers.LSTM(128,dropout=0.25, recurrent_dropout=0.25,return_sequences=True), # returns a sequence of vectors of dimension 128\n",
    "    tf.keras.layers.LSTM(64,dropout=0.25, recurrent_dropout=0.25,return_sequences=False), # returns a sequence of vectors of dimension 64\n",
    "    tf.keras.layers.Dense(100,activation='relu'), # Dense(100) is a fully-connected layer with 100 hidden units.\n",
    "    tf.keras.layers.Dropout(0.25),\n",
    "    tf.keras.layers.Dense(num_classes,activation='softmax')\n",
    "    #tf.keras.layers.Dense(num_classes, activation='sigmoid')\n",
    "])\n",
    "\n",
    "model.summary()"
   ]
  },
  {
   "cell_type": "code",
   "execution_count": 0,
   "metadata": {
    "colab": {},
    "colab_type": "code",
    "collapsed": true,
    "id": "xr0jwtZ2mDOU"
   },
   "outputs": [],
   "source": [
    "from tensorflow.keras.optimizers import Adam\n",
    "optimizer = Adam(learning_rate=0.005)\n",
    "model.compile(loss='categorical_crossentropy',optimizer=optimizer,metrics=['accuracy'])"
   ]
  },
  {
   "cell_type": "markdown",
   "metadata": {
    "colab_type": "text",
    "id": "hlxJyABPccVG"
   },
   "source": [
    "#### **3.3.2 Training the Model**\n",
    "\n"
   ]
  },
  {
   "cell_type": "markdown",
   "metadata": {
    "colab_type": "text",
    "id": "S2on9EUQjzjM"
   },
   "source": [
    "The numbers of epochs are related to how diverse the dataset. \n",
    "As the number of epochs increases, more number of times the weight is changed, the curve could be interpreted as underfitting to optimal to overfitting curve. However, this project set a high number of epochs so that it would provide in evaluating the model section. This model will give the best performance when epoch is equal to 2 because when increasing the number of epoch to 3 and 4, this model tends to have overfitting from an increasing of validation loss and validation accuracy that did not show significant improvement."
   ]
  },
  {
   "cell_type": "code",
   "execution_count": 0,
   "metadata": {
    "colab": {
     "base_uri": "https://localhost:8080/",
     "height": 464
    },
    "colab_type": "code",
    "collapsed": false,
    "id": "c_-u_7XqDqiW",
    "outputId": "2788725c-8056-4305-a6f2-3ff5a1d0fd1b"
   },
   "outputs": [
    {
     "name": "stdout",
     "output_type": "stream",
     "text": [
      "Epoch 1/8\n",
      "391/391 [==============================] - ETA: 0s - loss: 0.6268 - accuracy: 0.6345WARNING:tensorflow:Early stopping conditioned on metric `val_acc` which is not available. Available metrics are: loss,accuracy,val_loss,val_accuracy\n",
      "391/391 [==============================] - 419s 1s/step - loss: 0.6268 - accuracy: 0.6345 - val_loss: 0.4329 - val_accuracy: 0.8016\n",
      "Epoch 2/8\n",
      "391/391 [==============================] - ETA: 0s - loss: 0.3974 - accuracy: 0.8227WARNING:tensorflow:Early stopping conditioned on metric `val_acc` which is not available. Available metrics are: loss,accuracy,val_loss,val_accuracy\n",
      "391/391 [==============================] - 416s 1s/step - loss: 0.3974 - accuracy: 0.8227 - val_loss: 0.3885 - val_accuracy: 0.8252\n",
      "Epoch 3/8\n",
      "391/391 [==============================] - ETA: 0s - loss: 0.2747 - accuracy: 0.8861WARNING:tensorflow:Early stopping conditioned on metric `val_acc` which is not available. Available metrics are: loss,accuracy,val_loss,val_accuracy\n",
      "391/391 [==============================] - 415s 1s/step - loss: 0.2747 - accuracy: 0.8861 - val_loss: 0.4373 - val_accuracy: 0.8169\n",
      "Epoch 4/8\n",
      "391/391 [==============================] - ETA: 0s - loss: 0.2120 - accuracy: 0.9118WARNING:tensorflow:Early stopping conditioned on metric `val_acc` which is not available. Available metrics are: loss,accuracy,val_loss,val_accuracy\n",
      "391/391 [==============================] - 414s 1s/step - loss: 0.2120 - accuracy: 0.9118 - val_loss: 0.5108 - val_accuracy: 0.8095\n",
      "Epoch 5/8\n",
      "391/391 [==============================] - ETA: 0s - loss: 0.1758 - accuracy: 0.9266WARNING:tensorflow:Early stopping conditioned on metric `val_acc` which is not available. Available metrics are: loss,accuracy,val_loss,val_accuracy\n",
      "391/391 [==============================] - 415s 1s/step - loss: 0.1758 - accuracy: 0.9266 - val_loss: 0.6036 - val_accuracy: 0.8096\n",
      "Epoch 6/8\n",
      "391/391 [==============================] - ETA: 0s - loss: 0.1543 - accuracy: 0.9353WARNING:tensorflow:Early stopping conditioned on metric `val_acc` which is not available. Available metrics are: loss,accuracy,val_loss,val_accuracy\n",
      "391/391 [==============================] - 415s 1s/step - loss: 0.1543 - accuracy: 0.9353 - val_loss: 0.6667 - val_accuracy: 0.8043\n",
      "Epoch 7/8\n",
      "391/391 [==============================] - ETA: 0s - loss: 0.1392 - accuracy: 0.9423WARNING:tensorflow:Early stopping conditioned on metric `val_acc` which is not available. Available metrics are: loss,accuracy,val_loss,val_accuracy\n",
      "391/391 [==============================] - 415s 1s/step - loss: 0.1392 - accuracy: 0.9423 - val_loss: 0.7477 - val_accuracy: 0.8069\n",
      "Epoch 8/8\n",
      "391/391 [==============================] - ETA: 0s - loss: 0.1275 - accuracy: 0.9471WARNING:tensorflow:Early stopping conditioned on metric `val_acc` which is not available. Available metrics are: loss,accuracy,val_loss,val_accuracy\n",
      "391/391 [==============================] - 413s 1s/step - loss: 0.1275 - accuracy: 0.9471 - val_loss: 0.8279 - val_accuracy: 0.8028\n"
     ]
    }
   ],
   "source": [
    "#Cross validation could be used to evaluate the model and grid search further to find unique combination of parameters that give maximum accuracy. \n",
    "#This model has a validation accuracy of around 82%\n",
    "\n",
    "batch_size=2048\n",
    "epochs=8\n",
    "\n",
    "history=model.fit(X_train, y_train, validation_data=(X_val, y_val),\n",
    "                  epochs=epochs, \n",
    "                  #steps_per_epoch=len(X_train)//batch_size,\n",
    "                  batch_size=batch_size, \n",
    "                  verbose=1,\n",
    "                  validation_steps=50, \n",
    "                  callbacks=callback)"
   ]
  },
  {
   "cell_type": "markdown",
   "metadata": {
    "colab_type": "text",
    "id": "KgZbFXjncmwZ"
   },
   "source": [
    "#### **3.3.3 Evaluating the Model**\n",
    "\n"
   ]
  },
  {
   "cell_type": "markdown",
   "metadata": {
    "colab_type": "text",
    "id": "0gF9eBr2kXfU"
   },
   "source": [
    "The learning curve graph provides a comparison between training loss and validation loss by changing several epochs. It could be interpreted as several epochs equal two is the best. The plot of training loss decreases to the point of stability, and the plot of validation loss decreases to the point of stability and has a small gap with the training loss. Moreover, graph also shows the comparison between training accuracy and validation accuracy by changing some epochs. It illustrates that the best accuracy is at epoch equal two because the line graph has increased when starting and reaches the highest while the validation loss is the least."
   ]
  },
  {
   "cell_type": "code",
   "execution_count": 0,
   "metadata": {
    "colab": {
     "base_uri": "https://localhost:8080/",
     "height": 406
    },
    "colab_type": "code",
    "collapsed": false,
    "id": "8kxmD3cG-SNs",
    "outputId": "2d862e6f-b4e3-4893-c4fe-3b54c6fedffb"
   },
   "outputs": [
    {
     "data": {
      "image/png": "[encoded data removed]",
      "text/plain": [
       "<Figure size 864x432 with 1 Axes>"
      ]
     },
     "metadata": {
      "tags": []
     },
     "output_type": "display_data"
    }
   ],
   "source": [
    "# Plot Learning curve\n",
    "pd.DataFrame(history.history).plot(figsize=(12, 6))\n",
    "plt.grid(True)\n",
    "plt.gca().set_ylim(0, 1) # set the vertical range to [0-1]\n",
    "plt.title('Learning Curve', fontsize=15)\n",
    "plt.xlabel('epochs')\n",
    "plt.ylabel('Accuracy')\n",
    "plt.show()"
   ]
  },
  {
   "cell_type": "code",
   "execution_count": 0,
   "metadata": {
    "colab": {
     "base_uri": "https://localhost:8080/",
     "height": 52
    },
    "colab_type": "code",
    "collapsed": false,
    "id": "XQJ4tZOxeFNS",
    "outputId": "b0d91619-0147-44b8-ff78-d4965fbabda2"
   },
   "outputs": [
    {
     "name": "stdout",
     "output_type": "stream",
     "text": [
      "6250/6250 [==============================] - 243s 39ms/step - loss: 0.8346 - accuracy: 0.8018\n"
     ]
    },
    {
     "data": {
      "text/plain": [
       "[0.8346390128135681, 0.8018350005149841]"
      ]
     },
     "execution_count": 54,
     "metadata": {
      "tags": []
     },
     "output_type": "execute_result"
    }
   ],
   "source": [
    "model.evaluate(X_val, y_val)"
   ]
  },
  {
   "cell_type": "markdown",
   "metadata": {
    "colab_type": "text",
    "id": "UIG8FgHIdNCc"
   },
   "source": [
    "#### **3.3.4 Making prediction**"
   ]
  },
  {
   "cell_type": "markdown",
   "metadata": {
    "colab_type": "text",
    "id": "yU-u0xsaAy_y"
   },
   "source": [
    "In multi-class sentiment analysis, the output is a probability distribution over n possible classes or, in other words, a list of n non-negative numbers that add up to 1. In this project, the value is a distribution of probability across three groups (n = 3). One may order the three probabilities as follows: negative probability, neutral probability, and positive probability. According to the training dataset has only two classes, negative and positive, hence finding the maximum probability and assign value is neutral when a probability less or equal 0.55. \n",
    "\n",
    "However, classification accuracy slightly decreases with an increase in the number of sentiments. It means that two classes are more accuracy than three classes."
   ]
  },
  {
   "cell_type": "code",
   "execution_count": 0,
   "metadata": {
    "colab": {
     "base_uri": "https://localhost:8080/",
     "height": 35
    },
    "colab_type": "code",
    "collapsed": false,
    "id": "ZuJuh4IhcveM",
    "outputId": "56ab10d4-77f6-4ec9-af7e-d0179d5cde6b"
   },
   "outputs": [
    {
     "data": {
      "text/plain": [
       "array([4, 4, 0, ..., 0, 0, 4])"
      ]
     },
     "execution_count": 55,
     "metadata": {
      "tags": []
     },
     "output_type": "execute_result"
    }
   ],
   "source": [
    "predictions_test = model.predict_classes(X_test)\n",
    "predictions_test"
   ]
  },
  {
   "cell_type": "code",
   "execution_count": 0,
   "metadata": {
    "colab": {
     "base_uri": "https://localhost:8080/",
     "height": 301
    },
    "colab_type": "code",
    "collapsed": false,
    "id": "QYggmH4xvqY1",
    "outputId": "6e236c56-6e38-497b-e29f-7e62b2420f43"
   },
   "outputs": [
    {
     "name": "stdout",
     "output_type": "stream",
     "text": [
      "WARNING:tensorflow:From <ipython-input-34-deeb1f0b6a7d>:1: Sequential.predict_proba (from tensorflow.python.keras.engine.sequential) is deprecated and will be removed after 2021-01-01.\n",
      "Instructions for updating:\n",
      "Please use `model.predict()` instead.\n"
     ]
    },
    {
     "data": {
      "text/plain": [
       "array([[9.4425315e-03, 1.2082676e-19, 6.2663326e-19, 2.4293886e-19,\n",
       "        9.9055743e-01],\n",
       "       [2.6758917e-04, 1.3580329e-30, 2.4612679e-29, 2.6991026e-30,\n",
       "        9.9973243e-01],\n",
       "       [9.9879706e-01, 1.4440527e-13, 1.1050838e-13, 4.8450403e-14,\n",
       "        1.2029129e-03],\n",
       "       ...,\n",
       "       [8.5042417e-01, 4.3972000e-06, 3.3546121e-06, 2.7377250e-06,\n",
       "        1.4956538e-01],\n",
       "       [9.8453993e-01, 5.0507382e-10, 3.6428960e-10, 1.9643293e-10,\n",
       "        1.5460077e-02],\n",
       "       [8.2494998e-03, 2.3986083e-20, 1.3868537e-19, 5.2090306e-20,\n",
       "        9.9175054e-01]], dtype=float32)"
      ]
     },
     "execution_count": 34,
     "metadata": {
      "tags": []
     },
     "output_type": "execute_result"
    }
   ],
   "source": [
    "predictions_prob = model.predict_proba(X_test)\n",
    "predictions_prob"
   ]
  },
  {
   "cell_type": "code",
   "execution_count": 0,
   "metadata": {
    "colab": {},
    "colab_type": "code",
    "collapsed": true,
    "id": "0deQPknpDcIl"
   },
   "outputs": [],
   "source": [
    "def predict_sentiment(pred_prob,label):\n",
    "    pred_prob_max = np.max(pred_prob,1)\n",
    "    for i in range(np.size(pred_prob_max,0)):\n",
    "      if pred_prob_max[i] <= 0.55:      \n",
    "          label[i] = 2\n",
    "      else:\n",
    "          label[i] = label[i]\n",
    "    return label"
   ]
  },
  {
   "cell_type": "code",
   "execution_count": 0,
   "metadata": {
    "colab": {
     "base_uri": "https://localhost:8080/",
     "height": 35
    },
    "colab_type": "code",
    "collapsed": false,
    "id": "pWIOhQZBK-O9",
    "outputId": "8ca8751f-f440-4978-acaf-a2946780db8d"
   },
   "outputs": [
    {
     "data": {
      "text/plain": [
       "array([4, 4, 0, ..., 0, 0, 4])"
      ]
     },
     "execution_count": 51,
     "metadata": {
      "tags": []
     },
     "output_type": "execute_result"
    }
   ],
   "source": [
    "predictions = predict_sentiment(predictions_prob,predictions_test)\n",
    "predictions"
   ]
  },
  {
   "cell_type": "code",
   "execution_count": 0,
   "metadata": {
    "colab": {},
    "colab_type": "code",
    "collapsed": true,
    "id": "1NNNYXmo_vwB"
   },
   "outputs": [],
   "source": [
    "test1 = test.copy()\n",
    "test1[\"target\"] = predictions"
   ]
  },
  {
   "cell_type": "code",
   "execution_count": 0,
   "metadata": {
    "colab": {
     "base_uri": "https://localhost:8080/",
     "height": 516
    },
    "colab_type": "code",
    "collapsed": false,
    "id": "4JEwKPJJ_jq7",
    "outputId": "90696950-59bc-4c7b-d1ed-9332feab1ec5"
   },
   "outputs": [
    {
     "data": {
      "text/plain": [
       "Text(0.5, 1.0, 'predictions distribuition')"
      ]
     },
     "execution_count": 45,
     "metadata": {
      "tags": []
     },
     "output_type": "execute_result"
    },
    {
     "data": {
      "image/png": "[encoded data removed]",
      "text/plain": [
       "<Figure size 1152x576 with 1 Axes>"
      ]
     },
     "metadata": {
      "tags": []
     },
     "output_type": "display_data"
    }
   ],
   "source": [
    "from collections import Counter\n",
    "# Matplot\n",
    "import matplotlib.pyplot as plt\n",
    "%matplotlib inline\n",
    "\n",
    "target_cnt = Counter(test1.target)\n",
    "\n",
    "plt.figure(figsize=(16,8))\n",
    "plt.bar(target_cnt.keys(), target_cnt.values())\n",
    "plt.title(\"predictions distribuition\")"
   ]
  },
  {
   "cell_type": "markdown",
   "metadata": {
    "colab_type": "text",
    "id": "cF0F4vqldU99"
   },
   "source": [
    "# **4. Conclusions**"
   ]
  },
  {
   "cell_type": "markdown",
   "metadata": {
    "colab_type": "text",
    "id": "KqR0DcP_qEE_"
   },
   "source": [
    "The main will present all pre-processing methods, text representation, and advanced classification algorithms in this project. The model approach's final accuracy is 80.18 percent. In the end, we decided to apply a representation of a neural network in the Kaggle competition. The best model trained can achieve 82.284 percent predictive accuracy.\n",
    "\n",
    "In the future project, we will concentrate on developing hybrid approaches where multiple models and techniques are combined to improve the accuracy of classification reached by individual models or techniques. Moreover, consideration of emoji labelling and a better and more extensive collection of emoji datasets along with proper labelling may help improve the performance."
   ]
  },
  {
   "cell_type": "markdown",
   "metadata": {
    "colab_type": "text",
    "id": "Y1jl8ObZdgF_"
   },
   "source": [
    "# **Submission Model**"
   ]
  },
  {
   "cell_type": "code",
   "execution_count": 0,
   "metadata": {
    "colab": {},
    "colab_type": "code",
    "collapsed": true,
    "id": "ulEnkBQDFNid"
   },
   "outputs": [],
   "source": [
    "test1 = test.copy()\n",
    "test1[\"target\"] = predictions_test\n",
    "#test1[\"target\"] = predictions\n",
    "submission = test1[[\"id\",\"target\"]]\n",
    "submission.to_csv(\"submission.csv\", index=False)"
   ]
  },
  {
   "cell_type": "code",
   "execution_count": 0,
   "metadata": {
    "colab": {
     "base_uri": "https://localhost:8080/",
     "height": 70
    },
    "colab_type": "code",
    "collapsed": false,
    "id": "VNjwmJi5Jcvq",
    "outputId": "05929463-10f2-4268-9668-366206e50880"
   },
   "outputs": [
    {
     "name": "stdout",
     "output_type": "stream",
     "text": [
      "Warning: Looks like you're using an outdated API Version, please consider updating (server 1.5.6 / client 1.5.4)\n",
      "100% 4.96M/4.96M [00:01<00:00, 2.64MB/s]\n",
      "Successfully submitted to CS98X Twitter Sentiment Classification"
     ]
    }
   ],
   "source": [
    "!kaggle competitions submit -c cs98x-twitter-sentiment -f submission.csv -m \"Message\""
   ]
  }
 ],
 "metadata": {
  "accelerator": "GPU",
  "anaconda-cloud": {},
  "colab": {
   "collapsed_sections": [],
   "machine_shape": "hm",
   "name": "Group O_CS985 and CS987_Twitter Sentiment Classification.ipynb",
   "provenance": []
  },
  "kernelspec": {
   "display_name": "Python [default]",
   "language": "python",
   "name": "python3"
  },
  "language_info": {
   "codemirror_mode": {
    "name": "ipython",
    "version": 3
   },
   "file_extension": ".py",
   "mimetype": "text/x-python",
   "name": "python",
   "nbconvert_exporter": "python",
   "pygments_lexer": "ipython3",
   "version": "3.5.6"
  }
 },
 "nbformat": 4,
 "nbformat_minor": 0
}
