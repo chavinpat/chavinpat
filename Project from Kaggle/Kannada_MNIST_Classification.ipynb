{
 "cells": [
  {
   "cell_type": "markdown",
   "metadata": {
    "colab_type": "text",
    "id": "8RbNzt6gHNbw"
   },
   "source": [
    "# **CS985 and CS987 Assignment 2 : Kannada-MNIST Classification Problem**"
   ]
  },
  {
   "cell_type": "markdown",
   "metadata": {
    "colab_type": "text",
    "id": "MmUpFDwhEQzE"
   },
   "source": [
    "#### **Team's name: Group O**\n",
    "\n",
    "-   Chavinpat Naimee (201976778)\n",
    "-   Chinnakrit Nitipornsri (201964692)\n",
    "-   Kittanon Na Nakhon (201964002)\n",
    "-   Nuallahong Silaung (201986533)"
   ]
  },
  {
   "cell_type": "markdown",
   "metadata": {
    "colab_type": "text",
    "id": "Bs-u4oMzhU7s"
   },
   "source": [
    "Open in Google Colab [Click here](https://drive.google.com/file/d/1OmYWDHnR2-8Hyo19Y_pdIXcR6JFJ6Lui/view?usp=sharing) or https://drive.google.com/file/d/1OmYWDHnR2-8Hyo19Y_pdIXcR6JFJ6Lui/view?usp=sharing"
   ]
  },
  {
   "cell_type": "markdown",
   "metadata": {
    "colab_type": "text",
    "id": "ZzS7tuJGHNb3"
   },
   "source": [
    "## **1. The Objective :**\n",
    "The main analysis of this project is to classify images of hand written digits in the data coming from Kannada, which is a language spoken predominantly by people of Karnataka in southwestern India. (The data comes from Classification problem: https://www.kaggle.com/t/e224c14938ae4525a2ff60b9cb846de6) \n",
    "\n",
    "## **2. Meaning of Dataset :**\n",
    "This dataset consists of two datasets of the train and test dataset, which indicates the data of 60,000 rows 786 columns and 10,000 rows 786 columns respectively. However, the missing column of the test dataset is \"label\" column, which is the key finding of this project.\n",
    "\n",
    "\n",
    "## **3. Overall analysis :**\n",
    "\n",
    "> ### **3.1 Data Exploding**\n",
    "\n",
    "> ### **3.2 Prepare the Data for Deep Learning Algorithms**\n",
    "- Preparing data\n",
    "- Spliting the train data and segment test data\n",
    "- Normalising data\n",
    "- Showing image data\n",
    "\n",
    "> ### **3.3 Deep Learning Analysis Models**\n",
    "- Creating a Fully Connected Neural Network model\n",
    "- Improving a Fully Connected Neural Network model\n",
    "- The Convolutional Neural Network (CNN)\n",
    "- Improving the accuracy by using Data Augmentation technique\n",
    "- CNN Architecture Improvement\n",
    "\n",
    "## **4. Conclusion**\n",
    "## **5. References**\n",
    "\n",
    "> #### **Required packages**\n",
    "- from google.colab import files\n",
    "- import numpy as np\n",
    "- import pandas as pd\n",
    "- import matplotlib.pyplot as plt\n",
    "- import sklearn\n",
    "- from sklearn import model_selection, preprocessing\n",
    "- from sklearn.preprocessing import scale\n",
    "- from sklearn.model_selection import train_test_split\n",
    "- import tensorflow as tf\n",
    "- from tensorflow import keras\n",
    "- from keras.models import Sequential, load_model\n",
    "- from keras.layers import Dense, Dropout, Flatten\n",
    "- from keras.layers import Conv2D, MaxPooling2D\n",
    "- from keras import backend as K\n",
    "- from tensorflow.keras.optimizers import RMSprop,Adam,Adadelta,SGD\n",
    "- from keras.preprocessing.image import ImageDataGenerator\n",
    "- from tensorflow.keras.callbacks import ReduceLROnPlateau, EarlyStopping"
   ]
  },
  {
   "cell_type": "markdown",
   "metadata": {
    "colab_type": "text",
    "id": "Em0xkQU-TzPI"
   },
   "source": [
    "# **3. Overall analysis**"
   ]
  },
  {
   "cell_type": "markdown",
   "metadata": {
    "colab_type": "text",
    "id": "mmpZ6m59HNb5"
   },
   "source": [
    "## **3.1 Data Exploding**"
   ]
  },
  {
   "cell_type": "markdown",
   "metadata": {
    "colab_type": "text",
    "id": "BRxmdZm3HNb7"
   },
   "source": [
    "#### **3.1.1 Starting with import libraries and datasets**"
   ]
  },
  {
   "cell_type": "markdown",
   "metadata": {
    "colab_type": "text",
    "id": "XXT4SlGkHNb8"
   },
   "source": [
    "##### ***In term of running on Google colab***\n",
    "\n",
    "If you use Google colab to run this code, you need the API from Kaggle before run it."
   ]
  },
  {
   "cell_type": "code",
   "execution_count": 0,
   "metadata": {
    "colab": {
     "base_uri": "https://localhost:8080/",
     "height": 86,
     "resources": {
      "http://localhost:8080/nbextensions/google.colab/files.js": {
       "data": "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",
       "headers": [
        [
         "content-type",
         "application/javascript"
        ]
       ],
       "ok": true,
       "status": 200,
       "status_text": ""
      }
     }
    },
    "colab_type": "code",
    "collapsed": false,
    "id": "6bo5uokzHNb9",
    "outputId": "a4af7333-40a6-4a53-dff7-db10dd4cf92e"
   },
   "outputs": [
    {
     "data": {
      "text/html": [
       "\n",
       "     <input type=\"file\" id=\"files-cd736bea-3e11-4e69-9463-e73ff0ef5d21\" name=\"files[]\" multiple disabled />\n",
       "     <output id=\"result-cd736bea-3e11-4e69-9463-e73ff0ef5d21\">\n",
       "      Upload widget is only available when the cell has been executed in the\n",
       "      current browser session. Please rerun this cell to enable.\n",
       "      </output>\n",
       "      <script src=\"/nbextensions/google.colab/files.js\"></script> "
      ],
      "text/plain": [
       "<IPython.core.display.HTML object>"
      ]
     },
     "metadata": {
      "tags": []
     },
     "output_type": "display_data"
    },
    {
     "name": "stdout",
     "output_type": "stream",
     "text": [
      "Saving kaggle.json to kaggle.json\n"
     ]
    },
    {
     "data": {
      "text/plain": [
       "{'kaggle.json': b'{\"username\":\"chinnakritn\",\"key\":\"1e82857533b2b1c8622562ac08a53ea1\"}'}"
      ]
     },
     "execution_count": 1,
     "metadata": {
      "tags": []
     },
     "output_type": "execute_result"
    }
   ],
   "source": [
    "from google.colab import files\n",
    "files.upload()"
   ]
  },
  {
   "cell_type": "code",
   "execution_count": 0,
   "metadata": {
    "colab": {},
    "colab_type": "code",
    "collapsed": true,
    "id": "V1sd-frgHNcB"
   },
   "outputs": [],
   "source": [
    "!mkdir -p ~/.kaggle\n",
    "!cp kaggle.json ~/.kaggle/kaggle.json\n",
    "!chmod 600 /root/.kaggle/kaggle.json"
   ]
  },
  {
   "cell_type": "code",
   "execution_count": 0,
   "metadata": {
    "colab": {},
    "colab_type": "code",
    "collapsed": true,
    "id": "ktBJrE4RIyBb"
   },
   "outputs": [],
   "source": [
    "#!pip install tensorflow==1.14.0"
   ]
  },
  {
   "cell_type": "code",
   "execution_count": 0,
   "metadata": {
    "colab": {},
    "colab_type": "code",
    "collapsed": true,
    "id": "F8aTBavy4inI"
   },
   "outputs": [],
   "source": [
    "#!python3 -m pip install --upgrade tensorflow"
   ]
  },
  {
   "cell_type": "code",
   "execution_count": 0,
   "metadata": {
    "colab": {
     "base_uri": "https://localhost:8080/",
     "height": 138
    },
    "colab_type": "code",
    "collapsed": false,
    "id": "Ol4CExAtHNcF",
    "outputId": "6144690c-796f-42d2-c06d-e3752717c1a1"
   },
   "outputs": [
    {
     "name": "stdout",
     "output_type": "stream",
     "text": [
      "Warning: Looks like you're using an outdated API Version, please consider updating (server 1.5.6 / client 1.5.4)\n",
      "Downloading test.csv.zip to /content\n",
      "  0% 0.00/1.79M [00:00<?, ?B/s]\n",
      "100% 1.79M/1.79M [00:00<00:00, 58.9MB/s]\n",
      "Downloading training.csv.zip to /content\n",
      " 60% 6.00M/9.92M [00:00<00:00, 10.7MB/s]\n",
      "100% 9.92M/9.92M [00:00<00:00, 18.4MB/s]\n"
     ]
    }
   ],
   "source": [
    "!kaggle competitions download -c cs98x-kannada-mnist --force"
   ]
  },
  {
   "cell_type": "code",
   "execution_count": 0,
   "metadata": {
    "colab": {},
    "colab_type": "code",
    "collapsed": true,
    "id": "4_f5sQhd5J6L"
   },
   "outputs": [],
   "source": [
    "import numpy as np   # Implemennts milti-dimensional array and matrices\n",
    "import pandas as pd  # for data manipulation and analysis\n",
    "import tensorflow as tf # for create deep learning models\n",
    "from tensorflow import keras # implementation of the Keras API specification\n",
    "# load training & test datasets\n",
    "train = pd.read_csv(\"/content/training.csv.zip\")\n",
    "test = pd.read_csv(\"/content/test.csv.zip\")"
   ]
  },
  {
   "cell_type": "markdown",
   "metadata": {
    "colab_type": "text",
    "id": "qUT0_c-bHNcI"
   },
   "source": [
    "##### ***In term of running on Jupyter Notebook***\n",
    "\n",
    "\n",
    "\n"
   ]
  },
  {
   "cell_type": "code",
   "execution_count": 0,
   "metadata": {
    "colab": {},
    "colab_type": "code",
    "collapsed": true,
    "id": "X_8N7PVmzs1I"
   },
   "outputs": [],
   "source": [
    "import numpy as np   # Implemennts milti-dimensional array and matrices\n",
    "import pandas as pd  # for data manipulation and analysis\n",
    "import tensorflow as tf # for create deep learning models\n",
    "from tensorflow import keras # implementation of the Keras API specification"
   ]
  },
  {
   "cell_type": "code",
   "execution_count": 0,
   "metadata": {
    "colab": {},
    "colab_type": "code",
    "collapsed": true,
    "id": "s9861XB5IyBl"
   },
   "outputs": [],
   "source": [
    "# To check version of tensorflow and keras\n",
    "print('Tensorflow version',tf.__version__)\n",
    "print('Keras version',keras.__version__)"
   ]
  },
  {
   "cell_type": "code",
   "execution_count": 0,
   "metadata": {
    "colab": {},
    "colab_type": "code",
    "collapsed": true,
    "id": "_k8NXkhEmiJc"
   },
   "outputs": [],
   "source": [
    "# Read training & test datasets by pandas package\n",
    "train = pd.read_csv(\"./cs98x-kannada-mnist/training.csv\")\n",
    "test = pd.read_csv(\"./cs98x-kannada-mnist/test.csv\")"
   ]
  },
  {
   "cell_type": "markdown",
   "metadata": {
    "colab_type": "text",
    "id": "xKM-t3CAHNcQ"
   },
   "source": [
    "#### **3.1.2 Providing an overview of information of both datasets**"
   ]
  },
  {
   "cell_type": "code",
   "execution_count": 0,
   "metadata": {
    "colab": {
     "base_uri": "https://localhost:8080/",
     "height": 412
    },
    "colab_type": "code",
    "collapsed": false,
    "id": "vm0oUAgtoc95",
    "outputId": "ff04ffda-6664-4bd0-da42-4871f50c4059"
   },
   "outputs": [
    {
     "data": {
      "text/html": [
       "<div>\n",
       "<style scoped>\n",
       "    .dataframe tbody tr th:only-of-type {\n",
       "        vertical-align: middle;\n",
       "    }\n",
       "\n",
       "    .dataframe tbody tr th {\n",
       "        vertical-align: top;\n",
       "    }\n",
       "\n",
       "    .dataframe thead th {\n",
       "        text-align: right;\n",
       "    }\n",
       "</style>\n",
       "<table border=\"1\" class=\"dataframe\">\n",
       "  <thead>\n",
       "    <tr style=\"text-align: right;\">\n",
       "      <th></th>\n",
       "      <th>id</th>\n",
       "      <th>label</th>\n",
       "      <th>pixel0</th>\n",
       "      <th>pixel1</th>\n",
       "      <th>pixel2</th>\n",
       "      <th>pixel3</th>\n",
       "      <th>pixel4</th>\n",
       "      <th>pixel5</th>\n",
       "      <th>pixel6</th>\n",
       "      <th>pixel7</th>\n",
       "      <th>pixel8</th>\n",
       "      <th>pixel9</th>\n",
       "      <th>pixel10</th>\n",
       "      <th>pixel11</th>\n",
       "      <th>pixel12</th>\n",
       "      <th>pixel13</th>\n",
       "      <th>pixel14</th>\n",
       "      <th>pixel15</th>\n",
       "      <th>pixel16</th>\n",
       "      <th>pixel17</th>\n",
       "      <th>pixel18</th>\n",
       "      <th>pixel19</th>\n",
       "      <th>pixel20</th>\n",
       "      <th>pixel21</th>\n",
       "      <th>pixel22</th>\n",
       "      <th>pixel23</th>\n",
       "      <th>pixel24</th>\n",
       "      <th>pixel25</th>\n",
       "      <th>pixel26</th>\n",
       "      <th>pixel27</th>\n",
       "      <th>pixel28</th>\n",
       "      <th>pixel29</th>\n",
       "      <th>pixel30</th>\n",
       "      <th>pixel31</th>\n",
       "      <th>pixel32</th>\n",
       "      <th>pixel33</th>\n",
       "      <th>pixel34</th>\n",
       "      <th>pixel35</th>\n",
       "      <th>pixel36</th>\n",
       "      <th>pixel37</th>\n",
       "      <th>...</th>\n",
       "      <th>pixel744</th>\n",
       "      <th>pixel745</th>\n",
       "      <th>pixel746</th>\n",
       "      <th>pixel747</th>\n",
       "      <th>pixel748</th>\n",
       "      <th>pixel749</th>\n",
       "      <th>pixel750</th>\n",
       "      <th>pixel751</th>\n",
       "      <th>pixel752</th>\n",
       "      <th>pixel753</th>\n",
       "      <th>pixel754</th>\n",
       "      <th>pixel755</th>\n",
       "      <th>pixel756</th>\n",
       "      <th>pixel757</th>\n",
       "      <th>pixel758</th>\n",
       "      <th>pixel759</th>\n",
       "      <th>pixel760</th>\n",
       "      <th>pixel761</th>\n",
       "      <th>pixel762</th>\n",
       "      <th>pixel763</th>\n",
       "      <th>pixel764</th>\n",
       "      <th>pixel765</th>\n",
       "      <th>pixel766</th>\n",
       "      <th>pixel767</th>\n",
       "      <th>pixel768</th>\n",
       "      <th>pixel769</th>\n",
       "      <th>pixel770</th>\n",
       "      <th>pixel771</th>\n",
       "      <th>pixel772</th>\n",
       "      <th>pixel773</th>\n",
       "      <th>pixel774</th>\n",
       "      <th>pixel775</th>\n",
       "      <th>pixel776</th>\n",
       "      <th>pixel777</th>\n",
       "      <th>pixel778</th>\n",
       "      <th>pixel779</th>\n",
       "      <th>pixel780</th>\n",
       "      <th>pixel781</th>\n",
       "      <th>pixel782</th>\n",
       "      <th>pixel783</th>\n",
       "    </tr>\n",
       "  </thead>\n",
       "  <tbody>\n",
       "    <tr>\n",
       "      <th>0</th>\n",
       "      <td>1</td>\n",
       "      <td>0</td>\n",
       "      <td>0</td>\n",
       "      <td>0</td>\n",
       "      <td>0</td>\n",
       "      <td>0</td>\n",
       "      <td>0</td>\n",
       "      <td>0</td>\n",
       "      <td>0</td>\n",
       "      <td>0</td>\n",
       "      <td>0</td>\n",
       "      <td>0</td>\n",
       "      <td>0</td>\n",
       "      <td>0</td>\n",
       "      <td>0</td>\n",
       "      <td>0</td>\n",
       "      <td>0</td>\n",
       "      <td>0</td>\n",
       "      <td>0</td>\n",
       "      <td>0</td>\n",
       "      <td>0</td>\n",
       "      <td>0</td>\n",
       "      <td>0</td>\n",
       "      <td>0</td>\n",
       "      <td>0</td>\n",
       "      <td>0</td>\n",
       "      <td>0</td>\n",
       "      <td>0</td>\n",
       "      <td>0</td>\n",
       "      <td>0</td>\n",
       "      <td>0</td>\n",
       "      <td>0</td>\n",
       "      <td>0</td>\n",
       "      <td>0</td>\n",
       "      <td>0</td>\n",
       "      <td>0</td>\n",
       "      <td>0</td>\n",
       "      <td>0</td>\n",
       "      <td>0</td>\n",
       "      <td>0</td>\n",
       "      <td>...</td>\n",
       "      <td>0</td>\n",
       "      <td>0</td>\n",
       "      <td>0</td>\n",
       "      <td>0</td>\n",
       "      <td>0</td>\n",
       "      <td>0</td>\n",
       "      <td>0</td>\n",
       "      <td>0</td>\n",
       "      <td>0</td>\n",
       "      <td>0</td>\n",
       "      <td>0</td>\n",
       "      <td>0</td>\n",
       "      <td>0</td>\n",
       "      <td>0</td>\n",
       "      <td>0</td>\n",
       "      <td>0</td>\n",
       "      <td>0</td>\n",
       "      <td>0</td>\n",
       "      <td>0</td>\n",
       "      <td>0</td>\n",
       "      <td>0</td>\n",
       "      <td>0</td>\n",
       "      <td>0</td>\n",
       "      <td>0</td>\n",
       "      <td>0</td>\n",
       "      <td>0</td>\n",
       "      <td>0</td>\n",
       "      <td>0</td>\n",
       "      <td>0</td>\n",
       "      <td>0</td>\n",
       "      <td>0</td>\n",
       "      <td>0</td>\n",
       "      <td>0</td>\n",
       "      <td>0</td>\n",
       "      <td>0</td>\n",
       "      <td>0</td>\n",
       "      <td>0</td>\n",
       "      <td>0</td>\n",
       "      <td>0</td>\n",
       "      <td>0</td>\n",
       "    </tr>\n",
       "    <tr>\n",
       "      <th>1</th>\n",
       "      <td>2</td>\n",
       "      <td>1</td>\n",
       "      <td>0</td>\n",
       "      <td>0</td>\n",
       "      <td>0</td>\n",
       "      <td>0</td>\n",
       "      <td>0</td>\n",
       "      <td>0</td>\n",
       "      <td>0</td>\n",
       "      <td>0</td>\n",
       "      <td>0</td>\n",
       "      <td>0</td>\n",
       "      <td>0</td>\n",
       "      <td>0</td>\n",
       "      <td>0</td>\n",
       "      <td>0</td>\n",
       "      <td>0</td>\n",
       "      <td>0</td>\n",
       "      <td>0</td>\n",
       "      <td>0</td>\n",
       "      <td>0</td>\n",
       "      <td>0</td>\n",
       "      <td>0</td>\n",
       "      <td>0</td>\n",
       "      <td>0</td>\n",
       "      <td>0</td>\n",
       "      <td>0</td>\n",
       "      <td>0</td>\n",
       "      <td>0</td>\n",
       "      <td>0</td>\n",
       "      <td>0</td>\n",
       "      <td>0</td>\n",
       "      <td>0</td>\n",
       "      <td>0</td>\n",
       "      <td>0</td>\n",
       "      <td>0</td>\n",
       "      <td>0</td>\n",
       "      <td>0</td>\n",
       "      <td>0</td>\n",
       "      <td>0</td>\n",
       "      <td>...</td>\n",
       "      <td>0</td>\n",
       "      <td>0</td>\n",
       "      <td>0</td>\n",
       "      <td>0</td>\n",
       "      <td>0</td>\n",
       "      <td>0</td>\n",
       "      <td>0</td>\n",
       "      <td>0</td>\n",
       "      <td>0</td>\n",
       "      <td>0</td>\n",
       "      <td>0</td>\n",
       "      <td>0</td>\n",
       "      <td>0</td>\n",
       "      <td>0</td>\n",
       "      <td>0</td>\n",
       "      <td>0</td>\n",
       "      <td>0</td>\n",
       "      <td>0</td>\n",
       "      <td>0</td>\n",
       "      <td>0</td>\n",
       "      <td>0</td>\n",
       "      <td>0</td>\n",
       "      <td>0</td>\n",
       "      <td>0</td>\n",
       "      <td>0</td>\n",
       "      <td>0</td>\n",
       "      <td>0</td>\n",
       "      <td>0</td>\n",
       "      <td>0</td>\n",
       "      <td>0</td>\n",
       "      <td>0</td>\n",
       "      <td>0</td>\n",
       "      <td>0</td>\n",
       "      <td>0</td>\n",
       "      <td>0</td>\n",
       "      <td>0</td>\n",
       "      <td>0</td>\n",
       "      <td>0</td>\n",
       "      <td>0</td>\n",
       "      <td>0</td>\n",
       "    </tr>\n",
       "    <tr>\n",
       "      <th>2</th>\n",
       "      <td>3</td>\n",
       "      <td>2</td>\n",
       "      <td>0</td>\n",
       "      <td>0</td>\n",
       "      <td>0</td>\n",
       "      <td>0</td>\n",
       "      <td>0</td>\n",
       "      <td>0</td>\n",
       "      <td>0</td>\n",
       "      <td>0</td>\n",
       "      <td>0</td>\n",
       "      <td>0</td>\n",
       "      <td>0</td>\n",
       "      <td>0</td>\n",
       "      <td>0</td>\n",
       "      <td>0</td>\n",
       "      <td>0</td>\n",
       "      <td>0</td>\n",
       "      <td>0</td>\n",
       "      <td>0</td>\n",
       "      <td>0</td>\n",
       "      <td>0</td>\n",
       "      <td>0</td>\n",
       "      <td>0</td>\n",
       "      <td>0</td>\n",
       "      <td>0</td>\n",
       "      <td>0</td>\n",
       "      <td>0</td>\n",
       "      <td>0</td>\n",
       "      <td>0</td>\n",
       "      <td>0</td>\n",
       "      <td>0</td>\n",
       "      <td>0</td>\n",
       "      <td>0</td>\n",
       "      <td>0</td>\n",
       "      <td>0</td>\n",
       "      <td>0</td>\n",
       "      <td>0</td>\n",
       "      <td>0</td>\n",
       "      <td>0</td>\n",
       "      <td>...</td>\n",
       "      <td>0</td>\n",
       "      <td>0</td>\n",
       "      <td>0</td>\n",
       "      <td>0</td>\n",
       "      <td>0</td>\n",
       "      <td>0</td>\n",
       "      <td>0</td>\n",
       "      <td>0</td>\n",
       "      <td>0</td>\n",
       "      <td>0</td>\n",
       "      <td>0</td>\n",
       "      <td>0</td>\n",
       "      <td>0</td>\n",
       "      <td>0</td>\n",
       "      <td>0</td>\n",
       "      <td>0</td>\n",
       "      <td>0</td>\n",
       "      <td>0</td>\n",
       "      <td>0</td>\n",
       "      <td>0</td>\n",
       "      <td>0</td>\n",
       "      <td>0</td>\n",
       "      <td>0</td>\n",
       "      <td>0</td>\n",
       "      <td>0</td>\n",
       "      <td>0</td>\n",
       "      <td>0</td>\n",
       "      <td>0</td>\n",
       "      <td>0</td>\n",
       "      <td>0</td>\n",
       "      <td>0</td>\n",
       "      <td>0</td>\n",
       "      <td>0</td>\n",
       "      <td>0</td>\n",
       "      <td>0</td>\n",
       "      <td>0</td>\n",
       "      <td>0</td>\n",
       "      <td>0</td>\n",
       "      <td>0</td>\n",
       "      <td>0</td>\n",
       "    </tr>\n",
       "    <tr>\n",
       "      <th>3</th>\n",
       "      <td>4</td>\n",
       "      <td>3</td>\n",
       "      <td>0</td>\n",
       "      <td>0</td>\n",
       "      <td>0</td>\n",
       "      <td>0</td>\n",
       "      <td>0</td>\n",
       "      <td>0</td>\n",
       "      <td>0</td>\n",
       "      <td>0</td>\n",
       "      <td>0</td>\n",
       "      <td>0</td>\n",
       "      <td>0</td>\n",
       "      <td>0</td>\n",
       "      <td>0</td>\n",
       "      <td>0</td>\n",
       "      <td>0</td>\n",
       "      <td>0</td>\n",
       "      <td>0</td>\n",
       "      <td>0</td>\n",
       "      <td>0</td>\n",
       "      <td>0</td>\n",
       "      <td>0</td>\n",
       "      <td>0</td>\n",
       "      <td>0</td>\n",
       "      <td>0</td>\n",
       "      <td>0</td>\n",
       "      <td>0</td>\n",
       "      <td>0</td>\n",
       "      <td>0</td>\n",
       "      <td>0</td>\n",
       "      <td>0</td>\n",
       "      <td>0</td>\n",
       "      <td>0</td>\n",
       "      <td>0</td>\n",
       "      <td>0</td>\n",
       "      <td>0</td>\n",
       "      <td>0</td>\n",
       "      <td>0</td>\n",
       "      <td>0</td>\n",
       "      <td>...</td>\n",
       "      <td>0</td>\n",
       "      <td>0</td>\n",
       "      <td>0</td>\n",
       "      <td>0</td>\n",
       "      <td>0</td>\n",
       "      <td>0</td>\n",
       "      <td>0</td>\n",
       "      <td>0</td>\n",
       "      <td>0</td>\n",
       "      <td>0</td>\n",
       "      <td>0</td>\n",
       "      <td>0</td>\n",
       "      <td>0</td>\n",
       "      <td>0</td>\n",
       "      <td>0</td>\n",
       "      <td>0</td>\n",
       "      <td>0</td>\n",
       "      <td>0</td>\n",
       "      <td>0</td>\n",
       "      <td>0</td>\n",
       "      <td>0</td>\n",
       "      <td>0</td>\n",
       "      <td>0</td>\n",
       "      <td>0</td>\n",
       "      <td>0</td>\n",
       "      <td>0</td>\n",
       "      <td>0</td>\n",
       "      <td>0</td>\n",
       "      <td>0</td>\n",
       "      <td>0</td>\n",
       "      <td>0</td>\n",
       "      <td>0</td>\n",
       "      <td>0</td>\n",
       "      <td>0</td>\n",
       "      <td>0</td>\n",
       "      <td>0</td>\n",
       "      <td>0</td>\n",
       "      <td>0</td>\n",
       "      <td>0</td>\n",
       "      <td>0</td>\n",
       "    </tr>\n",
       "    <tr>\n",
       "      <th>4</th>\n",
       "      <td>5</td>\n",
       "      <td>4</td>\n",
       "      <td>0</td>\n",
       "      <td>0</td>\n",
       "      <td>0</td>\n",
       "      <td>0</td>\n",
       "      <td>0</td>\n",
       "      <td>0</td>\n",
       "      <td>0</td>\n",
       "      <td>0</td>\n",
       "      <td>0</td>\n",
       "      <td>0</td>\n",
       "      <td>0</td>\n",
       "      <td>0</td>\n",
       "      <td>0</td>\n",
       "      <td>0</td>\n",
       "      <td>0</td>\n",
       "      <td>0</td>\n",
       "      <td>0</td>\n",
       "      <td>0</td>\n",
       "      <td>0</td>\n",
       "      <td>0</td>\n",
       "      <td>0</td>\n",
       "      <td>0</td>\n",
       "      <td>0</td>\n",
       "      <td>0</td>\n",
       "      <td>0</td>\n",
       "      <td>0</td>\n",
       "      <td>0</td>\n",
       "      <td>0</td>\n",
       "      <td>0</td>\n",
       "      <td>0</td>\n",
       "      <td>0</td>\n",
       "      <td>0</td>\n",
       "      <td>0</td>\n",
       "      <td>0</td>\n",
       "      <td>0</td>\n",
       "      <td>0</td>\n",
       "      <td>0</td>\n",
       "      <td>0</td>\n",
       "      <td>...</td>\n",
       "      <td>0</td>\n",
       "      <td>0</td>\n",
       "      <td>0</td>\n",
       "      <td>0</td>\n",
       "      <td>0</td>\n",
       "      <td>0</td>\n",
       "      <td>0</td>\n",
       "      <td>0</td>\n",
       "      <td>0</td>\n",
       "      <td>0</td>\n",
       "      <td>0</td>\n",
       "      <td>0</td>\n",
       "      <td>0</td>\n",
       "      <td>0</td>\n",
       "      <td>0</td>\n",
       "      <td>0</td>\n",
       "      <td>0</td>\n",
       "      <td>0</td>\n",
       "      <td>0</td>\n",
       "      <td>0</td>\n",
       "      <td>0</td>\n",
       "      <td>0</td>\n",
       "      <td>0</td>\n",
       "      <td>0</td>\n",
       "      <td>0</td>\n",
       "      <td>0</td>\n",
       "      <td>0</td>\n",
       "      <td>0</td>\n",
       "      <td>0</td>\n",
       "      <td>0</td>\n",
       "      <td>0</td>\n",
       "      <td>0</td>\n",
       "      <td>0</td>\n",
       "      <td>0</td>\n",
       "      <td>0</td>\n",
       "      <td>0</td>\n",
       "      <td>0</td>\n",
       "      <td>0</td>\n",
       "      <td>0</td>\n",
       "      <td>0</td>\n",
       "    </tr>\n",
       "    <tr>\n",
       "      <th>5</th>\n",
       "      <td>6</td>\n",
       "      <td>5</td>\n",
       "      <td>0</td>\n",
       "      <td>0</td>\n",
       "      <td>0</td>\n",
       "      <td>0</td>\n",
       "      <td>0</td>\n",
       "      <td>0</td>\n",
       "      <td>0</td>\n",
       "      <td>0</td>\n",
       "      <td>0</td>\n",
       "      <td>0</td>\n",
       "      <td>0</td>\n",
       "      <td>0</td>\n",
       "      <td>0</td>\n",
       "      <td>0</td>\n",
       "      <td>0</td>\n",
       "      <td>0</td>\n",
       "      <td>0</td>\n",
       "      <td>0</td>\n",
       "      <td>0</td>\n",
       "      <td>0</td>\n",
       "      <td>0</td>\n",
       "      <td>0</td>\n",
       "      <td>0</td>\n",
       "      <td>0</td>\n",
       "      <td>0</td>\n",
       "      <td>0</td>\n",
       "      <td>0</td>\n",
       "      <td>0</td>\n",
       "      <td>0</td>\n",
       "      <td>0</td>\n",
       "      <td>0</td>\n",
       "      <td>0</td>\n",
       "      <td>0</td>\n",
       "      <td>0</td>\n",
       "      <td>0</td>\n",
       "      <td>0</td>\n",
       "      <td>0</td>\n",
       "      <td>0</td>\n",
       "      <td>...</td>\n",
       "      <td>0</td>\n",
       "      <td>0</td>\n",
       "      <td>0</td>\n",
       "      <td>0</td>\n",
       "      <td>0</td>\n",
       "      <td>0</td>\n",
       "      <td>0</td>\n",
       "      <td>0</td>\n",
       "      <td>0</td>\n",
       "      <td>0</td>\n",
       "      <td>0</td>\n",
       "      <td>0</td>\n",
       "      <td>0</td>\n",
       "      <td>0</td>\n",
       "      <td>0</td>\n",
       "      <td>0</td>\n",
       "      <td>0</td>\n",
       "      <td>0</td>\n",
       "      <td>0</td>\n",
       "      <td>0</td>\n",
       "      <td>0</td>\n",
       "      <td>0</td>\n",
       "      <td>0</td>\n",
       "      <td>0</td>\n",
       "      <td>0</td>\n",
       "      <td>0</td>\n",
       "      <td>0</td>\n",
       "      <td>0</td>\n",
       "      <td>0</td>\n",
       "      <td>0</td>\n",
       "      <td>0</td>\n",
       "      <td>0</td>\n",
       "      <td>0</td>\n",
       "      <td>0</td>\n",
       "      <td>0</td>\n",
       "      <td>0</td>\n",
       "      <td>0</td>\n",
       "      <td>0</td>\n",
       "      <td>0</td>\n",
       "      <td>0</td>\n",
       "    </tr>\n",
       "    <tr>\n",
       "      <th>6</th>\n",
       "      <td>7</td>\n",
       "      <td>6</td>\n",
       "      <td>0</td>\n",
       "      <td>0</td>\n",
       "      <td>0</td>\n",
       "      <td>0</td>\n",
       "      <td>0</td>\n",
       "      <td>0</td>\n",
       "      <td>0</td>\n",
       "      <td>0</td>\n",
       "      <td>0</td>\n",
       "      <td>0</td>\n",
       "      <td>0</td>\n",
       "      <td>0</td>\n",
       "      <td>0</td>\n",
       "      <td>0</td>\n",
       "      <td>0</td>\n",
       "      <td>0</td>\n",
       "      <td>0</td>\n",
       "      <td>0</td>\n",
       "      <td>0</td>\n",
       "      <td>0</td>\n",
       "      <td>0</td>\n",
       "      <td>0</td>\n",
       "      <td>0</td>\n",
       "      <td>0</td>\n",
       "      <td>0</td>\n",
       "      <td>0</td>\n",
       "      <td>0</td>\n",
       "      <td>0</td>\n",
       "      <td>0</td>\n",
       "      <td>0</td>\n",
       "      <td>0</td>\n",
       "      <td>0</td>\n",
       "      <td>0</td>\n",
       "      <td>0</td>\n",
       "      <td>0</td>\n",
       "      <td>0</td>\n",
       "      <td>0</td>\n",
       "      <td>0</td>\n",
       "      <td>...</td>\n",
       "      <td>0</td>\n",
       "      <td>0</td>\n",
       "      <td>0</td>\n",
       "      <td>0</td>\n",
       "      <td>0</td>\n",
       "      <td>0</td>\n",
       "      <td>0</td>\n",
       "      <td>0</td>\n",
       "      <td>0</td>\n",
       "      <td>0</td>\n",
       "      <td>0</td>\n",
       "      <td>0</td>\n",
       "      <td>0</td>\n",
       "      <td>0</td>\n",
       "      <td>0</td>\n",
       "      <td>0</td>\n",
       "      <td>0</td>\n",
       "      <td>0</td>\n",
       "      <td>0</td>\n",
       "      <td>0</td>\n",
       "      <td>0</td>\n",
       "      <td>0</td>\n",
       "      <td>0</td>\n",
       "      <td>0</td>\n",
       "      <td>0</td>\n",
       "      <td>0</td>\n",
       "      <td>0</td>\n",
       "      <td>0</td>\n",
       "      <td>0</td>\n",
       "      <td>0</td>\n",
       "      <td>0</td>\n",
       "      <td>0</td>\n",
       "      <td>0</td>\n",
       "      <td>0</td>\n",
       "      <td>0</td>\n",
       "      <td>0</td>\n",
       "      <td>0</td>\n",
       "      <td>0</td>\n",
       "      <td>0</td>\n",
       "      <td>0</td>\n",
       "    </tr>\n",
       "    <tr>\n",
       "      <th>7</th>\n",
       "      <td>8</td>\n",
       "      <td>7</td>\n",
       "      <td>0</td>\n",
       "      <td>0</td>\n",
       "      <td>0</td>\n",
       "      <td>0</td>\n",
       "      <td>0</td>\n",
       "      <td>0</td>\n",
       "      <td>0</td>\n",
       "      <td>0</td>\n",
       "      <td>0</td>\n",
       "      <td>0</td>\n",
       "      <td>0</td>\n",
       "      <td>0</td>\n",
       "      <td>0</td>\n",
       "      <td>0</td>\n",
       "      <td>0</td>\n",
       "      <td>0</td>\n",
       "      <td>0</td>\n",
       "      <td>0</td>\n",
       "      <td>0</td>\n",
       "      <td>0</td>\n",
       "      <td>0</td>\n",
       "      <td>0</td>\n",
       "      <td>0</td>\n",
       "      <td>0</td>\n",
       "      <td>0</td>\n",
       "      <td>0</td>\n",
       "      <td>0</td>\n",
       "      <td>0</td>\n",
       "      <td>0</td>\n",
       "      <td>0</td>\n",
       "      <td>0</td>\n",
       "      <td>0</td>\n",
       "      <td>0</td>\n",
       "      <td>0</td>\n",
       "      <td>0</td>\n",
       "      <td>0</td>\n",
       "      <td>0</td>\n",
       "      <td>0</td>\n",
       "      <td>...</td>\n",
       "      <td>0</td>\n",
       "      <td>0</td>\n",
       "      <td>0</td>\n",
       "      <td>0</td>\n",
       "      <td>0</td>\n",
       "      <td>0</td>\n",
       "      <td>0</td>\n",
       "      <td>0</td>\n",
       "      <td>0</td>\n",
       "      <td>0</td>\n",
       "      <td>0</td>\n",
       "      <td>0</td>\n",
       "      <td>0</td>\n",
       "      <td>0</td>\n",
       "      <td>0</td>\n",
       "      <td>0</td>\n",
       "      <td>0</td>\n",
       "      <td>0</td>\n",
       "      <td>0</td>\n",
       "      <td>0</td>\n",
       "      <td>0</td>\n",
       "      <td>0</td>\n",
       "      <td>0</td>\n",
       "      <td>0</td>\n",
       "      <td>0</td>\n",
       "      <td>0</td>\n",
       "      <td>0</td>\n",
       "      <td>0</td>\n",
       "      <td>0</td>\n",
       "      <td>0</td>\n",
       "      <td>0</td>\n",
       "      <td>0</td>\n",
       "      <td>0</td>\n",
       "      <td>0</td>\n",
       "      <td>0</td>\n",
       "      <td>0</td>\n",
       "      <td>0</td>\n",
       "      <td>0</td>\n",
       "      <td>0</td>\n",
       "      <td>0</td>\n",
       "    </tr>\n",
       "    <tr>\n",
       "      <th>8</th>\n",
       "      <td>9</td>\n",
       "      <td>8</td>\n",
       "      <td>0</td>\n",
       "      <td>0</td>\n",
       "      <td>0</td>\n",
       "      <td>0</td>\n",
       "      <td>0</td>\n",
       "      <td>0</td>\n",
       "      <td>0</td>\n",
       "      <td>0</td>\n",
       "      <td>0</td>\n",
       "      <td>0</td>\n",
       "      <td>0</td>\n",
       "      <td>0</td>\n",
       "      <td>0</td>\n",
       "      <td>0</td>\n",
       "      <td>0</td>\n",
       "      <td>0</td>\n",
       "      <td>0</td>\n",
       "      <td>0</td>\n",
       "      <td>0</td>\n",
       "      <td>0</td>\n",
       "      <td>0</td>\n",
       "      <td>0</td>\n",
       "      <td>0</td>\n",
       "      <td>0</td>\n",
       "      <td>0</td>\n",
       "      <td>0</td>\n",
       "      <td>0</td>\n",
       "      <td>0</td>\n",
       "      <td>0</td>\n",
       "      <td>0</td>\n",
       "      <td>0</td>\n",
       "      <td>0</td>\n",
       "      <td>0</td>\n",
       "      <td>0</td>\n",
       "      <td>0</td>\n",
       "      <td>0</td>\n",
       "      <td>0</td>\n",
       "      <td>0</td>\n",
       "      <td>...</td>\n",
       "      <td>0</td>\n",
       "      <td>0</td>\n",
       "      <td>0</td>\n",
       "      <td>0</td>\n",
       "      <td>0</td>\n",
       "      <td>0</td>\n",
       "      <td>0</td>\n",
       "      <td>0</td>\n",
       "      <td>0</td>\n",
       "      <td>0</td>\n",
       "      <td>0</td>\n",
       "      <td>0</td>\n",
       "      <td>0</td>\n",
       "      <td>0</td>\n",
       "      <td>0</td>\n",
       "      <td>0</td>\n",
       "      <td>0</td>\n",
       "      <td>0</td>\n",
       "      <td>0</td>\n",
       "      <td>0</td>\n",
       "      <td>0</td>\n",
       "      <td>0</td>\n",
       "      <td>0</td>\n",
       "      <td>0</td>\n",
       "      <td>0</td>\n",
       "      <td>0</td>\n",
       "      <td>0</td>\n",
       "      <td>0</td>\n",
       "      <td>0</td>\n",
       "      <td>0</td>\n",
       "      <td>0</td>\n",
       "      <td>0</td>\n",
       "      <td>0</td>\n",
       "      <td>0</td>\n",
       "      <td>0</td>\n",
       "      <td>0</td>\n",
       "      <td>0</td>\n",
       "      <td>0</td>\n",
       "      <td>0</td>\n",
       "      <td>0</td>\n",
       "    </tr>\n",
       "    <tr>\n",
       "      <th>9</th>\n",
       "      <td>10</td>\n",
       "      <td>9</td>\n",
       "      <td>0</td>\n",
       "      <td>0</td>\n",
       "      <td>0</td>\n",
       "      <td>0</td>\n",
       "      <td>0</td>\n",
       "      <td>0</td>\n",
       "      <td>0</td>\n",
       "      <td>0</td>\n",
       "      <td>0</td>\n",
       "      <td>0</td>\n",
       "      <td>0</td>\n",
       "      <td>0</td>\n",
       "      <td>0</td>\n",
       "      <td>0</td>\n",
       "      <td>0</td>\n",
       "      <td>0</td>\n",
       "      <td>0</td>\n",
       "      <td>0</td>\n",
       "      <td>0</td>\n",
       "      <td>0</td>\n",
       "      <td>0</td>\n",
       "      <td>0</td>\n",
       "      <td>0</td>\n",
       "      <td>0</td>\n",
       "      <td>0</td>\n",
       "      <td>0</td>\n",
       "      <td>0</td>\n",
       "      <td>0</td>\n",
       "      <td>0</td>\n",
       "      <td>0</td>\n",
       "      <td>0</td>\n",
       "      <td>0</td>\n",
       "      <td>0</td>\n",
       "      <td>0</td>\n",
       "      <td>0</td>\n",
       "      <td>0</td>\n",
       "      <td>0</td>\n",
       "      <td>0</td>\n",
       "      <td>...</td>\n",
       "      <td>0</td>\n",
       "      <td>0</td>\n",
       "      <td>0</td>\n",
       "      <td>0</td>\n",
       "      <td>0</td>\n",
       "      <td>0</td>\n",
       "      <td>0</td>\n",
       "      <td>0</td>\n",
       "      <td>0</td>\n",
       "      <td>0</td>\n",
       "      <td>0</td>\n",
       "      <td>0</td>\n",
       "      <td>0</td>\n",
       "      <td>0</td>\n",
       "      <td>0</td>\n",
       "      <td>0</td>\n",
       "      <td>0</td>\n",
       "      <td>0</td>\n",
       "      <td>0</td>\n",
       "      <td>0</td>\n",
       "      <td>0</td>\n",
       "      <td>0</td>\n",
       "      <td>0</td>\n",
       "      <td>0</td>\n",
       "      <td>0</td>\n",
       "      <td>0</td>\n",
       "      <td>0</td>\n",
       "      <td>0</td>\n",
       "      <td>0</td>\n",
       "      <td>0</td>\n",
       "      <td>0</td>\n",
       "      <td>0</td>\n",
       "      <td>0</td>\n",
       "      <td>0</td>\n",
       "      <td>0</td>\n",
       "      <td>0</td>\n",
       "      <td>0</td>\n",
       "      <td>0</td>\n",
       "      <td>0</td>\n",
       "      <td>0</td>\n",
       "    </tr>\n",
       "  </tbody>\n",
       "</table>\n",
       "<p>10 rows × 786 columns</p>\n",
       "</div>"
      ],
      "text/plain": [
       "   id  label  pixel0  pixel1  ...  pixel780  pixel781  pixel782  pixel783\n",
       "0   1      0       0       0  ...         0         0         0         0\n",
       "1   2      1       0       0  ...         0         0         0         0\n",
       "2   3      2       0       0  ...         0         0         0         0\n",
       "3   4      3       0       0  ...         0         0         0         0\n",
       "4   5      4       0       0  ...         0         0         0         0\n",
       "5   6      5       0       0  ...         0         0         0         0\n",
       "6   7      6       0       0  ...         0         0         0         0\n",
       "7   8      7       0       0  ...         0         0         0         0\n",
       "8   9      8       0       0  ...         0         0         0         0\n",
       "9  10      9       0       0  ...         0         0         0         0\n",
       "\n",
       "[10 rows x 786 columns]"
      ]
     },
     "execution_count": 6,
     "metadata": {
      "tags": []
     },
     "output_type": "execute_result"
    }
   ],
   "source": [
    "# To show 10 first order of train dataset\n",
    "train.head(10)"
   ]
  },
  {
   "cell_type": "code",
   "execution_count": 0,
   "metadata": {
    "colab": {
     "base_uri": "https://localhost:8080/",
     "height": 34
    },
    "colab_type": "code",
    "collapsed": false,
    "id": "pMtXOJYmHNcW",
    "outputId": "ae5aa862-0e57-4309-cbe0-8fbf5973aa4d"
   },
   "outputs": [
    {
     "data": {
      "text/plain": [
       "(60000, 786)"
      ]
     },
     "execution_count": 7,
     "metadata": {
      "tags": []
     },
     "output_type": "execute_result"
    }
   ],
   "source": [
    "# Print shape of train set\n",
    "train.shape"
   ]
  },
  {
   "cell_type": "code",
   "execution_count": 0,
   "metadata": {
    "colab": {
     "base_uri": "https://localhost:8080/",
     "height": 104
    },
    "colab_type": "code",
    "collapsed": false,
    "id": "sXah6zzyHNcZ",
    "outputId": "1e4215d7-1f20-42e3-855a-8cbe5925e475"
   },
   "outputs": [
    {
     "name": "stdout",
     "output_type": "stream",
     "text": [
      "<class 'pandas.core.frame.DataFrame'>\n",
      "RangeIndex: 60000 entries, 0 to 59999\n",
      "Columns: 786 entries, id to pixel783\n",
      "dtypes: int64(786)\n",
      "memory usage: 359.8 MB\n"
     ]
    }
   ],
   "source": [
    "# To get Number of columns, Index, Datatype and Memory information\n",
    "train.info()"
   ]
  },
  {
   "cell_type": "code",
   "execution_count": 0,
   "metadata": {
    "colab": {
     "base_uri": "https://localhost:8080/",
     "height": 225
    },
    "colab_type": "code",
    "collapsed": false,
    "id": "nKCb_rTyHNcc",
    "outputId": "bb7b5c48-d0e5-4409-e103-de369a60c9af"
   },
   "outputs": [
    {
     "data": {
      "text/plain": [
       "id          0\n",
       "label       0\n",
       "pixel0      0\n",
       "pixel1      0\n",
       "pixel2      0\n",
       "           ..\n",
       "pixel779    0\n",
       "pixel780    0\n",
       "pixel781    0\n",
       "pixel782    0\n",
       "pixel783    0\n",
       "Length: 786, dtype: int64"
      ]
     },
     "execution_count": 9,
     "metadata": {
      "tags": []
     },
     "output_type": "execute_result"
    }
   ],
   "source": [
    "# To find and count 'NaN' in datasat\n",
    "train.isnull().sum()"
   ]
  },
  {
   "cell_type": "code",
   "execution_count": 0,
   "metadata": {
    "colab": {
     "base_uri": "https://localhost:8080/",
     "height": 412
    },
    "colab_type": "code",
    "collapsed": false,
    "id": "0Q7QiPB-pBE6",
    "outputId": "f774bfca-d59e-4f74-e701-9757a1f84d68"
   },
   "outputs": [
    {
     "data": {
      "text/html": [
       "<div>\n",
       "<style scoped>\n",
       "    .dataframe tbody tr th:only-of-type {\n",
       "        vertical-align: middle;\n",
       "    }\n",
       "\n",
       "    .dataframe tbody tr th {\n",
       "        vertical-align: top;\n",
       "    }\n",
       "\n",
       "    .dataframe thead th {\n",
       "        text-align: right;\n",
       "    }\n",
       "</style>\n",
       "<table border=\"1\" class=\"dataframe\">\n",
       "  <thead>\n",
       "    <tr style=\"text-align: right;\">\n",
       "      <th></th>\n",
       "      <th>id</th>\n",
       "      <th>pixel0</th>\n",
       "      <th>pixel1</th>\n",
       "      <th>pixel2</th>\n",
       "      <th>pixel3</th>\n",
       "      <th>pixel4</th>\n",
       "      <th>pixel5</th>\n",
       "      <th>pixel6</th>\n",
       "      <th>pixel7</th>\n",
       "      <th>pixel8</th>\n",
       "      <th>pixel9</th>\n",
       "      <th>pixel10</th>\n",
       "      <th>pixel11</th>\n",
       "      <th>pixel12</th>\n",
       "      <th>pixel13</th>\n",
       "      <th>pixel14</th>\n",
       "      <th>pixel15</th>\n",
       "      <th>pixel16</th>\n",
       "      <th>pixel17</th>\n",
       "      <th>pixel18</th>\n",
       "      <th>pixel19</th>\n",
       "      <th>pixel20</th>\n",
       "      <th>pixel21</th>\n",
       "      <th>pixel22</th>\n",
       "      <th>pixel23</th>\n",
       "      <th>pixel24</th>\n",
       "      <th>pixel25</th>\n",
       "      <th>pixel26</th>\n",
       "      <th>pixel27</th>\n",
       "      <th>pixel28</th>\n",
       "      <th>pixel29</th>\n",
       "      <th>pixel30</th>\n",
       "      <th>pixel31</th>\n",
       "      <th>pixel32</th>\n",
       "      <th>pixel33</th>\n",
       "      <th>pixel34</th>\n",
       "      <th>pixel35</th>\n",
       "      <th>pixel36</th>\n",
       "      <th>pixel37</th>\n",
       "      <th>pixel38</th>\n",
       "      <th>...</th>\n",
       "      <th>pixel744</th>\n",
       "      <th>pixel745</th>\n",
       "      <th>pixel746</th>\n",
       "      <th>pixel747</th>\n",
       "      <th>pixel748</th>\n",
       "      <th>pixel749</th>\n",
       "      <th>pixel750</th>\n",
       "      <th>pixel751</th>\n",
       "      <th>pixel752</th>\n",
       "      <th>pixel753</th>\n",
       "      <th>pixel754</th>\n",
       "      <th>pixel755</th>\n",
       "      <th>pixel756</th>\n",
       "      <th>pixel757</th>\n",
       "      <th>pixel758</th>\n",
       "      <th>pixel759</th>\n",
       "      <th>pixel760</th>\n",
       "      <th>pixel761</th>\n",
       "      <th>pixel762</th>\n",
       "      <th>pixel763</th>\n",
       "      <th>pixel764</th>\n",
       "      <th>pixel765</th>\n",
       "      <th>pixel766</th>\n",
       "      <th>pixel767</th>\n",
       "      <th>pixel768</th>\n",
       "      <th>pixel769</th>\n",
       "      <th>pixel770</th>\n",
       "      <th>pixel771</th>\n",
       "      <th>pixel772</th>\n",
       "      <th>pixel773</th>\n",
       "      <th>pixel774</th>\n",
       "      <th>pixel775</th>\n",
       "      <th>pixel776</th>\n",
       "      <th>pixel777</th>\n",
       "      <th>pixel778</th>\n",
       "      <th>pixel779</th>\n",
       "      <th>pixel780</th>\n",
       "      <th>pixel781</th>\n",
       "      <th>pixel782</th>\n",
       "      <th>pixel783</th>\n",
       "    </tr>\n",
       "  </thead>\n",
       "  <tbody>\n",
       "    <tr>\n",
       "      <th>0</th>\n",
       "      <td>60001</td>\n",
       "      <td>0</td>\n",
       "      <td>0</td>\n",
       "      <td>0</td>\n",
       "      <td>0</td>\n",
       "      <td>0</td>\n",
       "      <td>0</td>\n",
       "      <td>0</td>\n",
       "      <td>0</td>\n",
       "      <td>0</td>\n",
       "      <td>0</td>\n",
       "      <td>0</td>\n",
       "      <td>0</td>\n",
       "      <td>0</td>\n",
       "      <td>0</td>\n",
       "      <td>0</td>\n",
       "      <td>0</td>\n",
       "      <td>0</td>\n",
       "      <td>0</td>\n",
       "      <td>0</td>\n",
       "      <td>0</td>\n",
       "      <td>0</td>\n",
       "      <td>0</td>\n",
       "      <td>0</td>\n",
       "      <td>0</td>\n",
       "      <td>0</td>\n",
       "      <td>0</td>\n",
       "      <td>0</td>\n",
       "      <td>0</td>\n",
       "      <td>0</td>\n",
       "      <td>0</td>\n",
       "      <td>0</td>\n",
       "      <td>0</td>\n",
       "      <td>0</td>\n",
       "      <td>0</td>\n",
       "      <td>0</td>\n",
       "      <td>0</td>\n",
       "      <td>0</td>\n",
       "      <td>0</td>\n",
       "      <td>0</td>\n",
       "      <td>...</td>\n",
       "      <td>0</td>\n",
       "      <td>0</td>\n",
       "      <td>0</td>\n",
       "      <td>0</td>\n",
       "      <td>0</td>\n",
       "      <td>0</td>\n",
       "      <td>0</td>\n",
       "      <td>0</td>\n",
       "      <td>0</td>\n",
       "      <td>0</td>\n",
       "      <td>0</td>\n",
       "      <td>0</td>\n",
       "      <td>0</td>\n",
       "      <td>0</td>\n",
       "      <td>0</td>\n",
       "      <td>0</td>\n",
       "      <td>0</td>\n",
       "      <td>0</td>\n",
       "      <td>0</td>\n",
       "      <td>0</td>\n",
       "      <td>0</td>\n",
       "      <td>0</td>\n",
       "      <td>0</td>\n",
       "      <td>0</td>\n",
       "      <td>0</td>\n",
       "      <td>0</td>\n",
       "      <td>0</td>\n",
       "      <td>0</td>\n",
       "      <td>0</td>\n",
       "      <td>0</td>\n",
       "      <td>0</td>\n",
       "      <td>0</td>\n",
       "      <td>0</td>\n",
       "      <td>0</td>\n",
       "      <td>0</td>\n",
       "      <td>0</td>\n",
       "      <td>0</td>\n",
       "      <td>0</td>\n",
       "      <td>0</td>\n",
       "      <td>0</td>\n",
       "    </tr>\n",
       "    <tr>\n",
       "      <th>1</th>\n",
       "      <td>60002</td>\n",
       "      <td>0</td>\n",
       "      <td>0</td>\n",
       "      <td>0</td>\n",
       "      <td>0</td>\n",
       "      <td>0</td>\n",
       "      <td>0</td>\n",
       "      <td>0</td>\n",
       "      <td>0</td>\n",
       "      <td>0</td>\n",
       "      <td>0</td>\n",
       "      <td>0</td>\n",
       "      <td>0</td>\n",
       "      <td>0</td>\n",
       "      <td>0</td>\n",
       "      <td>0</td>\n",
       "      <td>0</td>\n",
       "      <td>0</td>\n",
       "      <td>0</td>\n",
       "      <td>0</td>\n",
       "      <td>0</td>\n",
       "      <td>0</td>\n",
       "      <td>0</td>\n",
       "      <td>0</td>\n",
       "      <td>0</td>\n",
       "      <td>0</td>\n",
       "      <td>0</td>\n",
       "      <td>0</td>\n",
       "      <td>0</td>\n",
       "      <td>0</td>\n",
       "      <td>0</td>\n",
       "      <td>0</td>\n",
       "      <td>0</td>\n",
       "      <td>0</td>\n",
       "      <td>0</td>\n",
       "      <td>0</td>\n",
       "      <td>0</td>\n",
       "      <td>0</td>\n",
       "      <td>0</td>\n",
       "      <td>0</td>\n",
       "      <td>...</td>\n",
       "      <td>0</td>\n",
       "      <td>0</td>\n",
       "      <td>0</td>\n",
       "      <td>0</td>\n",
       "      <td>0</td>\n",
       "      <td>0</td>\n",
       "      <td>0</td>\n",
       "      <td>0</td>\n",
       "      <td>0</td>\n",
       "      <td>0</td>\n",
       "      <td>0</td>\n",
       "      <td>0</td>\n",
       "      <td>0</td>\n",
       "      <td>0</td>\n",
       "      <td>0</td>\n",
       "      <td>0</td>\n",
       "      <td>0</td>\n",
       "      <td>0</td>\n",
       "      <td>0</td>\n",
       "      <td>0</td>\n",
       "      <td>0</td>\n",
       "      <td>0</td>\n",
       "      <td>0</td>\n",
       "      <td>0</td>\n",
       "      <td>0</td>\n",
       "      <td>0</td>\n",
       "      <td>0</td>\n",
       "      <td>0</td>\n",
       "      <td>0</td>\n",
       "      <td>0</td>\n",
       "      <td>0</td>\n",
       "      <td>0</td>\n",
       "      <td>0</td>\n",
       "      <td>0</td>\n",
       "      <td>0</td>\n",
       "      <td>0</td>\n",
       "      <td>0</td>\n",
       "      <td>0</td>\n",
       "      <td>0</td>\n",
       "      <td>0</td>\n",
       "    </tr>\n",
       "    <tr>\n",
       "      <th>2</th>\n",
       "      <td>60003</td>\n",
       "      <td>0</td>\n",
       "      <td>0</td>\n",
       "      <td>0</td>\n",
       "      <td>0</td>\n",
       "      <td>0</td>\n",
       "      <td>0</td>\n",
       "      <td>0</td>\n",
       "      <td>0</td>\n",
       "      <td>0</td>\n",
       "      <td>0</td>\n",
       "      <td>0</td>\n",
       "      <td>0</td>\n",
       "      <td>0</td>\n",
       "      <td>0</td>\n",
       "      <td>0</td>\n",
       "      <td>0</td>\n",
       "      <td>0</td>\n",
       "      <td>0</td>\n",
       "      <td>0</td>\n",
       "      <td>0</td>\n",
       "      <td>0</td>\n",
       "      <td>0</td>\n",
       "      <td>0</td>\n",
       "      <td>0</td>\n",
       "      <td>0</td>\n",
       "      <td>0</td>\n",
       "      <td>0</td>\n",
       "      <td>0</td>\n",
       "      <td>0</td>\n",
       "      <td>0</td>\n",
       "      <td>0</td>\n",
       "      <td>0</td>\n",
       "      <td>0</td>\n",
       "      <td>0</td>\n",
       "      <td>0</td>\n",
       "      <td>0</td>\n",
       "      <td>0</td>\n",
       "      <td>0</td>\n",
       "      <td>0</td>\n",
       "      <td>...</td>\n",
       "      <td>0</td>\n",
       "      <td>0</td>\n",
       "      <td>0</td>\n",
       "      <td>0</td>\n",
       "      <td>0</td>\n",
       "      <td>0</td>\n",
       "      <td>0</td>\n",
       "      <td>0</td>\n",
       "      <td>0</td>\n",
       "      <td>0</td>\n",
       "      <td>0</td>\n",
       "      <td>0</td>\n",
       "      <td>0</td>\n",
       "      <td>0</td>\n",
       "      <td>0</td>\n",
       "      <td>0</td>\n",
       "      <td>0</td>\n",
       "      <td>0</td>\n",
       "      <td>0</td>\n",
       "      <td>0</td>\n",
       "      <td>0</td>\n",
       "      <td>0</td>\n",
       "      <td>0</td>\n",
       "      <td>0</td>\n",
       "      <td>0</td>\n",
       "      <td>0</td>\n",
       "      <td>0</td>\n",
       "      <td>0</td>\n",
       "      <td>0</td>\n",
       "      <td>0</td>\n",
       "      <td>0</td>\n",
       "      <td>0</td>\n",
       "      <td>0</td>\n",
       "      <td>0</td>\n",
       "      <td>0</td>\n",
       "      <td>0</td>\n",
       "      <td>0</td>\n",
       "      <td>0</td>\n",
       "      <td>0</td>\n",
       "      <td>0</td>\n",
       "    </tr>\n",
       "    <tr>\n",
       "      <th>3</th>\n",
       "      <td>60004</td>\n",
       "      <td>0</td>\n",
       "      <td>0</td>\n",
       "      <td>0</td>\n",
       "      <td>0</td>\n",
       "      <td>0</td>\n",
       "      <td>0</td>\n",
       "      <td>0</td>\n",
       "      <td>0</td>\n",
       "      <td>0</td>\n",
       "      <td>0</td>\n",
       "      <td>0</td>\n",
       "      <td>0</td>\n",
       "      <td>0</td>\n",
       "      <td>0</td>\n",
       "      <td>0</td>\n",
       "      <td>0</td>\n",
       "      <td>0</td>\n",
       "      <td>0</td>\n",
       "      <td>0</td>\n",
       "      <td>0</td>\n",
       "      <td>0</td>\n",
       "      <td>0</td>\n",
       "      <td>0</td>\n",
       "      <td>0</td>\n",
       "      <td>0</td>\n",
       "      <td>0</td>\n",
       "      <td>0</td>\n",
       "      <td>0</td>\n",
       "      <td>0</td>\n",
       "      <td>0</td>\n",
       "      <td>0</td>\n",
       "      <td>0</td>\n",
       "      <td>0</td>\n",
       "      <td>0</td>\n",
       "      <td>0</td>\n",
       "      <td>0</td>\n",
       "      <td>0</td>\n",
       "      <td>0</td>\n",
       "      <td>0</td>\n",
       "      <td>...</td>\n",
       "      <td>0</td>\n",
       "      <td>0</td>\n",
       "      <td>0</td>\n",
       "      <td>0</td>\n",
       "      <td>0</td>\n",
       "      <td>0</td>\n",
       "      <td>0</td>\n",
       "      <td>0</td>\n",
       "      <td>0</td>\n",
       "      <td>0</td>\n",
       "      <td>0</td>\n",
       "      <td>0</td>\n",
       "      <td>0</td>\n",
       "      <td>0</td>\n",
       "      <td>0</td>\n",
       "      <td>0</td>\n",
       "      <td>0</td>\n",
       "      <td>0</td>\n",
       "      <td>0</td>\n",
       "      <td>0</td>\n",
       "      <td>0</td>\n",
       "      <td>0</td>\n",
       "      <td>0</td>\n",
       "      <td>0</td>\n",
       "      <td>0</td>\n",
       "      <td>0</td>\n",
       "      <td>0</td>\n",
       "      <td>0</td>\n",
       "      <td>0</td>\n",
       "      <td>0</td>\n",
       "      <td>0</td>\n",
       "      <td>0</td>\n",
       "      <td>0</td>\n",
       "      <td>0</td>\n",
       "      <td>0</td>\n",
       "      <td>0</td>\n",
       "      <td>0</td>\n",
       "      <td>0</td>\n",
       "      <td>0</td>\n",
       "      <td>0</td>\n",
       "    </tr>\n",
       "    <tr>\n",
       "      <th>4</th>\n",
       "      <td>60005</td>\n",
       "      <td>0</td>\n",
       "      <td>0</td>\n",
       "      <td>0</td>\n",
       "      <td>0</td>\n",
       "      <td>0</td>\n",
       "      <td>0</td>\n",
       "      <td>0</td>\n",
       "      <td>0</td>\n",
       "      <td>0</td>\n",
       "      <td>0</td>\n",
       "      <td>0</td>\n",
       "      <td>0</td>\n",
       "      <td>0</td>\n",
       "      <td>0</td>\n",
       "      <td>0</td>\n",
       "      <td>0</td>\n",
       "      <td>0</td>\n",
       "      <td>0</td>\n",
       "      <td>0</td>\n",
       "      <td>0</td>\n",
       "      <td>0</td>\n",
       "      <td>0</td>\n",
       "      <td>0</td>\n",
       "      <td>0</td>\n",
       "      <td>0</td>\n",
       "      <td>0</td>\n",
       "      <td>0</td>\n",
       "      <td>0</td>\n",
       "      <td>0</td>\n",
       "      <td>0</td>\n",
       "      <td>0</td>\n",
       "      <td>0</td>\n",
       "      <td>0</td>\n",
       "      <td>0</td>\n",
       "      <td>0</td>\n",
       "      <td>0</td>\n",
       "      <td>0</td>\n",
       "      <td>0</td>\n",
       "      <td>0</td>\n",
       "      <td>...</td>\n",
       "      <td>0</td>\n",
       "      <td>0</td>\n",
       "      <td>0</td>\n",
       "      <td>0</td>\n",
       "      <td>0</td>\n",
       "      <td>0</td>\n",
       "      <td>0</td>\n",
       "      <td>0</td>\n",
       "      <td>0</td>\n",
       "      <td>0</td>\n",
       "      <td>0</td>\n",
       "      <td>0</td>\n",
       "      <td>0</td>\n",
       "      <td>0</td>\n",
       "      <td>0</td>\n",
       "      <td>0</td>\n",
       "      <td>0</td>\n",
       "      <td>0</td>\n",
       "      <td>0</td>\n",
       "      <td>0</td>\n",
       "      <td>0</td>\n",
       "      <td>0</td>\n",
       "      <td>0</td>\n",
       "      <td>0</td>\n",
       "      <td>0</td>\n",
       "      <td>0</td>\n",
       "      <td>0</td>\n",
       "      <td>0</td>\n",
       "      <td>0</td>\n",
       "      <td>0</td>\n",
       "      <td>0</td>\n",
       "      <td>0</td>\n",
       "      <td>0</td>\n",
       "      <td>0</td>\n",
       "      <td>0</td>\n",
       "      <td>0</td>\n",
       "      <td>0</td>\n",
       "      <td>0</td>\n",
       "      <td>0</td>\n",
       "      <td>0</td>\n",
       "    </tr>\n",
       "    <tr>\n",
       "      <th>5</th>\n",
       "      <td>60006</td>\n",
       "      <td>0</td>\n",
       "      <td>0</td>\n",
       "      <td>0</td>\n",
       "      <td>0</td>\n",
       "      <td>0</td>\n",
       "      <td>0</td>\n",
       "      <td>0</td>\n",
       "      <td>0</td>\n",
       "      <td>0</td>\n",
       "      <td>0</td>\n",
       "      <td>0</td>\n",
       "      <td>0</td>\n",
       "      <td>0</td>\n",
       "      <td>0</td>\n",
       "      <td>0</td>\n",
       "      <td>0</td>\n",
       "      <td>0</td>\n",
       "      <td>0</td>\n",
       "      <td>0</td>\n",
       "      <td>0</td>\n",
       "      <td>0</td>\n",
       "      <td>0</td>\n",
       "      <td>0</td>\n",
       "      <td>0</td>\n",
       "      <td>0</td>\n",
       "      <td>0</td>\n",
       "      <td>0</td>\n",
       "      <td>0</td>\n",
       "      <td>0</td>\n",
       "      <td>0</td>\n",
       "      <td>0</td>\n",
       "      <td>0</td>\n",
       "      <td>0</td>\n",
       "      <td>0</td>\n",
       "      <td>0</td>\n",
       "      <td>0</td>\n",
       "      <td>0</td>\n",
       "      <td>0</td>\n",
       "      <td>0</td>\n",
       "      <td>...</td>\n",
       "      <td>0</td>\n",
       "      <td>0</td>\n",
       "      <td>0</td>\n",
       "      <td>0</td>\n",
       "      <td>0</td>\n",
       "      <td>0</td>\n",
       "      <td>0</td>\n",
       "      <td>0</td>\n",
       "      <td>0</td>\n",
       "      <td>0</td>\n",
       "      <td>0</td>\n",
       "      <td>0</td>\n",
       "      <td>0</td>\n",
       "      <td>0</td>\n",
       "      <td>0</td>\n",
       "      <td>0</td>\n",
       "      <td>0</td>\n",
       "      <td>0</td>\n",
       "      <td>0</td>\n",
       "      <td>0</td>\n",
       "      <td>0</td>\n",
       "      <td>0</td>\n",
       "      <td>0</td>\n",
       "      <td>0</td>\n",
       "      <td>0</td>\n",
       "      <td>0</td>\n",
       "      <td>0</td>\n",
       "      <td>0</td>\n",
       "      <td>0</td>\n",
       "      <td>0</td>\n",
       "      <td>0</td>\n",
       "      <td>0</td>\n",
       "      <td>0</td>\n",
       "      <td>0</td>\n",
       "      <td>0</td>\n",
       "      <td>0</td>\n",
       "      <td>0</td>\n",
       "      <td>0</td>\n",
       "      <td>0</td>\n",
       "      <td>0</td>\n",
       "    </tr>\n",
       "    <tr>\n",
       "      <th>6</th>\n",
       "      <td>60007</td>\n",
       "      <td>0</td>\n",
       "      <td>0</td>\n",
       "      <td>0</td>\n",
       "      <td>0</td>\n",
       "      <td>0</td>\n",
       "      <td>0</td>\n",
       "      <td>0</td>\n",
       "      <td>0</td>\n",
       "      <td>0</td>\n",
       "      <td>0</td>\n",
       "      <td>0</td>\n",
       "      <td>0</td>\n",
       "      <td>0</td>\n",
       "      <td>0</td>\n",
       "      <td>0</td>\n",
       "      <td>0</td>\n",
       "      <td>0</td>\n",
       "      <td>0</td>\n",
       "      <td>0</td>\n",
       "      <td>0</td>\n",
       "      <td>0</td>\n",
       "      <td>0</td>\n",
       "      <td>0</td>\n",
       "      <td>0</td>\n",
       "      <td>0</td>\n",
       "      <td>0</td>\n",
       "      <td>0</td>\n",
       "      <td>0</td>\n",
       "      <td>0</td>\n",
       "      <td>0</td>\n",
       "      <td>0</td>\n",
       "      <td>0</td>\n",
       "      <td>0</td>\n",
       "      <td>0</td>\n",
       "      <td>0</td>\n",
       "      <td>0</td>\n",
       "      <td>0</td>\n",
       "      <td>0</td>\n",
       "      <td>0</td>\n",
       "      <td>...</td>\n",
       "      <td>0</td>\n",
       "      <td>0</td>\n",
       "      <td>0</td>\n",
       "      <td>0</td>\n",
       "      <td>0</td>\n",
       "      <td>0</td>\n",
       "      <td>0</td>\n",
       "      <td>0</td>\n",
       "      <td>0</td>\n",
       "      <td>0</td>\n",
       "      <td>0</td>\n",
       "      <td>0</td>\n",
       "      <td>0</td>\n",
       "      <td>0</td>\n",
       "      <td>0</td>\n",
       "      <td>0</td>\n",
       "      <td>0</td>\n",
       "      <td>0</td>\n",
       "      <td>0</td>\n",
       "      <td>0</td>\n",
       "      <td>0</td>\n",
       "      <td>0</td>\n",
       "      <td>0</td>\n",
       "      <td>0</td>\n",
       "      <td>0</td>\n",
       "      <td>0</td>\n",
       "      <td>0</td>\n",
       "      <td>0</td>\n",
       "      <td>0</td>\n",
       "      <td>0</td>\n",
       "      <td>0</td>\n",
       "      <td>0</td>\n",
       "      <td>0</td>\n",
       "      <td>0</td>\n",
       "      <td>0</td>\n",
       "      <td>0</td>\n",
       "      <td>0</td>\n",
       "      <td>0</td>\n",
       "      <td>0</td>\n",
       "      <td>0</td>\n",
       "    </tr>\n",
       "    <tr>\n",
       "      <th>7</th>\n",
       "      <td>60008</td>\n",
       "      <td>0</td>\n",
       "      <td>0</td>\n",
       "      <td>0</td>\n",
       "      <td>0</td>\n",
       "      <td>0</td>\n",
       "      <td>0</td>\n",
       "      <td>0</td>\n",
       "      <td>0</td>\n",
       "      <td>0</td>\n",
       "      <td>0</td>\n",
       "      <td>0</td>\n",
       "      <td>0</td>\n",
       "      <td>0</td>\n",
       "      <td>0</td>\n",
       "      <td>0</td>\n",
       "      <td>0</td>\n",
       "      <td>0</td>\n",
       "      <td>0</td>\n",
       "      <td>0</td>\n",
       "      <td>0</td>\n",
       "      <td>0</td>\n",
       "      <td>0</td>\n",
       "      <td>0</td>\n",
       "      <td>0</td>\n",
       "      <td>0</td>\n",
       "      <td>0</td>\n",
       "      <td>0</td>\n",
       "      <td>0</td>\n",
       "      <td>0</td>\n",
       "      <td>0</td>\n",
       "      <td>0</td>\n",
       "      <td>0</td>\n",
       "      <td>0</td>\n",
       "      <td>0</td>\n",
       "      <td>0</td>\n",
       "      <td>0</td>\n",
       "      <td>0</td>\n",
       "      <td>0</td>\n",
       "      <td>0</td>\n",
       "      <td>...</td>\n",
       "      <td>0</td>\n",
       "      <td>0</td>\n",
       "      <td>0</td>\n",
       "      <td>0</td>\n",
       "      <td>0</td>\n",
       "      <td>0</td>\n",
       "      <td>0</td>\n",
       "      <td>0</td>\n",
       "      <td>0</td>\n",
       "      <td>0</td>\n",
       "      <td>0</td>\n",
       "      <td>0</td>\n",
       "      <td>0</td>\n",
       "      <td>0</td>\n",
       "      <td>0</td>\n",
       "      <td>0</td>\n",
       "      <td>0</td>\n",
       "      <td>0</td>\n",
       "      <td>0</td>\n",
       "      <td>0</td>\n",
       "      <td>0</td>\n",
       "      <td>0</td>\n",
       "      <td>0</td>\n",
       "      <td>0</td>\n",
       "      <td>0</td>\n",
       "      <td>0</td>\n",
       "      <td>0</td>\n",
       "      <td>0</td>\n",
       "      <td>0</td>\n",
       "      <td>0</td>\n",
       "      <td>0</td>\n",
       "      <td>0</td>\n",
       "      <td>0</td>\n",
       "      <td>0</td>\n",
       "      <td>0</td>\n",
       "      <td>0</td>\n",
       "      <td>0</td>\n",
       "      <td>0</td>\n",
       "      <td>0</td>\n",
       "      <td>0</td>\n",
       "    </tr>\n",
       "    <tr>\n",
       "      <th>8</th>\n",
       "      <td>60009</td>\n",
       "      <td>0</td>\n",
       "      <td>0</td>\n",
       "      <td>0</td>\n",
       "      <td>0</td>\n",
       "      <td>0</td>\n",
       "      <td>0</td>\n",
       "      <td>0</td>\n",
       "      <td>0</td>\n",
       "      <td>0</td>\n",
       "      <td>0</td>\n",
       "      <td>0</td>\n",
       "      <td>0</td>\n",
       "      <td>0</td>\n",
       "      <td>0</td>\n",
       "      <td>0</td>\n",
       "      <td>0</td>\n",
       "      <td>0</td>\n",
       "      <td>0</td>\n",
       "      <td>0</td>\n",
       "      <td>0</td>\n",
       "      <td>0</td>\n",
       "      <td>0</td>\n",
       "      <td>0</td>\n",
       "      <td>0</td>\n",
       "      <td>0</td>\n",
       "      <td>0</td>\n",
       "      <td>0</td>\n",
       "      <td>0</td>\n",
       "      <td>0</td>\n",
       "      <td>0</td>\n",
       "      <td>0</td>\n",
       "      <td>0</td>\n",
       "      <td>0</td>\n",
       "      <td>0</td>\n",
       "      <td>0</td>\n",
       "      <td>0</td>\n",
       "      <td>0</td>\n",
       "      <td>0</td>\n",
       "      <td>0</td>\n",
       "      <td>...</td>\n",
       "      <td>0</td>\n",
       "      <td>0</td>\n",
       "      <td>0</td>\n",
       "      <td>0</td>\n",
       "      <td>0</td>\n",
       "      <td>0</td>\n",
       "      <td>0</td>\n",
       "      <td>0</td>\n",
       "      <td>0</td>\n",
       "      <td>0</td>\n",
       "      <td>0</td>\n",
       "      <td>0</td>\n",
       "      <td>0</td>\n",
       "      <td>0</td>\n",
       "      <td>0</td>\n",
       "      <td>0</td>\n",
       "      <td>0</td>\n",
       "      <td>0</td>\n",
       "      <td>0</td>\n",
       "      <td>0</td>\n",
       "      <td>0</td>\n",
       "      <td>0</td>\n",
       "      <td>0</td>\n",
       "      <td>0</td>\n",
       "      <td>0</td>\n",
       "      <td>0</td>\n",
       "      <td>0</td>\n",
       "      <td>0</td>\n",
       "      <td>0</td>\n",
       "      <td>0</td>\n",
       "      <td>0</td>\n",
       "      <td>0</td>\n",
       "      <td>0</td>\n",
       "      <td>0</td>\n",
       "      <td>0</td>\n",
       "      <td>0</td>\n",
       "      <td>0</td>\n",
       "      <td>0</td>\n",
       "      <td>0</td>\n",
       "      <td>0</td>\n",
       "    </tr>\n",
       "    <tr>\n",
       "      <th>9</th>\n",
       "      <td>60010</td>\n",
       "      <td>0</td>\n",
       "      <td>0</td>\n",
       "      <td>0</td>\n",
       "      <td>0</td>\n",
       "      <td>0</td>\n",
       "      <td>0</td>\n",
       "      <td>0</td>\n",
       "      <td>0</td>\n",
       "      <td>0</td>\n",
       "      <td>0</td>\n",
       "      <td>0</td>\n",
       "      <td>0</td>\n",
       "      <td>0</td>\n",
       "      <td>0</td>\n",
       "      <td>0</td>\n",
       "      <td>0</td>\n",
       "      <td>0</td>\n",
       "      <td>0</td>\n",
       "      <td>0</td>\n",
       "      <td>0</td>\n",
       "      <td>0</td>\n",
       "      <td>0</td>\n",
       "      <td>0</td>\n",
       "      <td>0</td>\n",
       "      <td>0</td>\n",
       "      <td>0</td>\n",
       "      <td>0</td>\n",
       "      <td>0</td>\n",
       "      <td>0</td>\n",
       "      <td>0</td>\n",
       "      <td>0</td>\n",
       "      <td>0</td>\n",
       "      <td>0</td>\n",
       "      <td>0</td>\n",
       "      <td>0</td>\n",
       "      <td>0</td>\n",
       "      <td>0</td>\n",
       "      <td>0</td>\n",
       "      <td>0</td>\n",
       "      <td>...</td>\n",
       "      <td>0</td>\n",
       "      <td>0</td>\n",
       "      <td>0</td>\n",
       "      <td>0</td>\n",
       "      <td>0</td>\n",
       "      <td>0</td>\n",
       "      <td>0</td>\n",
       "      <td>0</td>\n",
       "      <td>0</td>\n",
       "      <td>0</td>\n",
       "      <td>0</td>\n",
       "      <td>0</td>\n",
       "      <td>0</td>\n",
       "      <td>0</td>\n",
       "      <td>0</td>\n",
       "      <td>0</td>\n",
       "      <td>0</td>\n",
       "      <td>0</td>\n",
       "      <td>0</td>\n",
       "      <td>0</td>\n",
       "      <td>0</td>\n",
       "      <td>0</td>\n",
       "      <td>0</td>\n",
       "      <td>0</td>\n",
       "      <td>0</td>\n",
       "      <td>0</td>\n",
       "      <td>0</td>\n",
       "      <td>0</td>\n",
       "      <td>0</td>\n",
       "      <td>0</td>\n",
       "      <td>0</td>\n",
       "      <td>0</td>\n",
       "      <td>0</td>\n",
       "      <td>0</td>\n",
       "      <td>0</td>\n",
       "      <td>0</td>\n",
       "      <td>0</td>\n",
       "      <td>0</td>\n",
       "      <td>0</td>\n",
       "      <td>0</td>\n",
       "    </tr>\n",
       "  </tbody>\n",
       "</table>\n",
       "<p>10 rows × 785 columns</p>\n",
       "</div>"
      ],
      "text/plain": [
       "      id  pixel0  pixel1  pixel2  ...  pixel780  pixel781  pixel782  pixel783\n",
       "0  60001       0       0       0  ...         0         0         0         0\n",
       "1  60002       0       0       0  ...         0         0         0         0\n",
       "2  60003       0       0       0  ...         0         0         0         0\n",
       "3  60004       0       0       0  ...         0         0         0         0\n",
       "4  60005       0       0       0  ...         0         0         0         0\n",
       "5  60006       0       0       0  ...         0         0         0         0\n",
       "6  60007       0       0       0  ...         0         0         0         0\n",
       "7  60008       0       0       0  ...         0         0         0         0\n",
       "8  60009       0       0       0  ...         0         0         0         0\n",
       "9  60010       0       0       0  ...         0         0         0         0\n",
       "\n",
       "[10 rows x 785 columns]"
      ]
     },
     "execution_count": 10,
     "metadata": {
      "tags": []
     },
     "output_type": "execute_result"
    }
   ],
   "source": [
    "# To show 10 first order of test dataset\n",
    "test.head(10)"
   ]
  },
  {
   "cell_type": "code",
   "execution_count": 0,
   "metadata": {
    "colab": {
     "base_uri": "https://localhost:8080/",
     "height": 34
    },
    "colab_type": "code",
    "collapsed": false,
    "id": "4Ma4hDCWHNcm",
    "outputId": "5e00f842-0714-43cd-ef5e-7d96ebd46aa2"
   },
   "outputs": [
    {
     "data": {
      "text/plain": [
       "(10000, 785)"
      ]
     },
     "execution_count": 11,
     "metadata": {
      "tags": []
     },
     "output_type": "execute_result"
    }
   ],
   "source": [
    "# Print shape of test set\n",
    "test.shape"
   ]
  },
  {
   "cell_type": "code",
   "execution_count": 0,
   "metadata": {
    "colab": {
     "base_uri": "https://localhost:8080/",
     "height": 104
    },
    "colab_type": "code",
    "collapsed": false,
    "id": "pkZqYvpQHNcp",
    "outputId": "70ee1d0e-cc5a-4bcd-eb28-d786ea0663a7"
   },
   "outputs": [
    {
     "name": "stdout",
     "output_type": "stream",
     "text": [
      "<class 'pandas.core.frame.DataFrame'>\n",
      "RangeIndex: 10000 entries, 0 to 9999\n",
      "Columns: 785 entries, id to pixel783\n",
      "dtypes: int64(785)\n",
      "memory usage: 59.9 MB\n"
     ]
    }
   ],
   "source": [
    "# To get Number of columns, Index, Datatype and Memory information\n",
    "test.info()"
   ]
  },
  {
   "cell_type": "code",
   "execution_count": 0,
   "metadata": {
    "colab": {
     "base_uri": "https://localhost:8080/",
     "height": 225
    },
    "colab_type": "code",
    "collapsed": false,
    "id": "l4RpJ9NFHNcr",
    "outputId": "3905a5ea-56c0-435a-afb6-08ff1e6d5f3a"
   },
   "outputs": [
    {
     "data": {
      "text/plain": [
       "id          0\n",
       "pixel0      0\n",
       "pixel1      0\n",
       "pixel2      0\n",
       "pixel3      0\n",
       "           ..\n",
       "pixel779    0\n",
       "pixel780    0\n",
       "pixel781    0\n",
       "pixel782    0\n",
       "pixel783    0\n",
       "Length: 785, dtype: int64"
      ]
     },
     "execution_count": 13,
     "metadata": {
      "tags": []
     },
     "output_type": "execute_result"
    }
   ],
   "source": [
    "# To find and count 'NaN' in datasat\n",
    "test.isnull().sum()"
   ]
  },
  {
   "cell_type": "markdown",
   "metadata": {
    "colab_type": "text",
    "id": "2y9jwSd8HNcx"
   },
   "source": [
    "#### **3.1.3 Reflection on Data Exploding**\n",
    "\n",
    "In this section, it can be seen that dataset is entirely perfect, which is not have any missing or non-null values. However, some of deep learning algorithms required input data as images format. Hence, the data should be prepared by reshaping shape for the next step."
   ]
  },
  {
   "cell_type": "markdown",
   "metadata": {
    "colab_type": "text",
    "id": "8DXRM-VBHNdO"
   },
   "source": [
    "## **3.2 Prepare the Data for Deep Learning Algorithms**"
   ]
  },
  {
   "cell_type": "markdown",
   "metadata": {
    "colab_type": "text",
    "id": "XYp88j7CHNdS"
   },
   "source": [
    "#### **3.2.1 Preparing Data**\n",
    "\n",
    "Some of the deep learning models required the MNIST dataset as 784 inputs; some required an images format as 28x28 pixels. Therefore, to segment train and test variables, they should be separated to segment the input data into the flattened data and image data."
   ]
  },
  {
   "cell_type": "markdown",
   "metadata": {
    "colab_type": "text",
    "id": "YYPqX-hAIyB6"
   },
   "source": [
    "##### **3.2.1.1 Input as flatten data**"
   ]
  },
  {
   "cell_type": "code",
   "execution_count": 0,
   "metadata": {
    "colab": {},
    "colab_type": "code",
    "collapsed": true,
    "id": "tjsFwXhOIyB7"
   },
   "outputs": [],
   "source": [
    "# Create a copy of data that does not affect to original trian and test set\n",
    "train_f = train.copy()\n",
    "test_f = test.copy()\n",
    "\n",
    "X_f = train_f.values[:,2:]            # Segment train output variables\n",
    "Y_f = train_f.loc[:,'label'].values   # Segment train input variables\n",
    "X_test_f = test_f.values[:,1:]        # Segment test input variables"
   ]
  },
  {
   "cell_type": "code",
   "execution_count": 0,
   "metadata": {
    "colab": {
     "base_uri": "https://localhost:8080/",
     "height": 52
    },
    "colab_type": "code",
    "collapsed": false,
    "id": "Krt9fI-hIyB8",
    "outputId": "d4d6c4c3-0a44-498b-8008-ebb15a5ebef6"
   },
   "outputs": [
    {
     "name": "stdout",
     "output_type": "stream",
     "text": [
      "(60000, 784)\n",
      "(10000, 784)\n"
     ]
    }
   ],
   "source": [
    "print(X_f.shape)\n",
    "print(X_test_f.shape)"
   ]
  },
  {
   "cell_type": "markdown",
   "metadata": {
    "colab_type": "text",
    "id": "4M2axaGCIyB-"
   },
   "source": [
    "##### **3.2.1.2 Input as image data**"
   ]
  },
  {
   "cell_type": "code",
   "execution_count": 0,
   "metadata": {
    "colab": {},
    "colab_type": "code",
    "collapsed": true,
    "id": "KK7D8KtHIyB-"
   },
   "outputs": [],
   "source": [
    "# Create a copy of data that does not affect to original trian and test set\n",
    "train_i = train.copy()\n",
    "test_i = test.copy()\n",
    "\n",
    "X_i = train_i.values[:,2:]            # Segment train output variables\n",
    "Y_i = train_i.loc[:,'label'].values   # Segment train input variables\n",
    "X_testing_i = test_i.values[:,1:]        # Segment test input variables"
   ]
  },
  {
   "cell_type": "code",
   "execution_count": 0,
   "metadata": {
    "colab": {
     "base_uri": "https://localhost:8080/",
     "height": 52
    },
    "colab_type": "code",
    "collapsed": false,
    "id": "tnidOw2vIyCA",
    "outputId": "f6af2c96-4a98-4410-f8c1-65ab7bc794ee"
   },
   "outputs": [
    {
     "name": "stdout",
     "output_type": "stream",
     "text": [
      "(60000, 784)\n",
      "(10000, 784)\n"
     ]
    }
   ],
   "source": [
    "print(X_i.shape)\n",
    "print(X_testing_i.shape)"
   ]
  },
  {
   "cell_type": "code",
   "execution_count": 0,
   "metadata": {
    "colab": {},
    "colab_type": "code",
    "collapsed": true,
    "id": "jPcc3O03IyCC"
   },
   "outputs": [],
   "source": [
    "X_i = np.array(X_i).reshape(60000,28, 28)\n",
    "X_testing_i = np.array(X_testing_i).reshape(10000,28, 28)"
   ]
  },
  {
   "cell_type": "code",
   "execution_count": 0,
   "metadata": {
    "colab": {
     "base_uri": "https://localhost:8080/",
     "height": 52
    },
    "colab_type": "code",
    "collapsed": false,
    "id": "TOeWnhPXIyCD",
    "outputId": "10422af3-d34b-48d2-fcb5-25c2c1f3e4bd",
    "scrolled": true
   },
   "outputs": [
    {
     "name": "stdout",
     "output_type": "stream",
     "text": [
      "(60000, 28, 28)\n",
      "(10000, 28, 28)\n"
     ]
    }
   ],
   "source": [
    "print(X_i.shape)\n",
    "print(X_testing_i.shape)"
   ]
  },
  {
   "cell_type": "markdown",
   "metadata": {
    "colab_type": "text",
    "id": "F16FZ-MVHNdP"
   },
   "source": [
    "#### **3.2.2 Spliting the train data and segment test data**\n",
    "\n",
    "According to the obstruction of the testing dataset, it has no target column of the label. Therefore, the training dataset has to be used as both training and testing. However, the evaluation of a model skill only the training dataset would result in a biased score. To avoid prediction bias of the dataset, it has to split into three datasets that are training, validation and testing set—starting from separate both datasets into training data and validation data as 70% and 30% respectively.\n",
    "\n",
    "- The training set is used for learning, that is to fit the parameters of the Classification.\n",
    "- The validation set is used to tune the parameters of the Classification.\n",
    "- The test set is used only to assess the performance of a fully-specified Classification."
   ]
  },
  {
   "cell_type": "code",
   "execution_count": 0,
   "metadata": {
    "colab": {},
    "colab_type": "code",
    "collapsed": true,
    "id": "aBeldFfwIyCF"
   },
   "outputs": [],
   "source": [
    "import sklearn   # import tools for machine learning and statistical modeling including classification, regression, clustering and dimensionality reduction\n",
    "from sklearn import model_selection, preprocessing  # import model selection and preprocessing\n",
    "from sklearn.preprocessing import scale  # import data normalise tool\n",
    "from sklearn.model_selection import train_test_split   # to divide dataset into train and test set"
   ]
  },
  {
   "cell_type": "markdown",
   "metadata": {
    "colab_type": "text",
    "id": "IeC60YXeIyCG"
   },
   "source": [
    "##### **3.2.2.1 Spliting for flatten data**"
   ]
  },
  {
   "cell_type": "code",
   "execution_count": 0,
   "metadata": {
    "colab": {},
    "colab_type": "code",
    "collapsed": true,
    "id": "QYaT3vIqHNdP"
   },
   "outputs": [],
   "source": [
    "# Spliting train and validation set into 70:30 ratio\n",
    "X_train_f, X_valid_f, Y_train_f, Y_valid_f = sklearn.model_selection.train_test_split(X_f, Y_f, test_size=0.30)"
   ]
  },
  {
   "cell_type": "markdown",
   "metadata": {
    "colab_type": "text",
    "id": "3vRRfEzYIyCH"
   },
   "source": [
    "##### **3.2.2.2 Spliting for image data**"
   ]
  },
  {
   "cell_type": "code",
   "execution_count": 0,
   "metadata": {
    "colab": {},
    "colab_type": "code",
    "collapsed": true,
    "id": "jaSKqxkHIyCI"
   },
   "outputs": [],
   "source": [
    "# Spliting train and validation set into 70:30 ratio\n",
    "X_train_i, X_valid_i, Y_train_i, Y_valid_i = sklearn.model_selection.train_test_split(X_i, Y_i, test_size=0.30)"
   ]
  },
  {
   "cell_type": "markdown",
   "metadata": {
    "colab_type": "text",
    "id": "V3gqQY_nIyCJ"
   },
   "source": [
    "#### **3.2.3 Normalising data**\n",
    "\n",
    "Using the MNIST dataset, the value of this dataset is between 0-255 (single grayscale). Therefore, for using the Gradient Descent, the datasets have to adjust values measured on different scales to a notionally standard scale. If not, this would produce math range errors with the sigmoid function as the data is more massive negative values would be produced on a later layer. This process is known as \"normalisation\". Furthermore, it adjusted a range of the pixel data into [0,1] by dividing by 255.0 before it input into algorithms, and also converts them to floats."
   ]
  },
  {
   "cell_type": "markdown",
   "metadata": {
    "colab_type": "text",
    "id": "hO7HBgpFIyCJ"
   },
   "source": [
    "##### **3.2.3.1 Normalisation flatten data**\n",
    "\n"
   ]
  },
  {
   "cell_type": "code",
   "execution_count": 0,
   "metadata": {
    "colab": {},
    "colab_type": "code",
    "collapsed": true,
    "id": "04nVNDzPIyCJ"
   },
   "outputs": [],
   "source": [
    "# Normalisation scale of X_train and X_valid\n",
    "X_train_f = X_train_f/255\n",
    "X_valid_f = X_valid_f/255\n",
    "Y_train_f = Y_train_f\n",
    "Y_valid_f = Y_valid_f"
   ]
  },
  {
   "cell_type": "code",
   "execution_count": 0,
   "metadata": {
    "colab": {
     "base_uri": "https://localhost:8080/",
     "height": 138
    },
    "colab_type": "code",
    "collapsed": false,
    "id": "vqt92W3dIyCL",
    "outputId": "10f9bb3b-6ca5-47dd-b2bc-7c34b0df8dec"
   },
   "outputs": [
    {
     "name": "stdout",
     "output_type": "stream",
     "text": [
      "Number of training examples = 784\n",
      "Number of test examples = 784\n",
      "X_train_f shape: (42000, 784)\n",
      "Y_train_f shape: (42000,)\n",
      "X_valid_f shape: (18000, 784)\n",
      "Y_valid_f shape: (18000,)\n",
      "X_test_f shape: (10000, 784)\n"
     ]
    }
   ],
   "source": [
    "# Re-ckeck shape again after Normalisation\n",
    "print (\"Number of training examples = \" + str(X_train_f.shape[1]))\n",
    "print (\"Number of test examples = \" + str(X_test_f.shape[1]))\n",
    "print (\"X_train_f shape: \" + str(X_train_f.shape))\n",
    "print (\"Y_train_f shape: \" + str(Y_train_f.shape))\n",
    "print (\"X_valid_f shape: \" + str(X_valid_f.shape))\n",
    "print (\"Y_valid_f shape: \" + str(Y_valid_f.shape))\n",
    "print (\"X_test_f shape: \" + str(X_test_f.shape))"
   ]
  },
  {
   "cell_type": "code",
   "execution_count": 0,
   "metadata": {
    "colab": {
     "base_uri": "https://localhost:8080/",
     "height": 104
    },
    "colab_type": "code",
    "collapsed": false,
    "id": "ZzvDtpT4IyCM",
    "outputId": "3156c632-a92d-44f4-8d2e-772892b2b44c"
   },
   "outputs": [
    {
     "name": "stdout",
     "output_type": "stream",
     "text": [
      "X_train_f dtype: float64\n",
      "Y_train_f dtype: int64\n",
      "X_valid_f dtype: float64\n",
      "Y_valid_f dtype: int64\n",
      "X_test_f dtype: int64\n"
     ]
    }
   ],
   "source": [
    "# Re-ckeck type again after Normalisation\n",
    "print (\"X_train_f dtype: \" + str(X_train_f.dtype))\n",
    "print (\"Y_train_f dtype: \" + str(Y_train_f.dtype))\n",
    "print (\"X_valid_f dtype: \" + str(X_valid_f.dtype))\n",
    "print (\"Y_valid_f dtype: \" + str(Y_valid_f.dtype))\n",
    "print (\"X_test_f dtype: \" + str(X_test_f.dtype))"
   ]
  },
  {
   "cell_type": "markdown",
   "metadata": {
    "colab_type": "text",
    "id": "cLrTVT4cIyCN"
   },
   "source": [
    "##### **3.2.3.2 Reshape and Normalisation image data**\n"
   ]
  },
  {
   "cell_type": "code",
   "execution_count": 0,
   "metadata": {
    "colab": {
     "base_uri": "https://localhost:8080/",
     "height": 86
    },
    "colab_type": "code",
    "collapsed": false,
    "id": "EL8kX577IyCO",
    "outputId": "2af0517b-de25-4edd-854f-df6572c7df1e"
   },
   "outputs": [
    {
     "name": "stdout",
     "output_type": "stream",
     "text": [
      "x_train shape: (42000, 28, 28, 1)\n",
      "42000 train samples\n",
      "18000 validation samples\n",
      "10000 test samples\n"
     ]
    }
   ],
   "source": [
    "img_rows, img_cols = X_i.shape[1], X_i.shape[1]\n",
    "\n",
    "# Reshape the image \n",
    "X_train_i = X_train_i.reshape(X_train_i.shape[0], img_rows, img_cols, 1)\n",
    "X_valid_i = X_valid_i.reshape(X_valid_i.shape[0], img_rows, img_cols, 1)\n",
    "X_test_i = X_testing_i.reshape(X_testing_i.shape[0], img_rows, img_cols, 1)\n",
    "input_shape = (img_rows, img_cols, 1)  \n",
    "\n",
    "X_train_i = X_train_i.astype('float32')\n",
    "X_valid_i = X_valid_i.astype('float32')\n",
    "X_test_i = X_test_i.astype('float32')\n",
    "\n",
    "# Normalisation scale of X_train and X_valid\n",
    "X_train_i = X_train_i/255\n",
    "X_valid_i = X_valid_i/255\n",
    "X_test_i = X_test_i/255\n",
    "Y_train_i = Y_train_i\n",
    "Y_valid_i = Y_valid_i\n",
    "print('x_train shape:', X_train_i.shape)\n",
    "print(X_train_i.shape[0], 'train samples')\n",
    "print(X_valid_i.shape[0], 'validation samples')\n",
    "print(X_test_i.shape[0], 'test samples')\n",
    "\n",
    "# convert class vectors to binary class matrices\n",
    "num_classes = 10\n",
    "Y_train_i = keras.utils.to_categorical(Y_train_i, num_classes)\n",
    "Y_valid_i = keras.utils.to_categorical(Y_valid_i, num_classes)"
   ]
  },
  {
   "cell_type": "code",
   "execution_count": 0,
   "metadata": {
    "colab": {
     "base_uri": "https://localhost:8080/",
     "height": 138
    },
    "colab_type": "code",
    "collapsed": false,
    "id": "3N8CA034IyCP",
    "outputId": "69d5cb95-8332-4468-ee90-805a7cf4ab46"
   },
   "outputs": [
    {
     "name": "stdout",
     "output_type": "stream",
     "text": [
      "Number of training examples = (28, 28)\n",
      "Number of test examples = (28, 28)\n",
      "X_train_i shape: (42000, 28, 28, 1)\n",
      "Y_train_i shape: (42000, 10)\n",
      "X_valid_i shape: (18000, 28, 28, 1)\n",
      "Y_valid_i shape: (18000, 10)\n",
      "X_test_i shape: (10000, 28, 28, 1)\n"
     ]
    }
   ],
   "source": [
    "# Re-ckeck shape again after Normalisation\n",
    "print (\"Number of training examples = \" + str(X_train_i.shape[1:3]))\n",
    "print (\"Number of test examples = \" + str(X_test_i.shape[1:3]))\n",
    "print (\"X_train_i shape: \" + str(X_train_i.shape))\n",
    "print (\"Y_train_i shape: \" + str(Y_train_i.shape))\n",
    "print (\"X_valid_i shape: \" + str(X_valid_i.shape))\n",
    "print (\"Y_valid_i shape: \" + str(Y_valid_i.shape))\n",
    "print (\"X_test_i shape: \" + str(X_test_i.shape))"
   ]
  },
  {
   "cell_type": "code",
   "execution_count": 0,
   "metadata": {
    "colab": {
     "base_uri": "https://localhost:8080/",
     "height": 104
    },
    "colab_type": "code",
    "collapsed": false,
    "id": "D1QxEFt1IyCQ",
    "outputId": "477cda65-1f7a-4ca9-94f7-8152bd63bcba"
   },
   "outputs": [
    {
     "name": "stdout",
     "output_type": "stream",
     "text": [
      "X_train_i dtype: float32\n",
      "Y_train_i dtype: float32\n",
      "X_valid_i dtype: float32\n",
      "Y_valid_i dtype: float32\n",
      "X_test_i dtype: float32\n"
     ]
    }
   ],
   "source": [
    "# Re-ckeck type again after Normalisation\n",
    "print (\"X_train_i dtype: \" + str(X_train_i.dtype))\n",
    "print (\"Y_train_i dtype: \" + str(Y_train_i.dtype))\n",
    "print (\"X_valid_i dtype: \" + str(X_valid_i.dtype))\n",
    "print (\"Y_valid_i dtype: \" + str(Y_valid_i.dtype))\n",
    "print (\"X_test_i dtype: \" + str(X_test_i.dtype))"
   ]
  },
  {
   "cell_type": "markdown",
   "metadata": {
    "colab_type": "text",
    "id": "iC7sXQUN1Nbq"
   },
   "source": [
    "#### **3.2.4 Showing image data**"
   ]
  },
  {
   "cell_type": "code",
   "execution_count": 0,
   "metadata": {
    "colab": {},
    "colab_type": "code",
    "collapsed": true,
    "id": "g-M3n4wlPYg5"
   },
   "outputs": [],
   "source": [
    "# Python 2D plotting library and it's numerical mathematics extension NumPy\n",
    "import matplotlib.pyplot as plt  "
   ]
  },
  {
   "cell_type": "code",
   "execution_count": 0,
   "metadata": {
    "colab": {
     "base_uri": "https://localhost:8080/",
     "height": 285
    },
    "colab_type": "code",
    "collapsed": false,
    "id": "POazwxia1MO5",
    "outputId": "3bd19f01-5e6a-4af8-c82c-ba4bcb7de0fe"
   },
   "outputs": [
    {
     "name": "stdout",
     "output_type": "stream",
     "text": [
      "(60000, 28, 28)\n"
     ]
    },
    {
     "data": {
      "image/png": "[encoded data removed]",
      "text/plain": [
       "<Figure size 432x288 with 4 Axes>"
      ]
     },
     "metadata": {
      "tags": []
     },
     "output_type": "display_data"
    }
   ],
   "source": [
    "print(X_i.shape)\n",
    "plt.subplot(221)\n",
    "plt.imshow(X_i[0], cmap=plt.get_cmap('gray'))\n",
    "plt.subplot(222)\n",
    "plt.imshow(X_i[1], cmap=plt.get_cmap('gray'))\n",
    "plt.subplot(223)\n",
    "plt.imshow(X_i[2], cmap=plt.get_cmap('gray'))\n",
    "plt.subplot(224)\n",
    "plt.imshow(X_i[3], cmap=plt.get_cmap('gray'))\n",
    "\n",
    "# show the plot\n",
    "plt.show()"
   ]
  },
  {
   "cell_type": "code",
   "execution_count": 0,
   "metadata": {
    "colab": {
     "base_uri": "https://localhost:8080/",
     "height": 285
    },
    "colab_type": "code",
    "collapsed": false,
    "id": "B3Ep_4MsLL_d",
    "outputId": "48387a4a-6fa0-47bf-a1f4-39f3c8aa31bd"
   },
   "outputs": [
    {
     "name": "stdout",
     "output_type": "stream",
     "text": [
      "(10000, 28, 28)\n"
     ]
    },
    {
     "data": {
      "image/png": "[encoded data removed]",
      "text/plain": [
       "<Figure size 432x288 with 4 Axes>"
      ]
     },
     "metadata": {
      "tags": []
     },
     "output_type": "display_data"
    }
   ],
   "source": [
    "import matplotlib.pyplot as plt   # Python 2D plotting library and it's numerical mathematics extension NumPy\n",
    "\n",
    "print(X_testing_i.shape)\n",
    "plt.subplot(221)\n",
    "plt.imshow(X_testing_i[0], cmap=plt.get_cmap('gray'))\n",
    "plt.subplot(222)\n",
    "plt.imshow(X_testing_i[1], cmap=plt.get_cmap('gray'))\n",
    "plt.subplot(223)\n",
    "plt.imshow(X_testing_i[2], cmap=plt.get_cmap('gray'))\n",
    "plt.subplot(224)\n",
    "plt.imshow(X_testing_i[3], cmap=plt.get_cmap('gray'))\n",
    "\n",
    "# show the plot\n",
    "plt.show()"
   ]
  },
  {
   "cell_type": "markdown",
   "metadata": {
    "colab_type": "text",
    "id": "1aPSUe0fIyCR"
   },
   "source": [
    "## **3.3 Deep Learning Analysis Models**"
   ]
  },
  {
   "cell_type": "markdown",
   "metadata": {
    "colab_type": "text",
    "id": "CTL50me91hzo"
   },
   "source": [
    "#### **3.3.1 Creating a Fully Connected Neural Network model**\n",
    "\n",
    "Firstly, we will start with a Fully Connected Neural Network model, which is the beginning choice to start implementing. Traditionally, the neural networks have three types of layer, which are input layer, hidden layer and output layer. For input layer, Fully Connected Neural Network have to input as a Flatten layer so that the input shape should be all columns in training dataset. Next layer is hidden layer. However, first thing to deal with these dense layers is to consider structure of each factor. There are two decisions, which are how many hidden layers actually to have in the neural networks and how many neurons would be in each of these layers.\n",
    "\n",
    "According to this, using too few neurons would result in the underfitting result. In the other hand, using too many neurons could result in an overfitting result or waste of time-consuming. Hence, before starting model, Heaton (2015) said that there are some rule-of-thumb methods for determining an adequate number of neurons in the hidden layers, which is better than trial and error from throwing a random number at the start modelling as the following:\n",
    "\n",
    "- The number of the hidden neurons should be between the size of input layer and the size of output layer.\n",
    "- The number of the hidden neurons should be two-thirds of the size of input layer, plus the size of output layer.\n",
    "- The number of the hidden neurons should be less than twice the size of input layer.\n",
    "\n",
    "\n",
    "In this project, the last rule-of-thumb methods are chosen, which provide less number of neurons and less running-time. Thus, the first hidden layer is set as 392 neurons. Furthermore, other hidden layers normally are added as half of the first hidden layer, which is 196 neurons until the last hidden layer.\n",
    "\n",
    "Moreover, using the \"Relu\" activation function to all of the hidden layers to avoid the Vanishing Gradients problem and to improve the flow of gradients through the model as well. The \"softmax\" activation function is a frequently appended to the last layer of an image classification, which can interpret the numeric output of the last hidden layer of multi-class classification into probabilities and guarantee that the output probabilities would be in a range of 0 and 1 and all sum up to 1 by taking the delegates of each output. Then, it will normalise each number by summing exponents so that all probabilities would be added up to one. Furthermore, this function could predict the class with the highest estimated probability and gives some perspective, which is suitable for interpreting probabilities for the categories.\n",
    "\n",
    "For compiling model, the loss functions and optimisers should also be considered. Referring to the project target, it is not a binary target so that using the sparse_categorical_crossentropy loss is better for integer targets. Moreover, the optimiser is the main approach used for training a model to minimise the error rate. There are two types of optimiser for making a decision. The first one is Stochastic Gradient Descent (SGD), which is the most common method used to optimise deep learning networks. Another one is the Adaptive Moment Estimation (Adam). It has a dynamic bound of the learning rate, which illustrates a faster convergence and better generalisation than SGD optimise. However, Adam does not always give better training performance in every solution. Therefore, this project would produce both optimisers in the difference epochs, then analyse the result in the further term."
   ]
  },
  {
   "cell_type": "markdown",
   "metadata": {
    "colab_type": "text",
    "id": "wZqLJn01IyCT"
   },
   "source": [
    "##### **3.3.1.1 Using Stochastic Gradient Descent (SGD) optimiser**"
   ]
  },
  {
   "cell_type": "code",
   "execution_count": 0,
   "metadata": {
    "colab": {},
    "colab_type": "code",
    "collapsed": true,
    "id": "ydbNMyE7IyCT"
   },
   "outputs": [],
   "source": [
    "# Create a copy of data that does not affect to original trian and test set\n",
    "X_train = X_train_f.copy()\n",
    "X_valid = X_valid_f.copy()\n",
    "Y_train = Y_train_f.copy()\n",
    "Y_valid = Y_valid_f.copy()\n",
    "X_test = X_test_f.copy()"
   ]
  },
  {
   "cell_type": "code",
   "execution_count": 0,
   "metadata": {
    "colab": {},
    "colab_type": "code",
    "collapsed": true,
    "id": "cKyB0RhhIyCU"
   },
   "outputs": [],
   "source": [
    "# Define keys factors\n",
    "image_size = X_train.shape[1]\n",
    "num_classes = 10                # Number of classification target"
   ]
  },
  {
   "cell_type": "code",
   "execution_count": 0,
   "metadata": {
    "colab": {
     "base_uri": "https://localhost:8080/",
     "height": 34
    },
    "colab_type": "code",
    "collapsed": false,
    "id": "LiX1UsEqIyC4",
    "outputId": "a303d4fa-e627-4a62-f977-e5a0c12e70f6"
   },
   "outputs": [
    {
     "name": "stderr",
     "output_type": "stream",
     "text": [
      "Using TensorFlow backend.\n"
     ]
    }
   ],
   "source": [
    "from keras.models import Sequential, load_model\n",
    "from keras.layers import Dense, Dropout, Flatten\n",
    "from keras.layers import Conv2D, MaxPooling2D\n",
    "from keras import backend as K"
   ]
  },
  {
   "cell_type": "code",
   "execution_count": 0,
   "metadata": {
    "colab": {},
    "colab_type": "code",
    "collapsed": true,
    "id": "rsjBBxsGPYhC"
   },
   "outputs": [],
   "source": [
    "# Perform input layer, hidden layer, and out put layer\n",
    "model = tf.keras.models.Sequential([\n",
    "    tf.keras.layers.Input(shape=image_size),                               \n",
    "    tf.keras.layers.Dense(units=392, activation='relu'),\n",
    "    tf.keras.layers.Dense(units=196, activation='relu'),\n",
    "    tf.keras.layers.Dense(units=196, activation='relu'),\n",
    "    tf.keras.layers.Dense(units=196, activation='relu'),\n",
    "    tf.keras.layers.Dense(units=196, activation='relu'),\n",
    "    tf.keras.layers.Dense(units=num_classes, activation = 'softmax')\n",
    "])"
   ]
  },
  {
   "cell_type": "code",
   "execution_count": 0,
   "metadata": {
    "colab": {
     "base_uri": "https://localhost:8080/",
     "height": 362
    },
    "colab_type": "code",
    "collapsed": false,
    "id": "yYMDytGmIyCW",
    "outputId": "c3ae5e4a-33a2-468c-8319-6d0337ae0df7",
    "scrolled": true
   },
   "outputs": [
    {
     "name": "stdout",
     "output_type": "stream",
     "text": [
      "Model: \"sequential\"\n",
      "_________________________________________________________________\n",
      "Layer (type)                 Output Shape              Param #   \n",
      "=================================================================\n",
      "dense (Dense)                (None, 392)               307720    \n",
      "_________________________________________________________________\n",
      "dense_1 (Dense)              (None, 196)               77028     \n",
      "_________________________________________________________________\n",
      "dense_2 (Dense)              (None, 196)               38612     \n",
      "_________________________________________________________________\n",
      "dense_3 (Dense)              (None, 196)               38612     \n",
      "_________________________________________________________________\n",
      "dense_4 (Dense)              (None, 196)               38612     \n",
      "_________________________________________________________________\n",
      "dense_5 (Dense)              (None, 10)                1970      \n",
      "=================================================================\n",
      "Total params: 502,554\n",
      "Trainable params: 502,554\n",
      "Non-trainable params: 0\n",
      "_________________________________________________________________\n"
     ]
    }
   ],
   "source": [
    "# Displays all model's layers\n",
    "model.summary()"
   ]
  },
  {
   "cell_type": "code",
   "execution_count": 0,
   "metadata": {
    "colab": {
     "base_uri": "https://localhost:8080/",
     "height": 120
    },
    "colab_type": "code",
    "collapsed": false,
    "id": "bnrl3IPJIyCY",
    "outputId": "6e5586e6-7483-475a-9082-c51196f8c30d",
    "scrolled": false
   },
   "outputs": [
    {
     "data": {
      "text/plain": [
       "[<tensorflow.python.keras.layers.core.Dense at 0x7fa21bfd17f0>,\n",
       " <tensorflow.python.keras.layers.core.Dense at 0x7fa21bf3b278>,\n",
       " <tensorflow.python.keras.layers.core.Dense at 0x7fa21bf3b748>,\n",
       " <tensorflow.python.keras.layers.core.Dense at 0x7fa21bf3b9b0>,\n",
       " <tensorflow.python.keras.layers.core.Dense at 0x7fa21bf3bc18>,\n",
       " <tensorflow.python.keras.layers.core.Dense at 0x7fa21bf3be80>]"
      ]
     },
     "execution_count": 39,
     "metadata": {
      "tags": []
     },
     "output_type": "execute_result"
    }
   ],
   "source": [
    "# Get a model's list of layers\n",
    "model.layers"
   ]
  },
  {
   "cell_type": "code",
   "execution_count": 0,
   "metadata": {
    "colab": {},
    "colab_type": "code",
    "collapsed": true,
    "id": "s5__052TIyCZ"
   },
   "outputs": [],
   "source": [
    "# Specify weights & biases of each layers\n",
    "weights_in, biases_in = model.layers[0].get_weights()\n",
    "weights_h1, biases_h1 = model.layers[1].get_weights()\n",
    "weights_h2, biases_h2 = model.layers[2].get_weights()\n",
    "weights_h3, biases_h3 = model.layers[3].get_weights()\n",
    "weights_h4, biases_h4 = model.layers[4].get_weights()\n",
    "weights_h5, biases_h5 = model.layers[5].get_weights()"
   ]
  },
  {
   "cell_type": "code",
   "execution_count": 0,
   "metadata": {
    "colab": {},
    "colab_type": "code",
    "collapsed": true,
    "id": "5k1pPFOiIyCa"
   },
   "outputs": [],
   "source": [
    "# Compiling the model by using SGD\n",
    "from tensorflow.keras.optimizers import RMSprop,Adam,Adadelta,SGD\n",
    "\n",
    "optimizer = SGD(learning_rate=0.01, momentum=0.0, nesterov=False)\n",
    "model.compile(loss='sparse_categorical_crossentropy', optimizer=optimizer, metrics=['accuracy'])"
   ]
  },
  {
   "cell_type": "markdown",
   "metadata": {
    "colab_type": "text",
    "id": "6GCtPK5jIyCc"
   },
   "source": [
    "##### ***Training the Model***\n",
    "\n",
    "The numbers of epochs are related to how diverse the dataset. As the number of epochs increases, more number of times the weight is changed, the curve could be interpreted as underfitting to optimal to overfitting curve. However, we will set high epochs of SGD at 160 as initial epochs."
   ]
  },
  {
   "cell_type": "code",
   "execution_count": 0,
   "metadata": {
    "colab": {
     "base_uri": "https://localhost:8080/",
     "height": 1000
    },
    "colab_type": "code",
    "collapsed": false,
    "id": "pCTeNI5lIyCc",
    "outputId": "a048b2b8-5f88-4a86-b5d4-cefc84f68531",
    "scrolled": true
   },
   "outputs": [
    {
     "name": "stdout",
     "output_type": "stream",
     "text": [
      "Epoch 1/160\n",
      "1313/1313 [==============================] - 4s 3ms/step - loss: 0.9264 - accuracy: 0.7342 - val_loss: 0.2657 - val_accuracy: 0.9227\n",
      "Epoch 2/160\n",
      "1313/1313 [==============================] - 4s 3ms/step - loss: 0.2317 - accuracy: 0.9324 - val_loss: 0.2188 - val_accuracy: 0.9360\n",
      "Epoch 3/160\n",
      "1313/1313 [==============================] - 4s 3ms/step - loss: 0.1821 - accuracy: 0.9483 - val_loss: 0.1796 - val_accuracy: 0.9493\n",
      "Epoch 4/160\n",
      "1313/1313 [==============================] - 4s 3ms/step - loss: 0.1516 - accuracy: 0.9580 - val_loss: 0.1727 - val_accuracy: 0.9506\n",
      "Epoch 5/160\n",
      "1313/1313 [==============================] - 4s 3ms/step - loss: 0.1302 - accuracy: 0.9629 - val_loss: 0.1605 - val_accuracy: 0.9547\n",
      "Epoch 6/160\n",
      "1313/1313 [==============================] - 4s 3ms/step - loss: 0.1109 - accuracy: 0.9688 - val_loss: 0.1497 - val_accuracy: 0.9561\n",
      "Epoch 7/160\n",
      "1313/1313 [==============================] - 4s 3ms/step - loss: 0.0949 - accuracy: 0.9741 - val_loss: 0.1416 - val_accuracy: 0.9592\n",
      "Epoch 8/160\n",
      "1313/1313 [==============================] - 4s 3ms/step - loss: 0.0819 - accuracy: 0.9770 - val_loss: 0.1367 - val_accuracy: 0.9617\n",
      "Epoch 9/160\n",
      "1313/1313 [==============================] - 4s 3ms/step - loss: 0.0704 - accuracy: 0.9808 - val_loss: 0.1267 - val_accuracy: 0.9636\n",
      "Epoch 10/160\n",
      "1313/1313 [==============================] - 4s 3ms/step - loss: 0.0599 - accuracy: 0.9838 - val_loss: 0.1266 - val_accuracy: 0.9642\n",
      "Epoch 11/160\n",
      "1313/1313 [==============================] - 4s 3ms/step - loss: 0.0523 - accuracy: 0.9859 - val_loss: 0.1237 - val_accuracy: 0.9658\n",
      "Epoch 12/160\n",
      "1313/1313 [==============================] - 4s 3ms/step - loss: 0.0443 - accuracy: 0.9882 - val_loss: 0.1191 - val_accuracy: 0.9676\n",
      "Epoch 13/160\n",
      "1313/1313 [==============================] - 4s 3ms/step - loss: 0.0370 - accuracy: 0.9911 - val_loss: 0.1163 - val_accuracy: 0.9679\n",
      "Epoch 14/160\n",
      "1313/1313 [==============================] - 4s 3ms/step - loss: 0.0320 - accuracy: 0.9922 - val_loss: 0.1175 - val_accuracy: 0.9681\n",
      "Epoch 15/160\n",
      "1313/1313 [==============================] - 4s 3ms/step - loss: 0.0271 - accuracy: 0.9932 - val_loss: 0.1214 - val_accuracy: 0.9678\n",
      "Epoch 16/160\n",
      "1313/1313 [==============================] - 4s 3ms/step - loss: 0.0220 - accuracy: 0.9949 - val_loss: 0.1225 - val_accuracy: 0.9674\n",
      "Epoch 17/160\n",
      "1313/1313 [==============================] - 4s 3ms/step - loss: 0.0189 - accuracy: 0.9959 - val_loss: 0.1224 - val_accuracy: 0.9697\n",
      "Epoch 18/160\n",
      "1313/1313 [==============================] - 4s 3ms/step - loss: 0.0153 - accuracy: 0.9970 - val_loss: 0.1230 - val_accuracy: 0.9694\n",
      "Epoch 19/160\n",
      "1313/1313 [==============================] - 4s 3ms/step - loss: 0.0127 - accuracy: 0.9978 - val_loss: 0.1577 - val_accuracy: 0.9636\n",
      "Epoch 20/160\n",
      "1313/1313 [==============================] - 4s 3ms/step - loss: 0.0107 - accuracy: 0.9980 - val_loss: 0.1281 - val_accuracy: 0.9698\n",
      "Epoch 21/160\n",
      "1313/1313 [==============================] - 4s 3ms/step - loss: 0.0082 - accuracy: 0.9987 - val_loss: 0.1338 - val_accuracy: 0.9692\n",
      "Epoch 22/160\n",
      "1313/1313 [==============================] - 4s 3ms/step - loss: 0.0067 - accuracy: 0.9990 - val_loss: 0.1370 - val_accuracy: 0.9698\n",
      "Epoch 23/160\n",
      "1313/1313 [==============================] - 4s 3ms/step - loss: 0.0056 - accuracy: 0.9992 - val_loss: 0.1366 - val_accuracy: 0.9707\n",
      "Epoch 24/160\n",
      "1313/1313 [==============================] - 4s 3ms/step - loss: 0.0045 - accuracy: 0.9995 - val_loss: 0.1400 - val_accuracy: 0.9699\n",
      "Epoch 25/160\n",
      "1313/1313 [==============================] - 4s 3ms/step - loss: 0.0038 - accuracy: 0.9997 - val_loss: 0.1400 - val_accuracy: 0.9707\n",
      "Epoch 26/160\n",
      "1313/1313 [==============================] - 4s 3ms/step - loss: 0.0029 - accuracy: 0.9998 - val_loss: 0.1438 - val_accuracy: 0.9695\n",
      "Epoch 27/160\n",
      "1313/1313 [==============================] - 4s 3ms/step - loss: 0.0025 - accuracy: 0.9999 - val_loss: 0.1460 - val_accuracy: 0.9704\n",
      "Epoch 28/160\n",
      "1313/1313 [==============================] - 4s 3ms/step - loss: 0.0023 - accuracy: 0.9999 - val_loss: 0.1476 - val_accuracy: 0.9698\n",
      "Epoch 29/160\n",
      "1313/1313 [==============================] - 4s 3ms/step - loss: 0.0018 - accuracy: 1.0000 - val_loss: 0.1504 - val_accuracy: 0.9698\n",
      "Epoch 30/160\n",
      "1313/1313 [==============================] - 4s 3ms/step - loss: 0.0016 - accuracy: 1.0000 - val_loss: 0.1508 - val_accuracy: 0.9697\n",
      "Epoch 31/160\n",
      "1313/1313 [==============================] - 4s 3ms/step - loss: 0.0014 - accuracy: 1.0000 - val_loss: 0.1524 - val_accuracy: 0.9697\n",
      "Epoch 32/160\n",
      "1313/1313 [==============================] - 4s 3ms/step - loss: 0.0013 - accuracy: 1.0000 - val_loss: 0.1538 - val_accuracy: 0.9701\n",
      "Epoch 33/160\n",
      "1313/1313 [==============================] - 4s 3ms/step - loss: 0.0012 - accuracy: 1.0000 - val_loss: 0.1567 - val_accuracy: 0.9696\n",
      "Epoch 34/160\n",
      "1313/1313 [==============================] - 4s 3ms/step - loss: 0.0010 - accuracy: 1.0000 - val_loss: 0.1578 - val_accuracy: 0.9701\n",
      "Epoch 35/160\n",
      "1313/1313 [==============================] - 4s 3ms/step - loss: 9.6583e-04 - accuracy: 1.0000 - val_loss: 0.1594 - val_accuracy: 0.9701\n",
      "Epoch 36/160\n",
      "1313/1313 [==============================] - 4s 3ms/step - loss: 8.9661e-04 - accuracy: 1.0000 - val_loss: 0.1600 - val_accuracy: 0.9700\n",
      "Epoch 37/160\n",
      "1313/1313 [==============================] - 4s 3ms/step - loss: 8.3302e-04 - accuracy: 1.0000 - val_loss: 0.1614 - val_accuracy: 0.9700\n",
      "Epoch 38/160\n",
      "1313/1313 [==============================] - 4s 3ms/step - loss: 7.6777e-04 - accuracy: 1.0000 - val_loss: 0.1624 - val_accuracy: 0.9696\n",
      "Epoch 39/160\n",
      "1313/1313 [==============================] - 4s 3ms/step - loss: 7.2550e-04 - accuracy: 1.0000 - val_loss: 0.1636 - val_accuracy: 0.9699\n",
      "Epoch 40/160\n",
      "1313/1313 [==============================] - 4s 3ms/step - loss: 6.7416e-04 - accuracy: 1.0000 - val_loss: 0.1645 - val_accuracy: 0.9699\n",
      "Epoch 41/160\n",
      "1313/1313 [==============================] - 4s 3ms/step - loss: 6.3640e-04 - accuracy: 1.0000 - val_loss: 0.1657 - val_accuracy: 0.9698\n",
      "Epoch 42/160\n",
      "1313/1313 [==============================] - 4s 3ms/step - loss: 6.0351e-04 - accuracy: 1.0000 - val_loss: 0.1669 - val_accuracy: 0.9698\n",
      "Epoch 43/160\n",
      "1313/1313 [==============================] - 4s 3ms/step - loss: 5.7021e-04 - accuracy: 1.0000 - val_loss: 0.1675 - val_accuracy: 0.9701\n",
      "Epoch 44/160\n",
      "1313/1313 [==============================] - 4s 3ms/step - loss: 5.3900e-04 - accuracy: 1.0000 - val_loss: 0.1684 - val_accuracy: 0.9699\n",
      "Epoch 45/160\n",
      "1313/1313 [==============================] - 4s 3ms/step - loss: 5.1196e-04 - accuracy: 1.0000 - val_loss: 0.1691 - val_accuracy: 0.9699\n",
      "Epoch 46/160\n",
      "1313/1313 [==============================] - 4s 3ms/step - loss: 4.8942e-04 - accuracy: 1.0000 - val_loss: 0.1697 - val_accuracy: 0.9698\n",
      "Epoch 47/160\n",
      "1313/1313 [==============================] - 4s 3ms/step - loss: 4.6755e-04 - accuracy: 1.0000 - val_loss: 0.1714 - val_accuracy: 0.9700\n",
      "Epoch 48/160\n",
      "1313/1313 [==============================] - 4s 3ms/step - loss: 4.4569e-04 - accuracy: 1.0000 - val_loss: 0.1723 - val_accuracy: 0.9698\n",
      "Epoch 49/160\n",
      "1313/1313 [==============================] - 4s 3ms/step - loss: 4.2475e-04 - accuracy: 1.0000 - val_loss: 0.1726 - val_accuracy: 0.9695\n",
      "Epoch 50/160\n",
      "1313/1313 [==============================] - 4s 3ms/step - loss: 4.0966e-04 - accuracy: 1.0000 - val_loss: 0.1736 - val_accuracy: 0.9698\n",
      "Epoch 51/160\n",
      "1313/1313 [==============================] - 4s 3ms/step - loss: 3.9191e-04 - accuracy: 1.0000 - val_loss: 0.1742 - val_accuracy: 0.9698\n",
      "Epoch 52/160\n",
      "1313/1313 [==============================] - 4s 3ms/step - loss: 3.7701e-04 - accuracy: 1.0000 - val_loss: 0.1746 - val_accuracy: 0.9697\n",
      "Epoch 53/160\n",
      "1313/1313 [==============================] - 4s 3ms/step - loss: 3.6195e-04 - accuracy: 1.0000 - val_loss: 0.1754 - val_accuracy: 0.9698\n",
      "Epoch 54/160\n",
      "1313/1313 [==============================] - 4s 3ms/step - loss: 3.4933e-04 - accuracy: 1.0000 - val_loss: 0.1761 - val_accuracy: 0.9696\n",
      "Epoch 55/160\n",
      "1313/1313 [==============================] - 4s 3ms/step - loss: 3.3675e-04 - accuracy: 1.0000 - val_loss: 0.1771 - val_accuracy: 0.9700\n",
      "Epoch 56/160\n",
      "1313/1313 [==============================] - 4s 3ms/step - loss: 3.2607e-04 - accuracy: 1.0000 - val_loss: 0.1771 - val_accuracy: 0.9698\n",
      "Epoch 57/160\n",
      "1313/1313 [==============================] - 4s 3ms/step - loss: 3.1412e-04 - accuracy: 1.0000 - val_loss: 0.1778 - val_accuracy: 0.9698\n",
      "Epoch 58/160\n",
      "1313/1313 [==============================] - 4s 3ms/step - loss: 3.0366e-04 - accuracy: 1.0000 - val_loss: 0.1792 - val_accuracy: 0.9701\n",
      "Epoch 59/160\n",
      "1313/1313 [==============================] - 4s 3ms/step - loss: 2.9446e-04 - accuracy: 1.0000 - val_loss: 0.1799 - val_accuracy: 0.9697\n",
      "Epoch 60/160\n",
      "1313/1313 [==============================] - 4s 3ms/step - loss: 2.8516e-04 - accuracy: 1.0000 - val_loss: 0.1798 - val_accuracy: 0.9696\n",
      "Epoch 61/160\n",
      "1313/1313 [==============================] - 4s 3ms/step - loss: 2.7577e-04 - accuracy: 1.0000 - val_loss: 0.1803 - val_accuracy: 0.9700\n",
      "Epoch 62/160\n",
      "1313/1313 [==============================] - 4s 3ms/step - loss: 2.6839e-04 - accuracy: 1.0000 - val_loss: 0.1814 - val_accuracy: 0.9697\n",
      "Epoch 63/160\n",
      "1313/1313 [==============================] - 4s 3ms/step - loss: 2.6036e-04 - accuracy: 1.0000 - val_loss: 0.1813 - val_accuracy: 0.9698\n",
      "Epoch 64/160\n",
      "1313/1313 [==============================] - 4s 3ms/step - loss: 2.5296e-04 - accuracy: 1.0000 - val_loss: 0.1818 - val_accuracy: 0.9699\n",
      "Epoch 65/160\n",
      "1313/1313 [==============================] - 4s 3ms/step - loss: 2.4595e-04 - accuracy: 1.0000 - val_loss: 0.1825 - val_accuracy: 0.9697\n",
      "Epoch 66/160\n",
      "1313/1313 [==============================] - 4s 3ms/step - loss: 2.3947e-04 - accuracy: 1.0000 - val_loss: 0.1831 - val_accuracy: 0.9697\n",
      "Epoch 67/160\n",
      "1313/1313 [==============================] - 4s 3ms/step - loss: 2.3229e-04 - accuracy: 1.0000 - val_loss: 0.1835 - val_accuracy: 0.9698\n",
      "Epoch 68/160\n",
      "1313/1313 [==============================] - 4s 3ms/step - loss: 2.2602e-04 - accuracy: 1.0000 - val_loss: 0.1839 - val_accuracy: 0.9698\n",
      "Epoch 69/160\n",
      "1313/1313 [==============================] - 4s 3ms/step - loss: 2.2067e-04 - accuracy: 1.0000 - val_loss: 0.1840 - val_accuracy: 0.9699\n",
      "Epoch 70/160\n",
      "1313/1313 [==============================] - 4s 3ms/step - loss: 2.1491e-04 - accuracy: 1.0000 - val_loss: 0.1849 - val_accuracy: 0.9701\n",
      "Epoch 71/160\n",
      "1313/1313 [==============================] - 4s 3ms/step - loss: 2.0983e-04 - accuracy: 1.0000 - val_loss: 0.1854 - val_accuracy: 0.9700\n",
      "Epoch 72/160\n",
      "1313/1313 [==============================] - 4s 3ms/step - loss: 2.0507e-04 - accuracy: 1.0000 - val_loss: 0.1855 - val_accuracy: 0.9698\n",
      "Epoch 73/160\n",
      "1313/1313 [==============================] - 4s 3ms/step - loss: 1.9943e-04 - accuracy: 1.0000 - val_loss: 0.1860 - val_accuracy: 0.9699\n",
      "Epoch 74/160\n",
      "1313/1313 [==============================] - 4s 3ms/step - loss: 1.9501e-04 - accuracy: 1.0000 - val_loss: 0.1865 - val_accuracy: 0.9697\n",
      "Epoch 75/160\n",
      "1313/1313 [==============================] - 4s 3ms/step - loss: 1.9041e-04 - accuracy: 1.0000 - val_loss: 0.1870 - val_accuracy: 0.9699\n",
      "Epoch 76/160\n",
      "1313/1313 [==============================] - 4s 3ms/step - loss: 1.8686e-04 - accuracy: 1.0000 - val_loss: 0.1874 - val_accuracy: 0.9697\n",
      "Epoch 77/160\n",
      "1313/1313 [==============================] - 4s 3ms/step - loss: 1.8214e-04 - accuracy: 1.0000 - val_loss: 0.1877 - val_accuracy: 0.9701\n",
      "Epoch 78/160\n",
      "1313/1313 [==============================] - 4s 3ms/step - loss: 1.7845e-04 - accuracy: 1.0000 - val_loss: 0.1882 - val_accuracy: 0.9698\n",
      "Epoch 79/160\n",
      "1313/1313 [==============================] - 4s 3ms/step - loss: 1.7414e-04 - accuracy: 1.0000 - val_loss: 0.1886 - val_accuracy: 0.9697\n",
      "Epoch 80/160\n",
      "1313/1313 [==============================] - 4s 3ms/step - loss: 1.7111e-04 - accuracy: 1.0000 - val_loss: 0.1890 - val_accuracy: 0.9698\n",
      "Epoch 81/160\n",
      "1313/1313 [==============================] - 4s 3ms/step - loss: 1.6756e-04 - accuracy: 1.0000 - val_loss: 0.1894 - val_accuracy: 0.9697\n",
      "Epoch 82/160\n",
      "1313/1313 [==============================] - 4s 3ms/step - loss: 1.6391e-04 - accuracy: 1.0000 - val_loss: 0.1899 - val_accuracy: 0.9698\n",
      "Epoch 83/160\n",
      "1313/1313 [==============================] - 4s 3ms/step - loss: 1.6066e-04 - accuracy: 1.0000 - val_loss: 0.1906 - val_accuracy: 0.9696\n",
      "Epoch 84/160\n",
      "1313/1313 [==============================] - 4s 3ms/step - loss: 1.5769e-04 - accuracy: 1.0000 - val_loss: 0.1903 - val_accuracy: 0.9699\n",
      "Epoch 85/160\n",
      "1313/1313 [==============================] - 4s 3ms/step - loss: 1.5443e-04 - accuracy: 1.0000 - val_loss: 0.1909 - val_accuracy: 0.9698\n",
      "Epoch 86/160\n",
      "1313/1313 [==============================] - 4s 3ms/step - loss: 1.5158e-04 - accuracy: 1.0000 - val_loss: 0.1914 - val_accuracy: 0.9698\n",
      "Epoch 87/160\n",
      "1313/1313 [==============================] - 4s 3ms/step - loss: 1.4859e-04 - accuracy: 1.0000 - val_loss: 0.1918 - val_accuracy: 0.9699\n",
      "Epoch 88/160\n",
      "1313/1313 [==============================] - 4s 3ms/step - loss: 1.4606e-04 - accuracy: 1.0000 - val_loss: 0.1921 - val_accuracy: 0.9696\n",
      "Epoch 89/160\n",
      "1313/1313 [==============================] - 4s 3ms/step - loss: 1.4336e-04 - accuracy: 1.0000 - val_loss: 0.1924 - val_accuracy: 0.9698\n",
      "Epoch 90/160\n",
      "1313/1313 [==============================] - 4s 3ms/step - loss: 1.4069e-04 - accuracy: 1.0000 - val_loss: 0.1927 - val_accuracy: 0.9699\n",
      "Epoch 91/160\n",
      "1313/1313 [==============================] - 4s 3ms/step - loss: 1.3815e-04 - accuracy: 1.0000 - val_loss: 0.1929 - val_accuracy: 0.9699\n",
      "Epoch 92/160\n",
      "1313/1313 [==============================] - 4s 3ms/step - loss: 1.3561e-04 - accuracy: 1.0000 - val_loss: 0.1933 - val_accuracy: 0.9698\n",
      "Epoch 93/160\n",
      "1313/1313 [==============================] - 4s 3ms/step - loss: 1.3319e-04 - accuracy: 1.0000 - val_loss: 0.1935 - val_accuracy: 0.9698\n",
      "Epoch 94/160\n",
      "1313/1313 [==============================] - 4s 3ms/step - loss: 1.3119e-04 - accuracy: 1.0000 - val_loss: 0.1940 - val_accuracy: 0.9698\n",
      "Epoch 95/160\n",
      "1313/1313 [==============================] - 4s 3ms/step - loss: 1.2882e-04 - accuracy: 1.0000 - val_loss: 0.1944 - val_accuracy: 0.9697\n",
      "Epoch 96/160\n",
      "1313/1313 [==============================] - 4s 3ms/step - loss: 1.2667e-04 - accuracy: 1.0000 - val_loss: 0.1947 - val_accuracy: 0.9697\n",
      "Epoch 97/160\n",
      "1313/1313 [==============================] - 4s 3ms/step - loss: 1.2454e-04 - accuracy: 1.0000 - val_loss: 0.1950 - val_accuracy: 0.9698\n",
      "Epoch 98/160\n",
      "1313/1313 [==============================] - 4s 3ms/step - loss: 1.2268e-04 - accuracy: 1.0000 - val_loss: 0.1953 - val_accuracy: 0.9699\n",
      "Epoch 99/160\n",
      "1313/1313 [==============================] - 4s 3ms/step - loss: 1.2052e-04 - accuracy: 1.0000 - val_loss: 0.1955 - val_accuracy: 0.9699\n",
      "Epoch 100/160\n",
      "1313/1313 [==============================] - 4s 3ms/step - loss: 1.1869e-04 - accuracy: 1.0000 - val_loss: 0.1959 - val_accuracy: 0.9699\n",
      "Epoch 101/160\n",
      "1313/1313 [==============================] - 4s 3ms/step - loss: 1.1684e-04 - accuracy: 1.0000 - val_loss: 0.1960 - val_accuracy: 0.9700\n",
      "Epoch 102/160\n",
      "1313/1313 [==============================] - 4s 3ms/step - loss: 1.1497e-04 - accuracy: 1.0000 - val_loss: 0.1966 - val_accuracy: 0.9696\n",
      "Epoch 103/160\n",
      "1313/1313 [==============================] - 4s 3ms/step - loss: 1.1311e-04 - accuracy: 1.0000 - val_loss: 0.1968 - val_accuracy: 0.9698\n",
      "Epoch 104/160\n",
      "1313/1313 [==============================] - 4s 3ms/step - loss: 1.1154e-04 - accuracy: 1.0000 - val_loss: 0.1971 - val_accuracy: 0.9698\n",
      "Epoch 105/160\n",
      "1313/1313 [==============================] - 4s 3ms/step - loss: 1.0991e-04 - accuracy: 1.0000 - val_loss: 0.1974 - val_accuracy: 0.9697\n",
      "Epoch 106/160\n",
      "1313/1313 [==============================] - 4s 3ms/step - loss: 1.0843e-04 - accuracy: 1.0000 - val_loss: 0.1977 - val_accuracy: 0.9697\n",
      "Epoch 107/160\n",
      "1313/1313 [==============================] - 4s 3ms/step - loss: 1.0663e-04 - accuracy: 1.0000 - val_loss: 0.1978 - val_accuracy: 0.9698\n",
      "Epoch 108/160\n",
      "1313/1313 [==============================] - 4s 3ms/step - loss: 1.0520e-04 - accuracy: 1.0000 - val_loss: 0.1984 - val_accuracy: 0.9697\n",
      "Epoch 109/160\n",
      "1313/1313 [==============================] - 4s 3ms/step - loss: 1.0379e-04 - accuracy: 1.0000 - val_loss: 0.1984 - val_accuracy: 0.9696\n",
      "Epoch 110/160\n",
      "1313/1313 [==============================] - 4s 3ms/step - loss: 1.0237e-04 - accuracy: 1.0000 - val_loss: 0.1987 - val_accuracy: 0.9697\n",
      "Epoch 111/160\n",
      "1313/1313 [==============================] - 4s 3ms/step - loss: 1.0068e-04 - accuracy: 1.0000 - val_loss: 0.1986 - val_accuracy: 0.9699\n",
      "Epoch 112/160\n",
      "1313/1313 [==============================] - 4s 3ms/step - loss: 9.9525e-05 - accuracy: 1.0000 - val_loss: 0.1991 - val_accuracy: 0.9698\n",
      "Epoch 113/160\n",
      "1313/1313 [==============================] - 4s 3ms/step - loss: 9.7949e-05 - accuracy: 1.0000 - val_loss: 0.1992 - val_accuracy: 0.9699\n",
      "Epoch 114/160\n",
      "1313/1313 [==============================] - 4s 3ms/step - loss: 9.6789e-05 - accuracy: 1.0000 - val_loss: 0.1999 - val_accuracy: 0.9698\n",
      "Epoch 115/160\n",
      "1313/1313 [==============================] - 4s 3ms/step - loss: 9.5390e-05 - accuracy: 1.0000 - val_loss: 0.2000 - val_accuracy: 0.9698\n",
      "Epoch 116/160\n",
      "1313/1313 [==============================] - 4s 3ms/step - loss: 9.4111e-05 - accuracy: 1.0000 - val_loss: 0.2001 - val_accuracy: 0.9698\n",
      "Epoch 117/160\n",
      "1313/1313 [==============================] - 4s 3ms/step - loss: 9.3288e-05 - accuracy: 1.0000 - val_loss: 0.2005 - val_accuracy: 0.9698\n",
      "Epoch 118/160\n",
      "1313/1313 [==============================] - 4s 3ms/step - loss: 9.1737e-05 - accuracy: 1.0000 - val_loss: 0.2006 - val_accuracy: 0.9699\n",
      "Epoch 119/160\n",
      "1313/1313 [==============================] - 4s 3ms/step - loss: 9.0641e-05 - accuracy: 1.0000 - val_loss: 0.2009 - val_accuracy: 0.9697\n",
      "Epoch 120/160\n",
      "1313/1313 [==============================] - 4s 3ms/step - loss: 8.9450e-05 - accuracy: 1.0000 - val_loss: 0.2011 - val_accuracy: 0.9699\n",
      "Epoch 121/160\n",
      "1313/1313 [==============================] - 4s 3ms/step - loss: 8.8326e-05 - accuracy: 1.0000 - val_loss: 0.2014 - val_accuracy: 0.9697\n",
      "Epoch 122/160\n",
      "1313/1313 [==============================] - 4s 3ms/step - loss: 8.7268e-05 - accuracy: 1.0000 - val_loss: 0.2017 - val_accuracy: 0.9697\n",
      "Epoch 123/160\n",
      "1313/1313 [==============================] - 4s 3ms/step - loss: 8.6241e-05 - accuracy: 1.0000 - val_loss: 0.2017 - val_accuracy: 0.9699\n",
      "Epoch 124/160\n",
      "1313/1313 [==============================] - 4s 3ms/step - loss: 8.5249e-05 - accuracy: 1.0000 - val_loss: 0.2019 - val_accuracy: 0.9699\n",
      "Epoch 125/160\n",
      "1313/1313 [==============================] - 4s 3ms/step - loss: 8.4043e-05 - accuracy: 1.0000 - val_loss: 0.2021 - val_accuracy: 0.9701\n",
      "Epoch 126/160\n",
      "1313/1313 [==============================] - 4s 3ms/step - loss: 8.3008e-05 - accuracy: 1.0000 - val_loss: 0.2027 - val_accuracy: 0.9697\n",
      "Epoch 127/160\n",
      "1313/1313 [==============================] - 4s 3ms/step - loss: 8.2045e-05 - accuracy: 1.0000 - val_loss: 0.2028 - val_accuracy: 0.9697\n",
      "Epoch 128/160\n",
      "1313/1313 [==============================] - 4s 3ms/step - loss: 8.1219e-05 - accuracy: 1.0000 - val_loss: 0.2029 - val_accuracy: 0.9699\n",
      "Epoch 129/160\n",
      "1313/1313 [==============================] - 4s 3ms/step - loss: 8.0332e-05 - accuracy: 1.0000 - val_loss: 0.2032 - val_accuracy: 0.9697\n",
      "Epoch 130/160\n",
      "1313/1313 [==============================] - 4s 3ms/step - loss: 7.9275e-05 - accuracy: 1.0000 - val_loss: 0.2035 - val_accuracy: 0.9698\n",
      "Epoch 131/160\n",
      "1313/1313 [==============================] - 4s 3ms/step - loss: 7.8663e-05 - accuracy: 1.0000 - val_loss: 0.2035 - val_accuracy: 0.9699\n",
      "Epoch 132/160\n",
      "1313/1313 [==============================] - 4s 3ms/step - loss: 7.7630e-05 - accuracy: 1.0000 - val_loss: 0.2037 - val_accuracy: 0.9699\n",
      "Epoch 133/160\n",
      "1313/1313 [==============================] - 4s 3ms/step - loss: 7.6573e-05 - accuracy: 1.0000 - val_loss: 0.2041 - val_accuracy: 0.9701\n",
      "Epoch 134/160\n",
      "1313/1313 [==============================] - 4s 3ms/step - loss: 7.5774e-05 - accuracy: 1.0000 - val_loss: 0.2041 - val_accuracy: 0.9699\n",
      "Epoch 135/160\n",
      "1313/1313 [==============================] - 4s 3ms/step - loss: 7.4951e-05 - accuracy: 1.0000 - val_loss: 0.2044 - val_accuracy: 0.9700\n",
      "Epoch 136/160\n",
      "1313/1313 [==============================] - 4s 3ms/step - loss: 7.4017e-05 - accuracy: 1.0000 - val_loss: 0.2049 - val_accuracy: 0.9699\n",
      "Epoch 137/160\n",
      "1313/1313 [==============================] - 4s 3ms/step - loss: 7.3394e-05 - accuracy: 1.0000 - val_loss: 0.2048 - val_accuracy: 0.9699\n",
      "Epoch 138/160\n",
      "1313/1313 [==============================] - 4s 3ms/step - loss: 7.2432e-05 - accuracy: 1.0000 - val_loss: 0.2050 - val_accuracy: 0.9700\n",
      "Epoch 139/160\n",
      "1313/1313 [==============================] - 4s 3ms/step - loss: 7.1787e-05 - accuracy: 1.0000 - val_loss: 0.2052 - val_accuracy: 0.9699\n",
      "Epoch 140/160\n",
      "1313/1313 [==============================] - 4s 3ms/step - loss: 7.0986e-05 - accuracy: 1.0000 - val_loss: 0.2055 - val_accuracy: 0.9700\n",
      "Epoch 141/160\n",
      "1313/1313 [==============================] - 4s 3ms/step - loss: 7.0231e-05 - accuracy: 1.0000 - val_loss: 0.2058 - val_accuracy: 0.9699\n",
      "Epoch 142/160\n",
      "1313/1313 [==============================] - 4s 3ms/step - loss: 6.9451e-05 - accuracy: 1.0000 - val_loss: 0.2058 - val_accuracy: 0.9699\n",
      "Epoch 143/160\n",
      "1313/1313 [==============================] - 4s 3ms/step - loss: 6.8828e-05 - accuracy: 1.0000 - val_loss: 0.2061 - val_accuracy: 0.9698\n",
      "Epoch 144/160\n",
      "1313/1313 [==============================] - 4s 3ms/step - loss: 6.8101e-05 - accuracy: 1.0000 - val_loss: 0.2066 - val_accuracy: 0.9699\n",
      "Epoch 145/160\n",
      "1313/1313 [==============================] - 4s 3ms/step - loss: 6.7477e-05 - accuracy: 1.0000 - val_loss: 0.2064 - val_accuracy: 0.9699\n",
      "Epoch 146/160\n",
      "1313/1313 [==============================] - 4s 3ms/step - loss: 6.6712e-05 - accuracy: 1.0000 - val_loss: 0.2068 - val_accuracy: 0.9698\n",
      "Epoch 147/160\n",
      "1313/1313 [==============================] - 4s 3ms/step - loss: 6.6151e-05 - accuracy: 1.0000 - val_loss: 0.2068 - val_accuracy: 0.9699\n",
      "Epoch 148/160\n",
      "1313/1313 [==============================] - 4s 3ms/step - loss: 6.5476e-05 - accuracy: 1.0000 - val_loss: 0.2068 - val_accuracy: 0.9699\n",
      "Epoch 149/160\n",
      "1313/1313 [==============================] - 4s 3ms/step - loss: 6.4772e-05 - accuracy: 1.0000 - val_loss: 0.2070 - val_accuracy: 0.9701\n",
      "Epoch 150/160\n",
      "1313/1313 [==============================] - 4s 3ms/step - loss: 6.4229e-05 - accuracy: 1.0000 - val_loss: 0.2072 - val_accuracy: 0.9701\n",
      "Epoch 151/160\n",
      "1313/1313 [==============================] - 4s 3ms/step - loss: 6.3528e-05 - accuracy: 1.0000 - val_loss: 0.2077 - val_accuracy: 0.9701\n",
      "Epoch 152/160\n",
      "1313/1313 [==============================] - 4s 3ms/step - loss: 6.2925e-05 - accuracy: 1.0000 - val_loss: 0.2076 - val_accuracy: 0.9699\n",
      "Epoch 153/160\n",
      "1313/1313 [==============================] - 4s 3ms/step - loss: 6.2382e-05 - accuracy: 1.0000 - val_loss: 0.2079 - val_accuracy: 0.9699\n",
      "Epoch 154/160\n",
      "1313/1313 [==============================] - 4s 3ms/step - loss: 6.1851e-05 - accuracy: 1.0000 - val_loss: 0.2080 - val_accuracy: 0.9699\n",
      "Epoch 155/160\n",
      "1313/1313 [==============================] - 4s 3ms/step - loss: 6.1215e-05 - accuracy: 1.0000 - val_loss: 0.2083 - val_accuracy: 0.9699\n",
      "Epoch 156/160\n",
      "1313/1313 [==============================] - 4s 3ms/step - loss: 6.0614e-05 - accuracy: 1.0000 - val_loss: 0.2085 - val_accuracy: 0.9700\n",
      "Epoch 157/160\n",
      "1313/1313 [==============================] - 4s 3ms/step - loss: 6.0092e-05 - accuracy: 1.0000 - val_loss: 0.2085 - val_accuracy: 0.9701\n",
      "Epoch 158/160\n",
      "1313/1313 [==============================] - 4s 3ms/step - loss: 5.9613e-05 - accuracy: 1.0000 - val_loss: 0.2088 - val_accuracy: 0.9698\n",
      "Epoch 159/160\n",
      "1313/1313 [==============================] - 4s 3ms/step - loss: 5.8958e-05 - accuracy: 1.0000 - val_loss: 0.2090 - val_accuracy: 0.9699\n",
      "Epoch 160/160\n",
      "1313/1313 [==============================] - 4s 3ms/step - loss: 5.8480e-05 - accuracy: 1.0000 - val_loss: 0.2092 - val_accuracy: 0.9699\n"
     ]
    }
   ],
   "source": [
    "# Training model of validation\n",
    "history = model.fit(X_train, Y_train, epochs=160, validation_data=(X_valid, Y_valid))"
   ]
  },
  {
   "cell_type": "markdown",
   "metadata": {
    "colab_type": "text",
    "id": "okqyY8m4IyCd"
   },
   "source": [
    "##### ***Evaluating the Model***\n",
    "\n",
    "From the learning curve graph, it provides the comparison between loss and accuracy of training and validation set by changing the model accuracy and number of epochs. It could be seen that both training and validation accuracy are increasing while the loss of both sets are decreasing. However, the validation loss curve is close to the training curve only before approximately 5 epochs, which means the number of epochs more than 5 is overfitting. Moreover, it could be interpreted that the model would not end up the better accuracy on higher epochs. For this model, the best accuracy provide 96.99% with 0.2092 loss."
   ]
  },
  {
   "cell_type": "code",
   "execution_count": 0,
   "metadata": {
    "colab": {
     "base_uri": "https://localhost:8080/",
     "height": 406
    },
    "colab_type": "code",
    "collapsed": false,
    "id": "LycxNy3xIyCe",
    "outputId": "2b7f3430-3d26-42c0-d58f-d44155ddcfd5"
   },
   "outputs": [
    {
     "data": {
      "image/png": "[encoded data removed]",
      "text/plain": [
       "<Figure size 864x432 with 1 Axes>"
      ]
     },
     "metadata": {
      "tags": []
     },
     "output_type": "display_data"
    }
   ],
   "source": [
    "# Plot Learning curve\n",
    "pd.DataFrame(history.history).plot(figsize=(12, 6))\n",
    "plt.grid(True)\n",
    "plt.gca().set_ylim(0, 1) # set the vertical range to [0-1]\n",
    "plt.title('Learning Curve', fontsize=15)\n",
    "plt.xlabel('epochs')\n",
    "plt.ylabel('Accuracy')\n",
    "plt.show()"
   ]
  },
  {
   "cell_type": "code",
   "execution_count": 0,
   "metadata": {
    "colab": {
     "base_uri": "https://localhost:8080/",
     "height": 51
    },
    "colab_type": "code",
    "collapsed": false,
    "id": "eB7pzROKIyCf",
    "outputId": "69411710-e7d0-4418-d8c9-9657b0a6a873"
   },
   "outputs": [
    {
     "name": "stdout",
     "output_type": "stream",
     "text": [
      "563/563 [==============================] - 1s 2ms/step - loss: 0.2092 - accuracy: 0.9699\n"
     ]
    },
    {
     "data": {
      "text/plain": [
       "[0.2091594934463501, 0.9698888659477234]"
      ]
     },
     "execution_count": 44,
     "metadata": {
      "tags": []
     },
     "output_type": "execute_result"
    }
   ],
   "source": [
    "model.evaluate(X_valid, Y_valid)"
   ]
  },
  {
   "cell_type": "markdown",
   "metadata": {
    "colab_type": "text",
    "id": "I7-mfY5-IyCh"
   },
   "source": [
    "##### ***Making prediction***"
   ]
  },
  {
   "cell_type": "code",
   "execution_count": 0,
   "metadata": {
    "colab": {
     "base_uri": "https://localhost:8080/",
     "height": 106
    },
    "colab_type": "code",
    "collapsed": false,
    "id": "uSIrsBRVIyCh",
    "outputId": "60120070-be24-4112-d2fd-c3cea4e66973",
    "scrolled": false
   },
   "outputs": [
    {
     "name": "stdout",
     "output_type": "stream",
     "text": [
      "WARNING:tensorflow:From <ipython-input-45-7a7abbd4210c>:1: Sequential.predict_classes (from tensorflow.python.keras.engine.sequential) is deprecated and will be removed after 2021-01-01.\n",
      "Instructions for updating:\n",
      "Please use instead:* `np.argmax(model.predict(x), axis=-1)`,   if your model does multi-class classification   (e.g. if it uses a `softmax` last-layer activation).* `(model.predict(x) > 0.5).astype(\"int32\")`,   if your model does binary classification   (e.g. if it uses a `sigmoid` last-layer activation).\n"
     ]
    },
    {
     "data": {
      "text/plain": [
       "array([0, 1, 2, ..., 8, 9, 9])"
      ]
     },
     "execution_count": 45,
     "metadata": {
      "tags": []
     },
     "output_type": "execute_result"
    }
   ],
   "source": [
    "predictions_test = model.predict_classes(X_test)\n",
    "predictions_test"
   ]
  },
  {
   "cell_type": "markdown",
   "metadata": {
    "colab_type": "text",
    "id": "LFQ3mAE_IyCi"
   },
   "source": [
    "##### **3.3.1.2 Using Adaptive Moment Estimation (Adam)**"
   ]
  },
  {
   "cell_type": "code",
   "execution_count": 0,
   "metadata": {
    "colab": {},
    "colab_type": "code",
    "collapsed": true,
    "id": "syF58cbhPYhN"
   },
   "outputs": [],
   "source": [
    "# Create a copy of data that does not affect to original trian and test set\n",
    "X_train = X_train_f.copy()\n",
    "X_valid = X_valid_f.copy()\n",
    "Y_train = Y_train_f.copy()\n",
    "Y_valid = Y_valid_f.copy()\n",
    "X_test = X_test_f.copy()"
   ]
  },
  {
   "cell_type": "code",
   "execution_count": 0,
   "metadata": {
    "colab": {},
    "colab_type": "code",
    "collapsed": true,
    "id": "rtn0OzZSIyCj"
   },
   "outputs": [],
   "source": [
    "# Define keys factors\n",
    "image_size = X_train.shape[1]\n",
    "num_classes = 10                # Number of classification target"
   ]
  },
  {
   "cell_type": "code",
   "execution_count": 0,
   "metadata": {
    "colab": {},
    "colab_type": "code",
    "collapsed": true,
    "id": "OqYhvBfzIyCk"
   },
   "outputs": [],
   "source": [
    "# Perform input layer, hidden layer, and out put layer\n",
    "model = tf.keras.models.Sequential([\n",
    "    tf.keras.layers.Input(shape=image_size),                               \n",
    "    tf.keras.layers.Dense(units=392, activation='relu'),\n",
    "    tf.keras.layers.Dense(units=196, activation='relu'),\n",
    "    tf.keras.layers.Dense(units=196, activation='relu'),\n",
    "    tf.keras.layers.Dense(units=196, activation='relu'),\n",
    "    tf.keras.layers.Dense(units=196, activation='relu'),\n",
    "    tf.keras.layers.Dense(units=num_classes, activation = 'softmax')\n",
    "])"
   ]
  },
  {
   "cell_type": "code",
   "execution_count": 0,
   "metadata": {
    "colab": {
     "base_uri": "https://localhost:8080/",
     "height": 362
    },
    "colab_type": "code",
    "collapsed": false,
    "id": "VMGpnnhqIyCl",
    "outputId": "a0327647-b436-4ca8-8188-b61e897bff59",
    "scrolled": true
   },
   "outputs": [
    {
     "name": "stdout",
     "output_type": "stream",
     "text": [
      "Model: \"sequential_1\"\n",
      "_________________________________________________________________\n",
      "Layer (type)                 Output Shape              Param #   \n",
      "=================================================================\n",
      "dense_6 (Dense)              (None, 392)               307720    \n",
      "_________________________________________________________________\n",
      "dense_7 (Dense)              (None, 196)               77028     \n",
      "_________________________________________________________________\n",
      "dense_8 (Dense)              (None, 196)               38612     \n",
      "_________________________________________________________________\n",
      "dense_9 (Dense)              (None, 196)               38612     \n",
      "_________________________________________________________________\n",
      "dense_10 (Dense)             (None, 196)               38612     \n",
      "_________________________________________________________________\n",
      "dense_11 (Dense)             (None, 10)                1970      \n",
      "=================================================================\n",
      "Total params: 502,554\n",
      "Trainable params: 502,554\n",
      "Non-trainable params: 0\n",
      "_________________________________________________________________\n"
     ]
    }
   ],
   "source": [
    "# Displays all model's layers\n",
    "model.summary()"
   ]
  },
  {
   "cell_type": "code",
   "execution_count": 0,
   "metadata": {
    "colab": {
     "base_uri": "https://localhost:8080/",
     "height": 120
    },
    "colab_type": "code",
    "collapsed": false,
    "id": "wrZmq7FQIyCm",
    "outputId": "d62163a7-c365-4576-a76e-e15ac62a80fc",
    "scrolled": false
   },
   "outputs": [
    {
     "data": {
      "text/plain": [
       "[<tensorflow.python.keras.layers.core.Dense at 0x7fa1f61af4a8>,\n",
       " <tensorflow.python.keras.layers.core.Dense at 0x7fa21c7c3908>,\n",
       " <tensorflow.python.keras.layers.core.Dense at 0x7fa1f61afb00>,\n",
       " <tensorflow.python.keras.layers.core.Dense at 0x7fa21c2bb0b8>,\n",
       " <tensorflow.python.keras.layers.core.Dense at 0x7fa1f61aff98>,\n",
       " <tensorflow.python.keras.layers.core.Dense at 0x7fa1f6386198>]"
      ]
     },
     "execution_count": 50,
     "metadata": {
      "tags": []
     },
     "output_type": "execute_result"
    }
   ],
   "source": [
    "# Get a model's list of layers\n",
    "model.layers"
   ]
  },
  {
   "cell_type": "code",
   "execution_count": 0,
   "metadata": {
    "colab": {},
    "colab_type": "code",
    "collapsed": true,
    "id": "fQNJgzeFIyCn"
   },
   "outputs": [],
   "source": [
    "# Specify weights & biases of each layers\n",
    "weights_in, biases_in = model.layers[0].get_weights()\n",
    "weights_h1, biases_h1 = model.layers[1].get_weights()\n",
    "weights_h2, biases_h2 = model.layers[2].get_weights()\n",
    "weights_h3, biases_h3 = model.layers[3].get_weights()\n",
    "weights_h4, biases_h4 = model.layers[4].get_weights()\n",
    "weights_h5, biases_h5 = model.layers[5].get_weights()"
   ]
  },
  {
   "cell_type": "code",
   "execution_count": 0,
   "metadata": {
    "colab": {},
    "colab_type": "code",
    "collapsed": true,
    "id": "id7dbEkpIyCp"
   },
   "outputs": [],
   "source": [
    "# Compiling the model by using Adam\n",
    "optimizer = Adam(learning_rate=0.001, beta_1=0.9, beta_2=0.999, amsgrad=False)\n",
    "model.compile(loss='sparse_categorical_crossentropy', optimizer=optimizer, metrics=['accuracy'])"
   ]
  },
  {
   "cell_type": "markdown",
   "metadata": {
    "colab_type": "text",
    "id": "geDaDFVdIyCp"
   },
   "source": [
    "##### ***Training the Model***\n",
    "\n",
    "In this section, the epochs of Adam would be used less than SGD, which is 40 epochs."
   ]
  },
  {
   "cell_type": "code",
   "execution_count": 0,
   "metadata": {
    "colab": {
     "base_uri": "https://localhost:8080/",
     "height": 1000
    },
    "colab_type": "code",
    "collapsed": false,
    "id": "GGTOgzJ-IyCq",
    "outputId": "b39472c1-b065-4c6d-b25d-884f24b6f355",
    "scrolled": true
   },
   "outputs": [
    {
     "name": "stdout",
     "output_type": "stream",
     "text": [
      "Epoch 1/40\n",
      "1313/1313 [==============================] - 4s 3ms/step - loss: 0.2216 - accuracy: 0.9349 - val_loss: 0.1520 - val_accuracy: 0.9573\n",
      "Epoch 2/40\n",
      "1313/1313 [==============================] - 4s 3ms/step - loss: 0.0958 - accuracy: 0.9729 - val_loss: 0.1185 - val_accuracy: 0.9666\n",
      "Epoch 3/40\n",
      "1313/1313 [==============================] - 4s 3ms/step - loss: 0.0697 - accuracy: 0.9800 - val_loss: 0.1319 - val_accuracy: 0.9640\n",
      "Epoch 4/40\n",
      "1313/1313 [==============================] - 4s 3ms/step - loss: 0.0520 - accuracy: 0.9850 - val_loss: 0.1147 - val_accuracy: 0.9723\n",
      "Epoch 5/40\n",
      "1313/1313 [==============================] - 4s 3ms/step - loss: 0.0413 - accuracy: 0.9878 - val_loss: 0.1059 - val_accuracy: 0.9760\n",
      "Epoch 6/40\n",
      "1313/1313 [==============================] - 4s 3ms/step - loss: 0.0338 - accuracy: 0.9902 - val_loss: 0.1199 - val_accuracy: 0.9747\n",
      "Epoch 7/40\n",
      "1313/1313 [==============================] - 4s 3ms/step - loss: 0.0281 - accuracy: 0.9925 - val_loss: 0.1198 - val_accuracy: 0.9693\n",
      "Epoch 8/40\n",
      "1313/1313 [==============================] - 4s 3ms/step - loss: 0.0264 - accuracy: 0.9931 - val_loss: 0.1155 - val_accuracy: 0.9769\n",
      "Epoch 9/40\n",
      "1313/1313 [==============================] - 4s 3ms/step - loss: 0.0227 - accuracy: 0.9941 - val_loss: 0.1235 - val_accuracy: 0.9764\n",
      "Epoch 10/40\n",
      "1313/1313 [==============================] - 4s 3ms/step - loss: 0.0202 - accuracy: 0.9947 - val_loss: 0.1288 - val_accuracy: 0.9772\n",
      "Epoch 11/40\n",
      "1313/1313 [==============================] - 4s 3ms/step - loss: 0.0133 - accuracy: 0.9962 - val_loss: 0.1365 - val_accuracy: 0.9769\n",
      "Epoch 12/40\n",
      "1313/1313 [==============================] - 4s 3ms/step - loss: 0.0222 - accuracy: 0.9939 - val_loss: 0.1364 - val_accuracy: 0.9768\n",
      "Epoch 13/40\n",
      "1313/1313 [==============================] - 4s 3ms/step - loss: 0.0171 - accuracy: 0.9956 - val_loss: 0.1332 - val_accuracy: 0.9760\n",
      "Epoch 14/40\n",
      "1313/1313 [==============================] - 4s 3ms/step - loss: 0.0144 - accuracy: 0.9961 - val_loss: 0.1737 - val_accuracy: 0.9740\n",
      "Epoch 15/40\n",
      "1313/1313 [==============================] - 4s 3ms/step - loss: 0.0125 - accuracy: 0.9970 - val_loss: 0.2066 - val_accuracy: 0.9699\n",
      "Epoch 16/40\n",
      "1313/1313 [==============================] - 4s 3ms/step - loss: 0.0108 - accuracy: 0.9971 - val_loss: 0.1750 - val_accuracy: 0.9792\n",
      "Epoch 17/40\n",
      "1313/1313 [==============================] - 4s 3ms/step - loss: 0.0128 - accuracy: 0.9969 - val_loss: 0.2057 - val_accuracy: 0.9701\n",
      "Epoch 18/40\n",
      "1313/1313 [==============================] - 4s 3ms/step - loss: 0.0121 - accuracy: 0.9970 - val_loss: 0.1560 - val_accuracy: 0.9773\n",
      "Epoch 19/40\n",
      "1313/1313 [==============================] - 4s 3ms/step - loss: 0.0081 - accuracy: 0.9980 - val_loss: 0.3103 - val_accuracy: 0.9646\n",
      "Epoch 20/40\n",
      "1313/1313 [==============================] - 4s 3ms/step - loss: 0.0159 - accuracy: 0.9972 - val_loss: 0.1502 - val_accuracy: 0.9789\n",
      "Epoch 21/40\n",
      "1313/1313 [==============================] - 4s 3ms/step - loss: 0.0096 - accuracy: 0.9977 - val_loss: 0.1723 - val_accuracy: 0.9786\n",
      "Epoch 22/40\n",
      "1313/1313 [==============================] - 4s 3ms/step - loss: 0.0087 - accuracy: 0.9984 - val_loss: 0.1910 - val_accuracy: 0.9777\n",
      "Epoch 23/40\n",
      "1313/1313 [==============================] - 4s 3ms/step - loss: 0.0113 - accuracy: 0.9976 - val_loss: 0.2074 - val_accuracy: 0.9780\n",
      "Epoch 24/40\n",
      "1313/1313 [==============================] - 4s 3ms/step - loss: 0.0102 - accuracy: 0.9980 - val_loss: 0.1816 - val_accuracy: 0.9788\n",
      "Epoch 25/40\n",
      "1313/1313 [==============================] - 4s 3ms/step - loss: 0.0084 - accuracy: 0.9983 - val_loss: 0.2630 - val_accuracy: 0.9715\n",
      "Epoch 26/40\n",
      "1313/1313 [==============================] - 4s 3ms/step - loss: 0.0129 - accuracy: 0.9979 - val_loss: 0.1995 - val_accuracy: 0.9770\n",
      "Epoch 27/40\n",
      "1313/1313 [==============================] - 4s 3ms/step - loss: 0.0085 - accuracy: 0.9986 - val_loss: 0.1822 - val_accuracy: 0.9789\n",
      "Epoch 28/40\n",
      "1313/1313 [==============================] - 4s 3ms/step - loss: 0.0071 - accuracy: 0.9987 - val_loss: 0.1806 - val_accuracy: 0.9792\n",
      "Epoch 29/40\n",
      "1313/1313 [==============================] - 4s 3ms/step - loss: 0.0063 - accuracy: 0.9987 - val_loss: 0.2504 - val_accuracy: 0.9781\n",
      "Epoch 30/40\n",
      "1313/1313 [==============================] - 4s 3ms/step - loss: 0.0086 - accuracy: 0.9982 - val_loss: 0.2713 - val_accuracy: 0.9770\n",
      "Epoch 31/40\n",
      "1313/1313 [==============================] - 4s 3ms/step - loss: 0.0112 - accuracy: 0.9982 - val_loss: 0.2201 - val_accuracy: 0.9781\n",
      "Epoch 32/40\n",
      "1313/1313 [==============================] - 4s 3ms/step - loss: 0.0114 - accuracy: 0.9981 - val_loss: 0.2469 - val_accuracy: 0.9776\n",
      "Epoch 33/40\n",
      "1313/1313 [==============================] - 4s 3ms/step - loss: 0.0032 - accuracy: 0.9992 - val_loss: 0.2769 - val_accuracy: 0.9778\n",
      "Epoch 34/40\n",
      "1313/1313 [==============================] - 4s 3ms/step - loss: 0.0036 - accuracy: 0.9993 - val_loss: 0.3110 - val_accuracy: 0.9781\n",
      "Epoch 35/40\n",
      "1313/1313 [==============================] - 4s 3ms/step - loss: 0.0123 - accuracy: 0.9979 - val_loss: 0.1977 - val_accuracy: 0.9779\n",
      "Epoch 36/40\n",
      "1313/1313 [==============================] - 4s 3ms/step - loss: 0.0129 - accuracy: 0.9981 - val_loss: 0.1967 - val_accuracy: 0.9788\n",
      "Epoch 37/40\n",
      "1313/1313 [==============================] - 4s 3ms/step - loss: 0.0066 - accuracy: 0.9988 - val_loss: 0.1866 - val_accuracy: 0.9789\n",
      "Epoch 38/40\n",
      "1313/1313 [==============================] - 4s 3ms/step - loss: 0.0024 - accuracy: 0.9995 - val_loss: 0.3025 - val_accuracy: 0.9782\n",
      "Epoch 39/40\n",
      "1313/1313 [==============================] - 4s 3ms/step - loss: 0.0106 - accuracy: 0.9987 - val_loss: 0.2801 - val_accuracy: 0.9787\n",
      "Epoch 40/40\n",
      "1313/1313 [==============================] - 4s 3ms/step - loss: 0.0098 - accuracy: 0.9983 - val_loss: 0.2733 - val_accuracy: 0.9773\n"
     ]
    }
   ],
   "source": [
    "# Training model of validation\n",
    "history = model.fit(X_train, Y_train, epochs=40, validation_data=(X_valid, Y_valid))"
   ]
  },
  {
   "cell_type": "markdown",
   "metadata": {
    "colab_type": "text",
    "id": "IPby2q5rIyCr"
   },
   "source": [
    "##### ***Evaluating the Model***\n",
    "\n",
    "From the learning curve graph, It could be seen that the tend of curve is similar to the SGD optimiser. However, it shows a better result, which the best accuracy provide 97.73% with 0.2038 loss."
   ]
  },
  {
   "cell_type": "code",
   "execution_count": 0,
   "metadata": {
    "colab": {
     "base_uri": "https://localhost:8080/",
     "height": 406
    },
    "colab_type": "code",
    "collapsed": false,
    "id": "HN8-L00PIyCr",
    "outputId": "8eefeb4d-e640-43ae-8744-95aebd05b702"
   },
   "outputs": [
    {
     "data": {
      "image/png": "[encoded data removed]",
      "text/plain": [
       "<Figure size 864x432 with 1 Axes>"
      ]
     },
     "metadata": {
      "tags": []
     },
     "output_type": "display_data"
    }
   ],
   "source": [
    "# Plot Learning curve\n",
    "pd.DataFrame(history.history).plot(figsize=(12, 6))\n",
    "plt.grid(True)\n",
    "plt.gca().set_ylim(0, 1) # set the vertical range to [0-1]\n",
    "plt.title('Learning Curve', fontsize=15)\n",
    "plt.xlabel('epochs')\n",
    "plt.ylabel('Accuracy')\n",
    "plt.show()"
   ]
  },
  {
   "cell_type": "code",
   "execution_count": 0,
   "metadata": {
    "colab": {
     "base_uri": "https://localhost:8080/",
     "height": 51
    },
    "colab_type": "code",
    "collapsed": false,
    "id": "v7pc8XwDIyCs",
    "outputId": "02dde2bf-d6e4-4493-8317-661ffe7b2d72"
   },
   "outputs": [
    {
     "name": "stdout",
     "output_type": "stream",
     "text": [
      "563/563 [==============================] - 1s 2ms/step - loss: 0.2733 - accuracy: 0.9773\n"
     ]
    },
    {
     "data": {
      "text/plain": [
       "[0.2732917070388794, 0.9772777557373047]"
      ]
     },
     "execution_count": 55,
     "metadata": {
      "tags": []
     },
     "output_type": "execute_result"
    }
   ],
   "source": [
    "model.evaluate(X_valid, Y_valid)"
   ]
  },
  {
   "cell_type": "markdown",
   "metadata": {
    "colab_type": "text",
    "id": "INU5Sb_PIyCt"
   },
   "source": [
    "##### ***Making Prediction***"
   ]
  },
  {
   "cell_type": "code",
   "execution_count": 0,
   "metadata": {
    "colab": {
     "base_uri": "https://localhost:8080/",
     "height": 34
    },
    "colab_type": "code",
    "collapsed": false,
    "id": "6uY4weTwIyCt",
    "outputId": "ba753a3e-d025-442a-ea9f-10dd70c685af",
    "scrolled": true
   },
   "outputs": [
    {
     "data": {
      "text/plain": [
       "array([0, 1, 2, ..., 8, 9, 9])"
      ]
     },
     "execution_count": 56,
     "metadata": {
      "tags": []
     },
     "output_type": "execute_result"
    }
   ],
   "source": [
    "predictions_test = model.predict_classes(X_test)\n",
    "predictions_test"
   ]
  },
  {
   "cell_type": "markdown",
   "metadata": {
    "colab_type": "text",
    "id": "Yr3eb1ZIIyCu"
   },
   "source": [
    "#### **3.3.2 Improving a Fully Connected Neural Network model**\n",
    "\n",
    "Using a model Regularisation is one of the methods to improve the accuracy of the model. The dropout technique will be used, which might boost the accuracy of approximately 1-2% of the model. Referring to the last section, Adam optimiser provides better accuracy than SGD. Therefore, Adam is chosen to run this section."
   ]
  },
  {
   "cell_type": "code",
   "execution_count": 0,
   "metadata": {
    "colab": {},
    "colab_type": "code",
    "collapsed": true,
    "id": "KGHZ4vZVIyCu"
   },
   "outputs": [],
   "source": [
    "# Create a copy of data that does not affect to original trian and test set\n",
    "X_train = X_train_f.copy()\n",
    "X_valid = X_valid_f.copy()\n",
    "Y_train = Y_train_f.copy()\n",
    "Y_valid = Y_valid_f.copy()\n",
    "X_test = X_test_f.copy()"
   ]
  },
  {
   "cell_type": "code",
   "execution_count": 0,
   "metadata": {
    "colab": {},
    "colab_type": "code",
    "collapsed": true,
    "id": "yjg0g-YyIyCv"
   },
   "outputs": [],
   "source": [
    "# Define keys factors\n",
    "image_size = X_train.shape[1]\n",
    "num_classes = 10                # Number of classification target"
   ]
  },
  {
   "cell_type": "code",
   "execution_count": 0,
   "metadata": {
    "colab": {},
    "colab_type": "code",
    "collapsed": true,
    "id": "o2hQgG0VIyCw",
    "scrolled": true
   },
   "outputs": [],
   "source": [
    "# Perform input layer, hidden layer, and out put layer\n",
    "model = tf.keras.models.Sequential([\n",
    "    tf.keras.layers.Input(shape=image_size),                               \n",
    "    tf.keras.layers.Dense(units=392, activation='relu'),\n",
    "    tf.keras.layers.Dropout(rate=0.3),\n",
    "    tf.keras.layers.Dense(units=196, activation='relu'),\n",
    "    tf.keras.layers.Dropout(rate=0.3),\n",
    "    tf.keras.layers.Dense(units=196, activation='relu'),\n",
    "    tf.keras.layers.Dropout(rate=0.3),\n",
    "    tf.keras.layers.Dense(units=196, activation='relu'),\n",
    "    tf.keras.layers.Dropout(rate=0.3),\n",
    "    tf.keras.layers.Dense(units=196, activation='relu'),\n",
    "    tf.keras.layers.Dropout(rate=0.3),\n",
    "    tf.keras.layers.Dense(units=num_classes, activation = 'softmax')\n",
    "])"
   ]
  },
  {
   "cell_type": "code",
   "execution_count": 0,
   "metadata": {
    "colab": {
     "base_uri": "https://localhost:8080/",
     "height": 535
    },
    "colab_type": "code",
    "collapsed": false,
    "id": "z1hUi23uIyCx",
    "outputId": "6c127cf8-7c0a-431f-aecd-7710a1ec1b15",
    "scrolled": false
   },
   "outputs": [
    {
     "name": "stdout",
     "output_type": "stream",
     "text": [
      "Model: \"sequential_2\"\n",
      "_________________________________________________________________\n",
      "Layer (type)                 Output Shape              Param #   \n",
      "=================================================================\n",
      "dense_12 (Dense)             (None, 392)               307720    \n",
      "_________________________________________________________________\n",
      "dropout (Dropout)            (None, 392)               0         \n",
      "_________________________________________________________________\n",
      "dense_13 (Dense)             (None, 196)               77028     \n",
      "_________________________________________________________________\n",
      "dropout_1 (Dropout)          (None, 196)               0         \n",
      "_________________________________________________________________\n",
      "dense_14 (Dense)             (None, 196)               38612     \n",
      "_________________________________________________________________\n",
      "dropout_2 (Dropout)          (None, 196)               0         \n",
      "_________________________________________________________________\n",
      "dense_15 (Dense)             (None, 196)               38612     \n",
      "_________________________________________________________________\n",
      "dropout_3 (Dropout)          (None, 196)               0         \n",
      "_________________________________________________________________\n",
      "dense_16 (Dense)             (None, 196)               38612     \n",
      "_________________________________________________________________\n",
      "dropout_4 (Dropout)          (None, 196)               0         \n",
      "_________________________________________________________________\n",
      "dense_17 (Dense)             (None, 10)                1970      \n",
      "=================================================================\n",
      "Total params: 502,554\n",
      "Trainable params: 502,554\n",
      "Non-trainable params: 0\n",
      "_________________________________________________________________\n"
     ]
    }
   ],
   "source": [
    "# Displays all model's layers\n",
    "model.summary()"
   ]
  },
  {
   "cell_type": "code",
   "execution_count": 0,
   "metadata": {
    "colab": {
     "base_uri": "https://localhost:8080/",
     "height": 207
    },
    "colab_type": "code",
    "collapsed": false,
    "id": "eXqE7vuGIyCy",
    "outputId": "7322c14c-861d-4611-b2c8-0f76a8d225ef",
    "scrolled": false
   },
   "outputs": [
    {
     "data": {
      "text/plain": [
       "[<tensorflow.python.keras.layers.core.Dense at 0x7fa1daedf390>,\n",
       " <tensorflow.python.keras.layers.core.Dropout at 0x7fa1daedf588>,\n",
       " <tensorflow.python.keras.layers.core.Dense at 0x7fa1daf5ab00>,\n",
       " <tensorflow.python.keras.layers.core.Dropout at 0x7fa1daf8f940>,\n",
       " <tensorflow.python.keras.layers.core.Dense at 0x7fa1daedfb38>,\n",
       " <tensorflow.python.keras.layers.core.Dropout at 0x7fa1daedfd30>,\n",
       " <tensorflow.python.keras.layers.core.Dense at 0x7fa1daedfe48>,\n",
       " <tensorflow.python.keras.layers.core.Dropout at 0x7fa1daedfcf8>,\n",
       " <tensorflow.python.keras.layers.core.Dense at 0x7fa1daf7f198>,\n",
       " <tensorflow.python.keras.layers.core.Dropout at 0x7fa1daf7f080>,\n",
       " <tensorflow.python.keras.layers.core.Dense at 0x7fa1daf7f4a8>]"
      ]
     },
     "execution_count": 61,
     "metadata": {
      "tags": []
     },
     "output_type": "execute_result"
    }
   ],
   "source": [
    "# Get a model's list of layers\n",
    "model.layers"
   ]
  },
  {
   "cell_type": "code",
   "execution_count": 0,
   "metadata": {
    "colab": {},
    "colab_type": "code",
    "collapsed": true,
    "id": "cbw3JSHGIyCz"
   },
   "outputs": [],
   "source": [
    "# Compiling the model by using Adam\n",
    "optimizer = Adam(learning_rate=0.001, beta_1=0.9, beta_2=0.999, amsgrad=False)\n",
    "model.compile(loss='sparse_categorical_crossentropy', optimizer=optimizer, metrics=['accuracy'])"
   ]
  },
  {
   "cell_type": "markdown",
   "metadata": {
    "colab_type": "text",
    "id": "n247P-BBIyC0"
   },
   "source": [
    "##### ***Training the Model***"
   ]
  },
  {
   "cell_type": "code",
   "execution_count": 0,
   "metadata": {
    "colab": {
     "base_uri": "https://localhost:8080/",
     "height": 1000
    },
    "colab_type": "code",
    "collapsed": false,
    "id": "hDHc85TbIyC0",
    "outputId": "4ab13ce3-fb0b-47c2-97c1-1af1db1bbfd8"
   },
   "outputs": [
    {
     "name": "stdout",
     "output_type": "stream",
     "text": [
      "Epoch 1/40\n",
      "1313/1313 [==============================] - 4s 3ms/step - loss: 0.3680 - accuracy: 0.8888 - val_loss: 0.1567 - val_accuracy: 0.9549\n",
      "Epoch 2/40\n",
      "1313/1313 [==============================] - 4s 3ms/step - loss: 0.1630 - accuracy: 0.9558 - val_loss: 0.1241 - val_accuracy: 0.9644\n",
      "Epoch 3/40\n",
      "1313/1313 [==============================] - 4s 3ms/step - loss: 0.1311 - accuracy: 0.9661 - val_loss: 0.1044 - val_accuracy: 0.9709\n",
      "Epoch 4/40\n",
      "1313/1313 [==============================] - 4s 3ms/step - loss: 0.1069 - accuracy: 0.9719 - val_loss: 0.1026 - val_accuracy: 0.9741\n",
      "Epoch 5/40\n",
      "1313/1313 [==============================] - 4s 3ms/step - loss: 0.0984 - accuracy: 0.9746 - val_loss: 0.0944 - val_accuracy: 0.9745\n",
      "Epoch 6/40\n",
      "1313/1313 [==============================] - 4s 3ms/step - loss: 0.0823 - accuracy: 0.9786 - val_loss: 0.1046 - val_accuracy: 0.9741\n",
      "Epoch 7/40\n",
      "1313/1313 [==============================] - 4s 3ms/step - loss: 0.0822 - accuracy: 0.9790 - val_loss: 0.0798 - val_accuracy: 0.9789\n",
      "Epoch 8/40\n",
      "1313/1313 [==============================] - 5s 3ms/step - loss: 0.0676 - accuracy: 0.9824 - val_loss: 0.0905 - val_accuracy: 0.9772\n",
      "Epoch 9/40\n",
      "1313/1313 [==============================] - 4s 3ms/step - loss: 0.0675 - accuracy: 0.9828 - val_loss: 0.0998 - val_accuracy: 0.9778\n",
      "Epoch 10/40\n",
      "1313/1313 [==============================] - 4s 3ms/step - loss: 0.0597 - accuracy: 0.9846 - val_loss: 0.0951 - val_accuracy: 0.9799\n",
      "Epoch 11/40\n",
      "1313/1313 [==============================] - 4s 3ms/step - loss: 0.0579 - accuracy: 0.9848 - val_loss: 0.1077 - val_accuracy: 0.9777\n",
      "Epoch 12/40\n",
      "1313/1313 [==============================] - 4s 3ms/step - loss: 0.0528 - accuracy: 0.9861 - val_loss: 0.1089 - val_accuracy: 0.9794\n",
      "Epoch 13/40\n",
      "1313/1313 [==============================] - 4s 3ms/step - loss: 0.0494 - accuracy: 0.9873 - val_loss: 0.1072 - val_accuracy: 0.9777\n",
      "Epoch 14/40\n",
      "1313/1313 [==============================] - 4s 3ms/step - loss: 0.0506 - accuracy: 0.9877 - val_loss: 0.0996 - val_accuracy: 0.9776\n",
      "Epoch 15/40\n",
      "1313/1313 [==============================] - 4s 3ms/step - loss: 0.0509 - accuracy: 0.9878 - val_loss: 0.1060 - val_accuracy: 0.9799\n",
      "Epoch 16/40\n",
      "1313/1313 [==============================] - 4s 3ms/step - loss: 0.0441 - accuracy: 0.9892 - val_loss: 0.1160 - val_accuracy: 0.9777\n",
      "Epoch 17/40\n",
      "1313/1313 [==============================] - 4s 3ms/step - loss: 0.0422 - accuracy: 0.9899 - val_loss: 0.1002 - val_accuracy: 0.9792\n",
      "Epoch 18/40\n",
      "1313/1313 [==============================] - 4s 3ms/step - loss: 0.0405 - accuracy: 0.9899 - val_loss: 0.1058 - val_accuracy: 0.9802\n",
      "Epoch 19/40\n",
      "1313/1313 [==============================] - 4s 3ms/step - loss: 0.0384 - accuracy: 0.9909 - val_loss: 0.1279 - val_accuracy: 0.9786\n",
      "Epoch 20/40\n",
      "1313/1313 [==============================] - 4s 3ms/step - loss: 0.0395 - accuracy: 0.9903 - val_loss: 0.1418 - val_accuracy: 0.9783\n",
      "Epoch 21/40\n",
      "1313/1313 [==============================] - 4s 3ms/step - loss: 0.0419 - accuracy: 0.9907 - val_loss: 0.1141 - val_accuracy: 0.9788\n",
      "Epoch 22/40\n",
      "1313/1313 [==============================] - 4s 3ms/step - loss: 0.0403 - accuracy: 0.9907 - val_loss: 0.1112 - val_accuracy: 0.9796\n",
      "Epoch 23/40\n",
      "1313/1313 [==============================] - 4s 3ms/step - loss: 0.0392 - accuracy: 0.9915 - val_loss: 0.1152 - val_accuracy: 0.9799\n",
      "Epoch 24/40\n",
      "1313/1313 [==============================] - 4s 3ms/step - loss: 0.0323 - accuracy: 0.9929 - val_loss: 0.1312 - val_accuracy: 0.9793\n",
      "Epoch 25/40\n",
      "1313/1313 [==============================] - 4s 3ms/step - loss: 0.0356 - accuracy: 0.9917 - val_loss: 0.1101 - val_accuracy: 0.9794\n",
      "Epoch 26/40\n",
      "1313/1313 [==============================] - 4s 3ms/step - loss: 0.0319 - accuracy: 0.9923 - val_loss: 0.1380 - val_accuracy: 0.9808\n",
      "Epoch 27/40\n",
      "1313/1313 [==============================] - 4s 3ms/step - loss: 0.0312 - accuracy: 0.9925 - val_loss: 0.1411 - val_accuracy: 0.9801\n",
      "Epoch 28/40\n",
      "1313/1313 [==============================] - 4s 3ms/step - loss: 0.0339 - accuracy: 0.9923 - val_loss: 0.1458 - val_accuracy: 0.9807\n",
      "Epoch 29/40\n",
      "1313/1313 [==============================] - 4s 3ms/step - loss: 0.0305 - accuracy: 0.9932 - val_loss: 0.1591 - val_accuracy: 0.9799\n",
      "Epoch 30/40\n",
      "1313/1313 [==============================] - 4s 3ms/step - loss: 0.0300 - accuracy: 0.9936 - val_loss: 0.1380 - val_accuracy: 0.9809\n",
      "Epoch 31/40\n",
      "1313/1313 [==============================] - 4s 3ms/step - loss: 0.0263 - accuracy: 0.9937 - val_loss: 0.1707 - val_accuracy: 0.9807\n",
      "Epoch 32/40\n",
      "1313/1313 [==============================] - 4s 3ms/step - loss: 0.0332 - accuracy: 0.9926 - val_loss: 0.1354 - val_accuracy: 0.9797\n",
      "Epoch 33/40\n",
      "1313/1313 [==============================] - 4s 3ms/step - loss: 0.0320 - accuracy: 0.9936 - val_loss: 0.1387 - val_accuracy: 0.9811\n",
      "Epoch 34/40\n",
      "1313/1313 [==============================] - 4s 3ms/step - loss: 0.0246 - accuracy: 0.9950 - val_loss: 0.1778 - val_accuracy: 0.9808\n",
      "Epoch 35/40\n",
      "1313/1313 [==============================] - 4s 3ms/step - loss: 0.0322 - accuracy: 0.9939 - val_loss: 0.1643 - val_accuracy: 0.9782\n",
      "Epoch 36/40\n",
      "1313/1313 [==============================] - 4s 3ms/step - loss: 0.0329 - accuracy: 0.9937 - val_loss: 0.1402 - val_accuracy: 0.9797\n",
      "Epoch 37/40\n",
      "1313/1313 [==============================] - 4s 3ms/step - loss: 0.0271 - accuracy: 0.9941 - val_loss: 0.1666 - val_accuracy: 0.9809\n",
      "Epoch 38/40\n",
      "1313/1313 [==============================] - 4s 3ms/step - loss: 0.0268 - accuracy: 0.9944 - val_loss: 0.1560 - val_accuracy: 0.9806\n",
      "Epoch 39/40\n",
      "1313/1313 [==============================] - 4s 3ms/step - loss: 0.0322 - accuracy: 0.9941 - val_loss: 0.1444 - val_accuracy: 0.9794\n",
      "Epoch 40/40\n",
      "1313/1313 [==============================] - 4s 3ms/step - loss: 0.0265 - accuracy: 0.9945 - val_loss: 0.1360 - val_accuracy: 0.9819\n"
     ]
    }
   ],
   "source": [
    "# Training model of validation\n",
    "history = model.fit(X_train, Y_train, epochs=40, validation_data=(X_valid, Y_valid))"
   ]
  },
  {
   "cell_type": "markdown",
   "metadata": {
    "colab_type": "text",
    "id": "1kL-nkQ-IyC1"
   },
   "source": [
    "##### ***Evaluating the Model***\n",
    "\n",
    "It shows a better result as in theory, which provides an accuracy of 98.19% with 0.1360 loss."
   ]
  },
  {
   "cell_type": "code",
   "execution_count": 0,
   "metadata": {
    "colab": {
     "base_uri": "https://localhost:8080/",
     "height": 406
    },
    "colab_type": "code",
    "collapsed": false,
    "id": "Jw_B9tZrIyC1",
    "outputId": "732d7c43-94b2-4b7a-c780-dffb99c7cbdb"
   },
   "outputs": [
    {
     "data": {
      "image/png": "[encoded data removed]",
      "text/plain": [
       "<Figure size 864x432 with 1 Axes>"
      ]
     },
     "metadata": {
      "tags": []
     },
     "output_type": "display_data"
    }
   ],
   "source": [
    "# Plot Learning curve\n",
    "pd.DataFrame(history.history).plot(figsize=(12, 6))\n",
    "plt.grid(True)\n",
    "plt.gca().set_ylim(0, 1) # set the vertical range to [0-1]\n",
    "plt.title('Learning Curve', fontsize=15)\n",
    "plt.xlabel('epochs')\n",
    "plt.ylabel('Accuracy')\n",
    "plt.show()"
   ]
  },
  {
   "cell_type": "code",
   "execution_count": 0,
   "metadata": {
    "colab": {
     "base_uri": "https://localhost:8080/",
     "height": 51
    },
    "colab_type": "code",
    "collapsed": false,
    "id": "Rz2Hq_5_IyC2",
    "outputId": "8d36974a-a9b2-4b45-c768-11abcdc11523"
   },
   "outputs": [
    {
     "name": "stdout",
     "output_type": "stream",
     "text": [
      "563/563 [==============================] - 1s 2ms/step - loss: 0.1360 - accuracy: 0.9819\n"
     ]
    },
    {
     "data": {
      "text/plain": [
       "[0.13604997098445892, 0.9818888902664185]"
      ]
     },
     "execution_count": 65,
     "metadata": {
      "tags": []
     },
     "output_type": "execute_result"
    }
   ],
   "source": [
    "model.evaluate(X_valid, Y_valid)"
   ]
  },
  {
   "cell_type": "markdown",
   "metadata": {
    "colab_type": "text",
    "id": "ffl4QpNfIyC2"
   },
   "source": [
    "##### ***Making prediction***"
   ]
  },
  {
   "cell_type": "code",
   "execution_count": 0,
   "metadata": {
    "colab": {
     "base_uri": "https://localhost:8080/",
     "height": 34
    },
    "colab_type": "code",
    "collapsed": false,
    "id": "cRnYl9LwIyC2",
    "outputId": "2f8f60a2-a14b-40cf-8917-8c2b6da57bbf",
    "scrolled": true
   },
   "outputs": [
    {
     "data": {
      "text/plain": [
       "array([0, 1, 2, ..., 8, 9, 9])"
      ]
     },
     "execution_count": 66,
     "metadata": {
      "tags": []
     },
     "output_type": "execute_result"
    }
   ],
   "source": [
    "predictions_test = model.predict_classes(X_test)\n",
    "predictions_test"
   ]
  },
  {
   "cell_type": "markdown",
   "metadata": {
    "colab_type": "text",
    "id": "vroCHH7HHNdW"
   },
   "source": [
    "#### **3.3.3 The Convolutional Neural Network (CNN)**\n",
    "Another model is called \"Convolutional Neural Networks\". It is a subset of deep neural network that widely used to analyse imagery. There are many architectures for the CNN approach. However, the excellent design should provide the highest accuracy, while computational complexity was minimised. The advantage of CNN method is parameters of CNN much less than a fully connected network. Thus, the computational complexity can be reduced. In this section would provide the way to predict by using CNN model from the testing set, which is provided in-class.\n",
    "\n",
    "\n",
    "##### ***CNN Technique using LeNet-5 Architecture***\n",
    "LeNet-5 model is one of the most well-known CNN architectures, and it was built by Yann LeCun in 1998. Many researchers used this architecture for hand-written digit recognition (MNIST) for the excellent results. The Kannada (MNIST) is similar to the MNIST, which can use the LeNet-5 to train our model.\n",
    "\n",
    "##### ***Data Preparation for LeNet-5***\n",
    "There are several important details for this architecture. The input of LeNet-5 is 32x32 pixels. Therefore, it can use zero-padding to this dataset to be 32x32 pixels. Padding technique can help to preserve information on the edge of pictures. However, the dataset should be normalised before feeding into the network.\n",
    "\n",
    "[More detail about LeNet-5 architecture can be found here.](http://yann.lecun.com/exdb/publis/pdf/lecun-01a.pdf)"
   ]
  },
  {
   "cell_type": "code",
   "execution_count": 0,
   "metadata": {
    "colab": {
     "base_uri": "https://localhost:8080/",
     "height": 34
    },
    "colab_type": "code",
    "collapsed": false,
    "id": "vLHFNkD7IyC4",
    "outputId": "330f4553-323e-471a-c720-bf11beb886a0"
   },
   "outputs": [
    {
     "name": "stdout",
     "output_type": "stream",
     "text": [
      "Updated Image Shape: (32, 32, 1)\n"
     ]
    }
   ],
   "source": [
    "# Padding images with 0s\n",
    "X_train_LeNet5 = np.pad(X_train_i, ((0,0),(2,2),(2,2),(0,0)), 'constant')\n",
    "X_valid_LeNet5 = np.pad(X_valid_i, ((0,0),(2,2),(2,2),(0,0)), 'constant')\n",
    "X_test_LeNet5 = np.pad(X_test_i, ((0,0),(2,2),(2,2),(0,0)), 'constant')\n",
    "\n",
    "Y_train_LeNet5 = Y_train_i\n",
    "Y_valid_LeNet5 = Y_valid_i\n",
    "\n",
    "print(\"Updated Image Shape: {}\".format(X_train_LeNet5[0].shape))"
   ]
  },
  {
   "cell_type": "markdown",
   "metadata": {
    "colab_type": "text",
    "id": "dKrUzYN1PYhl"
   },
   "source": [
    "#### **Hyperparameters Fine-Tuning for CNN Approach**\n",
    "\n",
    "- ***Learning Rate***: One of the most critical hyperparameters is the learning rate. Generally speaking, the average learning rate is about half the actual learning rate.\n",
    "\n",
    "- ***Batch Size***: The batch size will have a significant effect on the efficiency and training time of your model. Furthermore, the optimum batch size would usually be smaller than 32, in April 2018, Yann Lecun said that \"Friends don't let friends use mini-batches greater than 32\".\n",
    "\n",
    "- ***The number of training iterations***: In many cases, the iteration number does not seem necessary because of the early stopping technique. For more details about early stopping can be found below."
   ]
  },
  {
   "cell_type": "code",
   "execution_count": 0,
   "metadata": {
    "colab": {
     "base_uri": "https://localhost:8080/",
     "height": 431
    },
    "colab_type": "code",
    "collapsed": false,
    "id": "Ohie5dajIyC5",
    "outputId": "8db38e56-b96d-4d2a-80c3-1bbcad616d01"
   },
   "outputs": [
    {
     "name": "stdout",
     "output_type": "stream",
     "text": [
      "Model: \"sequential\"\n",
      "_________________________________________________________________\n",
      "Layer (type)                 Output Shape              Param #   \n",
      "=================================================================\n",
      "conv2d (Conv2D)              (None, 30, 30, 6)         60        \n",
      "_________________________________________________________________\n",
      "average_pooling2d (AveragePo (None, 15, 15, 6)         0         \n",
      "_________________________________________________________________\n",
      "conv2d_1 (Conv2D)            (None, 13, 13, 16)        880       \n",
      "_________________________________________________________________\n",
      "average_pooling2d_1 (Average (None, 6, 6, 16)          0         \n",
      "_________________________________________________________________\n",
      "flatten (Flatten)            (None, 576)               0         \n",
      "_________________________________________________________________\n",
      "dense (Dense)                (None, 120)               69240     \n",
      "_________________________________________________________________\n",
      "dense_1 (Dense)              (None, 84)                10164     \n",
      "_________________________________________________________________\n",
      "dense_2 (Dense)              (None, 10)                850       \n",
      "=================================================================\n",
      "Total params: 81,194\n",
      "Trainable params: 81,194\n",
      "Non-trainable params: 0\n",
      "_________________________________________________________________\n"
     ]
    }
   ],
   "source": [
    "# Perform layers\n",
    "model = tf.keras.models.Sequential([\n",
    "    tf.keras.layers.Conv2D(filters=6, kernel_size=(3, 3), activation='relu', input_shape=(32,32,1)),\n",
    "    tf.keras.layers.AveragePooling2D(),\n",
    "    tf.keras.layers.Conv2D(filters=16, kernel_size=(3, 3), activation='relu'),\n",
    "    tf.keras.layers.AveragePooling2D(),\n",
    "    tf.keras.layers.Flatten(),\n",
    "    tf.keras.layers.Dense(units=120, activation='relu'),\n",
    "    tf.keras.layers.Dense(units=84, activation='relu'),\n",
    "    tf.keras.layers.Dense(units=10, activation = 'softmax')\n",
    "])\n",
    "\n",
    "# Displays all model's layers\n",
    "model.summary()"
   ]
  },
  {
   "cell_type": "markdown",
   "metadata": {
    "colab_type": "text",
    "id": "AKz5t81YhUPz"
   },
   "source": [
    "##### ***Compiling and Fitting the Model***\n",
    "\n",
    "A number of batch size and epochs for CNN will be discussed in the following part. However, we will start using batch size is 128 with 100 epochs to train our model."
   ]
  },
  {
   "cell_type": "code",
   "execution_count": 0,
   "metadata": {
    "colab": {},
    "colab_type": "code",
    "collapsed": true,
    "id": "FDgOo91dIyC6"
   },
   "outputs": [],
   "source": [
    "from tensorflow.keras.optimizers import Adam\n",
    "\n",
    "optimizer = Adam(learning_rate=0.001, beta_1=0.9, beta_2=0.999, amsgrad=False)\n",
    "model.compile(loss='categorical_crossentropy', optimizer=optimizer, metrics=['accuracy'])"
   ]
  },
  {
   "cell_type": "code",
   "execution_count": 0,
   "metadata": {
    "colab": {
     "base_uri": "https://localhost:8080/",
     "height": 1000
    },
    "colab_type": "code",
    "collapsed": false,
    "id": "N5YWT-foIyC7",
    "outputId": "0fc94a01-ac40-4372-e1b3-7321a0246687"
   },
   "outputs": [
    {
     "name": "stdout",
     "output_type": "stream",
     "text": [
      "Epoch 1/200\n",
      "329/329 [==============================] - 1s 4ms/step - loss: 0.4229 - accuracy: 0.8880 - val_loss: 0.1688 - val_accuracy: 0.9537\n",
      "Epoch 2/200\n",
      "329/329 [==============================] - 1s 4ms/step - loss: 0.1240 - accuracy: 0.9640 - val_loss: 0.1088 - val_accuracy: 0.9702\n",
      "Epoch 3/200\n",
      "329/329 [==============================] - 1s 4ms/step - loss: 0.0877 - accuracy: 0.9737 - val_loss: 0.0854 - val_accuracy: 0.9758\n",
      "Epoch 4/200\n",
      "329/329 [==============================] - 1s 4ms/step - loss: 0.0703 - accuracy: 0.9778 - val_loss: 0.0763 - val_accuracy: 0.9769\n",
      "Epoch 5/200\n",
      "329/329 [==============================] - 1s 4ms/step - loss: 0.0588 - accuracy: 0.9815 - val_loss: 0.0681 - val_accuracy: 0.9804\n",
      "Epoch 6/200\n",
      "329/329 [==============================] - 1s 4ms/step - loss: 0.0505 - accuracy: 0.9839 - val_loss: 0.0647 - val_accuracy: 0.9803\n",
      "Epoch 7/200\n",
      "329/329 [==============================] - 1s 4ms/step - loss: 0.0447 - accuracy: 0.9855 - val_loss: 0.0571 - val_accuracy: 0.9827\n",
      "Epoch 8/200\n",
      "329/329 [==============================] - 1s 4ms/step - loss: 0.0366 - accuracy: 0.9882 - val_loss: 0.0544 - val_accuracy: 0.9833\n",
      "Epoch 9/200\n",
      "329/329 [==============================] - 1s 4ms/step - loss: 0.0327 - accuracy: 0.9895 - val_loss: 0.0585 - val_accuracy: 0.9835\n",
      "Epoch 10/200\n",
      "329/329 [==============================] - 1s 4ms/step - loss: 0.0290 - accuracy: 0.9905 - val_loss: 0.0538 - val_accuracy: 0.9837\n",
      "Epoch 11/200\n",
      "329/329 [==============================] - 1s 4ms/step - loss: 0.0263 - accuracy: 0.9910 - val_loss: 0.0573 - val_accuracy: 0.9838\n",
      "Epoch 12/200\n",
      "329/329 [==============================] - 1s 4ms/step - loss: 0.0261 - accuracy: 0.9911 - val_loss: 0.0536 - val_accuracy: 0.9848\n",
      "Epoch 13/200\n",
      "329/329 [==============================] - 1s 4ms/step - loss: 0.0210 - accuracy: 0.9932 - val_loss: 0.0521 - val_accuracy: 0.9857\n",
      "Epoch 14/200\n",
      "329/329 [==============================] - 1s 4ms/step - loss: 0.0195 - accuracy: 0.9938 - val_loss: 0.0520 - val_accuracy: 0.9862\n",
      "Epoch 15/200\n",
      "329/329 [==============================] - 1s 4ms/step - loss: 0.0170 - accuracy: 0.9944 - val_loss: 0.0563 - val_accuracy: 0.9849\n",
      "Epoch 16/200\n",
      "329/329 [==============================] - 1s 4ms/step - loss: 0.0158 - accuracy: 0.9951 - val_loss: 0.0538 - val_accuracy: 0.9866\n",
      "Epoch 17/200\n",
      "329/329 [==============================] - 1s 4ms/step - loss: 0.0136 - accuracy: 0.9953 - val_loss: 0.0521 - val_accuracy: 0.9863\n",
      "Epoch 18/200\n",
      "329/329 [==============================] - 1s 4ms/step - loss: 0.0127 - accuracy: 0.9957 - val_loss: 0.0611 - val_accuracy: 0.9856\n",
      "Epoch 19/200\n",
      "329/329 [==============================] - 1s 4ms/step - loss: 0.0111 - accuracy: 0.9961 - val_loss: 0.0502 - val_accuracy: 0.9867\n",
      "Epoch 20/200\n",
      "329/329 [==============================] - 1s 4ms/step - loss: 0.0107 - accuracy: 0.9966 - val_loss: 0.0544 - val_accuracy: 0.9860\n",
      "Epoch 21/200\n",
      "329/329 [==============================] - 1s 4ms/step - loss: 0.0094 - accuracy: 0.9967 - val_loss: 0.0680 - val_accuracy: 0.9848\n",
      "Epoch 22/200\n",
      "329/329 [==============================] - 1s 4ms/step - loss: 0.0099 - accuracy: 0.9967 - val_loss: 0.0581 - val_accuracy: 0.9867\n",
      "Epoch 23/200\n",
      "329/329 [==============================] - 1s 4ms/step - loss: 0.0090 - accuracy: 0.9970 - val_loss: 0.0635 - val_accuracy: 0.9853\n",
      "Epoch 24/200\n",
      "329/329 [==============================] - 1s 4ms/step - loss: 0.0075 - accuracy: 0.9972 - val_loss: 0.0748 - val_accuracy: 0.9839\n",
      "Epoch 25/200\n",
      "329/329 [==============================] - 1s 4ms/step - loss: 0.0076 - accuracy: 0.9977 - val_loss: 0.0662 - val_accuracy: 0.9863\n",
      "Epoch 26/200\n",
      "329/329 [==============================] - 1s 4ms/step - loss: 0.0063 - accuracy: 0.9980 - val_loss: 0.0621 - val_accuracy: 0.9866\n",
      "Epoch 27/200\n",
      "329/329 [==============================] - 1s 4ms/step - loss: 0.0056 - accuracy: 0.9980 - val_loss: 0.0749 - val_accuracy: 0.9837\n",
      "Epoch 28/200\n",
      "329/329 [==============================] - 1s 4ms/step - loss: 0.0051 - accuracy: 0.9981 - val_loss: 0.0698 - val_accuracy: 0.9862\n",
      "Epoch 29/200\n",
      "329/329 [==============================] - 1s 4ms/step - loss: 0.0077 - accuracy: 0.9974 - val_loss: 0.0671 - val_accuracy: 0.9858\n",
      "Epoch 30/200\n",
      "329/329 [==============================] - 1s 4ms/step - loss: 0.0057 - accuracy: 0.9982 - val_loss: 0.0765 - val_accuracy: 0.9851\n",
      "Epoch 31/200\n",
      "329/329 [==============================] - 1s 4ms/step - loss: 0.0064 - accuracy: 0.9978 - val_loss: 0.0639 - val_accuracy: 0.9866\n",
      "Epoch 32/200\n",
      "329/329 [==============================] - 1s 4ms/step - loss: 0.0036 - accuracy: 0.9988 - val_loss: 0.0749 - val_accuracy: 0.9854\n",
      "Epoch 33/200\n",
      "329/329 [==============================] - 1s 4ms/step - loss: 0.0029 - accuracy: 0.9989 - val_loss: 0.0709 - val_accuracy: 0.9867\n",
      "Epoch 34/200\n",
      "329/329 [==============================] - 1s 4ms/step - loss: 0.0084 - accuracy: 0.9973 - val_loss: 0.0718 - val_accuracy: 0.9862\n",
      "Epoch 35/200\n",
      "329/329 [==============================] - 1s 4ms/step - loss: 0.0031 - accuracy: 0.9990 - val_loss: 0.0687 - val_accuracy: 0.9867\n",
      "Epoch 36/200\n",
      "329/329 [==============================] - 1s 4ms/step - loss: 0.0037 - accuracy: 0.9988 - val_loss: 0.0702 - val_accuracy: 0.9877\n",
      "Epoch 37/200\n",
      "329/329 [==============================] - 1s 4ms/step - loss: 0.0024 - accuracy: 0.9993 - val_loss: 0.0693 - val_accuracy: 0.9878\n",
      "Epoch 38/200\n",
      "329/329 [==============================] - 1s 4ms/step - loss: 0.0027 - accuracy: 0.9992 - val_loss: 0.0733 - val_accuracy: 0.9879\n",
      "Epoch 39/200\n",
      "329/329 [==============================] - 1s 4ms/step - loss: 0.0045 - accuracy: 0.9987 - val_loss: 0.0708 - val_accuracy: 0.9870\n",
      "Epoch 40/200\n",
      "329/329 [==============================] - 1s 4ms/step - loss: 0.0090 - accuracy: 0.9968 - val_loss: 0.0713 - val_accuracy: 0.9858\n",
      "Epoch 41/200\n",
      "329/329 [==============================] - 1s 4ms/step - loss: 0.0028 - accuracy: 0.9991 - val_loss: 0.0724 - val_accuracy: 0.9859\n",
      "Epoch 42/200\n",
      "329/329 [==============================] - 1s 4ms/step - loss: 0.0030 - accuracy: 0.9992 - val_loss: 0.0705 - val_accuracy: 0.9871\n",
      "Epoch 43/200\n",
      "329/329 [==============================] - 1s 4ms/step - loss: 0.0015 - accuracy: 0.9995 - val_loss: 0.0705 - val_accuracy: 0.9871\n",
      "Epoch 44/200\n",
      "329/329 [==============================] - 1s 4ms/step - loss: 0.0038 - accuracy: 0.9988 - val_loss: 0.0690 - val_accuracy: 0.9864\n",
      "Epoch 45/200\n",
      "329/329 [==============================] - 1s 4ms/step - loss: 0.0011 - accuracy: 0.9998 - val_loss: 0.0752 - val_accuracy: 0.9869\n",
      "Epoch 46/200\n",
      "329/329 [==============================] - 1s 4ms/step - loss: 4.1863e-04 - accuracy: 0.9999 - val_loss: 0.0757 - val_accuracy: 0.9872\n",
      "Epoch 47/200\n",
      "329/329 [==============================] - 1s 4ms/step - loss: 1.2636e-04 - accuracy: 1.0000 - val_loss: 0.0755 - val_accuracy: 0.9877\n",
      "Epoch 48/200\n",
      "329/329 [==============================] - 1s 4ms/step - loss: 6.8697e-05 - accuracy: 1.0000 - val_loss: 0.0765 - val_accuracy: 0.9880\n",
      "Epoch 49/200\n",
      "329/329 [==============================] - 1s 4ms/step - loss: 6.1212e-05 - accuracy: 1.0000 - val_loss: 0.0809 - val_accuracy: 0.9876\n",
      "Epoch 50/200\n",
      "329/329 [==============================] - 1s 4ms/step - loss: 0.0130 - accuracy: 0.9956 - val_loss: 0.0621 - val_accuracy: 0.9861\n",
      "Epoch 51/200\n",
      "329/329 [==============================] - 1s 4ms/step - loss: 0.0040 - accuracy: 0.9986 - val_loss: 0.0801 - val_accuracy: 0.9847\n",
      "Epoch 52/200\n",
      "329/329 [==============================] - 1s 4ms/step - loss: 0.0025 - accuracy: 0.9992 - val_loss: 0.0729 - val_accuracy: 0.9873\n",
      "Epoch 53/200\n",
      "329/329 [==============================] - 1s 4ms/step - loss: 0.0015 - accuracy: 0.9995 - val_loss: 0.0723 - val_accuracy: 0.9881\n",
      "Epoch 54/200\n",
      "329/329 [==============================] - 1s 4ms/step - loss: 0.0014 - accuracy: 0.9997 - val_loss: 0.0876 - val_accuracy: 0.9865\n",
      "Epoch 55/200\n",
      "329/329 [==============================] - 1s 4ms/step - loss: 0.0049 - accuracy: 0.9985 - val_loss: 0.0769 - val_accuracy: 0.9867\n",
      "Epoch 56/200\n",
      "329/329 [==============================] - 1s 4ms/step - loss: 0.0015 - accuracy: 0.9995 - val_loss: 0.0681 - val_accuracy: 0.9883\n",
      "Epoch 57/200\n",
      "329/329 [==============================] - 1s 4ms/step - loss: 3.0409e-04 - accuracy: 1.0000 - val_loss: 0.0714 - val_accuracy: 0.9880\n",
      "Epoch 58/200\n",
      "329/329 [==============================] - 1s 4ms/step - loss: 1.6169e-04 - accuracy: 1.0000 - val_loss: 0.0703 - val_accuracy: 0.9885\n",
      "Epoch 59/200\n",
      "329/329 [==============================] - 1s 4ms/step - loss: 5.5055e-05 - accuracy: 1.0000 - val_loss: 0.0725 - val_accuracy: 0.9884\n",
      "Epoch 60/200\n",
      "329/329 [==============================] - 1s 4ms/step - loss: 2.9545e-05 - accuracy: 1.0000 - val_loss: 0.0742 - val_accuracy: 0.9886\n",
      "Epoch 61/200\n",
      "329/329 [==============================] - 1s 4ms/step - loss: 2.3099e-05 - accuracy: 1.0000 - val_loss: 0.0770 - val_accuracy: 0.9884\n",
      "Epoch 62/200\n",
      "329/329 [==============================] - 1s 4ms/step - loss: 1.9135e-05 - accuracy: 1.0000 - val_loss: 0.0782 - val_accuracy: 0.9886\n",
      "Epoch 63/200\n",
      "329/329 [==============================] - 1s 4ms/step - loss: 1.6347e-05 - accuracy: 1.0000 - val_loss: 0.0792 - val_accuracy: 0.9885\n",
      "Epoch 64/200\n",
      "329/329 [==============================] - 1s 4ms/step - loss: 1.3488e-05 - accuracy: 1.0000 - val_loss: 0.0806 - val_accuracy: 0.9883\n",
      "Epoch 65/200\n",
      "329/329 [==============================] - 1s 4ms/step - loss: 1.0851e-05 - accuracy: 1.0000 - val_loss: 0.0822 - val_accuracy: 0.9883\n",
      "Epoch 66/200\n",
      "329/329 [==============================] - 1s 4ms/step - loss: 9.2148e-06 - accuracy: 1.0000 - val_loss: 0.0844 - val_accuracy: 0.9883\n",
      "Epoch 67/200\n",
      "329/329 [==============================] - 1s 4ms/step - loss: 7.8521e-06 - accuracy: 1.0000 - val_loss: 0.0854 - val_accuracy: 0.9883\n",
      "Epoch 68/200\n",
      "329/329 [==============================] - 1s 4ms/step - loss: 6.4744e-06 - accuracy: 1.0000 - val_loss: 0.0868 - val_accuracy: 0.9881\n",
      "Epoch 69/200\n",
      "329/329 [==============================] - 1s 4ms/step - loss: 5.4356e-06 - accuracy: 1.0000 - val_loss: 0.0881 - val_accuracy: 0.9885\n",
      "Epoch 70/200\n",
      "329/329 [==============================] - 1s 4ms/step - loss: 4.8239e-06 - accuracy: 1.0000 - val_loss: 0.0904 - val_accuracy: 0.9882\n",
      "Epoch 71/200\n",
      "329/329 [==============================] - 1s 4ms/step - loss: 3.8524e-06 - accuracy: 1.0000 - val_loss: 0.0913 - val_accuracy: 0.9882\n",
      "Epoch 72/200\n",
      "329/329 [==============================] - 1s 4ms/step - loss: 3.2491e-06 - accuracy: 1.0000 - val_loss: 0.0928 - val_accuracy: 0.9881\n",
      "Epoch 73/200\n",
      "329/329 [==============================] - 1s 4ms/step - loss: 2.7953e-06 - accuracy: 1.0000 - val_loss: 0.0950 - val_accuracy: 0.9882\n",
      "Epoch 74/200\n",
      "329/329 [==============================] - 1s 4ms/step - loss: 2.4357e-06 - accuracy: 1.0000 - val_loss: 0.0961 - val_accuracy: 0.9883\n",
      "Epoch 75/200\n",
      "329/329 [==============================] - 1s 4ms/step - loss: 1.9301e-06 - accuracy: 1.0000 - val_loss: 0.0974 - val_accuracy: 0.9883\n",
      "Epoch 76/200\n",
      "329/329 [==============================] - 1s 4ms/step - loss: 1.8432e-06 - accuracy: 1.0000 - val_loss: 0.1004 - val_accuracy: 0.9882\n",
      "Epoch 77/200\n",
      "329/329 [==============================] - 1s 4ms/step - loss: 1.5433e-06 - accuracy: 1.0000 - val_loss: 0.1006 - val_accuracy: 0.9883\n",
      "Epoch 78/200\n",
      "329/329 [==============================] - 1s 4ms/step - loss: 1.1497e-06 - accuracy: 1.0000 - val_loss: 0.1024 - val_accuracy: 0.9881\n",
      "Epoch 79/200\n",
      "329/329 [==============================] - 1s 4ms/step - loss: 1.0252e-06 - accuracy: 1.0000 - val_loss: 0.1047 - val_accuracy: 0.9880\n",
      "Epoch 80/200\n",
      "329/329 [==============================] - 1s 4ms/step - loss: 7.8921e-07 - accuracy: 1.0000 - val_loss: 0.1059 - val_accuracy: 0.9881\n",
      "Epoch 81/200\n",
      "329/329 [==============================] - 1s 4ms/step - loss: 6.8422e-07 - accuracy: 1.0000 - val_loss: 0.1070 - val_accuracy: 0.9881\n",
      "Epoch 82/200\n",
      "329/329 [==============================] - 1s 4ms/step - loss: 5.9731e-07 - accuracy: 1.0000 - val_loss: 0.1091 - val_accuracy: 0.9883\n",
      "Epoch 83/200\n",
      "329/329 [==============================] - 1s 4ms/step - loss: 4.7429e-07 - accuracy: 1.0000 - val_loss: 0.1108 - val_accuracy: 0.9883\n",
      "Epoch 84/200\n",
      "329/329 [==============================] - 1s 4ms/step - loss: 3.9577e-07 - accuracy: 1.0000 - val_loss: 0.1118 - val_accuracy: 0.9884\n",
      "Epoch 85/200\n",
      "329/329 [==============================] - 1s 4ms/step - loss: 3.6875e-07 - accuracy: 1.0000 - val_loss: 0.1142 - val_accuracy: 0.9883\n",
      "Epoch 86/200\n",
      "329/329 [==============================] - 1s 4ms/step - loss: 2.8301e-07 - accuracy: 1.0000 - val_loss: 0.1155 - val_accuracy: 0.9883\n",
      "Epoch 87/200\n",
      "329/329 [==============================] - 1s 4ms/step - loss: 2.3799e-07 - accuracy: 1.0000 - val_loss: 0.1175 - val_accuracy: 0.9884\n",
      "Epoch 88/200\n",
      "329/329 [==============================] - 1s 4ms/step - loss: 2.0884e-07 - accuracy: 1.0000 - val_loss: 0.1203 - val_accuracy: 0.9883\n",
      "Epoch 89/200\n",
      "329/329 [==============================] - 1s 4ms/step - loss: 2.1990e-07 - accuracy: 1.0000 - val_loss: 0.1214 - val_accuracy: 0.9883\n",
      "Epoch 90/200\n",
      "329/329 [==============================] - 1s 4ms/step - loss: 2.0931e-07 - accuracy: 1.0000 - val_loss: 0.1232 - val_accuracy: 0.9884\n",
      "Epoch 91/200\n",
      "329/329 [==============================] - 1s 4ms/step - loss: 1.1874e-07 - accuracy: 1.0000 - val_loss: 0.1224 - val_accuracy: 0.9886\n",
      "Epoch 92/200\n",
      "329/329 [==============================] - 1s 4ms/step - loss: 0.0261 - accuracy: 0.9952 - val_loss: 0.0685 - val_accuracy: 0.9849\n",
      "Epoch 93/200\n",
      "329/329 [==============================] - 1s 4ms/step - loss: 0.0047 - accuracy: 0.9984 - val_loss: 0.0689 - val_accuracy: 0.9876\n",
      "Epoch 94/200\n",
      "329/329 [==============================] - 1s 4ms/step - loss: 8.3208e-04 - accuracy: 0.9998 - val_loss: 0.0729 - val_accuracy: 0.9876\n",
      "Epoch 95/200\n",
      "329/329 [==============================] - 1s 4ms/step - loss: 5.3594e-04 - accuracy: 0.9999 - val_loss: 0.0731 - val_accuracy: 0.9880\n",
      "Epoch 96/200\n",
      "329/329 [==============================] - 1s 4ms/step - loss: 8.5168e-05 - accuracy: 1.0000 - val_loss: 0.0749 - val_accuracy: 0.9882\n",
      "Epoch 97/200\n",
      "329/329 [==============================] - 1s 4ms/step - loss: 5.6261e-05 - accuracy: 1.0000 - val_loss: 0.0759 - val_accuracy: 0.9882\n",
      "Epoch 98/200\n",
      "329/329 [==============================] - 1s 4ms/step - loss: 4.1921e-05 - accuracy: 1.0000 - val_loss: 0.0773 - val_accuracy: 0.9883\n",
      "Epoch 99/200\n",
      "329/329 [==============================] - 1s 4ms/step - loss: 3.1442e-05 - accuracy: 1.0000 - val_loss: 0.0790 - val_accuracy: 0.9884\n",
      "Epoch 100/200\n",
      "329/329 [==============================] - 1s 4ms/step - loss: 2.5116e-05 - accuracy: 1.0000 - val_loss: 0.0804 - val_accuracy: 0.9884\n",
      "Epoch 101/200\n",
      "329/329 [==============================] - 1s 4ms/step - loss: 2.0086e-05 - accuracy: 1.0000 - val_loss: 0.0815 - val_accuracy: 0.9887\n",
      "Epoch 102/200\n",
      "329/329 [==============================] - 1s 4ms/step - loss: 1.6714e-05 - accuracy: 1.0000 - val_loss: 0.0830 - val_accuracy: 0.9886\n",
      "Epoch 103/200\n",
      "329/329 [==============================] - 1s 4ms/step - loss: 1.3705e-05 - accuracy: 1.0000 - val_loss: 0.0843 - val_accuracy: 0.9886\n",
      "Epoch 104/200\n",
      "329/329 [==============================] - 1s 4ms/step - loss: 1.0932e-05 - accuracy: 1.0000 - val_loss: 0.0856 - val_accuracy: 0.9885\n",
      "Epoch 105/200\n",
      "329/329 [==============================] - 1s 4ms/step - loss: 9.2216e-06 - accuracy: 1.0000 - val_loss: 0.0867 - val_accuracy: 0.9886\n",
      "Epoch 106/200\n",
      "329/329 [==============================] - 1s 4ms/step - loss: 7.5700e-06 - accuracy: 1.0000 - val_loss: 0.0884 - val_accuracy: 0.9883\n",
      "Epoch 107/200\n",
      "329/329 [==============================] - 1s 4ms/step - loss: 6.4283e-06 - accuracy: 1.0000 - val_loss: 0.0892 - val_accuracy: 0.9884\n",
      "Epoch 108/200\n",
      "329/329 [==============================] - 1s 4ms/step - loss: 5.2808e-06 - accuracy: 1.0000 - val_loss: 0.0903 - val_accuracy: 0.9884\n",
      "Epoch 109/200\n",
      "329/329 [==============================] - 1s 4ms/step - loss: 4.5264e-06 - accuracy: 1.0000 - val_loss: 0.0918 - val_accuracy: 0.9885\n",
      "Epoch 110/200\n",
      "329/329 [==============================] - 1s 4ms/step - loss: 3.7152e-06 - accuracy: 1.0000 - val_loss: 0.0934 - val_accuracy: 0.9886\n",
      "Epoch 111/200\n",
      "329/329 [==============================] - 1s 4ms/step - loss: 3.1105e-06 - accuracy: 1.0000 - val_loss: 0.0946 - val_accuracy: 0.9886\n",
      "Epoch 112/200\n",
      "329/329 [==============================] - 1s 4ms/step - loss: 2.5772e-06 - accuracy: 1.0000 - val_loss: 0.0957 - val_accuracy: 0.9884\n",
      "Epoch 113/200\n",
      "329/329 [==============================] - 1s 4ms/step - loss: 2.2525e-06 - accuracy: 1.0000 - val_loss: 0.0970 - val_accuracy: 0.9886\n",
      "Epoch 114/200\n",
      "329/329 [==============================] - 1s 4ms/step - loss: 1.8655e-06 - accuracy: 1.0000 - val_loss: 0.0985 - val_accuracy: 0.9885\n",
      "Epoch 115/200\n",
      "329/329 [==============================] - 1s 4ms/step - loss: 1.6253e-06 - accuracy: 1.0000 - val_loss: 0.1005 - val_accuracy: 0.9884\n",
      "Epoch 116/200\n",
      "329/329 [==============================] - 1s 4ms/step - loss: 1.4210e-06 - accuracy: 1.0000 - val_loss: 0.1013 - val_accuracy: 0.9885\n",
      "Epoch 117/200\n",
      "329/329 [==============================] - 1s 4ms/step - loss: 1.1418e-06 - accuracy: 1.0000 - val_loss: 0.1027 - val_accuracy: 0.9886\n",
      "Epoch 118/200\n",
      "329/329 [==============================] - 1s 4ms/step - loss: 9.6953e-07 - accuracy: 1.0000 - val_loss: 0.1041 - val_accuracy: 0.9885\n",
      "Epoch 119/200\n",
      "329/329 [==============================] - 1s 4ms/step - loss: 7.9842e-07 - accuracy: 1.0000 - val_loss: 0.1055 - val_accuracy: 0.9885\n",
      "Epoch 120/200\n",
      "329/329 [==============================] - 1s 4ms/step - loss: 6.7049e-07 - accuracy: 1.0000 - val_loss: 0.1070 - val_accuracy: 0.9886\n",
      "Epoch 121/200\n",
      "329/329 [==============================] - 1s 4ms/step - loss: 5.6263e-07 - accuracy: 1.0000 - val_loss: 0.1080 - val_accuracy: 0.9886\n",
      "Epoch 122/200\n",
      "329/329 [==============================] - 1s 4ms/step - loss: 4.7423e-07 - accuracy: 1.0000 - val_loss: 0.1095 - val_accuracy: 0.9884\n",
      "Epoch 123/200\n",
      "329/329 [==============================] - 1s 4ms/step - loss: 4.0617e-07 - accuracy: 1.0000 - val_loss: 0.1113 - val_accuracy: 0.9884\n",
      "Epoch 124/200\n",
      "329/329 [==============================] - 1s 4ms/step - loss: 3.4357e-07 - accuracy: 1.0000 - val_loss: 0.1125 - val_accuracy: 0.9885\n",
      "Epoch 125/200\n",
      "329/329 [==============================] - 1s 4ms/step - loss: 2.8707e-07 - accuracy: 1.0000 - val_loss: 0.1137 - val_accuracy: 0.9885\n",
      "Epoch 126/200\n",
      "329/329 [==============================] - 1s 4ms/step - loss: 2.4299e-07 - accuracy: 1.0000 - val_loss: 0.1150 - val_accuracy: 0.9886\n",
      "Epoch 127/200\n",
      "329/329 [==============================] - 1s 4ms/step - loss: 2.0488e-07 - accuracy: 1.0000 - val_loss: 0.1167 - val_accuracy: 0.9884\n",
      "Epoch 128/200\n",
      "329/329 [==============================] - 1s 4ms/step - loss: 1.7316e-07 - accuracy: 1.0000 - val_loss: 0.1187 - val_accuracy: 0.9884\n",
      "Epoch 129/200\n",
      "329/329 [==============================] - 1s 4ms/step - loss: 1.5145e-07 - accuracy: 1.0000 - val_loss: 0.1192 - val_accuracy: 0.9884\n",
      "Epoch 130/200\n",
      "329/329 [==============================] - 1s 4ms/step - loss: 1.2437e-07 - accuracy: 1.0000 - val_loss: 0.1209 - val_accuracy: 0.9885\n",
      "Epoch 131/200\n",
      "329/329 [==============================] - 1s 4ms/step - loss: 1.0508e-07 - accuracy: 1.0000 - val_loss: 0.1223 - val_accuracy: 0.9886\n",
      "Epoch 132/200\n",
      "329/329 [==============================] - 1s 4ms/step - loss: 8.8951e-08 - accuracy: 1.0000 - val_loss: 0.1239 - val_accuracy: 0.9884\n",
      "Epoch 133/200\n",
      "329/329 [==============================] - 1s 4ms/step - loss: 8.2188e-08 - accuracy: 1.0000 - val_loss: 0.1260 - val_accuracy: 0.9883\n",
      "Epoch 134/200\n",
      "329/329 [==============================] - 1s 4ms/step - loss: 0.0205 - accuracy: 0.9959 - val_loss: 0.0801 - val_accuracy: 0.9858\n",
      "Epoch 135/200\n",
      "329/329 [==============================] - 1s 4ms/step - loss: 0.0055 - accuracy: 0.9986 - val_loss: 0.0692 - val_accuracy: 0.9884\n",
      "Epoch 136/200\n",
      "329/329 [==============================] - 1s 4ms/step - loss: 5.1579e-04 - accuracy: 0.9998 - val_loss: 0.0686 - val_accuracy: 0.9884\n",
      "Epoch 137/200\n",
      "329/329 [==============================] - 1s 4ms/step - loss: 1.0193e-04 - accuracy: 1.0000 - val_loss: 0.0714 - val_accuracy: 0.9891\n",
      "Epoch 138/200\n",
      "329/329 [==============================] - 1s 4ms/step - loss: 5.2828e-05 - accuracy: 1.0000 - val_loss: 0.0728 - val_accuracy: 0.9891\n",
      "Epoch 139/200\n",
      "329/329 [==============================] - 1s 4ms/step - loss: 3.8994e-05 - accuracy: 1.0000 - val_loss: 0.0743 - val_accuracy: 0.9891\n",
      "Epoch 140/200\n",
      "329/329 [==============================] - 1s 4ms/step - loss: 3.0848e-05 - accuracy: 1.0000 - val_loss: 0.0755 - val_accuracy: 0.9890\n",
      "Epoch 141/200\n",
      "329/329 [==============================] - 1s 4ms/step - loss: 2.4607e-05 - accuracy: 1.0000 - val_loss: 0.0769 - val_accuracy: 0.9889\n",
      "Epoch 142/200\n",
      "329/329 [==============================] - 1s 4ms/step - loss: 2.0232e-05 - accuracy: 1.0000 - val_loss: 0.0783 - val_accuracy: 0.9888\n",
      "Epoch 143/200\n",
      "329/329 [==============================] - 1s 4ms/step - loss: 1.6656e-05 - accuracy: 1.0000 - val_loss: 0.0797 - val_accuracy: 0.9888\n",
      "Epoch 144/200\n",
      "329/329 [==============================] - 1s 4ms/step - loss: 1.4183e-05 - accuracy: 1.0000 - val_loss: 0.0807 - val_accuracy: 0.9888\n",
      "Epoch 145/200\n",
      "329/329 [==============================] - 1s 4ms/step - loss: 1.1622e-05 - accuracy: 1.0000 - val_loss: 0.0818 - val_accuracy: 0.9890\n",
      "Epoch 146/200\n",
      "329/329 [==============================] - 1s 4ms/step - loss: 9.6377e-06 - accuracy: 1.0000 - val_loss: 0.0830 - val_accuracy: 0.9891\n",
      "Epoch 147/200\n",
      "329/329 [==============================] - 1s 4ms/step - loss: 8.2940e-06 - accuracy: 1.0000 - val_loss: 0.0847 - val_accuracy: 0.9889\n",
      "Epoch 148/200\n",
      "329/329 [==============================] - 1s 4ms/step - loss: 6.6977e-06 - accuracy: 1.0000 - val_loss: 0.0863 - val_accuracy: 0.9888\n",
      "Epoch 149/200\n",
      "329/329 [==============================] - 1s 4ms/step - loss: 5.7238e-06 - accuracy: 1.0000 - val_loss: 0.0869 - val_accuracy: 0.9889\n",
      "Epoch 150/200\n",
      "329/329 [==============================] - 1s 4ms/step - loss: 4.6740e-06 - accuracy: 1.0000 - val_loss: 0.0881 - val_accuracy: 0.9888\n",
      "Epoch 151/200\n",
      "329/329 [==============================] - 1s 4ms/step - loss: 3.9423e-06 - accuracy: 1.0000 - val_loss: 0.0897 - val_accuracy: 0.9889\n",
      "Epoch 152/200\n",
      "329/329 [==============================] - 1s 4ms/step - loss: 3.2810e-06 - accuracy: 1.0000 - val_loss: 0.0906 - val_accuracy: 0.9889\n",
      "Epoch 153/200\n",
      "329/329 [==============================] - 1s 4ms/step - loss: 2.7203e-06 - accuracy: 1.0000 - val_loss: 0.0925 - val_accuracy: 0.9889\n",
      "Epoch 154/200\n",
      "329/329 [==============================] - 1s 4ms/step - loss: 2.3533e-06 - accuracy: 1.0000 - val_loss: 0.0941 - val_accuracy: 0.9890\n",
      "Epoch 155/200\n",
      "329/329 [==============================] - 1s 4ms/step - loss: 1.9553e-06 - accuracy: 1.0000 - val_loss: 0.0952 - val_accuracy: 0.9891\n",
      "Epoch 156/200\n",
      "329/329 [==============================] - 1s 4ms/step - loss: 1.6037e-06 - accuracy: 1.0000 - val_loss: 0.0969 - val_accuracy: 0.9891\n",
      "Epoch 157/200\n",
      "329/329 [==============================] - 1s 4ms/step - loss: 1.3708e-06 - accuracy: 1.0000 - val_loss: 0.0977 - val_accuracy: 0.9891\n",
      "Epoch 158/200\n",
      "329/329 [==============================] - 1s 4ms/step - loss: 1.1265e-06 - accuracy: 1.0000 - val_loss: 0.0994 - val_accuracy: 0.9891\n",
      "Epoch 159/200\n",
      "329/329 [==============================] - 1s 4ms/step - loss: 9.2099e-07 - accuracy: 1.0000 - val_loss: 0.1009 - val_accuracy: 0.9890\n",
      "Epoch 160/200\n",
      "329/329 [==============================] - 1s 4ms/step - loss: 7.8208e-07 - accuracy: 1.0000 - val_loss: 0.1026 - val_accuracy: 0.9889\n",
      "Epoch 161/200\n",
      "329/329 [==============================] - 1s 4ms/step - loss: 6.9885e-07 - accuracy: 1.0000 - val_loss: 0.1034 - val_accuracy: 0.9892\n",
      "Epoch 162/200\n",
      "329/329 [==============================] - 1s 4ms/step - loss: 6.4069e-07 - accuracy: 1.0000 - val_loss: 0.1048 - val_accuracy: 0.9892\n",
      "Epoch 163/200\n",
      "329/329 [==============================] - 1s 4ms/step - loss: 4.8160e-07 - accuracy: 1.0000 - val_loss: 0.1061 - val_accuracy: 0.9891\n",
      "Epoch 164/200\n",
      "329/329 [==============================] - 1s 4ms/step - loss: 3.8577e-07 - accuracy: 1.0000 - val_loss: 0.1075 - val_accuracy: 0.9892\n",
      "Epoch 165/200\n",
      "329/329 [==============================] - 1s 4ms/step - loss: 3.2289e-07 - accuracy: 1.0000 - val_loss: 0.1091 - val_accuracy: 0.9890\n",
      "Epoch 166/200\n",
      "329/329 [==============================] - 1s 4ms/step - loss: 2.7731e-07 - accuracy: 1.0000 - val_loss: 0.1102 - val_accuracy: 0.9891\n",
      "Epoch 167/200\n",
      "329/329 [==============================] - 1s 4ms/step - loss: 2.3006e-07 - accuracy: 1.0000 - val_loss: 0.1119 - val_accuracy: 0.9892\n",
      "Epoch 168/200\n",
      "329/329 [==============================] - 1s 4ms/step - loss: 1.9003e-07 - accuracy: 1.0000 - val_loss: 0.1139 - val_accuracy: 0.9889\n",
      "Epoch 169/200\n",
      "329/329 [==============================] - 1s 4ms/step - loss: 1.6559e-07 - accuracy: 1.0000 - val_loss: 0.1150 - val_accuracy: 0.9890\n",
      "Epoch 170/200\n",
      "329/329 [==============================] - 1s 4ms/step - loss: 1.3297e-07 - accuracy: 1.0000 - val_loss: 0.1160 - val_accuracy: 0.9891\n",
      "Epoch 171/200\n",
      "329/329 [==============================] - 1s 4ms/step - loss: 1.1651e-07 - accuracy: 1.0000 - val_loss: 0.1179 - val_accuracy: 0.9889\n",
      "Epoch 172/200\n",
      "329/329 [==============================] - 1s 4ms/step - loss: 9.5051e-08 - accuracy: 1.0000 - val_loss: 0.1189 - val_accuracy: 0.9890\n",
      "Epoch 173/200\n",
      "329/329 [==============================] - 1s 4ms/step - loss: 8.1039e-08 - accuracy: 1.0000 - val_loss: 0.1208 - val_accuracy: 0.9890\n",
      "Epoch 174/200\n",
      "329/329 [==============================] - 1s 4ms/step - loss: 6.8612e-08 - accuracy: 1.0000 - val_loss: 0.1219 - val_accuracy: 0.9893\n",
      "Epoch 175/200\n",
      "329/329 [==============================] - 1s 4ms/step - loss: 5.7920e-08 - accuracy: 1.0000 - val_loss: 0.1235 - val_accuracy: 0.9891\n",
      "Epoch 176/200\n",
      "329/329 [==============================] - 1s 4ms/step - loss: 5.0832e-08 - accuracy: 1.0000 - val_loss: 0.1251 - val_accuracy: 0.9891\n",
      "Epoch 177/200\n",
      "329/329 [==============================] - 1s 4ms/step - loss: 4.0896e-08 - accuracy: 1.0000 - val_loss: 0.1261 - val_accuracy: 0.9891\n",
      "Epoch 178/200\n",
      "329/329 [==============================] - 1s 4ms/step - loss: 3.5396e-08 - accuracy: 1.0000 - val_loss: 0.1276 - val_accuracy: 0.9891\n",
      "Epoch 179/200\n",
      "329/329 [==============================] - 1s 4ms/step - loss: 2.9870e-08 - accuracy: 1.0000 - val_loss: 0.1294 - val_accuracy: 0.9892\n",
      "Epoch 180/200\n",
      "329/329 [==============================] - 1s 4ms/step - loss: 2.4704e-08 - accuracy: 1.0000 - val_loss: 0.1310 - val_accuracy: 0.9892\n",
      "Epoch 181/200\n",
      "329/329 [==============================] - 1s 4ms/step - loss: 2.1129e-08 - accuracy: 1.0000 - val_loss: 0.1323 - val_accuracy: 0.9891\n",
      "Epoch 182/200\n",
      "329/329 [==============================] - 1s 4ms/step - loss: 1.8193e-08 - accuracy: 1.0000 - val_loss: 0.1327 - val_accuracy: 0.9892\n",
      "Epoch 183/200\n",
      "329/329 [==============================] - 1s 4ms/step - loss: 1.5685e-08 - accuracy: 1.0000 - val_loss: 0.1342 - val_accuracy: 0.9891\n",
      "Epoch 184/200\n",
      "329/329 [==============================] - 1s 4ms/step - loss: 1.3248e-08 - accuracy: 1.0000 - val_loss: 0.1364 - val_accuracy: 0.9891\n",
      "Epoch 185/200\n",
      "329/329 [==============================] - 1s 4ms/step - loss: 1.1465e-08 - accuracy: 1.0000 - val_loss: 0.1371 - val_accuracy: 0.9892\n",
      "Epoch 186/200\n",
      "329/329 [==============================] - 1s 4ms/step - loss: 9.7124e-09 - accuracy: 1.0000 - val_loss: 0.1385 - val_accuracy: 0.9891\n",
      "Epoch 187/200\n",
      "329/329 [==============================] - 1s 4ms/step - loss: 8.8348e-09 - accuracy: 1.0000 - val_loss: 0.1403 - val_accuracy: 0.9890\n",
      "Epoch 188/200\n",
      "329/329 [==============================] - 1s 4ms/step - loss: 7.7789e-09 - accuracy: 1.0000 - val_loss: 0.1410 - val_accuracy: 0.9890\n",
      "Epoch 189/200\n",
      "329/329 [==============================] - 1s 4ms/step - loss: 6.2617e-09 - accuracy: 1.0000 - val_loss: 0.1422 - val_accuracy: 0.9891\n",
      "Epoch 190/200\n",
      "329/329 [==============================] - 1s 4ms/step - loss: 5.3105e-09 - accuracy: 1.0000 - val_loss: 0.1433 - val_accuracy: 0.9891\n",
      "Epoch 191/200\n",
      "329/329 [==============================] - 1s 4ms/step - loss: 4.5660e-09 - accuracy: 1.0000 - val_loss: 0.1451 - val_accuracy: 0.9889\n",
      "Epoch 192/200\n",
      "329/329 [==============================] - 1s 4ms/step - loss: 3.8640e-09 - accuracy: 1.0000 - val_loss: 0.1460 - val_accuracy: 0.9891\n",
      "Epoch 193/200\n",
      "329/329 [==============================] - 1s 4ms/step - loss: 3.4196e-09 - accuracy: 1.0000 - val_loss: 0.1471 - val_accuracy: 0.9890\n",
      "Epoch 194/200\n",
      "329/329 [==============================] - 1s 4ms/step - loss: 2.9497e-09 - accuracy: 1.0000 - val_loss: 0.1482 - val_accuracy: 0.9889\n",
      "Epoch 195/200\n",
      "329/329 [==============================] - 1s 4ms/step - loss: 2.6581e-09 - accuracy: 1.0000 - val_loss: 0.1491 - val_accuracy: 0.9889\n",
      "Epoch 196/200\n",
      "329/329 [==============================] - 1s 4ms/step - loss: 2.2674e-09 - accuracy: 1.0000 - val_loss: 0.1506 - val_accuracy: 0.9890\n",
      "Epoch 197/200\n",
      "329/329 [==============================] - 1s 4ms/step - loss: 2.0127e-09 - accuracy: 1.0000 - val_loss: 0.1515 - val_accuracy: 0.9891\n",
      "Epoch 198/200\n",
      "329/329 [==============================] - 1s 4ms/step - loss: 1.7409e-09 - accuracy: 1.0000 - val_loss: 0.1519 - val_accuracy: 0.9891\n",
      "Epoch 199/200\n",
      "329/329 [==============================] - 1s 4ms/step - loss: 1.5937e-09 - accuracy: 1.0000 - val_loss: 0.1531 - val_accuracy: 0.9889\n",
      "Epoch 200/200\n",
      "329/329 [==============================] - 1s 4ms/step - loss: 1.4324e-09 - accuracy: 1.0000 - val_loss: 0.1540 - val_accuracy: 0.9891\n"
     ]
    }
   ],
   "source": [
    "batch_size = 128\n",
    "epochs = 200\n",
    "\n",
    "history_LeNet5 = model.fit(X_train_LeNet5, Y_train_LeNet5,\n",
    "          batch_size=batch_size,\n",
    "          epochs=epochs,\n",
    "          verbose=1,\n",
    "          validation_data=(X_valid_LeNet5, Y_valid_LeNet5))\n",
    "          #callbacks=[learning_rate_reduction,es])"
   ]
  },
  {
   "cell_type": "markdown",
   "metadata": {
    "colab_type": "text",
    "id": "wC8Hoxf0ajjn"
   },
   "source": [
    "##### ***Evaluating the Model***\n",
    "\n",
    "From the learning curve graph below, It can be noticed that there is a fluctuation of validation accuracy and validation loss while training the model. It seems the SGD optimiser does not work well with this model. However, it provided the validation accuracy at 98.91%. In the following part, we will apply the data augmentation and observe the differences."
   ]
  },
  {
   "cell_type": "code",
   "execution_count": 0,
   "metadata": {
    "colab": {
     "base_uri": "https://localhost:8080/",
     "height": 406
    },
    "colab_type": "code",
    "collapsed": false,
    "id": "JFzA6Q_AV0fb",
    "outputId": "25f512a0-0881-4bc4-ea95-f907d157e078"
   },
   "outputs": [
    {
     "data": {
      "image/png": "[encoded data removed]",
      "text/plain": [
       "<Figure size 864x432 with 1 Axes>"
      ]
     },
     "metadata": {
      "tags": []
     },
     "output_type": "display_data"
    }
   ],
   "source": [
    "# Plot Learning curve\n",
    "pd.DataFrame(history_LeNet5.history).plot(figsize=(12, 6))\n",
    "plt.grid(True)\n",
    "plt.gca().set_ylim(0, 1) # set the vertical range to [0-1]\n",
    "plt.title('Learning Curve', fontsize=15)\n",
    "plt.xlabel('epochs')\n",
    "plt.ylabel('Accuracy')\n",
    "plt.show()"
   ]
  },
  {
   "cell_type": "markdown",
   "metadata": {
    "colab_type": "text",
    "id": "BIeQYlIdkUIk"
   },
   "source": [
    "##### ***Making prediction***"
   ]
  },
  {
   "cell_type": "code",
   "execution_count": 0,
   "metadata": {
    "colab": {
     "base_uri": "https://localhost:8080/",
     "height": 34
    },
    "colab_type": "code",
    "collapsed": false,
    "id": "nEYQvzhmIyC8",
    "outputId": "e0e1b9d2-662a-429a-bf6a-4062fc39f96a"
   },
   "outputs": [
    {
     "data": {
      "text/plain": [
       "array([0, 1, 2, ..., 8, 9, 9])"
      ]
     },
     "execution_count": 72,
     "metadata": {
      "tags": []
     },
     "output_type": "execute_result"
    }
   ],
   "source": [
    "predictions_test = model.predict_classes(X_test_LeNet5)\n",
    "predictions_test"
   ]
  },
  {
   "cell_type": "markdown",
   "metadata": {
    "colab_type": "text",
    "id": "0ugpucTHHZpq"
   },
   "source": [
    "#### **3.3.4 Improving the accuracy by using Data Augmentation technique**\n",
    "\n",
    "Data augmentation is used to increase the size of the training set by creating a several practical variants of each training sample. Furthermore, this is a regularisation technique that can reduce over-fitting. There are many ways to generate a new image, such as random cropping, rotation, translation, rescale, shearing, colour shifting, etc. Hence, the \"ImageDataGenerator\" fuction from Keras is used for data augmentation technique. \n",
    "\n",
    "[More details on ImageDataGenerator and their parameters](https://keras.io/preprocessing/image/)"
   ]
  },
  {
   "cell_type": "code",
   "execution_count": 0,
   "metadata": {
    "colab": {
     "base_uri": "https://localhost:8080/",
     "height": 34
    },
    "colab_type": "code",
    "collapsed": false,
    "id": "ndVJcqeXHYU3",
    "outputId": "b9fb23b0-56a9-4d44-c8be-ab74b256e1db"
   },
   "outputs": [
    {
     "name": "stderr",
     "output_type": "stream",
     "text": [
      "Using TensorFlow backend.\n"
     ]
    }
   ],
   "source": [
    "from keras.preprocessing.image import ImageDataGenerator\n",
    "\n",
    "train_augmentation = ImageDataGenerator(rotation_range = 10,\n",
    "                                   width_shift_range = 0.25,\n",
    "                                   height_shift_range = 0.25,\n",
    "                                   shear_range = 0.1,\n",
    "                                   zoom_range = 0.25,\n",
    "                                   horizontal_flip = False)\n",
    "\n",
    "valid_augmentation = ImageDataGenerator() "
   ]
  },
  {
   "cell_type": "markdown",
   "metadata": {
    "colab_type": "text",
    "id": "J1flRENhCKaP"
   },
   "source": [
    "##### ***Early Stopping***\n",
    "Early stopping method will be applied when the model is being fit. This technique is to stop training as soon as the validation error reaches a minimum. It is one of the most efficient regularisation method Geoffrey Hinton called it as a \"beautiful free lunch\"."
   ]
  },
  {
   "cell_type": "code",
   "execution_count": 0,
   "metadata": {
    "colab": {},
    "colab_type": "code",
    "collapsed": true,
    "id": "gKGxQPPNIyC7"
   },
   "outputs": [],
   "source": [
    "from tensorflow.keras.callbacks import ReduceLROnPlateau, EarlyStopping\n",
    "\n",
    "es = EarlyStopping(monitor='val_loss', mode='min', verbose=1, patience=300, restore_best_weights=True)"
   ]
  },
  {
   "cell_type": "markdown",
   "metadata": {
    "colab_type": "text",
    "id": "w385HI0tU4jp"
   },
   "source": [
    "##### ***Learning Rate Reduction***\n",
    "The learning rate reduction is used to make the optimiser converge faster and closer to the global minimum. This function can help to decrease the learning rate during the training to meet the global loss function minimum efficiently. \n",
    "\n",
    "We reduce the learning rate by half if the accuracy does not improve after 3 epochs using the ReduceLROnPlateau function from Keras.callbacks to."
   ]
  },
  {
   "cell_type": "code",
   "execution_count": 0,
   "metadata": {
    "colab": {},
    "colab_type": "code",
    "collapsed": true,
    "id": "e0hHJIkgD__r"
   },
   "outputs": [],
   "source": [
    "# Set a learning rate reduction\n",
    "learning_rate_reduction = ReduceLROnPlateau(monitor='val_acc', \n",
    "                                            patience=3, \n",
    "                                            verbose=1, \n",
    "                                            factor=0.5, \n",
    "                                            min_lr=0.00001)"
   ]
  },
  {
   "cell_type": "markdown",
   "metadata": {
    "colab_type": "text",
    "id": "0c8FwuHBf0-S"
   },
   "source": [
    "##### ***Fitting the Model***\n",
    "This experiment used model, parameters and optimiser from the previous section. You will see the improvement of the classifier. "
   ]
  },
  {
   "cell_type": "code",
   "execution_count": 0,
   "metadata": {
    "colab": {
     "base_uri": "https://localhost:8080/",
     "height": 431
    },
    "colab_type": "code",
    "collapsed": false,
    "id": "fH4eV9A6euhh",
    "outputId": "eefb5293-1cb4-4bf8-e6bf-ab77d59a20ec"
   },
   "outputs": [
    {
     "name": "stdout",
     "output_type": "stream",
     "text": [
      "Model: \"sequential_1\"\n",
      "_________________________________________________________________\n",
      "Layer (type)                 Output Shape              Param #   \n",
      "=================================================================\n",
      "conv2d_2 (Conv2D)            (None, 30, 30, 6)         60        \n",
      "_________________________________________________________________\n",
      "average_pooling2d_2 (Average (None, 15, 15, 6)         0         \n",
      "_________________________________________________________________\n",
      "conv2d_3 (Conv2D)            (None, 13, 13, 16)        880       \n",
      "_________________________________________________________________\n",
      "average_pooling2d_3 (Average (None, 6, 6, 16)          0         \n",
      "_________________________________________________________________\n",
      "flatten_1 (Flatten)          (None, 576)               0         \n",
      "_________________________________________________________________\n",
      "dense_3 (Dense)              (None, 120)               69240     \n",
      "_________________________________________________________________\n",
      "dense_4 (Dense)              (None, 84)                10164     \n",
      "_________________________________________________________________\n",
      "dense_5 (Dense)              (None, 10)                850       \n",
      "=================================================================\n",
      "Total params: 81,194\n",
      "Trainable params: 81,194\n",
      "Non-trainable params: 0\n",
      "_________________________________________________________________\n"
     ]
    }
   ],
   "source": [
    "# Perform layers\n",
    "model = tf.keras.models.Sequential([\n",
    "    tf.keras.layers.Conv2D(filters=6, kernel_size=(3, 3), activation='relu', input_shape=(32,32,1)),\n",
    "    tf.keras.layers.AveragePooling2D(),\n",
    "    tf.keras.layers.Conv2D(filters=16, kernel_size=(3, 3), activation='relu'),\n",
    "    tf.keras.layers.AveragePooling2D(),\n",
    "    tf.keras.layers.Flatten(),\n",
    "    tf.keras.layers.Dense(units=120, activation='relu'),\n",
    "    tf.keras.layers.Dense(units=84, activation='relu'),\n",
    "    tf.keras.layers.Dense(units=10, activation = 'softmax')\n",
    "])\n",
    "\n",
    "optimizer = Adam(learning_rate=0.001, beta_1=0.9, beta_2=0.999, amsgrad=False)\n",
    "model.compile(loss='categorical_crossentropy', optimizer=optimizer, metrics=['accuracy'])\n",
    "\n",
    "# Displays all model's layers\n",
    "model.summary()"
   ]
  },
  {
   "cell_type": "code",
   "execution_count": 0,
   "metadata": {
    "colab": {
     "base_uri": "https://localhost:8080/",
     "height": 1000
    },
    "colab_type": "code",
    "collapsed": false,
    "id": "W3lCz75jHYPo",
    "outputId": "385edd7c-878f-44fc-d229-cef1cad64ea6"
   },
   "outputs": [
    {
     "name": "stdout",
     "output_type": "stream",
     "text": [
      "WARNING:tensorflow:From <ipython-input-19-e17cba0d885e>:10: Model.fit_generator (from tensorflow.python.keras.engine.training) is deprecated and will be removed in a future version.\n",
      "Instructions for updating:\n",
      "Please use Model.fit, which supports generators.\n",
      "Epoch 1/200\n",
      "WARNING:tensorflow:Reduce LR on plateau conditioned on metric `val_acc` which is not available. Available metrics are: loss,accuracy,val_loss,val_accuracy,lr\n",
      "328/328 - 10s - loss: 1.2159 - accuracy: 0.5915 - val_loss: 0.4076 - val_accuracy: 0.8823 - lr: 0.0010\n",
      "Epoch 2/200\n",
      "WARNING:tensorflow:Reduce LR on plateau conditioned on metric `val_acc` which is not available. Available metrics are: loss,accuracy,val_loss,val_accuracy,lr\n",
      "328/328 - 10s - loss: 0.5780 - accuracy: 0.8203 - val_loss: 0.2495 - val_accuracy: 0.9273 - lr: 0.0010\n",
      "Epoch 3/200\n",
      "WARNING:tensorflow:Reduce LR on plateau conditioned on metric `val_acc` which is not available. Available metrics are: loss,accuracy,val_loss,val_accuracy,lr\n",
      "328/328 - 10s - loss: 0.4626 - accuracy: 0.8562 - val_loss: 0.1830 - val_accuracy: 0.9493 - lr: 0.0010\n",
      "Epoch 4/200\n",
      "WARNING:tensorflow:Reduce LR on plateau conditioned on metric `val_acc` which is not available. Available metrics are: loss,accuracy,val_loss,val_accuracy,lr\n",
      "328/328 - 10s - loss: 0.3972 - accuracy: 0.8771 - val_loss: 0.1720 - val_accuracy: 0.9537 - lr: 0.0010\n",
      "Epoch 5/200\n",
      "WARNING:tensorflow:Reduce LR on plateau conditioned on metric `val_acc` which is not available. Available metrics are: loss,accuracy,val_loss,val_accuracy,lr\n",
      "328/328 - 10s - loss: 0.3623 - accuracy: 0.8862 - val_loss: 0.1641 - val_accuracy: 0.9511 - lr: 0.0010\n",
      "Epoch 6/200\n",
      "WARNING:tensorflow:Reduce LR on plateau conditioned on metric `val_acc` which is not available. Available metrics are: loss,accuracy,val_loss,val_accuracy,lr\n",
      "328/328 - 10s - loss: 0.3324 - accuracy: 0.8971 - val_loss: 0.1413 - val_accuracy: 0.9593 - lr: 0.0010\n",
      "Epoch 7/200\n",
      "WARNING:tensorflow:Reduce LR on plateau conditioned on metric `val_acc` which is not available. Available metrics are: loss,accuracy,val_loss,val_accuracy,lr\n",
      "328/328 - 10s - loss: 0.3099 - accuracy: 0.9032 - val_loss: 0.1408 - val_accuracy: 0.9577 - lr: 0.0010\n",
      "Epoch 8/200\n",
      "WARNING:tensorflow:Reduce LR on plateau conditioned on metric `val_acc` which is not available. Available metrics are: loss,accuracy,val_loss,val_accuracy,lr\n",
      "328/328 - 10s - loss: 0.2916 - accuracy: 0.9087 - val_loss: 0.1159 - val_accuracy: 0.9651 - lr: 0.0010\n",
      "Epoch 9/200\n",
      "WARNING:tensorflow:Reduce LR on plateau conditioned on metric `val_acc` which is not available. Available metrics are: loss,accuracy,val_loss,val_accuracy,lr\n",
      "328/328 - 10s - loss: 0.2764 - accuracy: 0.9125 - val_loss: 0.1127 - val_accuracy: 0.9682 - lr: 0.0010\n",
      "Epoch 10/200\n",
      "WARNING:tensorflow:Reduce LR on plateau conditioned on metric `val_acc` which is not available. Available metrics are: loss,accuracy,val_loss,val_accuracy,lr\n",
      "328/328 - 10s - loss: 0.2575 - accuracy: 0.9178 - val_loss: 0.1163 - val_accuracy: 0.9657 - lr: 0.0010\n",
      "Epoch 11/200\n",
      "WARNING:tensorflow:Reduce LR on plateau conditioned on metric `val_acc` which is not available. Available metrics are: loss,accuracy,val_loss,val_accuracy,lr\n",
      "328/328 - 10s - loss: 0.2523 - accuracy: 0.9194 - val_loss: 0.1129 - val_accuracy: 0.9651 - lr: 0.0010\n",
      "Epoch 12/200\n",
      "WARNING:tensorflow:Reduce LR on plateau conditioned on metric `val_acc` which is not available. Available metrics are: loss,accuracy,val_loss,val_accuracy,lr\n",
      "328/328 - 10s - loss: 0.2410 - accuracy: 0.9232 - val_loss: 0.0912 - val_accuracy: 0.9741 - lr: 0.0010\n",
      "Epoch 13/200\n",
      "WARNING:tensorflow:Reduce LR on plateau conditioned on metric `val_acc` which is not available. Available metrics are: loss,accuracy,val_loss,val_accuracy,lr\n",
      "328/328 - 10s - loss: 0.2329 - accuracy: 0.9254 - val_loss: 0.1282 - val_accuracy: 0.9598 - lr: 0.0010\n",
      "Epoch 14/200\n",
      "WARNING:tensorflow:Reduce LR on plateau conditioned on metric `val_acc` which is not available. Available metrics are: loss,accuracy,val_loss,val_accuracy,lr\n",
      "328/328 - 10s - loss: 0.2253 - accuracy: 0.9273 - val_loss: 0.0938 - val_accuracy: 0.9724 - lr: 0.0010\n",
      "Epoch 15/200\n",
      "WARNING:tensorflow:Reduce LR on plateau conditioned on metric `val_acc` which is not available. Available metrics are: loss,accuracy,val_loss,val_accuracy,lr\n",
      "328/328 - 10s - loss: 0.2175 - accuracy: 0.9306 - val_loss: 0.1216 - val_accuracy: 0.9654 - lr: 0.0010\n",
      "Epoch 16/200\n",
      "WARNING:tensorflow:Reduce LR on plateau conditioned on metric `val_acc` which is not available. Available metrics are: loss,accuracy,val_loss,val_accuracy,lr\n",
      "328/328 - 10s - loss: 0.2111 - accuracy: 0.9329 - val_loss: 0.1001 - val_accuracy: 0.9712 - lr: 0.0010\n",
      "Epoch 17/200\n",
      "WARNING:tensorflow:Reduce LR on plateau conditioned on metric `val_acc` which is not available. Available metrics are: loss,accuracy,val_loss,val_accuracy,lr\n",
      "328/328 - 10s - loss: 0.2092 - accuracy: 0.9326 - val_loss: 0.1144 - val_accuracy: 0.9654 - lr: 0.0010\n",
      "Epoch 18/200\n",
      "WARNING:tensorflow:Reduce LR on plateau conditioned on metric `val_acc` which is not available. Available metrics are: loss,accuracy,val_loss,val_accuracy,lr\n",
      "328/328 - 10s - loss: 0.2028 - accuracy: 0.9357 - val_loss: 0.0786 - val_accuracy: 0.9769 - lr: 0.0010\n",
      "Epoch 19/200\n",
      "WARNING:tensorflow:Reduce LR on plateau conditioned on metric `val_acc` which is not available. Available metrics are: loss,accuracy,val_loss,val_accuracy,lr\n",
      "328/328 - 10s - loss: 0.1977 - accuracy: 0.9371 - val_loss: 0.0958 - val_accuracy: 0.9723 - lr: 0.0010\n",
      "Epoch 20/200\n",
      "WARNING:tensorflow:Reduce LR on plateau conditioned on metric `val_acc` which is not available. Available metrics are: loss,accuracy,val_loss,val_accuracy,lr\n",
      "328/328 - 10s - loss: 0.1944 - accuracy: 0.9371 - val_loss: 0.0870 - val_accuracy: 0.9743 - lr: 0.0010\n",
      "Epoch 21/200\n",
      "WARNING:tensorflow:Reduce LR on plateau conditioned on metric `val_acc` which is not available. Available metrics are: loss,accuracy,val_loss,val_accuracy,lr\n",
      "328/328 - 10s - loss: 0.1933 - accuracy: 0.9381 - val_loss: 0.0912 - val_accuracy: 0.9743 - lr: 0.0010\n",
      "Epoch 22/200\n",
      "WARNING:tensorflow:Reduce LR on plateau conditioned on metric `val_acc` which is not available. Available metrics are: loss,accuracy,val_loss,val_accuracy,lr\n",
      "328/328 - 10s - loss: 0.1829 - accuracy: 0.9412 - val_loss: 0.0980 - val_accuracy: 0.9714 - lr: 0.0010\n",
      "Epoch 23/200\n",
      "WARNING:tensorflow:Reduce LR on plateau conditioned on metric `val_acc` which is not available. Available metrics are: loss,accuracy,val_loss,val_accuracy,lr\n",
      "328/328 - 10s - loss: 0.1841 - accuracy: 0.9400 - val_loss: 0.0825 - val_accuracy: 0.9772 - lr: 0.0010\n",
      "Epoch 24/200\n",
      "WARNING:tensorflow:Reduce LR on plateau conditioned on metric `val_acc` which is not available. Available metrics are: loss,accuracy,val_loss,val_accuracy,lr\n",
      "328/328 - 10s - loss: 0.1822 - accuracy: 0.9418 - val_loss: 0.0795 - val_accuracy: 0.9768 - lr: 0.0010\n",
      "Epoch 25/200\n",
      "WARNING:tensorflow:Reduce LR on plateau conditioned on metric `val_acc` which is not available. Available metrics are: loss,accuracy,val_loss,val_accuracy,lr\n",
      "328/328 - 10s - loss: 0.1759 - accuracy: 0.9433 - val_loss: 0.0789 - val_accuracy: 0.9752 - lr: 0.0010\n",
      "Epoch 26/200\n",
      "WARNING:tensorflow:Reduce LR on plateau conditioned on metric `val_acc` which is not available. Available metrics are: loss,accuracy,val_loss,val_accuracy,lr\n",
      "328/328 - 10s - loss: 0.1738 - accuracy: 0.9439 - val_loss: 0.0821 - val_accuracy: 0.9753 - lr: 0.0010\n",
      "Epoch 27/200\n",
      "WARNING:tensorflow:Reduce LR on plateau conditioned on metric `val_acc` which is not available. Available metrics are: loss,accuracy,val_loss,val_accuracy,lr\n",
      "328/328 - 10s - loss: 0.1679 - accuracy: 0.9458 - val_loss: 0.0944 - val_accuracy: 0.9718 - lr: 0.0010\n",
      "Epoch 28/200\n",
      "WARNING:tensorflow:Reduce LR on plateau conditioned on metric `val_acc` which is not available. Available metrics are: loss,accuracy,val_loss,val_accuracy,lr\n",
      "328/328 - 10s - loss: 0.1682 - accuracy: 0.9446 - val_loss: 0.0724 - val_accuracy: 0.9786 - lr: 0.0010\n",
      "Epoch 29/200\n",
      "WARNING:tensorflow:Reduce LR on plateau conditioned on metric `val_acc` which is not available. Available metrics are: loss,accuracy,val_loss,val_accuracy,lr\n",
      "328/328 - 10s - loss: 0.1641 - accuracy: 0.9459 - val_loss: 0.0764 - val_accuracy: 0.9766 - lr: 0.0010\n",
      "Epoch 30/200\n",
      "WARNING:tensorflow:Reduce LR on plateau conditioned on metric `val_acc` which is not available. Available metrics are: loss,accuracy,val_loss,val_accuracy,lr\n",
      "328/328 - 10s - loss: 0.1620 - accuracy: 0.9463 - val_loss: 0.0679 - val_accuracy: 0.9796 - lr: 0.0010\n",
      "Epoch 31/200\n",
      "WARNING:tensorflow:Reduce LR on plateau conditioned on metric `val_acc` which is not available. Available metrics are: loss,accuracy,val_loss,val_accuracy,lr\n",
      "328/328 - 10s - loss: 0.1619 - accuracy: 0.9463 - val_loss: 0.0743 - val_accuracy: 0.9776 - lr: 0.0010\n",
      "Epoch 32/200\n",
      "WARNING:tensorflow:Reduce LR on plateau conditioned on metric `val_acc` which is not available. Available metrics are: loss,accuracy,val_loss,val_accuracy,lr\n",
      "328/328 - 10s - loss: 0.1619 - accuracy: 0.9468 - val_loss: 0.0650 - val_accuracy: 0.9798 - lr: 0.0010\n",
      "Epoch 33/200\n",
      "WARNING:tensorflow:Reduce LR on plateau conditioned on metric `val_acc` which is not available. Available metrics are: loss,accuracy,val_loss,val_accuracy,lr\n",
      "328/328 - 10s - loss: 0.1586 - accuracy: 0.9489 - val_loss: 0.0747 - val_accuracy: 0.9779 - lr: 0.0010\n",
      "Epoch 34/200\n",
      "WARNING:tensorflow:Reduce LR on plateau conditioned on metric `val_acc` which is not available. Available metrics are: loss,accuracy,val_loss,val_accuracy,lr\n",
      "328/328 - 10s - loss: 0.1544 - accuracy: 0.9488 - val_loss: 0.0707 - val_accuracy: 0.9779 - lr: 0.0010\n",
      "Epoch 35/200\n",
      "WARNING:tensorflow:Reduce LR on plateau conditioned on metric `val_acc` which is not available. Available metrics are: loss,accuracy,val_loss,val_accuracy,lr\n",
      "328/328 - 10s - loss: 0.1532 - accuracy: 0.9489 - val_loss: 0.0654 - val_accuracy: 0.9812 - lr: 0.0010\n",
      "Epoch 36/200\n",
      "WARNING:tensorflow:Reduce LR on plateau conditioned on metric `val_acc` which is not available. Available metrics are: loss,accuracy,val_loss,val_accuracy,lr\n",
      "328/328 - 10s - loss: 0.1446 - accuracy: 0.9528 - val_loss: 0.0632 - val_accuracy: 0.9805 - lr: 0.0010\n",
      "Epoch 37/200\n",
      "WARNING:tensorflow:Reduce LR on plateau conditioned on metric `val_acc` which is not available. Available metrics are: loss,accuracy,val_loss,val_accuracy,lr\n",
      "328/328 - 10s - loss: 0.1480 - accuracy: 0.9510 - val_loss: 0.0867 - val_accuracy: 0.9750 - lr: 0.0010\n",
      "Epoch 38/200\n",
      "WARNING:tensorflow:Reduce LR on plateau conditioned on metric `val_acc` which is not available. Available metrics are: loss,accuracy,val_loss,val_accuracy,lr\n",
      "328/328 - 10s - loss: 0.1404 - accuracy: 0.9538 - val_loss: 0.0843 - val_accuracy: 0.9759 - lr: 0.0010\n",
      "Epoch 39/200\n",
      "WARNING:tensorflow:Reduce LR on plateau conditioned on metric `val_acc` which is not available. Available metrics are: loss,accuracy,val_loss,val_accuracy,lr\n",
      "328/328 - 10s - loss: 0.1491 - accuracy: 0.9521 - val_loss: 0.0731 - val_accuracy: 0.9783 - lr: 0.0010\n",
      "Epoch 40/200\n",
      "WARNING:tensorflow:Reduce LR on plateau conditioned on metric `val_acc` which is not available. Available metrics are: loss,accuracy,val_loss,val_accuracy,lr\n",
      "328/328 - 10s - loss: 0.1400 - accuracy: 0.9540 - val_loss: 0.0672 - val_accuracy: 0.9802 - lr: 0.0010\n",
      "Epoch 41/200\n",
      "WARNING:tensorflow:Reduce LR on plateau conditioned on metric `val_acc` which is not available. Available metrics are: loss,accuracy,val_loss,val_accuracy,lr\n",
      "328/328 - 10s - loss: 0.1455 - accuracy: 0.9525 - val_loss: 0.0669 - val_accuracy: 0.9811 - lr: 0.0010\n",
      "Epoch 42/200\n",
      "WARNING:tensorflow:Reduce LR on plateau conditioned on metric `val_acc` which is not available. Available metrics are: loss,accuracy,val_loss,val_accuracy,lr\n",
      "328/328 - 10s - loss: 0.1381 - accuracy: 0.9545 - val_loss: 0.0574 - val_accuracy: 0.9827 - lr: 0.0010\n",
      "Epoch 43/200\n",
      "WARNING:tensorflow:Reduce LR on plateau conditioned on metric `val_acc` which is not available. Available metrics are: loss,accuracy,val_loss,val_accuracy,lr\n",
      "328/328 - 10s - loss: 0.1386 - accuracy: 0.9543 - val_loss: 0.0568 - val_accuracy: 0.9824 - lr: 0.0010\n",
      "Epoch 44/200\n",
      "WARNING:tensorflow:Reduce LR on plateau conditioned on metric `val_acc` which is not available. Available metrics are: loss,accuracy,val_loss,val_accuracy,lr\n",
      "328/328 - 10s - loss: 0.1367 - accuracy: 0.9556 - val_loss: 0.0561 - val_accuracy: 0.9840 - lr: 0.0010\n",
      "Epoch 45/200\n",
      "WARNING:tensorflow:Reduce LR on plateau conditioned on metric `val_acc` which is not available. Available metrics are: loss,accuracy,val_loss,val_accuracy,lr\n",
      "328/328 - 10s - loss: 0.1385 - accuracy: 0.9546 - val_loss: 0.0530 - val_accuracy: 0.9856 - lr: 0.0010\n",
      "Epoch 46/200\n",
      "WARNING:tensorflow:Reduce LR on plateau conditioned on metric `val_acc` which is not available. Available metrics are: loss,accuracy,val_loss,val_accuracy,lr\n",
      "328/328 - 10s - loss: 0.1327 - accuracy: 0.9557 - val_loss: 0.0570 - val_accuracy: 0.9825 - lr: 0.0010\n",
      "Epoch 47/200\n",
      "WARNING:tensorflow:Reduce LR on plateau conditioned on metric `val_acc` which is not available. Available metrics are: loss,accuracy,val_loss,val_accuracy,lr\n",
      "328/328 - 10s - loss: 0.1363 - accuracy: 0.9550 - val_loss: 0.0572 - val_accuracy: 0.9821 - lr: 0.0010\n",
      "Epoch 48/200\n",
      "WARNING:tensorflow:Reduce LR on plateau conditioned on metric `val_acc` which is not available. Available metrics are: loss,accuracy,val_loss,val_accuracy,lr\n",
      "328/328 - 10s - loss: 0.1285 - accuracy: 0.9587 - val_loss: 0.0581 - val_accuracy: 0.9822 - lr: 0.0010\n",
      "Epoch 49/200\n",
      "WARNING:tensorflow:Reduce LR on plateau conditioned on metric `val_acc` which is not available. Available metrics are: loss,accuracy,val_loss,val_accuracy,lr\n",
      "328/328 - 10s - loss: 0.1316 - accuracy: 0.9569 - val_loss: 0.0589 - val_accuracy: 0.9821 - lr: 0.0010\n",
      "Epoch 50/200\n",
      "WARNING:tensorflow:Reduce LR on plateau conditioned on metric `val_acc` which is not available. Available metrics are: loss,accuracy,val_loss,val_accuracy,lr\n",
      "328/328 - 10s - loss: 0.1257 - accuracy: 0.9587 - val_loss: 0.0638 - val_accuracy: 0.9809 - lr: 0.0010\n",
      "Epoch 51/200\n",
      "WARNING:tensorflow:Reduce LR on plateau conditioned on metric `val_acc` which is not available. Available metrics are: loss,accuracy,val_loss,val_accuracy,lr\n",
      "328/328 - 10s - loss: 0.1263 - accuracy: 0.9585 - val_loss: 0.0497 - val_accuracy: 0.9852 - lr: 0.0010\n",
      "Epoch 52/200\n",
      "WARNING:tensorflow:Reduce LR on plateau conditioned on metric `val_acc` which is not available. Available metrics are: loss,accuracy,val_loss,val_accuracy,lr\n",
      "328/328 - 10s - loss: 0.1270 - accuracy: 0.9570 - val_loss: 0.0607 - val_accuracy: 0.9807 - lr: 0.0010\n",
      "Epoch 53/200\n",
      "WARNING:tensorflow:Reduce LR on plateau conditioned on metric `val_acc` which is not available. Available metrics are: loss,accuracy,val_loss,val_accuracy,lr\n",
      "328/328 - 10s - loss: 0.1241 - accuracy: 0.9589 - val_loss: 0.0669 - val_accuracy: 0.9801 - lr: 0.0010\n",
      "Epoch 54/200\n",
      "WARNING:tensorflow:Reduce LR on plateau conditioned on metric `val_acc` which is not available. Available metrics are: loss,accuracy,val_loss,val_accuracy,lr\n",
      "328/328 - 10s - loss: 0.1243 - accuracy: 0.9601 - val_loss: 0.0635 - val_accuracy: 0.9807 - lr: 0.0010\n",
      "Epoch 55/200\n",
      "WARNING:tensorflow:Reduce LR on plateau conditioned on metric `val_acc` which is not available. Available metrics are: loss,accuracy,val_loss,val_accuracy,lr\n",
      "328/328 - 10s - loss: 0.1230 - accuracy: 0.9605 - val_loss: 0.0697 - val_accuracy: 0.9796 - lr: 0.0010\n",
      "Epoch 56/200\n",
      "WARNING:tensorflow:Reduce LR on plateau conditioned on metric `val_acc` which is not available. Available metrics are: loss,accuracy,val_loss,val_accuracy,lr\n",
      "328/328 - 10s - loss: 0.1248 - accuracy: 0.9594 - val_loss: 0.0517 - val_accuracy: 0.9854 - lr: 0.0010\n",
      "Epoch 57/200\n",
      "WARNING:tensorflow:Reduce LR on plateau conditioned on metric `val_acc` which is not available. Available metrics are: loss,accuracy,val_loss,val_accuracy,lr\n",
      "328/328 - 10s - loss: 0.1213 - accuracy: 0.9608 - val_loss: 0.0554 - val_accuracy: 0.9835 - lr: 0.0010\n",
      "Epoch 58/200\n",
      "WARNING:tensorflow:Reduce LR on plateau conditioned on metric `val_acc` which is not available. Available metrics are: loss,accuracy,val_loss,val_accuracy,lr\n",
      "328/328 - 10s - loss: 0.1246 - accuracy: 0.9594 - val_loss: 0.0519 - val_accuracy: 0.9843 - lr: 0.0010\n",
      "Epoch 59/200\n",
      "WARNING:tensorflow:Reduce LR on plateau conditioned on metric `val_acc` which is not available. Available metrics are: loss,accuracy,val_loss,val_accuracy,lr\n",
      "328/328 - 10s - loss: 0.1211 - accuracy: 0.9600 - val_loss: 0.0538 - val_accuracy: 0.9833 - lr: 0.0010\n",
      "Epoch 60/200\n",
      "WARNING:tensorflow:Reduce LR on plateau conditioned on metric `val_acc` which is not available. Available metrics are: loss,accuracy,val_loss,val_accuracy,lr\n",
      "328/328 - 10s - loss: 0.1177 - accuracy: 0.9602 - val_loss: 0.0533 - val_accuracy: 0.9833 - lr: 0.0010\n",
      "Epoch 61/200\n",
      "WARNING:tensorflow:Reduce LR on plateau conditioned on metric `val_acc` which is not available. Available metrics are: loss,accuracy,val_loss,val_accuracy,lr\n",
      "328/328 - 10s - loss: 0.1189 - accuracy: 0.9614 - val_loss: 0.0511 - val_accuracy: 0.9848 - lr: 0.0010\n",
      "Epoch 62/200\n",
      "WARNING:tensorflow:Reduce LR on plateau conditioned on metric `val_acc` which is not available. Available metrics are: loss,accuracy,val_loss,val_accuracy,lr\n",
      "328/328 - 10s - loss: 0.1185 - accuracy: 0.9606 - val_loss: 0.0542 - val_accuracy: 0.9843 - lr: 0.0010\n",
      "Epoch 63/200\n",
      "WARNING:tensorflow:Reduce LR on plateau conditioned on metric `val_acc` which is not available. Available metrics are: loss,accuracy,val_loss,val_accuracy,lr\n",
      "328/328 - 10s - loss: 0.1156 - accuracy: 0.9615 - val_loss: 0.0519 - val_accuracy: 0.9849 - lr: 0.0010\n",
      "Epoch 64/200\n",
      "WARNING:tensorflow:Reduce LR on plateau conditioned on metric `val_acc` which is not available. Available metrics are: loss,accuracy,val_loss,val_accuracy,lr\n",
      "328/328 - 10s - loss: 0.1096 - accuracy: 0.9637 - val_loss: 0.0449 - val_accuracy: 0.9866 - lr: 0.0010\n",
      "Epoch 65/200\n",
      "WARNING:tensorflow:Reduce LR on plateau conditioned on metric `val_acc` which is not available. Available metrics are: loss,accuracy,val_loss,val_accuracy,lr\n",
      "328/328 - 10s - loss: 0.1149 - accuracy: 0.9622 - val_loss: 0.0471 - val_accuracy: 0.9859 - lr: 0.0010\n",
      "Epoch 66/200\n",
      "WARNING:tensorflow:Reduce LR on plateau conditioned on metric `val_acc` which is not available. Available metrics are: loss,accuracy,val_loss,val_accuracy,lr\n",
      "328/328 - 10s - loss: 0.1123 - accuracy: 0.9616 - val_loss: 0.0503 - val_accuracy: 0.9857 - lr: 0.0010\n",
      "Epoch 67/200\n",
      "WARNING:tensorflow:Reduce LR on plateau conditioned on metric `val_acc` which is not available. Available metrics are: loss,accuracy,val_loss,val_accuracy,lr\n",
      "328/328 - 10s - loss: 0.1117 - accuracy: 0.9623 - val_loss: 0.0504 - val_accuracy: 0.9841 - lr: 0.0010\n",
      "Epoch 68/200\n",
      "WARNING:tensorflow:Reduce LR on plateau conditioned on metric `val_acc` which is not available. Available metrics are: loss,accuracy,val_loss,val_accuracy,lr\n",
      "328/328 - 10s - loss: 0.1116 - accuracy: 0.9629 - val_loss: 0.0513 - val_accuracy: 0.9839 - lr: 0.0010\n",
      "Epoch 69/200\n",
      "WARNING:tensorflow:Reduce LR on plateau conditioned on metric `val_acc` which is not available. Available metrics are: loss,accuracy,val_loss,val_accuracy,lr\n",
      "328/328 - 10s - loss: 0.1154 - accuracy: 0.9623 - val_loss: 0.0498 - val_accuracy: 0.9838 - lr: 0.0010\n",
      "Epoch 70/200\n",
      "WARNING:tensorflow:Reduce LR on plateau conditioned on metric `val_acc` which is not available. Available metrics are: loss,accuracy,val_loss,val_accuracy,lr\n",
      "328/328 - 10s - loss: 0.1086 - accuracy: 0.9645 - val_loss: 0.0472 - val_accuracy: 0.9854 - lr: 0.0010\n",
      "Epoch 71/200\n",
      "WARNING:tensorflow:Reduce LR on plateau conditioned on metric `val_acc` which is not available. Available metrics are: loss,accuracy,val_loss,val_accuracy,lr\n",
      "328/328 - 10s - loss: 0.1102 - accuracy: 0.9626 - val_loss: 0.0539 - val_accuracy: 0.9838 - lr: 0.0010\n",
      "Epoch 72/200\n",
      "WARNING:tensorflow:Reduce LR on plateau conditioned on metric `val_acc` which is not available. Available metrics are: loss,accuracy,val_loss,val_accuracy,lr\n",
      "328/328 - 10s - loss: 0.1087 - accuracy: 0.9637 - val_loss: 0.0531 - val_accuracy: 0.9835 - lr: 0.0010\n",
      "Epoch 73/200\n",
      "WARNING:tensorflow:Reduce LR on plateau conditioned on metric `val_acc` which is not available. Available metrics are: loss,accuracy,val_loss,val_accuracy,lr\n",
      "328/328 - 10s - loss: 0.1099 - accuracy: 0.9629 - val_loss: 0.0473 - val_accuracy: 0.9852 - lr: 0.0010\n",
      "Epoch 74/200\n",
      "WARNING:tensorflow:Reduce LR on plateau conditioned on metric `val_acc` which is not available. Available metrics are: loss,accuracy,val_loss,val_accuracy,lr\n",
      "328/328 - 10s - loss: 0.1052 - accuracy: 0.9652 - val_loss: 0.0450 - val_accuracy: 0.9868 - lr: 0.0010\n",
      "Epoch 75/200\n",
      "WARNING:tensorflow:Reduce LR on plateau conditioned on metric `val_acc` which is not available. Available metrics are: loss,accuracy,val_loss,val_accuracy,lr\n",
      "328/328 - 10s - loss: 0.1051 - accuracy: 0.9642 - val_loss: 0.0396 - val_accuracy: 0.9883 - lr: 0.0010\n",
      "Epoch 76/200\n",
      "WARNING:tensorflow:Reduce LR on plateau conditioned on metric `val_acc` which is not available. Available metrics are: loss,accuracy,val_loss,val_accuracy,lr\n",
      "328/328 - 10s - loss: 0.1081 - accuracy: 0.9632 - val_loss: 0.0415 - val_accuracy: 0.9879 - lr: 0.0010\n",
      "Epoch 77/200\n",
      "WARNING:tensorflow:Reduce LR on plateau conditioned on metric `val_acc` which is not available. Available metrics are: loss,accuracy,val_loss,val_accuracy,lr\n",
      "328/328 - 10s - loss: 0.1019 - accuracy: 0.9653 - val_loss: 0.0417 - val_accuracy: 0.9874 - lr: 0.0010\n",
      "Epoch 78/200\n",
      "WARNING:tensorflow:Reduce LR on plateau conditioned on metric `val_acc` which is not available. Available metrics are: loss,accuracy,val_loss,val_accuracy,lr\n",
      "328/328 - 10s - loss: 0.1050 - accuracy: 0.9648 - val_loss: 0.0452 - val_accuracy: 0.9853 - lr: 0.0010\n",
      "Epoch 79/200\n",
      "WARNING:tensorflow:Reduce LR on plateau conditioned on metric `val_acc` which is not available. Available metrics are: loss,accuracy,val_loss,val_accuracy,lr\n",
      "328/328 - 10s - loss: 0.1043 - accuracy: 0.9656 - val_loss: 0.0486 - val_accuracy: 0.9855 - lr: 0.0010\n",
      "Epoch 80/200\n",
      "WARNING:tensorflow:Reduce LR on plateau conditioned on metric `val_acc` which is not available. Available metrics are: loss,accuracy,val_loss,val_accuracy,lr\n",
      "328/328 - 10s - loss: 0.1009 - accuracy: 0.9664 - val_loss: 0.0383 - val_accuracy: 0.9893 - lr: 0.0010\n",
      "Epoch 81/200\n",
      "WARNING:tensorflow:Reduce LR on plateau conditioned on metric `val_acc` which is not available. Available metrics are: loss,accuracy,val_loss,val_accuracy,lr\n",
      "328/328 - 10s - loss: 0.1067 - accuracy: 0.9656 - val_loss: 0.0401 - val_accuracy: 0.9880 - lr: 0.0010\n",
      "Epoch 82/200\n",
      "WARNING:tensorflow:Reduce LR on plateau conditioned on metric `val_acc` which is not available. Available metrics are: loss,accuracy,val_loss,val_accuracy,lr\n",
      "328/328 - 10s - loss: 0.1000 - accuracy: 0.9671 - val_loss: 0.0475 - val_accuracy: 0.9858 - lr: 0.0010\n",
      "Epoch 83/200\n",
      "WARNING:tensorflow:Reduce LR on plateau conditioned on metric `val_acc` which is not available. Available metrics are: loss,accuracy,val_loss,val_accuracy,lr\n",
      "328/328 - 9s - loss: 0.0976 - accuracy: 0.9677 - val_loss: 0.0435 - val_accuracy: 0.9875 - lr: 0.0010\n",
      "Epoch 84/200\n",
      "WARNING:tensorflow:Reduce LR on plateau conditioned on metric `val_acc` which is not available. Available metrics are: loss,accuracy,val_loss,val_accuracy,lr\n",
      "328/328 - 10s - loss: 0.0999 - accuracy: 0.9672 - val_loss: 0.0424 - val_accuracy: 0.9866 - lr: 0.0010\n",
      "Epoch 85/200\n",
      "WARNING:tensorflow:Reduce LR on plateau conditioned on metric `val_acc` which is not available. Available metrics are: loss,accuracy,val_loss,val_accuracy,lr\n",
      "328/328 - 10s - loss: 0.0992 - accuracy: 0.9667 - val_loss: 0.0435 - val_accuracy: 0.9876 - lr: 0.0010\n",
      "Epoch 86/200\n",
      "WARNING:tensorflow:Reduce LR on plateau conditioned on metric `val_acc` which is not available. Available metrics are: loss,accuracy,val_loss,val_accuracy,lr\n",
      "328/328 - 10s - loss: 0.1026 - accuracy: 0.9662 - val_loss: 0.0389 - val_accuracy: 0.9887 - lr: 0.0010\n",
      "Epoch 87/200\n",
      "WARNING:tensorflow:Reduce LR on plateau conditioned on metric `val_acc` which is not available. Available metrics are: loss,accuracy,val_loss,val_accuracy,lr\n",
      "328/328 - 10s - loss: 0.0983 - accuracy: 0.9679 - val_loss: 0.0400 - val_accuracy: 0.9877 - lr: 0.0010\n",
      "Epoch 88/200\n",
      "WARNING:tensorflow:Reduce LR on plateau conditioned on metric `val_acc` which is not available. Available metrics are: loss,accuracy,val_loss,val_accuracy,lr\n",
      "328/328 - 10s - loss: 0.1004 - accuracy: 0.9660 - val_loss: 0.0431 - val_accuracy: 0.9867 - lr: 0.0010\n",
      "Epoch 89/200\n",
      "WARNING:tensorflow:Reduce LR on plateau conditioned on metric `val_acc` which is not available. Available metrics are: loss,accuracy,val_loss,val_accuracy,lr\n",
      "328/328 - 10s - loss: 0.0969 - accuracy: 0.9675 - val_loss: 0.0381 - val_accuracy: 0.9882 - lr: 0.0010\n",
      "Epoch 90/200\n",
      "WARNING:tensorflow:Reduce LR on plateau conditioned on metric `val_acc` which is not available. Available metrics are: loss,accuracy,val_loss,val_accuracy,lr\n",
      "328/328 - 10s - loss: 0.0968 - accuracy: 0.9676 - val_loss: 0.0411 - val_accuracy: 0.9878 - lr: 0.0010\n",
      "Epoch 91/200\n",
      "WARNING:tensorflow:Reduce LR on plateau conditioned on metric `val_acc` which is not available. Available metrics are: loss,accuracy,val_loss,val_accuracy,lr\n",
      "328/328 - 10s - loss: 0.0942 - accuracy: 0.9684 - val_loss: 0.0419 - val_accuracy: 0.9878 - lr: 0.0010\n",
      "Epoch 92/200\n",
      "WARNING:tensorflow:Reduce LR on plateau conditioned on metric `val_acc` which is not available. Available metrics are: loss,accuracy,val_loss,val_accuracy,lr\n",
      "328/328 - 10s - loss: 0.0954 - accuracy: 0.9683 - val_loss: 0.0445 - val_accuracy: 0.9873 - lr: 0.0010\n",
      "Epoch 93/200\n",
      "WARNING:tensorflow:Reduce LR on plateau conditioned on metric `val_acc` which is not available. Available metrics are: loss,accuracy,val_loss,val_accuracy,lr\n",
      "328/328 - 10s - loss: 0.0991 - accuracy: 0.9673 - val_loss: 0.0437 - val_accuracy: 0.9866 - lr: 0.0010\n",
      "Epoch 94/200\n",
      "WARNING:tensorflow:Reduce LR on plateau conditioned on metric `val_acc` which is not available. Available metrics are: loss,accuracy,val_loss,val_accuracy,lr\n",
      "328/328 - 10s - loss: 0.0977 - accuracy: 0.9669 - val_loss: 0.0365 - val_accuracy: 0.9886 - lr: 0.0010\n",
      "Epoch 95/200\n",
      "WARNING:tensorflow:Reduce LR on plateau conditioned on metric `val_acc` which is not available. Available metrics are: loss,accuracy,val_loss,val_accuracy,lr\n",
      "328/328 - 10s - loss: 0.0990 - accuracy: 0.9661 - val_loss: 0.0367 - val_accuracy: 0.9891 - lr: 0.0010\n",
      "Epoch 96/200\n",
      "WARNING:tensorflow:Reduce LR on plateau conditioned on metric `val_acc` which is not available. Available metrics are: loss,accuracy,val_loss,val_accuracy,lr\n",
      "328/328 - 10s - loss: 0.0934 - accuracy: 0.9683 - val_loss: 0.0367 - val_accuracy: 0.9888 - lr: 0.0010\n",
      "Epoch 97/200\n",
      "WARNING:tensorflow:Reduce LR on plateau conditioned on metric `val_acc` which is not available. Available metrics are: loss,accuracy,val_loss,val_accuracy,lr\n",
      "328/328 - 10s - loss: 0.0943 - accuracy: 0.9696 - val_loss: 0.0396 - val_accuracy: 0.9876 - lr: 0.0010\n",
      "Epoch 98/200\n",
      "WARNING:tensorflow:Reduce LR on plateau conditioned on metric `val_acc` which is not available. Available metrics are: loss,accuracy,val_loss,val_accuracy,lr\n",
      "328/328 - 10s - loss: 0.0968 - accuracy: 0.9680 - val_loss: 0.0436 - val_accuracy: 0.9866 - lr: 0.0010\n",
      "Epoch 99/200\n",
      "WARNING:tensorflow:Reduce LR on plateau conditioned on metric `val_acc` which is not available. Available metrics are: loss,accuracy,val_loss,val_accuracy,lr\n",
      "328/328 - 10s - loss: 0.0992 - accuracy: 0.9681 - val_loss: 0.0372 - val_accuracy: 0.9889 - lr: 0.0010\n",
      "Epoch 100/200\n",
      "WARNING:tensorflow:Reduce LR on plateau conditioned on metric `val_acc` which is not available. Available metrics are: loss,accuracy,val_loss,val_accuracy,lr\n",
      "328/328 - 10s - loss: 0.0929 - accuracy: 0.9689 - val_loss: 0.0396 - val_accuracy: 0.9884 - lr: 0.0010\n",
      "Epoch 101/200\n",
      "WARNING:tensorflow:Reduce LR on plateau conditioned on metric `val_acc` which is not available. Available metrics are: loss,accuracy,val_loss,val_accuracy,lr\n",
      "328/328 - 10s - loss: 0.0950 - accuracy: 0.9680 - val_loss: 0.0402 - val_accuracy: 0.9877 - lr: 0.0010\n",
      "Epoch 102/200\n",
      "WARNING:tensorflow:Reduce LR on plateau conditioned on metric `val_acc` which is not available. Available metrics are: loss,accuracy,val_loss,val_accuracy,lr\n",
      "328/328 - 10s - loss: 0.0951 - accuracy: 0.9686 - val_loss: 0.0334 - val_accuracy: 0.9901 - lr: 0.0010\n",
      "Epoch 103/200\n",
      "WARNING:tensorflow:Reduce LR on plateau conditioned on metric `val_acc` which is not available. Available metrics are: loss,accuracy,val_loss,val_accuracy,lr\n",
      "328/328 - 10s - loss: 0.0922 - accuracy: 0.9698 - val_loss: 0.0325 - val_accuracy: 0.9897 - lr: 0.0010\n",
      "Epoch 104/200\n",
      "WARNING:tensorflow:Reduce LR on plateau conditioned on metric `val_acc` which is not available. Available metrics are: loss,accuracy,val_loss,val_accuracy,lr\n",
      "328/328 - 10s - loss: 0.0926 - accuracy: 0.9698 - val_loss: 0.0389 - val_accuracy: 0.9879 - lr: 0.0010\n",
      "Epoch 105/200\n",
      "WARNING:tensorflow:Reduce LR on plateau conditioned on metric `val_acc` which is not available. Available metrics are: loss,accuracy,val_loss,val_accuracy,lr\n",
      "328/328 - 10s - loss: 0.0893 - accuracy: 0.9701 - val_loss: 0.0375 - val_accuracy: 0.9896 - lr: 0.0010\n",
      "Epoch 106/200\n",
      "WARNING:tensorflow:Reduce LR on plateau conditioned on metric `val_acc` which is not available. Available metrics are: loss,accuracy,val_loss,val_accuracy,lr\n",
      "328/328 - 10s - loss: 0.0917 - accuracy: 0.9699 - val_loss: 0.0374 - val_accuracy: 0.9889 - lr: 0.0010\n",
      "Epoch 107/200\n",
      "WARNING:tensorflow:Reduce LR on plateau conditioned on metric `val_acc` which is not available. Available metrics are: loss,accuracy,val_loss,val_accuracy,lr\n",
      "328/328 - 10s - loss: 0.0895 - accuracy: 0.9709 - val_loss: 0.0377 - val_accuracy: 0.9886 - lr: 0.0010\n",
      "Epoch 108/200\n",
      "WARNING:tensorflow:Reduce LR on plateau conditioned on metric `val_acc` which is not available. Available metrics are: loss,accuracy,val_loss,val_accuracy,lr\n",
      "328/328 - 10s - loss: 0.0944 - accuracy: 0.9687 - val_loss: 0.0377 - val_accuracy: 0.9884 - lr: 0.0010\n",
      "Epoch 109/200\n",
      "WARNING:tensorflow:Reduce LR on plateau conditioned on metric `val_acc` which is not available. Available metrics are: loss,accuracy,val_loss,val_accuracy,lr\n",
      "328/328 - 10s - loss: 0.0876 - accuracy: 0.9709 - val_loss: 0.0331 - val_accuracy: 0.9904 - lr: 0.0010\n",
      "Epoch 110/200\n",
      "WARNING:tensorflow:Reduce LR on plateau conditioned on metric `val_acc` which is not available. Available metrics are: loss,accuracy,val_loss,val_accuracy,lr\n",
      "328/328 - 10s - loss: 0.0880 - accuracy: 0.9702 - val_loss: 0.0385 - val_accuracy: 0.9879 - lr: 0.0010\n",
      "Epoch 111/200\n",
      "WARNING:tensorflow:Reduce LR on plateau conditioned on metric `val_acc` which is not available. Available metrics are: loss,accuracy,val_loss,val_accuracy,lr\n",
      "328/328 - 10s - loss: 0.0923 - accuracy: 0.9692 - val_loss: 0.0408 - val_accuracy: 0.9881 - lr: 0.0010\n",
      "Epoch 112/200\n",
      "WARNING:tensorflow:Reduce LR on plateau conditioned on metric `val_acc` which is not available. Available metrics are: loss,accuracy,val_loss,val_accuracy,lr\n",
      "328/328 - 10s - loss: 0.0871 - accuracy: 0.9707 - val_loss: 0.0370 - val_accuracy: 0.9891 - lr: 0.0010\n",
      "Epoch 113/200\n",
      "WARNING:tensorflow:Reduce LR on plateau conditioned on metric `val_acc` which is not available. Available metrics are: loss,accuracy,val_loss,val_accuracy,lr\n",
      "328/328 - 10s - loss: 0.0902 - accuracy: 0.9696 - val_loss: 0.0356 - val_accuracy: 0.9893 - lr: 0.0010\n",
      "Epoch 114/200\n",
      "WARNING:tensorflow:Reduce LR on plateau conditioned on metric `val_acc` which is not available. Available metrics are: loss,accuracy,val_loss,val_accuracy,lr\n",
      "328/328 - 10s - loss: 0.0920 - accuracy: 0.9688 - val_loss: 0.0428 - val_accuracy: 0.9867 - lr: 0.0010\n",
      "Epoch 115/200\n",
      "WARNING:tensorflow:Reduce LR on plateau conditioned on metric `val_acc` which is not available. Available metrics are: loss,accuracy,val_loss,val_accuracy,lr\n",
      "328/328 - 10s - loss: 0.0895 - accuracy: 0.9701 - val_loss: 0.0393 - val_accuracy: 0.9879 - lr: 0.0010\n",
      "Epoch 116/200\n",
      "WARNING:tensorflow:Reduce LR on plateau conditioned on metric `val_acc` which is not available. Available metrics are: loss,accuracy,val_loss,val_accuracy,lr\n",
      "328/328 - 10s - loss: 0.0925 - accuracy: 0.9696 - val_loss: 0.0390 - val_accuracy: 0.9891 - lr: 0.0010\n",
      "Epoch 117/200\n",
      "WARNING:tensorflow:Reduce LR on plateau conditioned on metric `val_acc` which is not available. Available metrics are: loss,accuracy,val_loss,val_accuracy,lr\n",
      "328/328 - 10s - loss: 0.0838 - accuracy: 0.9717 - val_loss: 0.0340 - val_accuracy: 0.9896 - lr: 0.0010\n",
      "Epoch 118/200\n",
      "WARNING:tensorflow:Reduce LR on plateau conditioned on metric `val_acc` which is not available. Available metrics are: loss,accuracy,val_loss,val_accuracy,lr\n",
      "328/328 - 10s - loss: 0.0884 - accuracy: 0.9708 - val_loss: 0.0384 - val_accuracy: 0.9889 - lr: 0.0010\n",
      "Epoch 119/200\n",
      "WARNING:tensorflow:Reduce LR on plateau conditioned on metric `val_acc` which is not available. Available metrics are: loss,accuracy,val_loss,val_accuracy,lr\n",
      "328/328 - 10s - loss: 0.0871 - accuracy: 0.9706 - val_loss: 0.0380 - val_accuracy: 0.9890 - lr: 0.0010\n",
      "Epoch 120/200\n",
      "WARNING:tensorflow:Reduce LR on plateau conditioned on metric `val_acc` which is not available. Available metrics are: loss,accuracy,val_loss,val_accuracy,lr\n",
      "328/328 - 10s - loss: 0.0879 - accuracy: 0.9706 - val_loss: 0.0375 - val_accuracy: 0.9892 - lr: 0.0010\n",
      "Epoch 121/200\n",
      "WARNING:tensorflow:Reduce LR on plateau conditioned on metric `val_acc` which is not available. Available metrics are: loss,accuracy,val_loss,val_accuracy,lr\n",
      "328/328 - 10s - loss: 0.0874 - accuracy: 0.9712 - val_loss: 0.0344 - val_accuracy: 0.9894 - lr: 0.0010\n",
      "Epoch 122/200\n",
      "WARNING:tensorflow:Reduce LR on plateau conditioned on metric `val_acc` which is not available. Available metrics are: loss,accuracy,val_loss,val_accuracy,lr\n",
      "328/328 - 10s - loss: 0.0874 - accuracy: 0.9709 - val_loss: 0.0337 - val_accuracy: 0.9893 - lr: 0.0010\n",
      "Epoch 123/200\n",
      "WARNING:tensorflow:Reduce LR on plateau conditioned on metric `val_acc` which is not available. Available metrics are: loss,accuracy,val_loss,val_accuracy,lr\n",
      "328/328 - 10s - loss: 0.0852 - accuracy: 0.9713 - val_loss: 0.0344 - val_accuracy: 0.9898 - lr: 0.0010\n",
      "Epoch 124/200\n",
      "WARNING:tensorflow:Reduce LR on plateau conditioned on metric `val_acc` which is not available. Available metrics are: loss,accuracy,val_loss,val_accuracy,lr\n",
      "328/328 - 10s - loss: 0.0846 - accuracy: 0.9722 - val_loss: 0.0391 - val_accuracy: 0.9888 - lr: 0.0010\n",
      "Epoch 125/200\n",
      "WARNING:tensorflow:Reduce LR on plateau conditioned on metric `val_acc` which is not available. Available metrics are: loss,accuracy,val_loss,val_accuracy,lr\n",
      "328/328 - 10s - loss: 0.0831 - accuracy: 0.9717 - val_loss: 0.0353 - val_accuracy: 0.9894 - lr: 0.0010\n",
      "Epoch 126/200\n",
      "WARNING:tensorflow:Reduce LR on plateau conditioned on metric `val_acc` which is not available. Available metrics are: loss,accuracy,val_loss,val_accuracy,lr\n",
      "328/328 - 10s - loss: 0.0855 - accuracy: 0.9713 - val_loss: 0.0351 - val_accuracy: 0.9891 - lr: 0.0010\n",
      "Epoch 127/200\n",
      "WARNING:tensorflow:Reduce LR on plateau conditioned on metric `val_acc` which is not available. Available metrics are: loss,accuracy,val_loss,val_accuracy,lr\n",
      "328/328 - 10s - loss: 0.0856 - accuracy: 0.9710 - val_loss: 0.0348 - val_accuracy: 0.9901 - lr: 0.0010\n",
      "Epoch 128/200\n",
      "WARNING:tensorflow:Reduce LR on plateau conditioned on metric `val_acc` which is not available. Available metrics are: loss,accuracy,val_loss,val_accuracy,lr\n",
      "328/328 - 10s - loss: 0.0850 - accuracy: 0.9721 - val_loss: 0.0344 - val_accuracy: 0.9896 - lr: 0.0010\n",
      "Epoch 129/200\n",
      "WARNING:tensorflow:Reduce LR on plateau conditioned on metric `val_acc` which is not available. Available metrics are: loss,accuracy,val_loss,val_accuracy,lr\n",
      "328/328 - 10s - loss: 0.0818 - accuracy: 0.9730 - val_loss: 0.0344 - val_accuracy: 0.9892 - lr: 0.0010\n",
      "Epoch 130/200\n",
      "WARNING:tensorflow:Reduce LR on plateau conditioned on metric `val_acc` which is not available. Available metrics are: loss,accuracy,val_loss,val_accuracy,lr\n",
      "328/328 - 10s - loss: 0.0815 - accuracy: 0.9722 - val_loss: 0.0375 - val_accuracy: 0.9889 - lr: 0.0010\n",
      "Epoch 131/200\n",
      "WARNING:tensorflow:Reduce LR on plateau conditioned on metric `val_acc` which is not available. Available metrics are: loss,accuracy,val_loss,val_accuracy,lr\n",
      "328/328 - 10s - loss: 0.0836 - accuracy: 0.9717 - val_loss: 0.0354 - val_accuracy: 0.9896 - lr: 0.0010\n",
      "Epoch 132/200\n",
      "WARNING:tensorflow:Reduce LR on plateau conditioned on metric `val_acc` which is not available. Available metrics are: loss,accuracy,val_loss,val_accuracy,lr\n",
      "328/328 - 10s - loss: 0.0770 - accuracy: 0.9740 - val_loss: 0.0393 - val_accuracy: 0.9889 - lr: 0.0010\n",
      "Epoch 133/200\n",
      "WARNING:tensorflow:Reduce LR on plateau conditioned on metric `val_acc` which is not available. Available metrics are: loss,accuracy,val_loss,val_accuracy,lr\n",
      "328/328 - 10s - loss: 0.0910 - accuracy: 0.9700 - val_loss: 0.0374 - val_accuracy: 0.9889 - lr: 0.0010\n",
      "Epoch 134/200\n",
      "WARNING:tensorflow:Reduce LR on plateau conditioned on metric `val_acc` which is not available. Available metrics are: loss,accuracy,val_loss,val_accuracy,lr\n",
      "328/328 - 10s - loss: 0.0791 - accuracy: 0.9742 - val_loss: 0.0345 - val_accuracy: 0.9893 - lr: 0.0010\n",
      "Epoch 135/200\n",
      "WARNING:tensorflow:Reduce LR on plateau conditioned on metric `val_acc` which is not available. Available metrics are: loss,accuracy,val_loss,val_accuracy,lr\n",
      "328/328 - 10s - loss: 0.0857 - accuracy: 0.9711 - val_loss: 0.0336 - val_accuracy: 0.9898 - lr: 0.0010\n",
      "Epoch 136/200\n",
      "WARNING:tensorflow:Reduce LR on plateau conditioned on metric `val_acc` which is not available. Available metrics are: loss,accuracy,val_loss,val_accuracy,lr\n",
      "328/328 - 10s - loss: 0.0790 - accuracy: 0.9736 - val_loss: 0.0350 - val_accuracy: 0.9898 - lr: 0.0010\n",
      "Epoch 137/200\n",
      "WARNING:tensorflow:Reduce LR on plateau conditioned on metric `val_acc` which is not available. Available metrics are: loss,accuracy,val_loss,val_accuracy,lr\n",
      "328/328 - 10s - loss: 0.0798 - accuracy: 0.9742 - val_loss: 0.0330 - val_accuracy: 0.9898 - lr: 0.0010\n",
      "Epoch 138/200\n",
      "WARNING:tensorflow:Reduce LR on plateau conditioned on metric `val_acc` which is not available. Available metrics are: loss,accuracy,val_loss,val_accuracy,lr\n",
      "328/328 - 10s - loss: 0.0803 - accuracy: 0.9726 - val_loss: 0.0330 - val_accuracy: 0.9898 - lr: 0.0010\n",
      "Epoch 139/200\n",
      "WARNING:tensorflow:Reduce LR on plateau conditioned on metric `val_acc` which is not available. Available metrics are: loss,accuracy,val_loss,val_accuracy,lr\n",
      "328/328 - 10s - loss: 0.0823 - accuracy: 0.9722 - val_loss: 0.0332 - val_accuracy: 0.9898 - lr: 0.0010\n",
      "Epoch 140/200\n",
      "WARNING:tensorflow:Reduce LR on plateau conditioned on metric `val_acc` which is not available. Available metrics are: loss,accuracy,val_loss,val_accuracy,lr\n",
      "328/328 - 10s - loss: 0.0825 - accuracy: 0.9730 - val_loss: 0.0309 - val_accuracy: 0.9906 - lr: 0.0010\n",
      "Epoch 141/200\n",
      "WARNING:tensorflow:Reduce LR on plateau conditioned on metric `val_acc` which is not available. Available metrics are: loss,accuracy,val_loss,val_accuracy,lr\n",
      "328/328 - 10s - loss: 0.0774 - accuracy: 0.9739 - val_loss: 0.0327 - val_accuracy: 0.9900 - lr: 0.0010\n",
      "Epoch 142/200\n",
      "WARNING:tensorflow:Reduce LR on plateau conditioned on metric `val_acc` which is not available. Available metrics are: loss,accuracy,val_loss,val_accuracy,lr\n",
      "328/328 - 10s - loss: 0.0837 - accuracy: 0.9726 - val_loss: 0.0370 - val_accuracy: 0.9884 - lr: 0.0010\n",
      "Epoch 143/200\n",
      "WARNING:tensorflow:Reduce LR on plateau conditioned on metric `val_acc` which is not available. Available metrics are: loss,accuracy,val_loss,val_accuracy,lr\n",
      "328/328 - 10s - loss: 0.0840 - accuracy: 0.9715 - val_loss: 0.0319 - val_accuracy: 0.9907 - lr: 0.0010\n",
      "Epoch 144/200\n",
      "WARNING:tensorflow:Reduce LR on plateau conditioned on metric `val_acc` which is not available. Available metrics are: loss,accuracy,val_loss,val_accuracy,lr\n",
      "328/328 - 10s - loss: 0.0805 - accuracy: 0.9724 - val_loss: 0.0330 - val_accuracy: 0.9906 - lr: 0.0010\n",
      "Epoch 145/200\n",
      "WARNING:tensorflow:Reduce LR on plateau conditioned on metric `val_acc` which is not available. Available metrics are: loss,accuracy,val_loss,val_accuracy,lr\n",
      "328/328 - 10s - loss: 0.0760 - accuracy: 0.9747 - val_loss: 0.0329 - val_accuracy: 0.9903 - lr: 0.0010\n",
      "Epoch 146/200\n",
      "WARNING:tensorflow:Reduce LR on plateau conditioned on metric `val_acc` which is not available. Available metrics are: loss,accuracy,val_loss,val_accuracy,lr\n",
      "328/328 - 10s - loss: 0.0818 - accuracy: 0.9730 - val_loss: 0.0356 - val_accuracy: 0.9895 - lr: 0.0010\n",
      "Epoch 147/200\n",
      "WARNING:tensorflow:Reduce LR on plateau conditioned on metric `val_acc` which is not available. Available metrics are: loss,accuracy,val_loss,val_accuracy,lr\n",
      "328/328 - 10s - loss: 0.0799 - accuracy: 0.9738 - val_loss: 0.0354 - val_accuracy: 0.9887 - lr: 0.0010\n",
      "Epoch 148/200\n",
      "WARNING:tensorflow:Reduce LR on plateau conditioned on metric `val_acc` which is not available. Available metrics are: loss,accuracy,val_loss,val_accuracy,lr\n",
      "328/328 - 10s - loss: 0.0806 - accuracy: 0.9730 - val_loss: 0.0325 - val_accuracy: 0.9907 - lr: 0.0010\n",
      "Epoch 149/200\n",
      "WARNING:tensorflow:Reduce LR on plateau conditioned on metric `val_acc` which is not available. Available metrics are: loss,accuracy,val_loss,val_accuracy,lr\n",
      "328/328 - 10s - loss: 0.0773 - accuracy: 0.9739 - val_loss: 0.0348 - val_accuracy: 0.9899 - lr: 0.0010\n",
      "Epoch 150/200\n",
      "WARNING:tensorflow:Reduce LR on plateau conditioned on metric `val_acc` which is not available. Available metrics are: loss,accuracy,val_loss,val_accuracy,lr\n",
      "328/328 - 10s - loss: 0.0815 - accuracy: 0.9729 - val_loss: 0.0378 - val_accuracy: 0.9891 - lr: 0.0010\n",
      "Epoch 151/200\n",
      "WARNING:tensorflow:Reduce LR on plateau conditioned on metric `val_acc` which is not available. Available metrics are: loss,accuracy,val_loss,val_accuracy,lr\n",
      "328/328 - 10s - loss: 0.0770 - accuracy: 0.9735 - val_loss: 0.0323 - val_accuracy: 0.9909 - lr: 0.0010\n",
      "Epoch 152/200\n",
      "WARNING:tensorflow:Reduce LR on plateau conditioned on metric `val_acc` which is not available. Available metrics are: loss,accuracy,val_loss,val_accuracy,lr\n",
      "328/328 - 10s - loss: 0.0792 - accuracy: 0.9730 - val_loss: 0.0381 - val_accuracy: 0.9890 - lr: 0.0010\n",
      "Epoch 153/200\n",
      "WARNING:tensorflow:Reduce LR on plateau conditioned on metric `val_acc` which is not available. Available metrics are: loss,accuracy,val_loss,val_accuracy,lr\n",
      "328/328 - 10s - loss: 0.0792 - accuracy: 0.9736 - val_loss: 0.0326 - val_accuracy: 0.9906 - lr: 0.0010\n",
      "Epoch 154/200\n",
      "WARNING:tensorflow:Reduce LR on plateau conditioned on metric `val_acc` which is not available. Available metrics are: loss,accuracy,val_loss,val_accuracy,lr\n",
      "328/328 - 10s - loss: 0.0761 - accuracy: 0.9747 - val_loss: 0.0374 - val_accuracy: 0.9891 - lr: 0.0010\n",
      "Epoch 155/200\n",
      "WARNING:tensorflow:Reduce LR on plateau conditioned on metric `val_acc` which is not available. Available metrics are: loss,accuracy,val_loss,val_accuracy,lr\n",
      "328/328 - 10s - loss: 0.0786 - accuracy: 0.9729 - val_loss: 0.0355 - val_accuracy: 0.9903 - lr: 0.0010\n",
      "Epoch 156/200\n",
      "WARNING:tensorflow:Reduce LR on plateau conditioned on metric `val_acc` which is not available. Available metrics are: loss,accuracy,val_loss,val_accuracy,lr\n",
      "328/328 - 10s - loss: 0.0800 - accuracy: 0.9726 - val_loss: 0.0380 - val_accuracy: 0.9888 - lr: 0.0010\n",
      "Epoch 157/200\n",
      "WARNING:tensorflow:Reduce LR on plateau conditioned on metric `val_acc` which is not available. Available metrics are: loss,accuracy,val_loss,val_accuracy,lr\n",
      "328/328 - 10s - loss: 0.0778 - accuracy: 0.9738 - val_loss: 0.0308 - val_accuracy: 0.9910 - lr: 0.0010\n",
      "Epoch 158/200\n",
      "WARNING:tensorflow:Reduce LR on plateau conditioned on metric `val_acc` which is not available. Available metrics are: loss,accuracy,val_loss,val_accuracy,lr\n",
      "328/328 - 10s - loss: 0.0770 - accuracy: 0.9741 - val_loss: 0.0305 - val_accuracy: 0.9906 - lr: 0.0010\n",
      "Epoch 159/200\n",
      "WARNING:tensorflow:Reduce LR on plateau conditioned on metric `val_acc` which is not available. Available metrics are: loss,accuracy,val_loss,val_accuracy,lr\n",
      "328/328 - 10s - loss: 0.0775 - accuracy: 0.9742 - val_loss: 0.0314 - val_accuracy: 0.9911 - lr: 0.0010\n",
      "Epoch 160/200\n",
      "WARNING:tensorflow:Reduce LR on plateau conditioned on metric `val_acc` which is not available. Available metrics are: loss,accuracy,val_loss,val_accuracy,lr\n",
      "328/328 - 10s - loss: 0.0809 - accuracy: 0.9720 - val_loss: 0.0319 - val_accuracy: 0.9910 - lr: 0.0010\n",
      "Epoch 161/200\n",
      "WARNING:tensorflow:Reduce LR on plateau conditioned on metric `val_acc` which is not available. Available metrics are: loss,accuracy,val_loss,val_accuracy,lr\n",
      "328/328 - 10s - loss: 0.0763 - accuracy: 0.9748 - val_loss: 0.0372 - val_accuracy: 0.9883 - lr: 0.0010\n",
      "Epoch 162/200\n",
      "WARNING:tensorflow:Reduce LR on plateau conditioned on metric `val_acc` which is not available. Available metrics are: loss,accuracy,val_loss,val_accuracy,lr\n",
      "328/328 - 10s - loss: 0.0743 - accuracy: 0.9753 - val_loss: 0.0330 - val_accuracy: 0.9898 - lr: 0.0010\n",
      "Epoch 163/200\n",
      "WARNING:tensorflow:Reduce LR on plateau conditioned on metric `val_acc` which is not available. Available metrics are: loss,accuracy,val_loss,val_accuracy,lr\n",
      "328/328 - 10s - loss: 0.0804 - accuracy: 0.9736 - val_loss: 0.0297 - val_accuracy: 0.9911 - lr: 0.0010\n",
      "Epoch 164/200\n",
      "WARNING:tensorflow:Reduce LR on plateau conditioned on metric `val_acc` which is not available. Available metrics are: loss,accuracy,val_loss,val_accuracy,lr\n",
      "328/328 - 10s - loss: 0.0765 - accuracy: 0.9741 - val_loss: 0.0306 - val_accuracy: 0.9906 - lr: 0.0010\n",
      "Epoch 165/200\n",
      "WARNING:tensorflow:Reduce LR on plateau conditioned on metric `val_acc` which is not available. Available metrics are: loss,accuracy,val_loss,val_accuracy,lr\n",
      "328/328 - 10s - loss: 0.0792 - accuracy: 0.9735 - val_loss: 0.0326 - val_accuracy: 0.9905 - lr: 0.0010\n",
      "Epoch 166/200\n",
      "WARNING:tensorflow:Reduce LR on plateau conditioned on metric `val_acc` which is not available. Available metrics are: loss,accuracy,val_loss,val_accuracy,lr\n",
      "328/328 - 10s - loss: 0.0771 - accuracy: 0.9739 - val_loss: 0.0352 - val_accuracy: 0.9896 - lr: 0.0010\n",
      "Epoch 167/200\n",
      "WARNING:tensorflow:Reduce LR on plateau conditioned on metric `val_acc` which is not available. Available metrics are: loss,accuracy,val_loss,val_accuracy,lr\n",
      "328/328 - 10s - loss: 0.0745 - accuracy: 0.9741 - val_loss: 0.0298 - val_accuracy: 0.9911 - lr: 0.0010\n",
      "Epoch 168/200\n",
      "WARNING:tensorflow:Reduce LR on plateau conditioned on metric `val_acc` which is not available. Available metrics are: loss,accuracy,val_loss,val_accuracy,lr\n",
      "328/328 - 10s - loss: 0.0761 - accuracy: 0.9747 - val_loss: 0.0350 - val_accuracy: 0.9894 - lr: 0.0010\n",
      "Epoch 169/200\n",
      "WARNING:tensorflow:Reduce LR on plateau conditioned on metric `val_acc` which is not available. Available metrics are: loss,accuracy,val_loss,val_accuracy,lr\n",
      "328/328 - 10s - loss: 0.0744 - accuracy: 0.9753 - val_loss: 0.0323 - val_accuracy: 0.9912 - lr: 0.0010\n",
      "Epoch 170/200\n",
      "WARNING:tensorflow:Reduce LR on plateau conditioned on metric `val_acc` which is not available. Available metrics are: loss,accuracy,val_loss,val_accuracy,lr\n",
      "328/328 - 10s - loss: 0.0760 - accuracy: 0.9741 - val_loss: 0.0282 - val_accuracy: 0.9919 - lr: 0.0010\n",
      "Epoch 171/200\n",
      "WARNING:tensorflow:Reduce LR on plateau conditioned on metric `val_acc` which is not available. Available metrics are: loss,accuracy,val_loss,val_accuracy,lr\n",
      "328/328 - 10s - loss: 0.0755 - accuracy: 0.9741 - val_loss: 0.0326 - val_accuracy: 0.9909 - lr: 0.0010\n",
      "Epoch 172/200\n",
      "WARNING:tensorflow:Reduce LR on plateau conditioned on metric `val_acc` which is not available. Available metrics are: loss,accuracy,val_loss,val_accuracy,lr\n",
      "328/328 - 10s - loss: 0.0753 - accuracy: 0.9747 - val_loss: 0.0294 - val_accuracy: 0.9911 - lr: 0.0010\n",
      "Epoch 173/200\n",
      "WARNING:tensorflow:Reduce LR on plateau conditioned on metric `val_acc` which is not available. Available metrics are: loss,accuracy,val_loss,val_accuracy,lr\n",
      "328/328 - 10s - loss: 0.0744 - accuracy: 0.9750 - val_loss: 0.0310 - val_accuracy: 0.9911 - lr: 0.0010\n",
      "Epoch 174/200\n",
      "WARNING:tensorflow:Reduce LR on plateau conditioned on metric `val_acc` which is not available. Available metrics are: loss,accuracy,val_loss,val_accuracy,lr\n",
      "328/328 - 10s - loss: 0.0791 - accuracy: 0.9741 - val_loss: 0.0319 - val_accuracy: 0.9904 - lr: 0.0010\n",
      "Epoch 175/200\n",
      "WARNING:tensorflow:Reduce LR on plateau conditioned on metric `val_acc` which is not available. Available metrics are: loss,accuracy,val_loss,val_accuracy,lr\n",
      "328/328 - 10s - loss: 0.0757 - accuracy: 0.9745 - val_loss: 0.0303 - val_accuracy: 0.9913 - lr: 0.0010\n",
      "Epoch 176/200\n",
      "WARNING:tensorflow:Reduce LR on plateau conditioned on metric `val_acc` which is not available. Available metrics are: loss,accuracy,val_loss,val_accuracy,lr\n",
      "328/328 - 10s - loss: 0.0745 - accuracy: 0.9751 - val_loss: 0.0281 - val_accuracy: 0.9923 - lr: 0.0010\n",
      "Epoch 177/200\n",
      "WARNING:tensorflow:Reduce LR on plateau conditioned on metric `val_acc` which is not available. Available metrics are: loss,accuracy,val_loss,val_accuracy,lr\n",
      "328/328 - 10s - loss: 0.0759 - accuracy: 0.9743 - val_loss: 0.0358 - val_accuracy: 0.9892 - lr: 0.0010\n",
      "Epoch 178/200\n",
      "WARNING:tensorflow:Reduce LR on plateau conditioned on metric `val_acc` which is not available. Available metrics are: loss,accuracy,val_loss,val_accuracy,lr\n",
      "328/328 - 10s - loss: 0.0730 - accuracy: 0.9761 - val_loss: 0.0353 - val_accuracy: 0.9892 - lr: 0.0010\n",
      "Epoch 179/200\n",
      "WARNING:tensorflow:Reduce LR on plateau conditioned on metric `val_acc` which is not available. Available metrics are: loss,accuracy,val_loss,val_accuracy,lr\n",
      "328/328 - 10s - loss: 0.0773 - accuracy: 0.9743 - val_loss: 0.0302 - val_accuracy: 0.9912 - lr: 0.0010\n",
      "Epoch 180/200\n",
      "WARNING:tensorflow:Reduce LR on plateau conditioned on metric `val_acc` which is not available. Available metrics are: loss,accuracy,val_loss,val_accuracy,lr\n",
      "328/328 - 10s - loss: 0.0755 - accuracy: 0.9746 - val_loss: 0.0328 - val_accuracy: 0.9912 - lr: 0.0010\n",
      "Epoch 181/200\n",
      "WARNING:tensorflow:Reduce LR on plateau conditioned on metric `val_acc` which is not available. Available metrics are: loss,accuracy,val_loss,val_accuracy,lr\n",
      "328/328 - 10s - loss: 0.0768 - accuracy: 0.9751 - val_loss: 0.0334 - val_accuracy: 0.9899 - lr: 0.0010\n",
      "Epoch 182/200\n",
      "WARNING:tensorflow:Reduce LR on plateau conditioned on metric `val_acc` which is not available. Available metrics are: loss,accuracy,val_loss,val_accuracy,lr\n",
      "328/328 - 10s - loss: 0.0747 - accuracy: 0.9746 - val_loss: 0.0283 - val_accuracy: 0.9921 - lr: 0.0010\n",
      "Epoch 183/200\n",
      "WARNING:tensorflow:Reduce LR on plateau conditioned on metric `val_acc` which is not available. Available metrics are: loss,accuracy,val_loss,val_accuracy,lr\n",
      "328/328 - 10s - loss: 0.0710 - accuracy: 0.9761 - val_loss: 0.0303 - val_accuracy: 0.9914 - lr: 0.0010\n",
      "Epoch 184/200\n",
      "WARNING:tensorflow:Reduce LR on plateau conditioned on metric `val_acc` which is not available. Available metrics are: loss,accuracy,val_loss,val_accuracy,lr\n",
      "328/328 - 10s - loss: 0.0745 - accuracy: 0.9749 - val_loss: 0.0297 - val_accuracy: 0.9915 - lr: 0.0010\n",
      "Epoch 185/200\n",
      "WARNING:tensorflow:Reduce LR on plateau conditioned on metric `val_acc` which is not available. Available metrics are: loss,accuracy,val_loss,val_accuracy,lr\n",
      "328/328 - 10s - loss: 0.0710 - accuracy: 0.9758 - val_loss: 0.0300 - val_accuracy: 0.9912 - lr: 0.0010\n",
      "Epoch 186/200\n",
      "WARNING:tensorflow:Reduce LR on plateau conditioned on metric `val_acc` which is not available. Available metrics are: loss,accuracy,val_loss,val_accuracy,lr\n",
      "328/328 - 10s - loss: 0.0740 - accuracy: 0.9751 - val_loss: 0.0330 - val_accuracy: 0.9902 - lr: 0.0010\n",
      "Epoch 187/200\n",
      "WARNING:tensorflow:Reduce LR on plateau conditioned on metric `val_acc` which is not available. Available metrics are: loss,accuracy,val_loss,val_accuracy,lr\n",
      "328/328 - 10s - loss: 0.0758 - accuracy: 0.9744 - val_loss: 0.0287 - val_accuracy: 0.9915 - lr: 0.0010\n",
      "Epoch 188/200\n",
      "WARNING:tensorflow:Reduce LR on plateau conditioned on metric `val_acc` which is not available. Available metrics are: loss,accuracy,val_loss,val_accuracy,lr\n",
      "328/328 - 10s - loss: 0.0693 - accuracy: 0.9762 - val_loss: 0.0318 - val_accuracy: 0.9906 - lr: 0.0010\n",
      "Epoch 189/200\n",
      "WARNING:tensorflow:Reduce LR on plateau conditioned on metric `val_acc` which is not available. Available metrics are: loss,accuracy,val_loss,val_accuracy,lr\n",
      "328/328 - 10s - loss: 0.0735 - accuracy: 0.9747 - val_loss: 0.0308 - val_accuracy: 0.9910 - lr: 0.0010\n",
      "Epoch 190/200\n",
      "WARNING:tensorflow:Reduce LR on plateau conditioned on metric `val_acc` which is not available. Available metrics are: loss,accuracy,val_loss,val_accuracy,lr\n",
      "328/328 - 10s - loss: 0.0688 - accuracy: 0.9766 - val_loss: 0.0347 - val_accuracy: 0.9895 - lr: 0.0010\n",
      "Epoch 191/200\n",
      "WARNING:tensorflow:Reduce LR on plateau conditioned on metric `val_acc` which is not available. Available metrics are: loss,accuracy,val_loss,val_accuracy,lr\n",
      "328/328 - 10s - loss: 0.0706 - accuracy: 0.9769 - val_loss: 0.0293 - val_accuracy: 0.9917 - lr: 0.0010\n",
      "Epoch 192/200\n",
      "WARNING:tensorflow:Reduce LR on plateau conditioned on metric `val_acc` which is not available. Available metrics are: loss,accuracy,val_loss,val_accuracy,lr\n",
      "328/328 - 10s - loss: 0.0767 - accuracy: 0.9738 - val_loss: 0.0431 - val_accuracy: 0.9863 - lr: 0.0010\n",
      "Epoch 193/200\n",
      "WARNING:tensorflow:Reduce LR on plateau conditioned on metric `val_acc` which is not available. Available metrics are: loss,accuracy,val_loss,val_accuracy,lr\n",
      "328/328 - 10s - loss: 0.0708 - accuracy: 0.9759 - val_loss: 0.0322 - val_accuracy: 0.9904 - lr: 0.0010\n",
      "Epoch 194/200\n",
      "WARNING:tensorflow:Reduce LR on plateau conditioned on metric `val_acc` which is not available. Available metrics are: loss,accuracy,val_loss,val_accuracy,lr\n",
      "328/328 - 10s - loss: 0.0695 - accuracy: 0.9767 - val_loss: 0.0262 - val_accuracy: 0.9922 - lr: 0.0010\n",
      "Epoch 195/200\n",
      "WARNING:tensorflow:Reduce LR on plateau conditioned on metric `val_acc` which is not available. Available metrics are: loss,accuracy,val_loss,val_accuracy,lr\n",
      "328/328 - 10s - loss: 0.0710 - accuracy: 0.9756 - val_loss: 0.0382 - val_accuracy: 0.9891 - lr: 0.0010\n",
      "Epoch 196/200\n",
      "WARNING:tensorflow:Reduce LR on plateau conditioned on metric `val_acc` which is not available. Available metrics are: loss,accuracy,val_loss,val_accuracy,lr\n",
      "328/328 - 10s - loss: 0.0732 - accuracy: 0.9758 - val_loss: 0.0297 - val_accuracy: 0.9910 - lr: 0.0010\n",
      "Epoch 197/200\n",
      "WARNING:tensorflow:Reduce LR on plateau conditioned on metric `val_acc` which is not available. Available metrics are: loss,accuracy,val_loss,val_accuracy,lr\n",
      "328/328 - 10s - loss: 0.0734 - accuracy: 0.9755 - val_loss: 0.0294 - val_accuracy: 0.9914 - lr: 0.0010\n",
      "Epoch 198/200\n",
      "WARNING:tensorflow:Reduce LR on plateau conditioned on metric `val_acc` which is not available. Available metrics are: loss,accuracy,val_loss,val_accuracy,lr\n",
      "328/328 - 10s - loss: 0.0714 - accuracy: 0.9755 - val_loss: 0.0335 - val_accuracy: 0.9902 - lr: 0.0010\n",
      "Epoch 199/200\n",
      "WARNING:tensorflow:Reduce LR on plateau conditioned on metric `val_acc` which is not available. Available metrics are: loss,accuracy,val_loss,val_accuracy,lr\n",
      "328/328 - 10s - loss: 0.0724 - accuracy: 0.9755 - val_loss: 0.0289 - val_accuracy: 0.9917 - lr: 0.0010\n",
      "Epoch 200/200\n",
      "WARNING:tensorflow:Reduce LR on plateau conditioned on metric `val_acc` which is not available. Available metrics are: loss,accuracy,val_loss,val_accuracy,lr\n",
      "328/328 - 10s - loss: 0.0716 - accuracy: 0.9763 - val_loss: 0.0305 - val_accuracy: 0.9914 - lr: 0.0010\n"
     ]
    }
   ],
   "source": [
    "batch_size = 128\n",
    "epochs = 200\n",
    "\n",
    "history = model.fit_generator(train_augmentation.flow(X_train_LeNet5, Y_train_LeNet5, batch_size=batch_size),\n",
    "                              steps_per_epoch=len(X_train_LeNet5)//batch_size,\n",
    "                              epochs=epochs,\n",
    "                              validation_data=(X_valid_LeNet5, Y_valid_LeNet5),\n",
    "                              validation_steps=50,\n",
    "                              callbacks=[learning_rate_reduction, es],\n",
    "                              verbose=2)"
   ]
  },
  {
   "cell_type": "markdown",
   "metadata": {
    "colab_type": "text",
    "id": "pjQVca22WYfM"
   },
   "source": [
    "##### ***Evaluating the Model***\n",
    "\n",
    "From the learning curve graph below, It can be seen that the accuracy of both training and validation set converge and the accuracy was improve during the training of the model. As a reult, the validation accuracy is 99.14%."
   ]
  },
  {
   "cell_type": "code",
   "execution_count": 0,
   "metadata": {
    "colab": {
     "base_uri": "https://localhost:8080/",
     "height": 406
    },
    "colab_type": "code",
    "collapsed": false,
    "id": "7kGblq4EnPEK",
    "outputId": "ccbefce6-b74b-4913-be5c-e4261249c598"
   },
   "outputs": [
    {
     "data": {
      "image/png": "[encoded data removed]",
      "text/plain": [
       "<Figure size 864x432 with 1 Axes>"
      ]
     },
     "metadata": {
      "tags": []
     },
     "output_type": "display_data"
    }
   ],
   "source": [
    "# Plot Learning curve\n",
    "pd.DataFrame(history.history).plot(figsize=(12, 6))\n",
    "plt.grid(True)\n",
    "plt.gca().set_ylim(0, 1) # set the vertical range to [0-1]\n",
    "plt.title('Learning Curve', fontsize=15)\n",
    "plt.xlabel('epochs')\n",
    "plt.ylabel('Accuracy')\n",
    "plt.show()"
   ]
  },
  {
   "cell_type": "markdown",
   "metadata": {
    "colab_type": "text",
    "id": "_TrhYYeUkWvV"
   },
   "source": [
    "##### ***Making prediction***"
   ]
  },
  {
   "cell_type": "code",
   "execution_count": 0,
   "metadata": {
    "colab": {
     "base_uri": "https://localhost:8080/",
     "height": 34
    },
    "colab_type": "code",
    "collapsed": false,
    "id": "HEAasgFU42a6",
    "outputId": "9ab7fb9f-7011-40be-f524-81e7e3e21837"
   },
   "outputs": [
    {
     "data": {
      "text/plain": [
       "array([0, 1, 2, ..., 8, 9, 9])"
      ]
     },
     "execution_count": 54,
     "metadata": {
      "tags": []
     },
     "output_type": "execute_result"
    }
   ],
   "source": [
    "predictions_test = model.predict_classes(X_test_LeNet5)\n",
    "predictions_test"
   ]
  },
  {
   "cell_type": "markdown",
   "metadata": {
    "colab_type": "text",
    "id": "5s5cIcXLA57O"
   },
   "source": [
    "#### **3.3.5 CNN Architecture Improvement**\n",
    "\n",
    "The architecture that generated the highest accuracy that we found will be provided in the following. This model was taken from [25 Million Images! [0.99757] MNIST](https://www.kaggle.com/cdeotte/25-million-images-0-99757-mnist) in Kaggle.\n",
    "\n",
    "This simple architecture starts with convolution layers, then follow by a pooling layer. Then another convolution layers and pooling were added. Then, finish with a dense layer and a SoftMax layer. There are some unique features in a model that can help improve the accuracy, that is pooling layers batch normalisation, and dropout. Batch normalisation would be added after the convolution layers to normalise the input of a hidden layer by scaling the activations. This can help to increase the training speed and regularise the model. Moreover, dropout technique is the powerful regularisation technique, which would be added to prevent the over-fitting problem. Therefore, for the model in this project, a number of the filter size, padding type and parameters of pooling, batch normalisation, dropout, activation function type will be adjusted by trial and error to maximise the accuracy of the testing set."
   ]
  },
  {
   "cell_type": "code",
   "execution_count": 0,
   "metadata": {
    "colab": {
     "base_uri": "https://localhost:8080/",
     "height": 814
    },
    "colab_type": "code",
    "collapsed": false,
    "id": "w4DpGBFAA5Jm",
    "outputId": "02d413b3-b13b-43eb-c2df-d556b3a27bd3"
   },
   "outputs": [
    {
     "name": "stdout",
     "output_type": "stream",
     "text": [
      "Model: \"sequential\"\n",
      "_________________________________________________________________\n",
      "Layer (type)                 Output Shape              Param #   \n",
      "=================================================================\n",
      "conv2d (Conv2D)              (None, 26, 26, 64)        640       \n",
      "_________________________________________________________________\n",
      "batch_normalization (BatchNo (None, 26, 26, 64)        256       \n",
      "_________________________________________________________________\n",
      "conv2d_1 (Conv2D)            (None, 24, 24, 64)        36928     \n",
      "_________________________________________________________________\n",
      "batch_normalization_1 (Batch (None, 24, 24, 64)        256       \n",
      "_________________________________________________________________\n",
      "conv2d_2 (Conv2D)            (None, 12, 12, 64)        102464    \n",
      "_________________________________________________________________\n",
      "batch_normalization_2 (Batch (None, 12, 12, 64)        256       \n",
      "_________________________________________________________________\n",
      "dropout (Dropout)            (None, 12, 12, 64)        0         \n",
      "_________________________________________________________________\n",
      "conv2d_3 (Conv2D)            (None, 10, 10, 128)       73856     \n",
      "_________________________________________________________________\n",
      "batch_normalization_3 (Batch (None, 10, 10, 128)       512       \n",
      "_________________________________________________________________\n",
      "conv2d_4 (Conv2D)            (None, 8, 8, 128)         147584    \n",
      "_________________________________________________________________\n",
      "batch_normalization_4 (Batch (None, 8, 8, 128)         512       \n",
      "_________________________________________________________________\n",
      "conv2d_5 (Conv2D)            (None, 4, 4, 128)         409728    \n",
      "_________________________________________________________________\n",
      "batch_normalization_5 (Batch (None, 4, 4, 128)         512       \n",
      "_________________________________________________________________\n",
      "dropout_1 (Dropout)          (None, 4, 4, 128)         0         \n",
      "_________________________________________________________________\n",
      "flatten (Flatten)            (None, 2048)              0         \n",
      "_________________________________________________________________\n",
      "dense (Dense)                (None, 256)               524544    \n",
      "_________________________________________________________________\n",
      "batch_normalization_6 (Batch (None, 256)               1024      \n",
      "_________________________________________________________________\n",
      "dropout_2 (Dropout)          (None, 256)               0         \n",
      "_________________________________________________________________\n",
      "dense_1 (Dense)              (None, 10)                2570      \n",
      "=================================================================\n",
      "Total params: 1,301,642\n",
      "Trainable params: 1,299,978\n",
      "Non-trainable params: 1,664\n",
      "_________________________________________________________________\n"
     ]
    }
   ],
   "source": [
    "# Perform layers\n",
    "model = tf.keras.models.Sequential([\n",
    "\n",
    "    tf.keras.layers.Conv2D(64,kernel_size=3,activation='relu',input_shape=(28,28,1)),\n",
    "    tf.keras.layers.BatchNormalization(momentum=0.5, epsilon=1e-5, gamma_initializer=\"uniform\"),\n",
    "    tf.keras.layers.Conv2D(64,kernel_size=3,activation='relu'),\n",
    "    tf.keras.layers.BatchNormalization(momentum=0.5, epsilon=1e-5, gamma_initializer=\"uniform\"),\n",
    "    tf.keras.layers.Conv2D(64,kernel_size=5,strides=2,padding='same',activation='relu'),\n",
    "    tf.keras.layers.BatchNormalization(momentum=0.5, epsilon=1e-5, gamma_initializer=\"uniform\"),\n",
    "    tf.keras.layers.Dropout(0.4),\n",
    "\n",
    "    tf.keras.layers.Conv2D(128,kernel_size=3,activation='relu'),\n",
    "    tf.keras.layers.BatchNormalization(momentum=0.5, epsilon=1e-5, gamma_initializer=\"uniform\"),\n",
    "    tf.keras.layers.Conv2D(128,kernel_size=3,activation='relu'),\n",
    "    tf.keras.layers.BatchNormalization(momentum=0.5, epsilon=1e-5, gamma_initializer=\"uniform\"),\n",
    "    tf.keras.layers.Conv2D(128,kernel_size=5,strides=2,padding='same',activation='relu'),\n",
    "    tf.keras.layers.BatchNormalization(momentum=0.5, epsilon=1e-5, gamma_initializer=\"uniform\"),\n",
    "    tf.keras.layers.Dropout(0.4),\n",
    "\n",
    "    tf.keras.layers.Flatten(),\n",
    "    tf.keras.layers.Dense(256, activation='relu'),\n",
    "    \n",
    "    tf.keras.layers.BatchNormalization(),\n",
    "    tf.keras.layers.Dropout(0.4),\n",
    "    tf.keras.layers.Dense(10, activation='softmax')\n",
    "])\n",
    "\n",
    "# Displays all model's layers\n",
    "model.summary()"
   ]
  },
  {
   "cell_type": "markdown",
   "metadata": {
    "colab_type": "text",
    "id": "ywg_pjt4DHNR"
   },
   "source": [
    "##### ***Compiling and Fitting Model***\n",
    "In compile model, we used the loss function as “categorical_crossentropy”, metric to evaluate model is “accuracy” and the optimiser would be “RMSprop”.\n",
    "\n",
    "We have already experimented that RMSprop performs better than Adam and SGD optimiser. Adam optimiser learn faster, reach the minimum point faster, but gave the lower validation accuracy. While SGD seems does not work well with this model because it cannot reach the global minimum."
   ]
  },
  {
   "cell_type": "code",
   "execution_count": 0,
   "metadata": {
    "colab": {},
    "colab_type": "code",
    "collapsed": true,
    "id": "Jc0GXekyFyCU"
   },
   "outputs": [],
   "source": [
    "optimizer = RMSprop(learning_rate=0.001, rho=0.9)  # or learning_rate = 0.0025\n",
    "model.compile(loss='categorical_crossentropy',\n",
    "              optimizer=optimizer,\n",
    "              metrics=['accuracy'])"
   ]
  },
  {
   "cell_type": "code",
   "execution_count": 0,
   "metadata": {
    "colab": {},
    "colab_type": "code",
    "collapsed": true,
    "id": "hasmr_y0ITWA"
   },
   "outputs": [],
   "source": [
    "batch_size = 128\n",
    "epochs = 200\n",
    "\n",
    "history = model.fit_generator(train_augmentation .flow(X_train_i, Y_train_i, batch_size=batch_size),\n",
    "                              steps_per_epoch=len(X_train_i)//batch_size,\n",
    "                              epochs=epochs,\n",
    "                              validation_data=(X_valid_i, Y_valid_i),\n",
    "                              validation_steps=50,\n",
    "                              callbacks=[learning_rate_reduction, es],\n",
    "                              verbose=1)"
   ]
  },
  {
   "cell_type": "markdown",
   "metadata": {
    "colab_type": "text",
    "id": "PoiRhT-yWfp3"
   },
   "source": [
    "##### ***Evaluating the Model***\n",
    "\n",
    "From the learning curve graph below, It can be seen that the accuracy of both training and validation set converge to 1. This means the accuracy was improve during the training of the model. As a reult, the validation accuracy is 99.52%, which is our best score that we obtained."
   ]
  },
  {
   "cell_type": "code",
   "execution_count": 0,
   "metadata": {
    "colab": {},
    "colab_type": "code",
    "collapsed": true,
    "id": "W9E-dJfEIWyz"
   },
   "outputs": [],
   "source": [
    "# Plot Learning curve\n",
    "pd.DataFrame(history.history).plot(figsize=(12, 6))\n",
    "plt.grid(True)\n",
    "plt.gca().set_ylim(0, 1) # set the vertical range to [0-1]\n",
    "plt.title('Learning Curve', fontsize=15)\n",
    "plt.xlabel('epochs')\n",
    "plt.ylabel('Accuracy')\n",
    "plt.show()"
   ]
  },
  {
   "cell_type": "markdown",
   "metadata": {
    "colab_type": "text",
    "id": "1U6_GS4ikayf"
   },
   "source": [
    "##### ***Making prediction***"
   ]
  },
  {
   "cell_type": "code",
   "execution_count": 0,
   "metadata": {
    "colab": {
     "base_uri": "https://localhost:8080/",
     "height": 106
    },
    "colab_type": "code",
    "collapsed": false,
    "id": "s6TLtXkMuGz1",
    "outputId": "34b76ba1-ef5c-4cab-f8f3-292b11159134"
   },
   "outputs": [
    {
     "name": "stdout",
     "output_type": "stream",
     "text": [
      "WARNING:tensorflow:From <ipython-input-44-8f3ee4a7503b>:1: Sequential.predict_classes (from tensorflow.python.keras.engine.sequential) is deprecated and will be removed after 2021-01-01.\n",
      "Instructions for updating:\n",
      "Please use instead:* `np.argmax(model.predict(x), axis=-1)`,   if your model does multi-class classification   (e.g. if it uses a `softmax` last-layer activation).* `(model.predict(x) > 0.5).astype(\"int32\")`,   if your model does binary classification   (e.g. if it uses a `sigmoid` last-layer activation).\n"
     ]
    },
    {
     "data": {
      "text/plain": [
       "array([0, 1, 2, ..., 8, 9, 9])"
      ]
     },
     "execution_count": 44,
     "metadata": {
      "tags": []
     },
     "output_type": "execute_result"
    }
   ],
   "source": [
    "predictions_test = model.predict_classes(X_test_i)\n",
    "predictions_test"
   ]
  },
  {
   "cell_type": "markdown",
   "metadata": {
    "colab_type": "text",
    "id": "33JACTj3HNdm"
   },
   "source": [
    "# **4. Conclusions**\n",
    "\n",
    "This task will train the model to predict the number of Kannada MNIST dataset using Deep Learning techniques. Fully Connected Network and Convolutional Neural Network (CNN) approach will be implemented. The benefit of the CNN is there are parameters less than Fully connected network method that can train a model faster.\n",
    "\n",
    "In the fully connected network part, we obtained the outcomes that Adam optimiser learns faster than SGD, but SGD gives higher accuracy. Besides, a model regularisation can improve the efficiency of the model using dropout technique.\n",
    "\n",
    "In the CNN approach, a proper architecture could contribute the better performance. Data augmentation is one of the most crucial techniques that affect the performance of the model. Moreover, the size of convolution layer, pooling layer, activation function, batch normalisation, decaying learning rate and dropout have an impact on the accuracy as well.\n",
    "\n",
    "As a result, CNN performs outstanding accuracy, around 99.5%, while the highest accuracy of the Fully Connected network is approximately 98%.\n",
    "\n",
    "We hope that this task will help you more understanding about Deep Learning in practical. We are exciting when we tried different parameters. Our suggestion is try to change other settings such as the number of filters, activation function type, and other parameters to build the model and observe the outcomes.\n",
    "\n",
    "The following section is the summarise of our code that provided the best accuracy, and it will be submitted to Kaggle competition."
   ]
  },
  {
   "cell_type": "markdown",
   "metadata": {
    "colab_type": "text",
    "id": "BuJc5BnZIyC9"
   },
   "source": [
    "# **5. References**\n",
    "\n",
    "- Heaton, J. (2015). AIFH, Volume 3: Deep Learning and Neural Networks.\n",
    "- LeCun, Y., Bottou, L., Bengio, Y., & Haffner, P. (1998). Gradient-based learning applied to document recognition. Proceedings of the IEEE, 86(11), 2278-2324."
   ]
  },
  {
   "cell_type": "markdown",
   "metadata": {
    "colab_type": "text",
    "id": "D8HH054LaLTR"
   },
   "source": [
    "# **Submission Model**"
   ]
  },
  {
   "cell_type": "code",
   "execution_count": 0,
   "metadata": {
    "colab": {
     "base_uri": "https://localhost:8080/",
     "height": 86,
     "resources": {
      "http://localhost:8080/nbextensions/google.colab/files.js": {
       "data": "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",
       "headers": [
        [
         "content-type",
         "application/javascript"
        ]
       ],
       "ok": true,
       "status": 200,
       "status_text": ""
      }
     }
    },
    "colab_type": "code",
    "collapsed": false,
    "id": "d3_Td2jGcduN",
    "outputId": "58613306-55ed-4570-f2a3-c0187df24017"
   },
   "outputs": [
    {
     "data": {
      "text/html": [
       "\n",
       "     <input type=\"file\" id=\"files-f4ca830a-499e-4b1c-84d4-38078ade50d0\" name=\"files[]\" multiple disabled />\n",
       "     <output id=\"result-f4ca830a-499e-4b1c-84d4-38078ade50d0\">\n",
       "      Upload widget is only available when the cell has been executed in the\n",
       "      current browser session. Please rerun this cell to enable.\n",
       "      </output>\n",
       "      <script src=\"/nbextensions/google.colab/files.js\"></script> "
      ],
      "text/plain": [
       "<IPython.core.display.HTML object>"
      ]
     },
     "metadata": {
      "tags": []
     },
     "output_type": "display_data"
    },
    {
     "name": "stdout",
     "output_type": "stream",
     "text": [
      "Saving kaggle.json to kaggle (1).json\n"
     ]
    },
    {
     "data": {
      "text/plain": [
       "{'kaggle.json': b'{\"username\":\"chinnakritn\",\"key\":\"1e82857533b2b1c8622562ac08a53ea1\"}'}"
      ]
     },
     "execution_count": 45,
     "metadata": {
      "tags": []
     },
     "output_type": "execute_result"
    }
   ],
   "source": [
    "from google.colab import files\n",
    "files.upload()"
   ]
  },
  {
   "cell_type": "code",
   "execution_count": 0,
   "metadata": {
    "colab": {},
    "colab_type": "code",
    "collapsed": true,
    "id": "tku0WaqrdJMn"
   },
   "outputs": [],
   "source": [
    "!mkdir -p ~/.kaggle\n",
    "!cp kaggle.json ~/.kaggle/kaggle.json\n",
    "!chmod 600 /root/.kaggle/kaggle.json"
   ]
  },
  {
   "cell_type": "code",
   "execution_count": 0,
   "metadata": {
    "colab": {},
    "colab_type": "code",
    "collapsed": true,
    "id": "9TWT4fJjdfdh"
   },
   "outputs": [],
   "source": [
    "# Import libraries \n",
    "import numpy as np    # Implemennts milti-dimensional array and matrices\n",
    "import pandas as pd  # for data manipulation and analysis\n",
    "import tensorflow as tf # for create deep learning models\n",
    "from tensorflow import keras # implementation of the Keras API specification"
   ]
  },
  {
   "cell_type": "code",
   "execution_count": 0,
   "metadata": {
    "colab": {
     "base_uri": "https://localhost:8080/",
     "height": 52
    },
    "colab_type": "code",
    "collapsed": false,
    "id": "gN274NYyIyDA",
    "outputId": "e9e9cde5-5d40-4042-c719-cd67f8a35736"
   },
   "outputs": [
    {
     "name": "stdout",
     "output_type": "stream",
     "text": [
      "Tensorflow version 2.2.0-rc2\n",
      "Keras version 2.3.0-tf\n"
     ]
    }
   ],
   "source": [
    "# To check version of tensorflow and keras\n",
    "print('Tensorflow version',tf.__version__)\n",
    "print('Keras version',keras.__version__)"
   ]
  },
  {
   "cell_type": "code",
   "execution_count": 0,
   "metadata": {
    "colab": {
     "base_uri": "https://localhost:8080/",
     "height": 138
    },
    "colab_type": "code",
    "collapsed": false,
    "id": "hBfikNl6aXwA",
    "outputId": "f139c8bf-6d30-415a-9ce5-0b9f1b13487c"
   },
   "outputs": [
    {
     "name": "stdout",
     "output_type": "stream",
     "text": [
      "Warning: Looks like you're using an outdated API Version, please consider updating (server 1.5.6 / client 1.5.4)\n",
      "Downloading test.csv.zip to /content\n",
      "\r",
      "  0% 0.00/1.79M [00:00<?, ?B/s]\n",
      "100% 1.79M/1.79M [00:00<00:00, 60.1MB/s]\n",
      "Downloading training.csv.zip to /content\n",
      " 50% 5.00M/9.92M [00:00<00:00, 34.8MB/s]\n",
      "100% 9.92M/9.92M [00:00<00:00, 46.5MB/s]\n"
     ]
    }
   ],
   "source": [
    "!kaggle competitions download -c cs98x-kannada-mnist --force"
   ]
  },
  {
   "cell_type": "code",
   "execution_count": 0,
   "metadata": {
    "colab": {},
    "colab_type": "code",
    "collapsed": true,
    "id": "LgMmhxUDaX1U"
   },
   "outputs": [],
   "source": [
    "# load training & test datasets\n",
    "train = pd.read_csv(\"/content/training.csv.zip\")\n",
    "test = pd.read_csv(\"/content/test.csv.zip\")"
   ]
  },
  {
   "cell_type": "code",
   "execution_count": 0,
   "metadata": {
    "colab": {},
    "colab_type": "code",
    "collapsed": true,
    "id": "hKYCnxPin_NL"
   },
   "outputs": [],
   "source": [
    "# Create a copy of data that does not affect to original trian and test set\n",
    "train_i = train.copy()\n",
    "test_i = test.copy()\n",
    "\n",
    "X_i = train_i.values[:,2:]            # Segment train output variables\n",
    "Y_i = train_i.loc[:,'label'].values   # Segment train input variables\n",
    "X_testing_i = test_i.values[:,1:]        # Segment test input variables\n",
    "\n",
    "X_i = np.array(X_i).reshape(60000,28, 28)\n",
    "X_testing_i = np.array(X_testing_i).reshape(10000,28, 28)"
   ]
  },
  {
   "cell_type": "code",
   "execution_count": 0,
   "metadata": {
    "colab": {},
    "colab_type": "code",
    "collapsed": true,
    "id": "2iSUmtQboAAD"
   },
   "outputs": [],
   "source": [
    "# import libraries\n",
    "import sklearn   # import tools for machine learning and statistical modeling including classification, regression, clustering and dimensionality reduction\n",
    "from sklearn import model_selection, preprocessing  # import model selection and preprocessing\n",
    "from sklearn.preprocessing import scale  # import data normalise tool\n",
    "from sklearn.model_selection import train_test_split   # to divide dataset into train and test set\n",
    "import matplotlib.pyplot as plt "
   ]
  },
  {
   "cell_type": "code",
   "execution_count": 0,
   "metadata": {
    "colab": {},
    "colab_type": "code",
    "collapsed": true,
    "id": "GkZCiA8pn_62"
   },
   "outputs": [],
   "source": [
    "# Spliting train and validation set into 70:30 ratio\n",
    "X_train_i, X_valid_i, Y_train_i, Y_valid_i = sklearn.model_selection.train_test_split(X_i, Y_i, test_size=0.30)"
   ]
  },
  {
   "cell_type": "code",
   "execution_count": 0,
   "metadata": {
    "colab": {
     "base_uri": "https://localhost:8080/",
     "height": 86
    },
    "colab_type": "code",
    "collapsed": false,
    "id": "ugxqZNF7n_Ge",
    "outputId": "a932872c-1bd8-4402-9a5b-8b47b46a0a68"
   },
   "outputs": [
    {
     "name": "stdout",
     "output_type": "stream",
     "text": [
      "x_train shape: (42000, 28, 28, 1)\n",
      "42000 train samples\n",
      "18000 validation samples\n",
      "10000 test samples\n"
     ]
    }
   ],
   "source": [
    "# data preparation\n",
    "img_rows, img_cols = X_i.shape[1], X_i.shape[1]\n",
    "\n",
    "# Reshape the image \n",
    "X_train_i = X_train_i.reshape(X_train_i.shape[0], img_rows, img_cols, 1)\n",
    "X_valid_i = X_valid_i.reshape(X_valid_i.shape[0], img_rows, img_cols, 1)\n",
    "X_test_i = X_testing_i.reshape(X_testing_i.shape[0], img_rows, img_cols, 1)\n",
    "input_shape = (img_rows, img_cols, 1)  \n",
    "\n",
    "X_train_i = X_train_i.astype('float32')\n",
    "X_valid_i = X_valid_i.astype('float32')\n",
    "X_test_i = X_test_i.astype('float32')\n",
    "\n",
    "# Normalisation scale of X_train and X_valid\n",
    "X_train_i = X_train_i/255\n",
    "X_valid_i = X_valid_i/255\n",
    "X_test_i = X_test_i/255\n",
    "Y_train_i = Y_train_i\n",
    "Y_valid_i = Y_valid_i\n",
    "print('x_train shape:', X_train_i.shape)\n",
    "print(X_train_i.shape[0], 'train samples')\n",
    "print(X_valid_i.shape[0], 'validation samples')\n",
    "print(X_test_i.shape[0], 'test samples')\n",
    "\n",
    "# convert class vectors to binary class matrices\n",
    "num_classes = 10\n",
    "Y_train_i = keras.utils.to_categorical(Y_train_i, num_classes)\n",
    "Y_valid_i = keras.utils.to_categorical(Y_valid_i, num_classes)"
   ]
  },
  {
   "cell_type": "code",
   "execution_count": 0,
   "metadata": {
    "colab": {},
    "colab_type": "code",
    "collapsed": true,
    "id": "CbyZBArRn-_f"
   },
   "outputs": [],
   "source": [
    "# create the model\n",
    "model = tf.keras.models.Sequential([\n",
    "\n",
    "    tf.keras.layers.Conv2D(128,kernel_size=3,activation='relu',input_shape=(28,28,1)),\n",
    "    tf.keras.layers.BatchNormalization(momentum=0.5, epsilon=1e-5, gamma_initializer=\"uniform\"),\n",
    "    #tf.keras.layers.LeakyReLU(alpha=0.1),\n",
    "    tf.keras.layers.Conv2D(128,kernel_size=3,activation='relu'),\n",
    "    tf.keras.layers.BatchNormalization(momentum=0.5, epsilon=1e-5, gamma_initializer=\"uniform\"),\n",
    "    #tf.keras.layers.LeakyReLU(alpha=0.1),\n",
    "    tf.keras.layers.Conv2D(128,kernel_size=5,strides=2,padding='same',activation='relu'),\n",
    "    tf.keras.layers.BatchNormalization(momentum=0.5, epsilon=1e-5, gamma_initializer=\"uniform\"),\n",
    "    #tf.keras.layers.LeakyReLU(alpha=0.1),\n",
    "    tf.keras.layers.Dropout(0.4),\n",
    "\n",
    "    tf.keras.layers.Conv2D(256,kernel_size=3,activation='relu'),\n",
    "    tf.keras.layers.BatchNormalization(momentum=0.5, epsilon=1e-5, gamma_initializer=\"uniform\"),\n",
    "    #tf.keras.layers.LeakyReLU(alpha=0.1),\n",
    "    tf.keras.layers.Conv2D(256,kernel_size=3,activation='relu'),\n",
    "    tf.keras.layers.BatchNormalization(momentum=0.5, epsilon=1e-5, gamma_initializer=\"uniform\"),\n",
    "    #tf.keras.layers.LeakyReLU(alpha=0.1),\n",
    "    tf.keras.layers.Conv2D(256,kernel_size=5,strides=2,padding='same',activation='relu'),\n",
    "    tf.keras.layers.BatchNormalization(momentum=0.5, epsilon=1e-5, gamma_initializer=\"uniform\"),\n",
    "    #tf.keras.layers.LeakyReLU(alpha=0.1),\n",
    "    tf.keras.layers.Dropout(0.4),\n",
    "\n",
    "    tf.keras.layers.Flatten(),\n",
    "    tf.keras.layers.Dense(512, activation='relu'),\n",
    "    #tf.keras.layers.LeakyReLU(alpha=0.1),\n",
    "    \n",
    "    tf.keras.layers.BatchNormalization(),\n",
    "    tf.keras.layers.Dropout(0.4),\n",
    "    tf.keras.layers.Dense(10, activation='softmax')\n",
    "])\n",
    "\n",
    "# compile model\n",
    "from tensorflow.keras.optimizers import RMSprop\n",
    "\n",
    "optimizer = RMSprop(learning_rate=0.001, rho=0.9)  # or learning_rate = 0.0025\n",
    "model.compile(loss='categorical_crossentropy',\n",
    "              optimizer=optimizer,\n",
    "              metrics=['accuracy'])\n"
   ]
  },
  {
   "cell_type": "code",
   "execution_count": 0,
   "metadata": {
    "colab": {},
    "colab_type": "code",
    "collapsed": true,
    "id": "kQnrlIvmlD89"
   },
   "outputs": [],
   "source": [
    "# Data Augmentation\n",
    "from keras.preprocessing.image import ImageDataGenerator\n",
    "train_augmentation = ImageDataGenerator(rotation_range = 10,\n",
    "                                   width_shift_range = 0.25,\n",
    "                                   height_shift_range = 0.25,\n",
    "                                   shear_range = 0.1,\n",
    "                                   zoom_range = 0.25,\n",
    "                                   horizontal_flip = False)\n",
    "valid_augmentation = ImageDataGenerator() \n",
    "\n",
    "# Early stopping\n",
    "from tensorflow.keras.callbacks import ReduceLROnPlateau, EarlyStopping\n",
    "es = EarlyStopping(monitor='val_loss', mode='min', verbose=1, patience=300, restore_best_weights=True)\n",
    "\n",
    "# Set a learning rate reduction\n",
    "learning_rate_reduction = ReduceLROnPlateau(monitor='val_acc', \n",
    "                                            patience=3, \n",
    "                                            verbose=1, \n",
    "                                            factor=0.5, \n",
    "                                            min_lr=0.00001)"
   ]
  },
  {
   "cell_type": "code",
   "execution_count": 0,
   "metadata": {
    "colab": {
     "base_uri": "https://localhost:8080/",
     "height": 1000
    },
    "colab_type": "code",
    "collapsed": false,
    "id": "TbFC-38Qs_RX",
    "outputId": "2b542598-84bd-4804-c242-d4e7582d8b9e"
   },
   "outputs": [
    {
     "name": "stdout",
     "output_type": "stream",
     "text": [
      "Epoch 1/100\n",
      "328/328 [==============================] - ETA: 0s - loss: 0.5343 - accuracy: 0.8251WARNING:tensorflow:Reduce LR on plateau conditioned on metric `val_acc` which is not available. Available metrics are: loss,accuracy,val_loss,val_accuracy,lr\n",
      "328/328 [==============================] - 20s 62ms/step - loss: 0.5343 - accuracy: 0.8251 - val_loss: 0.1945 - val_accuracy: 0.9576 - lr: 0.0010\n",
      "Epoch 2/100\n",
      "328/328 [==============================] - ETA: 0s - loss: 0.1646 - accuracy: 0.9500WARNING:tensorflow:Reduce LR on plateau conditioned on metric `val_acc` which is not available. Available metrics are: loss,accuracy,val_loss,val_accuracy,lr\n",
      "328/328 [==============================] - 20s 62ms/step - loss: 0.1646 - accuracy: 0.9500 - val_loss: 0.0610 - val_accuracy: 0.9843 - lr: 0.0010\n",
      "Epoch 3/100\n",
      "328/328 [==============================] - ETA: 0s - loss: 0.1273 - accuracy: 0.9601WARNING:tensorflow:Reduce LR on plateau conditioned on metric `val_acc` which is not available. Available metrics are: loss,accuracy,val_loss,val_accuracy,lr\n",
      "328/328 [==============================] - 20s 60ms/step - loss: 0.1273 - accuracy: 0.9601 - val_loss: 0.0415 - val_accuracy: 0.9890 - lr: 0.0010\n",
      "Epoch 4/100\n",
      "328/328 [==============================] - ETA: 0s - loss: 0.1127 - accuracy: 0.9659WARNING:tensorflow:Reduce LR on plateau conditioned on metric `val_acc` which is not available. Available metrics are: loss,accuracy,val_loss,val_accuracy,lr\n",
      "328/328 [==============================] - 20s 60ms/step - loss: 0.1127 - accuracy: 0.9659 - val_loss: 0.0402 - val_accuracy: 0.9905 - lr: 0.0010\n",
      "Epoch 5/100\n",
      "328/328 [==============================] - ETA: 0s - loss: 0.0951 - accuracy: 0.9706WARNING:tensorflow:Reduce LR on plateau conditioned on metric `val_acc` which is not available. Available metrics are: loss,accuracy,val_loss,val_accuracy,lr\n",
      "328/328 [==============================] - 20s 60ms/step - loss: 0.0951 - accuracy: 0.9706 - val_loss: 0.0418 - val_accuracy: 0.9896 - lr: 0.0010\n",
      "Epoch 6/100\n",
      "328/328 [==============================] - ETA: 0s - loss: 0.0893 - accuracy: 0.9724WARNING:tensorflow:Reduce LR on plateau conditioned on metric `val_acc` which is not available. Available metrics are: loss,accuracy,val_loss,val_accuracy,lr\n",
      "328/328 [==============================] - 20s 60ms/step - loss: 0.0893 - accuracy: 0.9724 - val_loss: 0.0465 - val_accuracy: 0.9878 - lr: 0.0010\n",
      "Epoch 7/100\n",
      "328/328 [==============================] - ETA: 0s - loss: 0.0824 - accuracy: 0.9760WARNING:tensorflow:Reduce LR on plateau conditioned on metric `val_acc` which is not available. Available metrics are: loss,accuracy,val_loss,val_accuracy,lr\n",
      "328/328 [==============================] - 19s 59ms/step - loss: 0.0824 - accuracy: 0.9760 - val_loss: 0.0323 - val_accuracy: 0.9917 - lr: 0.0010\n",
      "Epoch 8/100\n",
      "328/328 [==============================] - ETA: 0s - loss: 0.0750 - accuracy: 0.9777WARNING:tensorflow:Reduce LR on plateau conditioned on metric `val_acc` which is not available. Available metrics are: loss,accuracy,val_loss,val_accuracy,lr\n",
      "328/328 [==============================] - 20s 60ms/step - loss: 0.0750 - accuracy: 0.9777 - val_loss: 0.0250 - val_accuracy: 0.9929 - lr: 0.0010\n",
      "Epoch 9/100\n",
      "328/328 [==============================] - ETA: 0s - loss: 0.0746 - accuracy: 0.9782WARNING:tensorflow:Reduce LR on plateau conditioned on metric `val_acc` which is not available. Available metrics are: loss,accuracy,val_loss,val_accuracy,lr\n",
      "328/328 [==============================] - 19s 59ms/step - loss: 0.0746 - accuracy: 0.9782 - val_loss: 0.0264 - val_accuracy: 0.9923 - lr: 0.0010\n",
      "Epoch 10/100\n",
      "328/328 [==============================] - ETA: 0s - loss: 0.0671 - accuracy: 0.9793WARNING:tensorflow:Reduce LR on plateau conditioned on metric `val_acc` which is not available. Available metrics are: loss,accuracy,val_loss,val_accuracy,lr\n",
      "328/328 [==============================] - 20s 60ms/step - loss: 0.0671 - accuracy: 0.9793 - val_loss: 0.0411 - val_accuracy: 0.9891 - lr: 0.0010\n",
      "Epoch 11/100\n",
      "328/328 [==============================] - ETA: 0s - loss: 0.0709 - accuracy: 0.9787WARNING:tensorflow:Reduce LR on plateau conditioned on metric `val_acc` which is not available. Available metrics are: loss,accuracy,val_loss,val_accuracy,lr\n",
      "328/328 [==============================] - 20s 60ms/step - loss: 0.0709 - accuracy: 0.9787 - val_loss: 0.0326 - val_accuracy: 0.9923 - lr: 0.0010\n",
      "Epoch 12/100\n",
      "328/328 [==============================] - ETA: 0s - loss: 0.0662 - accuracy: 0.9804WARNING:tensorflow:Reduce LR on plateau conditioned on metric `val_acc` which is not available. Available metrics are: loss,accuracy,val_loss,val_accuracy,lr\n",
      "328/328 [==============================] - 19s 59ms/step - loss: 0.0662 - accuracy: 0.9804 - val_loss: 0.0249 - val_accuracy: 0.9932 - lr: 0.0010\n",
      "Epoch 13/100\n",
      "328/328 [==============================] - ETA: 0s - loss: 0.0654 - accuracy: 0.9798WARNING:tensorflow:Reduce LR on plateau conditioned on metric `val_acc` which is not available. Available metrics are: loss,accuracy,val_loss,val_accuracy,lr\n",
      "328/328 [==============================] - 20s 60ms/step - loss: 0.0654 - accuracy: 0.9798 - val_loss: 0.0228 - val_accuracy: 0.9939 - lr: 0.0010\n",
      "Epoch 14/100\n",
      "328/328 [==============================] - ETA: 0s - loss: 0.0586 - accuracy: 0.9827WARNING:tensorflow:Reduce LR on plateau conditioned on metric `val_acc` which is not available. Available metrics are: loss,accuracy,val_loss,val_accuracy,lr\n",
      "328/328 [==============================] - 19s 59ms/step - loss: 0.0586 - accuracy: 0.9827 - val_loss: 0.0307 - val_accuracy: 0.9924 - lr: 0.0010\n",
      "Epoch 15/100\n",
      "328/328 [==============================] - ETA: 0s - loss: 0.0594 - accuracy: 0.9824WARNING:tensorflow:Reduce LR on plateau conditioned on metric `val_acc` which is not available. Available metrics are: loss,accuracy,val_loss,val_accuracy,lr\n",
      "328/328 [==============================] - 20s 60ms/step - loss: 0.0594 - accuracy: 0.9824 - val_loss: 0.0255 - val_accuracy: 0.9937 - lr: 0.0010\n",
      "Epoch 16/100\n",
      "328/328 [==============================] - ETA: 0s - loss: 0.0593 - accuracy: 0.9831WARNING:tensorflow:Reduce LR on plateau conditioned on metric `val_acc` which is not available. Available metrics are: loss,accuracy,val_loss,val_accuracy,lr\n",
      "328/328 [==============================] - 20s 60ms/step - loss: 0.0593 - accuracy: 0.9831 - val_loss: 0.0217 - val_accuracy: 0.9943 - lr: 0.0010\n",
      "Epoch 17/100\n",
      "328/328 [==============================] - ETA: 0s - loss: 0.0561 - accuracy: 0.9831WARNING:tensorflow:Reduce LR on plateau conditioned on metric `val_acc` which is not available. Available metrics are: loss,accuracy,val_loss,val_accuracy,lr\n",
      "328/328 [==============================] - 19s 59ms/step - loss: 0.0561 - accuracy: 0.9831 - val_loss: 0.0221 - val_accuracy: 0.9936 - lr: 0.0010\n",
      "Epoch 18/100\n",
      "328/328 [==============================] - ETA: 0s - loss: 0.0578 - accuracy: 0.9824WARNING:tensorflow:Reduce LR on plateau conditioned on metric `val_acc` which is not available. Available metrics are: loss,accuracy,val_loss,val_accuracy,lr\n",
      "328/328 [==============================] - 20s 60ms/step - loss: 0.0578 - accuracy: 0.9824 - val_loss: 0.0244 - val_accuracy: 0.9931 - lr: 0.0010\n",
      "Epoch 19/100\n",
      "328/328 [==============================] - ETA: 0s - loss: 0.0558 - accuracy: 0.9831WARNING:tensorflow:Reduce LR on plateau conditioned on metric `val_acc` which is not available. Available metrics are: loss,accuracy,val_loss,val_accuracy,lr\n",
      "328/328 [==============================] - 20s 60ms/step - loss: 0.0558 - accuracy: 0.9831 - val_loss: 0.0224 - val_accuracy: 0.9937 - lr: 0.0010\n",
      "Epoch 20/100\n",
      "328/328 [==============================] - ETA: 0s - loss: 0.0528 - accuracy: 0.9841WARNING:tensorflow:Reduce LR on plateau conditioned on metric `val_acc` which is not available. Available metrics are: loss,accuracy,val_loss,val_accuracy,lr\n",
      "328/328 [==============================] - 19s 59ms/step - loss: 0.0528 - accuracy: 0.9841 - val_loss: 0.0194 - val_accuracy: 0.9949 - lr: 0.0010\n",
      "Epoch 21/100\n",
      "328/328 [==============================] - ETA: 0s - loss: 0.0536 - accuracy: 0.9843WARNING:tensorflow:Reduce LR on plateau conditioned on metric `val_acc` which is not available. Available metrics are: loss,accuracy,val_loss,val_accuracy,lr\n",
      "328/328 [==============================] - 20s 60ms/step - loss: 0.0536 - accuracy: 0.9843 - val_loss: 0.0190 - val_accuracy: 0.9949 - lr: 0.0010\n",
      "Epoch 22/100\n",
      "328/328 [==============================] - ETA: 0s - loss: 0.0531 - accuracy: 0.9846WARNING:tensorflow:Reduce LR on plateau conditioned on metric `val_acc` which is not available. Available metrics are: loss,accuracy,val_loss,val_accuracy,lr\n",
      "328/328 [==============================] - 20s 60ms/step - loss: 0.0531 - accuracy: 0.9846 - val_loss: 0.0222 - val_accuracy: 0.9937 - lr: 0.0010\n",
      "Epoch 23/100\n",
      "328/328 [==============================] - ETA: 0s - loss: 0.0494 - accuracy: 0.9846WARNING:tensorflow:Reduce LR on plateau conditioned on metric `val_acc` which is not available. Available metrics are: loss,accuracy,val_loss,val_accuracy,lr\n",
      "328/328 [==============================] - 20s 60ms/step - loss: 0.0494 - accuracy: 0.9846 - val_loss: 0.0204 - val_accuracy: 0.9943 - lr: 0.0010\n",
      "Epoch 24/100\n",
      "328/328 [==============================] - ETA: 0s - loss: 0.0500 - accuracy: 0.9843WARNING:tensorflow:Reduce LR on plateau conditioned on metric `val_acc` which is not available. Available metrics are: loss,accuracy,val_loss,val_accuracy,lr\n",
      "328/328 [==============================] - 20s 60ms/step - loss: 0.0500 - accuracy: 0.9843 - val_loss: 0.0280 - val_accuracy: 0.9919 - lr: 0.0010\n",
      "Epoch 25/100\n",
      "328/328 [==============================] - ETA: 0s - loss: 0.0470 - accuracy: 0.9863WARNING:tensorflow:Reduce LR on plateau conditioned on metric `val_acc` which is not available. Available metrics are: loss,accuracy,val_loss,val_accuracy,lr\n",
      "328/328 [==============================] - 20s 60ms/step - loss: 0.0470 - accuracy: 0.9863 - val_loss: 0.0229 - val_accuracy: 0.9941 - lr: 0.0010\n",
      "Epoch 26/100\n",
      "328/328 [==============================] - ETA: 0s - loss: 0.0490 - accuracy: 0.9855WARNING:tensorflow:Reduce LR on plateau conditioned on metric `val_acc` which is not available. Available metrics are: loss,accuracy,val_loss,val_accuracy,lr\n",
      "328/328 [==============================] - 20s 60ms/step - loss: 0.0490 - accuracy: 0.9855 - val_loss: 0.0375 - val_accuracy: 0.9897 - lr: 0.0010\n",
      "Epoch 27/100\n",
      "328/328 [==============================] - ETA: 0s - loss: 0.0477 - accuracy: 0.9855WARNING:tensorflow:Reduce LR on plateau conditioned on metric `val_acc` which is not available. Available metrics are: loss,accuracy,val_loss,val_accuracy,lr\n",
      "328/328 [==============================] - 19s 59ms/step - loss: 0.0477 - accuracy: 0.9855 - val_loss: 0.0200 - val_accuracy: 0.9946 - lr: 0.0010\n",
      "Epoch 28/100\n",
      "328/328 [==============================] - ETA: 0s - loss: 0.0438 - accuracy: 0.9867WARNING:tensorflow:Reduce LR on plateau conditioned on metric `val_acc` which is not available. Available metrics are: loss,accuracy,val_loss,val_accuracy,lr\n",
      "328/328 [==============================] - 20s 60ms/step - loss: 0.0438 - accuracy: 0.9867 - val_loss: 0.0262 - val_accuracy: 0.9936 - lr: 0.0010\n",
      "Epoch 29/100\n",
      "328/328 [==============================] - ETA: 0s - loss: 0.0486 - accuracy: 0.9854WARNING:tensorflow:Reduce LR on plateau conditioned on metric `val_acc` which is not available. Available metrics are: loss,accuracy,val_loss,val_accuracy,lr\n",
      "328/328 [==============================] - 20s 60ms/step - loss: 0.0486 - accuracy: 0.9854 - val_loss: 0.0194 - val_accuracy: 0.9946 - lr: 0.0010\n",
      "Epoch 30/100\n",
      "328/328 [==============================] - ETA: 0s - loss: 0.0476 - accuracy: 0.9862WARNING:tensorflow:Reduce LR on plateau conditioned on metric `val_acc` which is not available. Available metrics are: loss,accuracy,val_loss,val_accuracy,lr\n",
      "328/328 [==============================] - 20s 59ms/step - loss: 0.0476 - accuracy: 0.9862 - val_loss: 0.0150 - val_accuracy: 0.9957 - lr: 0.0010\n",
      "Epoch 31/100\n",
      "328/328 [==============================] - ETA: 0s - loss: 0.0439 - accuracy: 0.9869WARNING:tensorflow:Reduce LR on plateau conditioned on metric `val_acc` which is not available. Available metrics are: loss,accuracy,val_loss,val_accuracy,lr\n",
      "328/328 [==============================] - 19s 59ms/step - loss: 0.0439 - accuracy: 0.9869 - val_loss: 0.0178 - val_accuracy: 0.9950 - lr: 0.0010\n",
      "Epoch 32/100\n",
      "328/328 [==============================] - ETA: 0s - loss: 0.0430 - accuracy: 0.9867WARNING:tensorflow:Reduce LR on plateau conditioned on metric `val_acc` which is not available. Available metrics are: loss,accuracy,val_loss,val_accuracy,lr\n",
      "328/328 [==============================] - 19s 59ms/step - loss: 0.0430 - accuracy: 0.9867 - val_loss: 0.0162 - val_accuracy: 0.9956 - lr: 0.0010\n",
      "Epoch 33/100\n",
      "328/328 [==============================] - ETA: 0s - loss: 0.0426 - accuracy: 0.9874WARNING:tensorflow:Reduce LR on plateau conditioned on metric `val_acc` which is not available. Available metrics are: loss,accuracy,val_loss,val_accuracy,lr\n",
      "328/328 [==============================] - 20s 60ms/step - loss: 0.0426 - accuracy: 0.9874 - val_loss: 0.0204 - val_accuracy: 0.9945 - lr: 0.0010\n",
      "Epoch 34/100\n",
      "328/328 [==============================] - ETA: 0s - loss: 0.0444 - accuracy: 0.9866WARNING:tensorflow:Reduce LR on plateau conditioned on metric `val_acc` which is not available. Available metrics are: loss,accuracy,val_loss,val_accuracy,lr\n",
      "328/328 [==============================] - 20s 61ms/step - loss: 0.0444 - accuracy: 0.9866 - val_loss: 0.0183 - val_accuracy: 0.9956 - lr: 0.0010\n",
      "Epoch 35/100\n",
      "328/328 [==============================] - ETA: 0s - loss: 0.0421 - accuracy: 0.9874WARNING:tensorflow:Reduce LR on plateau conditioned on metric `val_acc` which is not available. Available metrics are: loss,accuracy,val_loss,val_accuracy,lr\n",
      "328/328 [==============================] - 20s 60ms/step - loss: 0.0421 - accuracy: 0.9874 - val_loss: 0.0159 - val_accuracy: 0.9958 - lr: 0.0010\n",
      "Epoch 36/100\n",
      "328/328 [==============================] - ETA: 0s - loss: 0.0427 - accuracy: 0.9870WARNING:tensorflow:Reduce LR on plateau conditioned on metric `val_acc` which is not available. Available metrics are: loss,accuracy,val_loss,val_accuracy,lr\n",
      "328/328 [==============================] - 20s 60ms/step - loss: 0.0427 - accuracy: 0.9870 - val_loss: 0.0169 - val_accuracy: 0.9958 - lr: 0.0010\n",
      "Epoch 37/100\n",
      "328/328 [==============================] - ETA: 0s - loss: 0.0432 - accuracy: 0.9872WARNING:tensorflow:Reduce LR on plateau conditioned on metric `val_acc` which is not available. Available metrics are: loss,accuracy,val_loss,val_accuracy,lr\n",
      "328/328 [==============================] - 20s 60ms/step - loss: 0.0432 - accuracy: 0.9872 - val_loss: 0.0192 - val_accuracy: 0.9954 - lr: 0.0010\n",
      "Epoch 38/100\n",
      "328/328 [==============================] - ETA: 0s - loss: 0.0402 - accuracy: 0.9882WARNING:tensorflow:Reduce LR on plateau conditioned on metric `val_acc` which is not available. Available metrics are: loss,accuracy,val_loss,val_accuracy,lr\n",
      "328/328 [==============================] - 19s 59ms/step - loss: 0.0402 - accuracy: 0.9882 - val_loss: 0.0250 - val_accuracy: 0.9941 - lr: 0.0010\n",
      "Epoch 39/100\n",
      "328/328 [==============================] - ETA: 0s - loss: 0.0447 - accuracy: 0.9870WARNING:tensorflow:Reduce LR on plateau conditioned on metric `val_acc` which is not available. Available metrics are: loss,accuracy,val_loss,val_accuracy,lr\n",
      "328/328 [==============================] - 20s 60ms/step - loss: 0.0447 - accuracy: 0.9870 - val_loss: 0.0171 - val_accuracy: 0.9954 - lr: 0.0010\n",
      "Epoch 40/100\n",
      "328/328 [==============================] - ETA: 0s - loss: 0.0448 - accuracy: 0.9873WARNING:tensorflow:Reduce LR on plateau conditioned on metric `val_acc` which is not available. Available metrics are: loss,accuracy,val_loss,val_accuracy,lr\n",
      "328/328 [==============================] - 20s 60ms/step - loss: 0.0448 - accuracy: 0.9873 - val_loss: 0.0221 - val_accuracy: 0.9948 - lr: 0.0010\n",
      "Epoch 41/100\n",
      "328/328 [==============================] - ETA: 0s - loss: 0.0403 - accuracy: 0.9878WARNING:tensorflow:Reduce LR on plateau conditioned on metric `val_acc` which is not available. Available metrics are: loss,accuracy,val_loss,val_accuracy,lr\n",
      "328/328 [==============================] - 20s 60ms/step - loss: 0.0403 - accuracy: 0.9878 - val_loss: 0.0190 - val_accuracy: 0.9945 - lr: 0.0010\n",
      "Epoch 42/100\n",
      "328/328 [==============================] - ETA: 0s - loss: 0.0403 - accuracy: 0.9873WARNING:tensorflow:Reduce LR on plateau conditioned on metric `val_acc` which is not available. Available metrics are: loss,accuracy,val_loss,val_accuracy,lr\n",
      "328/328 [==============================] - 20s 60ms/step - loss: 0.0403 - accuracy: 0.9873 - val_loss: 0.0185 - val_accuracy: 0.9954 - lr: 0.0010\n",
      "Epoch 43/100\n",
      "328/328 [==============================] - ETA: 0s - loss: 0.0405 - accuracy: 0.9882WARNING:tensorflow:Reduce LR on plateau conditioned on metric `val_acc` which is not available. Available metrics are: loss,accuracy,val_loss,val_accuracy,lr\n",
      "328/328 [==============================] - 20s 60ms/step - loss: 0.0405 - accuracy: 0.9882 - val_loss: 0.0205 - val_accuracy: 0.9946 - lr: 0.0010\n",
      "Epoch 44/100\n",
      "328/328 [==============================] - ETA: 0s - loss: 0.0413 - accuracy: 0.9872WARNING:tensorflow:Reduce LR on plateau conditioned on metric `val_acc` which is not available. Available metrics are: loss,accuracy,val_loss,val_accuracy,lr\n",
      "328/328 [==============================] - 20s 60ms/step - loss: 0.0413 - accuracy: 0.9872 - val_loss: 0.0177 - val_accuracy: 0.9952 - lr: 0.0010\n",
      "Epoch 45/100\n",
      "328/328 [==============================] - ETA: 0s - loss: 0.0400 - accuracy: 0.9880WARNING:tensorflow:Reduce LR on plateau conditioned on metric `val_acc` which is not available. Available metrics are: loss,accuracy,val_loss,val_accuracy,lr\n",
      "328/328 [==============================] - 20s 60ms/step - loss: 0.0400 - accuracy: 0.9880 - val_loss: 0.0295 - val_accuracy: 0.9912 - lr: 0.0010\n",
      "Epoch 46/100\n",
      "328/328 [==============================] - ETA: 0s - loss: 0.0424 - accuracy: 0.9883WARNING:tensorflow:Reduce LR on plateau conditioned on metric `val_acc` which is not available. Available metrics are: loss,accuracy,val_loss,val_accuracy,lr\n",
      "328/328 [==============================] - 20s 60ms/step - loss: 0.0424 - accuracy: 0.9883 - val_loss: 0.0187 - val_accuracy: 0.9955 - lr: 0.0010\n",
      "Epoch 47/100\n",
      "328/328 [==============================] - ETA: 0s - loss: 0.0412 - accuracy: 0.9880WARNING:tensorflow:Reduce LR on plateau conditioned on metric `val_acc` which is not available. Available metrics are: loss,accuracy,val_loss,val_accuracy,lr\n",
      "328/328 [==============================] - 20s 60ms/step - loss: 0.0412 - accuracy: 0.9880 - val_loss: 0.0165 - val_accuracy: 0.9958 - lr: 0.0010\n",
      "Epoch 48/100\n",
      "328/328 [==============================] - ETA: 0s - loss: 0.0386 - accuracy: 0.9877WARNING:tensorflow:Reduce LR on plateau conditioned on metric `val_acc` which is not available. Available metrics are: loss,accuracy,val_loss,val_accuracy,lr\n",
      "328/328 [==============================] - 20s 60ms/step - loss: 0.0386 - accuracy: 0.9877 - val_loss: 0.0158 - val_accuracy: 0.9961 - lr: 0.0010\n",
      "Epoch 49/100\n",
      "328/328 [==============================] - ETA: 0s - loss: 0.0377 - accuracy: 0.9881WARNING:tensorflow:Reduce LR on plateau conditioned on metric `val_acc` which is not available. Available metrics are: loss,accuracy,val_loss,val_accuracy,lr\n",
      "328/328 [==============================] - 20s 61ms/step - loss: 0.0377 - accuracy: 0.9881 - val_loss: 0.0174 - val_accuracy: 0.9951 - lr: 0.0010\n",
      "Epoch 50/100\n",
      "328/328 [==============================] - ETA: 0s - loss: 0.0373 - accuracy: 0.9885WARNING:tensorflow:Reduce LR on plateau conditioned on metric `val_acc` which is not available. Available metrics are: loss,accuracy,val_loss,val_accuracy,lr\n",
      "328/328 [==============================] - 20s 61ms/step - loss: 0.0373 - accuracy: 0.9885 - val_loss: 0.0170 - val_accuracy: 0.9959 - lr: 0.0010\n",
      "Epoch 51/100\n",
      "328/328 [==============================] - ETA: 0s - loss: 0.0352 - accuracy: 0.9891WARNING:tensorflow:Reduce LR on plateau conditioned on metric `val_acc` which is not available. Available metrics are: loss,accuracy,val_loss,val_accuracy,lr\n",
      "328/328 [==============================] - 20s 59ms/step - loss: 0.0352 - accuracy: 0.9891 - val_loss: 0.0178 - val_accuracy: 0.9957 - lr: 0.0010\n",
      "Epoch 52/100\n",
      "328/328 [==============================] - ETA: 0s - loss: 0.0367 - accuracy: 0.9889WARNING:tensorflow:Reduce LR on plateau conditioned on metric `val_acc` which is not available. Available metrics are: loss,accuracy,val_loss,val_accuracy,lr\n",
      "328/328 [==============================] - 20s 60ms/step - loss: 0.0367 - accuracy: 0.9889 - val_loss: 0.0177 - val_accuracy: 0.9956 - lr: 0.0010\n",
      "Epoch 53/100\n",
      "328/328 [==============================] - ETA: 0s - loss: 0.0379 - accuracy: 0.9880WARNING:tensorflow:Reduce LR on plateau conditioned on metric `val_acc` which is not available. Available metrics are: loss,accuracy,val_loss,val_accuracy,lr\n",
      "328/328 [==============================] - 20s 60ms/step - loss: 0.0379 - accuracy: 0.9880 - val_loss: 0.0192 - val_accuracy: 0.9958 - lr: 0.0010\n",
      "Epoch 54/100\n",
      "328/328 [==============================] - ETA: 0s - loss: 0.0366 - accuracy: 0.9888WARNING:tensorflow:Reduce LR on plateau conditioned on metric `val_acc` which is not available. Available metrics are: loss,accuracy,val_loss,val_accuracy,lr\n",
      "328/328 [==============================] - 20s 60ms/step - loss: 0.0366 - accuracy: 0.9888 - val_loss: 0.0201 - val_accuracy: 0.9948 - lr: 0.0010\n",
      "Epoch 55/100\n",
      "328/328 [==============================] - ETA: 0s - loss: 0.0369 - accuracy: 0.9891WARNING:tensorflow:Reduce LR on plateau conditioned on metric `val_acc` which is not available. Available metrics are: loss,accuracy,val_loss,val_accuracy,lr\n",
      "328/328 [==============================] - 20s 60ms/step - loss: 0.0369 - accuracy: 0.9891 - val_loss: 0.0192 - val_accuracy: 0.9947 - lr: 0.0010\n",
      "Epoch 56/100\n",
      "328/328 [==============================] - ETA: 0s - loss: 0.0351 - accuracy: 0.9893WARNING:tensorflow:Reduce LR on plateau conditioned on metric `val_acc` which is not available. Available metrics are: loss,accuracy,val_loss,val_accuracy,lr\n",
      "328/328 [==============================] - 20s 60ms/step - loss: 0.0351 - accuracy: 0.9893 - val_loss: 0.0171 - val_accuracy: 0.9959 - lr: 0.0010\n",
      "Epoch 57/100\n",
      "328/328 [==============================] - ETA: 0s - loss: 0.0342 - accuracy: 0.9891WARNING:tensorflow:Reduce LR on plateau conditioned on metric `val_acc` which is not available. Available metrics are: loss,accuracy,val_loss,val_accuracy,lr\n",
      "328/328 [==============================] - 20s 60ms/step - loss: 0.0342 - accuracy: 0.9891 - val_loss: 0.0217 - val_accuracy: 0.9951 - lr: 0.0010\n",
      "Epoch 58/100\n",
      "328/328 [==============================] - ETA: 0s - loss: 0.0364 - accuracy: 0.9884WARNING:tensorflow:Reduce LR on plateau conditioned on metric `val_acc` which is not available. Available metrics are: loss,accuracy,val_loss,val_accuracy,lr\n",
      "328/328 [==============================] - 20s 60ms/step - loss: 0.0364 - accuracy: 0.9884 - val_loss: 0.0190 - val_accuracy: 0.9953 - lr: 0.0010\n",
      "Epoch 59/100\n",
      "328/328 [==============================] - ETA: 0s - loss: 0.0387 - accuracy: 0.9887WARNING:tensorflow:Reduce LR on plateau conditioned on metric `val_acc` which is not available. Available metrics are: loss,accuracy,val_loss,val_accuracy,lr\n",
      "328/328 [==============================] - 20s 60ms/step - loss: 0.0387 - accuracy: 0.9887 - val_loss: 0.0280 - val_accuracy: 0.9923 - lr: 0.0010\n",
      "Epoch 60/100\n",
      "328/328 [==============================] - ETA: 0s - loss: 0.0340 - accuracy: 0.9895WARNING:tensorflow:Reduce LR on plateau conditioned on metric `val_acc` which is not available. Available metrics are: loss,accuracy,val_loss,val_accuracy,lr\n",
      "328/328 [==============================] - 20s 60ms/step - loss: 0.0340 - accuracy: 0.9895 - val_loss: 0.0179 - val_accuracy: 0.9957 - lr: 0.0010\n",
      "Epoch 61/100\n",
      "328/328 [==============================] - ETA: 0s - loss: 0.0357 - accuracy: 0.9889WARNING:tensorflow:Reduce LR on plateau conditioned on metric `val_acc` which is not available. Available metrics are: loss,accuracy,val_loss,val_accuracy,lr\n",
      "328/328 [==============================] - 20s 60ms/step - loss: 0.0357 - accuracy: 0.9889 - val_loss: 0.0263 - val_accuracy: 0.9941 - lr: 0.0010\n",
      "Epoch 62/100\n",
      "328/328 [==============================] - ETA: 0s - loss: 0.0380 - accuracy: 0.9887WARNING:tensorflow:Reduce LR on plateau conditioned on metric `val_acc` which is not available. Available metrics are: loss,accuracy,val_loss,val_accuracy,lr\n",
      "328/328 [==============================] - 20s 60ms/step - loss: 0.0380 - accuracy: 0.9887 - val_loss: 0.0169 - val_accuracy: 0.9958 - lr: 0.0010\n",
      "Epoch 63/100\n",
      "328/328 [==============================] - ETA: 0s - loss: 0.0370 - accuracy: 0.9891WARNING:tensorflow:Reduce LR on plateau conditioned on metric `val_acc` which is not available. Available metrics are: loss,accuracy,val_loss,val_accuracy,lr\n",
      "328/328 [==============================] - 20s 60ms/step - loss: 0.0370 - accuracy: 0.9891 - val_loss: 0.0185 - val_accuracy: 0.9956 - lr: 0.0010\n",
      "Epoch 64/100\n",
      "328/328 [==============================] - ETA: 0s - loss: 0.0332 - accuracy: 0.9897WARNING:tensorflow:Reduce LR on plateau conditioned on metric `val_acc` which is not available. Available metrics are: loss,accuracy,val_loss,val_accuracy,lr\n",
      "328/328 [==============================] - 20s 60ms/step - loss: 0.0332 - accuracy: 0.9897 - val_loss: 0.0197 - val_accuracy: 0.9955 - lr: 0.0010\n",
      "Epoch 65/100\n",
      "328/328 [==============================] - ETA: 0s - loss: 0.0353 - accuracy: 0.9894WARNING:tensorflow:Reduce LR on plateau conditioned on metric `val_acc` which is not available. Available metrics are: loss,accuracy,val_loss,val_accuracy,lr\n",
      "328/328 [==============================] - 20s 61ms/step - loss: 0.0353 - accuracy: 0.9894 - val_loss: 0.0271 - val_accuracy: 0.9942 - lr: 0.0010\n",
      "Epoch 66/100\n",
      "328/328 [==============================] - ETA: 0s - loss: 0.0357 - accuracy: 0.9894WARNING:tensorflow:Reduce LR on plateau conditioned on metric `val_acc` which is not available. Available metrics are: loss,accuracy,val_loss,val_accuracy,lr\n",
      "328/328 [==============================] - 20s 60ms/step - loss: 0.0357 - accuracy: 0.9894 - val_loss: 0.0155 - val_accuracy: 0.9959 - lr: 0.0010\n",
      "Epoch 67/100\n",
      "328/328 [==============================] - ETA: 0s - loss: 0.0335 - accuracy: 0.9896WARNING:tensorflow:Reduce LR on plateau conditioned on metric `val_acc` which is not available. Available metrics are: loss,accuracy,val_loss,val_accuracy,lr\n",
      "328/328 [==============================] - 20s 60ms/step - loss: 0.0335 - accuracy: 0.9896 - val_loss: 0.0170 - val_accuracy: 0.9957 - lr: 0.0010\n",
      "Epoch 68/100\n",
      "328/328 [==============================] - ETA: 0s - loss: 0.0352 - accuracy: 0.9892WARNING:tensorflow:Reduce LR on plateau conditioned on metric `val_acc` which is not available. Available metrics are: loss,accuracy,val_loss,val_accuracy,lr\n",
      "328/328 [==============================] - 20s 61ms/step - loss: 0.0352 - accuracy: 0.9892 - val_loss: 0.0170 - val_accuracy: 0.9957 - lr: 0.0010\n",
      "Epoch 69/100\n",
      "328/328 [==============================] - ETA: 0s - loss: 0.0358 - accuracy: 0.9894WARNING:tensorflow:Reduce LR on plateau conditioned on metric `val_acc` which is not available. Available metrics are: loss,accuracy,val_loss,val_accuracy,lr\n",
      "328/328 [==============================] - 20s 60ms/step - loss: 0.0358 - accuracy: 0.9894 - val_loss: 0.0181 - val_accuracy: 0.9958 - lr: 0.0010\n",
      "Epoch 70/100\n",
      "328/328 [==============================] - ETA: 0s - loss: 0.0356 - accuracy: 0.9889WARNING:tensorflow:Reduce LR on plateau conditioned on metric `val_acc` which is not available. Available metrics are: loss,accuracy,val_loss,val_accuracy,lr\n",
      "328/328 [==============================] - 19s 59ms/step - loss: 0.0356 - accuracy: 0.9889 - val_loss: 0.0171 - val_accuracy: 0.9956 - lr: 0.0010\n",
      "Epoch 71/100\n",
      "328/328 [==============================] - ETA: 0s - loss: 0.0323 - accuracy: 0.9903WARNING:tensorflow:Reduce LR on plateau conditioned on metric `val_acc` which is not available. Available metrics are: loss,accuracy,val_loss,val_accuracy,lr\n",
      "328/328 [==============================] - 20s 60ms/step - loss: 0.0323 - accuracy: 0.9903 - val_loss: 0.0216 - val_accuracy: 0.9945 - lr: 0.0010\n",
      "Epoch 72/100\n",
      "328/328 [==============================] - ETA: 0s - loss: 0.0330 - accuracy: 0.9906WARNING:tensorflow:Reduce LR on plateau conditioned on metric `val_acc` which is not available. Available metrics are: loss,accuracy,val_loss,val_accuracy,lr\n",
      "328/328 [==============================] - 20s 60ms/step - loss: 0.0330 - accuracy: 0.9906 - val_loss: 0.0158 - val_accuracy: 0.9955 - lr: 0.0010\n",
      "Epoch 73/100\n",
      "328/328 [==============================] - ETA: 0s - loss: 0.0345 - accuracy: 0.9901WARNING:tensorflow:Reduce LR on plateau conditioned on metric `val_acc` which is not available. Available metrics are: loss,accuracy,val_loss,val_accuracy,lr\n",
      "328/328 [==============================] - 20s 60ms/step - loss: 0.0345 - accuracy: 0.9901 - val_loss: 0.0181 - val_accuracy: 0.9959 - lr: 0.0010\n",
      "Epoch 74/100\n",
      "328/328 [==============================] - ETA: 0s - loss: 0.0304 - accuracy: 0.9905WARNING:tensorflow:Reduce LR on plateau conditioned on metric `val_acc` which is not available. Available metrics are: loss,accuracy,val_loss,val_accuracy,lr\n",
      "328/328 [==============================] - 20s 60ms/step - loss: 0.0304 - accuracy: 0.9905 - val_loss: 0.0189 - val_accuracy: 0.9953 - lr: 0.0010\n",
      "Epoch 75/100\n",
      "328/328 [==============================] - ETA: 0s - loss: 0.0317 - accuracy: 0.9903WARNING:tensorflow:Reduce LR on plateau conditioned on metric `val_acc` which is not available. Available metrics are: loss,accuracy,val_loss,val_accuracy,lr\n",
      "328/328 [==============================] - 20s 60ms/step - loss: 0.0317 - accuracy: 0.9903 - val_loss: 0.0151 - val_accuracy: 0.9962 - lr: 0.0010\n",
      "Epoch 76/100\n",
      "328/328 [==============================] - ETA: 0s - loss: 0.0351 - accuracy: 0.9895WARNING:tensorflow:Reduce LR on plateau conditioned on metric `val_acc` which is not available. Available metrics are: loss,accuracy,val_loss,val_accuracy,lr\n",
      "328/328 [==============================] - 20s 61ms/step - loss: 0.0351 - accuracy: 0.9895 - val_loss: 0.0183 - val_accuracy: 0.9962 - lr: 0.0010\n",
      "Epoch 77/100\n",
      "328/328 [==============================] - ETA: 0s - loss: 0.0331 - accuracy: 0.9907WARNING:tensorflow:Reduce LR on plateau conditioned on metric `val_acc` which is not available. Available metrics are: loss,accuracy,val_loss,val_accuracy,lr\n",
      "328/328 [==============================] - 20s 61ms/step - loss: 0.0331 - accuracy: 0.9907 - val_loss: 0.0159 - val_accuracy: 0.9955 - lr: 0.0010\n",
      "Epoch 78/100\n",
      "328/328 [==============================] - ETA: 0s - loss: 0.0327 - accuracy: 0.9905WARNING:tensorflow:Reduce LR on plateau conditioned on metric `val_acc` which is not available. Available metrics are: loss,accuracy,val_loss,val_accuracy,lr\n",
      "328/328 [==============================] - 21s 63ms/step - loss: 0.0327 - accuracy: 0.9905 - val_loss: 0.0171 - val_accuracy: 0.9959 - lr: 0.0010\n",
      "Epoch 79/100\n",
      "328/328 [==============================] - ETA: 0s - loss: 0.0345 - accuracy: 0.9900WARNING:tensorflow:Reduce LR on plateau conditioned on metric `val_acc` which is not available. Available metrics are: loss,accuracy,val_loss,val_accuracy,lr\n",
      "328/328 [==============================] - 20s 62ms/step - loss: 0.0345 - accuracy: 0.9900 - val_loss: 0.0155 - val_accuracy: 0.9962 - lr: 0.0010\n",
      "Epoch 80/100\n",
      "328/328 [==============================] - ETA: 0s - loss: 0.0344 - accuracy: 0.9901WARNING:tensorflow:Reduce LR on plateau conditioned on metric `val_acc` which is not available. Available metrics are: loss,accuracy,val_loss,val_accuracy,lr\n",
      "328/328 [==============================] - 21s 64ms/step - loss: 0.0344 - accuracy: 0.9901 - val_loss: 0.0164 - val_accuracy: 0.9954 - lr: 0.0010\n",
      "Epoch 81/100\n",
      "328/328 [==============================] - ETA: 0s - loss: 0.0323 - accuracy: 0.9906WARNING:tensorflow:Reduce LR on plateau conditioned on metric `val_acc` which is not available. Available metrics are: loss,accuracy,val_loss,val_accuracy,lr\n",
      "328/328 [==============================] - 21s 64ms/step - loss: 0.0323 - accuracy: 0.9906 - val_loss: 0.0143 - val_accuracy: 0.9966 - lr: 0.0010\n",
      "Epoch 82/100\n",
      "328/328 [==============================] - ETA: 0s - loss: 0.0315 - accuracy: 0.9906WARNING:tensorflow:Reduce LR on plateau conditioned on metric `val_acc` which is not available. Available metrics are: loss,accuracy,val_loss,val_accuracy,lr\n",
      "328/328 [==============================] - 20s 62ms/step - loss: 0.0315 - accuracy: 0.9906 - val_loss: 0.0208 - val_accuracy: 0.9956 - lr: 0.0010\n",
      "Epoch 83/100\n",
      "328/328 [==============================] - ETA: 0s - loss: 0.0329 - accuracy: 0.9901WARNING:tensorflow:Reduce LR on plateau conditioned on metric `val_acc` which is not available. Available metrics are: loss,accuracy,val_loss,val_accuracy,lr\n",
      "328/328 [==============================] - 21s 63ms/step - loss: 0.0329 - accuracy: 0.9901 - val_loss: 0.0170 - val_accuracy: 0.9963 - lr: 0.0010\n",
      "Epoch 84/100\n",
      "328/328 [==============================] - ETA: 0s - loss: 0.0336 - accuracy: 0.9897WARNING:tensorflow:Reduce LR on plateau conditioned on metric `val_acc` which is not available. Available metrics are: loss,accuracy,val_loss,val_accuracy,lr\n",
      "328/328 [==============================] - 20s 62ms/step - loss: 0.0336 - accuracy: 0.9897 - val_loss: 0.0238 - val_accuracy: 0.9949 - lr: 0.0010\n",
      "Epoch 85/100\n",
      "328/328 [==============================] - ETA: 0s - loss: 0.0298 - accuracy: 0.9907WARNING:tensorflow:Reduce LR on plateau conditioned on metric `val_acc` which is not available. Available metrics are: loss,accuracy,val_loss,val_accuracy,lr\n",
      "328/328 [==============================] - 20s 62ms/step - loss: 0.0298 - accuracy: 0.9907 - val_loss: 0.0211 - val_accuracy: 0.9948 - lr: 0.0010\n",
      "Epoch 86/100\n",
      "328/328 [==============================] - ETA: 0s - loss: 0.0309 - accuracy: 0.9914WARNING:tensorflow:Reduce LR on plateau conditioned on metric `val_acc` which is not available. Available metrics are: loss,accuracy,val_loss,val_accuracy,lr\n",
      "328/328 [==============================] - 20s 62ms/step - loss: 0.0309 - accuracy: 0.9914 - val_loss: 0.0317 - val_accuracy: 0.9943 - lr: 0.0010\n",
      "Epoch 87/100\n",
      "328/328 [==============================] - ETA: 0s - loss: 0.0304 - accuracy: 0.9908WARNING:tensorflow:Reduce LR on plateau conditioned on metric `val_acc` which is not available. Available metrics are: loss,accuracy,val_loss,val_accuracy,lr\n",
      "328/328 [==============================] - 20s 62ms/step - loss: 0.0304 - accuracy: 0.9908 - val_loss: 0.0179 - val_accuracy: 0.9963 - lr: 0.0010\n",
      "Epoch 88/100\n",
      "328/328 [==============================] - ETA: 0s - loss: 0.0329 - accuracy: 0.9907WARNING:tensorflow:Reduce LR on plateau conditioned on metric `val_acc` which is not available. Available metrics are: loss,accuracy,val_loss,val_accuracy,lr\n",
      "328/328 [==============================] - 20s 62ms/step - loss: 0.0329 - accuracy: 0.9907 - val_loss: 0.0153 - val_accuracy: 0.9963 - lr: 0.0010\n",
      "Epoch 89/100\n",
      "328/328 [==============================] - ETA: 0s - loss: 0.0309 - accuracy: 0.9907WARNING:tensorflow:Reduce LR on plateau conditioned on metric `val_acc` which is not available. Available metrics are: loss,accuracy,val_loss,val_accuracy,lr\n",
      "328/328 [==============================] - 21s 63ms/step - loss: 0.0309 - accuracy: 0.9907 - val_loss: 0.0195 - val_accuracy: 0.9957 - lr: 0.0010\n",
      "Epoch 90/100\n",
      "328/328 [==============================] - ETA: 0s - loss: 0.0299 - accuracy: 0.9909WARNING:tensorflow:Reduce LR on plateau conditioned on metric `val_acc` which is not available. Available metrics are: loss,accuracy,val_loss,val_accuracy,lr\n",
      "328/328 [==============================] - 21s 63ms/step - loss: 0.0299 - accuracy: 0.9909 - val_loss: 0.0182 - val_accuracy: 0.9957 - lr: 0.0010\n",
      "Epoch 91/100\n",
      "328/328 [==============================] - ETA: 0s - loss: 0.0288 - accuracy: 0.9915WARNING:tensorflow:Reduce LR on plateau conditioned on metric `val_acc` which is not available. Available metrics are: loss,accuracy,val_loss,val_accuracy,lr\n",
      "328/328 [==============================] - 21s 63ms/step - loss: 0.0288 - accuracy: 0.9915 - val_loss: 0.0142 - val_accuracy: 0.9962 - lr: 0.0010\n",
      "Epoch 92/100\n",
      "328/328 [==============================] - ETA: 0s - loss: 0.0282 - accuracy: 0.9910WARNING:tensorflow:Reduce LR on plateau conditioned on metric `val_acc` which is not available. Available metrics are: loss,accuracy,val_loss,val_accuracy,lr\n",
      "328/328 [==============================] - 20s 62ms/step - loss: 0.0282 - accuracy: 0.9910 - val_loss: 0.0533 - val_accuracy: 0.9936 - lr: 0.0010\n",
      "Epoch 93/100\n",
      "328/328 [==============================] - ETA: 0s - loss: 0.0292 - accuracy: 0.9913WARNING:tensorflow:Reduce LR on plateau conditioned on metric `val_acc` which is not available. Available metrics are: loss,accuracy,val_loss,val_accuracy,lr\n",
      "328/328 [==============================] - 20s 61ms/step - loss: 0.0292 - accuracy: 0.9913 - val_loss: 0.0263 - val_accuracy: 0.9947 - lr: 0.0010\n",
      "Epoch 94/100\n",
      "328/328 [==============================] - ETA: 0s - loss: 0.0332 - accuracy: 0.9901WARNING:tensorflow:Reduce LR on plateau conditioned on metric `val_acc` which is not available. Available metrics are: loss,accuracy,val_loss,val_accuracy,lr\n",
      "328/328 [==============================] - 20s 61ms/step - loss: 0.0332 - accuracy: 0.9901 - val_loss: 0.0172 - val_accuracy: 0.9952 - lr: 0.0010\n",
      "Epoch 95/100\n",
      "328/328 [==============================] - ETA: 0s - loss: 0.0313 - accuracy: 0.9911WARNING:tensorflow:Reduce LR on plateau conditioned on metric `val_acc` which is not available. Available metrics are: loss,accuracy,val_loss,val_accuracy,lr\n",
      "328/328 [==============================] - 20s 61ms/step - loss: 0.0313 - accuracy: 0.9911 - val_loss: 0.0193 - val_accuracy: 0.9958 - lr: 0.0010\n",
      "Epoch 96/100\n",
      "328/328 [==============================] - ETA: 0s - loss: 0.0291 - accuracy: 0.9916WARNING:tensorflow:Reduce LR on plateau conditioned on metric `val_acc` which is not available. Available metrics are: loss,accuracy,val_loss,val_accuracy,lr\n",
      "328/328 [==============================] - 20s 62ms/step - loss: 0.0291 - accuracy: 0.9916 - val_loss: 0.0161 - val_accuracy: 0.9964 - lr: 0.0010\n",
      "Epoch 97/100\n",
      "328/328 [==============================] - ETA: 0s - loss: 0.0285 - accuracy: 0.9913WARNING:tensorflow:Reduce LR on plateau conditioned on metric `val_acc` which is not available. Available metrics are: loss,accuracy,val_loss,val_accuracy,lr\n",
      "328/328 [==============================] - 20s 61ms/step - loss: 0.0285 - accuracy: 0.9913 - val_loss: 0.0193 - val_accuracy: 0.9954 - lr: 0.0010\n",
      "Epoch 98/100\n",
      "328/328 [==============================] - ETA: 0s - loss: 0.0301 - accuracy: 0.9908WARNING:tensorflow:Reduce LR on plateau conditioned on metric `val_acc` which is not available. Available metrics are: loss,accuracy,val_loss,val_accuracy,lr\n",
      "328/328 [==============================] - 20s 61ms/step - loss: 0.0301 - accuracy: 0.9908 - val_loss: 0.0171 - val_accuracy: 0.9956 - lr: 0.0010\n",
      "Epoch 99/100\n",
      "328/328 [==============================] - ETA: 0s - loss: 0.0293 - accuracy: 0.9914WARNING:tensorflow:Reduce LR on plateau conditioned on metric `val_acc` which is not available. Available metrics are: loss,accuracy,val_loss,val_accuracy,lr\n",
      "328/328 [==============================] - 20s 61ms/step - loss: 0.0293 - accuracy: 0.9914 - val_loss: 0.0155 - val_accuracy: 0.9960 - lr: 0.0010\n",
      "Epoch 100/100\n",
      "328/328 [==============================] - ETA: 0s - loss: 0.0280 - accuracy: 0.9915WARNING:tensorflow:Reduce LR on plateau conditioned on metric `val_acc` which is not available. Available metrics are: loss,accuracy,val_loss,val_accuracy,lr\n",
      "328/328 [==============================] - 20s 61ms/step - loss: 0.0280 - accuracy: 0.9915 - val_loss: 0.0176 - val_accuracy: 0.9960 - lr: 0.0010\n"
     ]
    }
   ],
   "source": [
    "# fit model\n",
    "batch_size = 128\n",
    "epochs = 100\n",
    "\n",
    "history = model.fit_generator(train_augmentation .flow(X_train_i, Y_train_i, batch_size=batch_size),\n",
    "                              steps_per_epoch=len(X_train_i)//batch_size,\n",
    "                              epochs=epochs,\n",
    "                              validation_data=(X_valid_i, Y_valid_i),\n",
    "                              validation_steps=50,\n",
    "                              callbacks=[learning_rate_reduction, es],\n",
    "                              verbose=1)"
   ]
  },
  {
   "cell_type": "markdown",
   "metadata": {
    "colab_type": "text",
    "id": "8vZ2KS8Z1kGn"
   },
   "source": [
    "To sum up, This model could give the bast accuracy at around 99.57% of validation set. However, when it was submitted to the Kaggle Competition \"CS98X Kannada MNIST\", it provided the accuracy score as 0.9840 or 98.40% accuracy."
   ]
  },
  {
   "cell_type": "code",
   "execution_count": 0,
   "metadata": {
    "colab": {
     "base_uri": "https://localhost:8080/"
    },
    "colab_type": "code",
    "collapsed": false,
    "id": "IDT3nlNhn-5s",
    "outputId": "462270bf-b760-4a73-e4b5-271b51fa4691"
   },
   "outputs": [
    {
     "data": {
      "text/plain": [
       "array([0, 1, 2, ..., 8, 9, 9])"
      ]
     },
     "execution_count": 58,
     "metadata": {
      "tags": []
     },
     "output_type": "execute_result"
    }
   ],
   "source": [
    "# Predict the testing set\n",
    "predictions_test = model.predict_classes(X_test_i)\n",
    "predictions_test"
   ]
  },
  {
   "cell_type": "markdown",
   "metadata": {
    "colab_type": "text",
    "id": "mqNHLR8FDhaw"
   },
   "source": [
    "# **Submission Area**"
   ]
  },
  {
   "cell_type": "code",
   "execution_count": 0,
   "metadata": {
    "colab": {},
    "colab_type": "code",
    "collapsed": true,
    "id": "bh5uKgojnwTK"
   },
   "outputs": [],
   "source": [
    "test1 = test.copy()\n",
    "test1[\"label\"] = predictions_test\n",
    "\n",
    "submission = test1[[\"id\",\"label\"]]\n",
    "submission.to_csv(\"submission.csv\", index=False)"
   ]
  },
  {
   "cell_type": "code",
   "execution_count": 0,
   "metadata": {
    "colab": {
     "base_uri": "https://localhost:8080/"
    },
    "colab_type": "code",
    "collapsed": false,
    "id": "u6P9ukU7nwPu",
    "outputId": "928497d8-1fb0-495f-9e69-fb6818364be7"
   },
   "outputs": [
    {
     "name": "stdout",
     "output_type": "stream",
     "text": [
      "Warning: Looks like you're using an outdated API Version, please consider updating (server 1.5.6 / client 1.5.4)\n",
      "\r",
      "  0% 0.00/78.1k [00:00<?, ?B/s]\r",
      "100% 78.1k/78.1k [00:03<00:00, 20.9kB/s]\n",
      "Successfully submitted to CS98X Kannada MNIST"
     ]
    }
   ],
   "source": [
    "!kaggle competitions submit -c cs98x-kannada-mnist -f submission.csv -m \"Message\""
   ]
  }
 ],
 "metadata": {
  "accelerator": "GPU",
  "anaconda-cloud": {},
  "colab": {
   "collapsed_sections": [
    "qUT0_c-bHNcI",
    "2y9jwSd8HNcx"
   ],
   "name": "Group O_CS985 and CS987_Kannada-MNIST Classification.ipynb",
   "provenance": []
  },
  "kernelspec": {
   "display_name": "Python [default]",
   "language": "python",
   "name": "python3"
  },
  "language_info": {
   "codemirror_mode": {
    "name": "ipython",
    "version": 3
   },
   "file_extension": ".py",
   "mimetype": "text/x-python",
   "name": "python",
   "nbconvert_exporter": "python",
   "pygments_lexer": "ipython3",
   "version": "3.5.6"
  }
 },
 "nbformat": 4,
 "nbformat_minor": 0
}
